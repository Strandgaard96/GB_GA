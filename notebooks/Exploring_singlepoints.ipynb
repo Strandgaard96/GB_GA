{
 "cells": [
  {
   "cell_type": "markdown",
   "id": "61f91755-832f-4a81-a568-5a5496782f30",
   "metadata": {},
   "source": [
    "# Exploring singlepoint"
   ]
  },
  {
   "cell_type": "code",
   "execution_count": 1,
   "id": "b189eb18-945a-4c43-ae51-d4389336c15c",
   "metadata": {},
   "outputs": [],
   "source": [
    "# improts\n",
    "import sys\n",
    "import os\n",
    "import numpy as np\n",
    "import matplotlib.pyplot as plt\n",
    "import re\n",
    "from pathlib import Path\n",
    "from glob import glob\n",
    "import pickle\n",
    "import shutil\n",
    "import json\n",
    "import io\n",
    "import pandas as pd\n",
    "import seaborn as sns\n",
    "from rdkit import Chem\n",
    "from rdkit.Chem import Draw\n",
    "from rdkit.Chem.Draw import IPythonConsole, MolsToGridImage\n",
    "import py3Dmol\n",
    "\n",
    "os.chdir('../')\n",
    "\n",
    "# For highlight colors\n",
    "from matplotlib.colors import ColorConverter\n",
    "\n",
    "from ipywidgets import interact,fixed,IntSlider\n",
    "\n",
    "\n",
    "module_path = os.path.abspath(os.path.join('..'))\n",
    "if module_path not in sys.path:\n",
    "    sys.path.append(module_path)\n",
    "    \n",
    "# Custom functions \n",
    "from my_utils.analysis import draw_generation,conf_viewer, sort_ga, natural_keys, atoi\n",
    "from my_utils.classes import Generation\n",
    "\n",
    "#IPythonConsole.drawOptions.addAtomIndices = True\n",
    "IPythonConsole.molSize = 500,500\n",
    "IPythonConsole.drawOptions.addAtomIndices = True\n",
    "\n",
    "font = {'weight' : 'bold',\n",
    "        'size'   : 18}\n",
    "\n",
    "plt.rc('font', **font)\n"
   ]
  },
  {
   "cell_type": "markdown",
   "id": "02d848a9-cee2-4ed3-8f80-be31faaedca1",
   "metadata": {},
   "source": [
    "## Load the reference energies"
   ]
  },
  {
   "cell_type": "code",
   "execution_count": 2,
   "id": "5d9ca76e-0e36-4440-b4b2-a93fc9d94ddd",
   "metadata": {},
   "outputs": [],
   "source": [
    "def get_energy_dicts():\n",
    "\n",
    "    path = Path(\n",
    "        \"/home/magstr/Documents/nitrogenase/niflheim_scripts/nitrogenase/reference_energies\"\n",
    "    )\n",
    "    dict1_path = path / \"gfn1_dict.json\"\n",
    "    dict2_path = path / \"gfn2_dict.json\"\n",
    "    dict3_path = path / \"dft_ams_dict.json\"\n",
    "    dict4_path = path / \"dft_orca_dict.json\"\n",
    "\n",
    "    # Check for existing reference energy_dicts for speedup\n",
    "    if (dict1_path.exists()) and (dict2_path.exists()) and (dict3_path.exists()) and (dict4_path.exists()):\n",
    "        with open(dict1_path, \"r\", encoding=\"utf-8\") as f:\n",
    "            gfn1_dict = json.load(f)\n",
    "        with open(dict2_path, \"r\", encoding=\"utf-8\") as f:\n",
    "            gfn2_dict = json.load(f)\n",
    "        with open(dict3_path, \"r\", encoding=\"utf-8\") as f:\n",
    "            dft_ams_dict = json.load(f)\n",
    "        with open(dict4_path, \"r\", encoding=\"utf-8\") as f:\n",
    "            dft_orca_dict = json.load(f)\n",
    "\n",
    "        return gfn1_dict, gfn2_dict, dft_ams_dict, dft_orca_dict\n",
    "\n",
    "    # Correction values\n",
    "    g1_lut_corr = 10\n",
    "    g1_cp_corr = -65\n",
    "    g2_lut_corr = 0\n",
    "    g2_cp_corr = -40\n",
    "\n",
    "    gfn1_folders = (path / \"gas_gfn1\").rglob(\"*job.out\")\n",
    "    gfn2_folders = (path / \"gas_gfn2\").rglob(\"*job.out\")\n",
    "\n",
    "    gfn1_dict = {}\n",
    "    for elem in gfn1_folders:\n",
    "        gfn1_dict[elem.parent.name] = (\n",
    "            HARTREE2KCAL * get_energies(paths=[elem], pattern=\"TOTAL ENERGY\")[0]\n",
    "        )\n",
    "    gfn1_dict[\"delta_Cp\"] = gfn1_dict[\"CrCp2+\"] - gfn1_dict[\"CrCp2\"] + g1_cp_corr\n",
    "    gfn1_dict[\"delta_Lu\"] = gfn1_dict[\"Lu\"] - gfn1_dict[\"LuH+\"] + g1_lut_corr\n",
    "\n",
    "    gfn2_dict = {}\n",
    "    for elem in gfn2_folders:\n",
    "        gfn2_dict[elem.parent.name] = (\n",
    "            HARTREE2KCAL * get_energies(paths=[elem], pattern=\"TOTAL ENERGY\")[0]\n",
    "        )\n",
    "    gfn2_dict[\"delta_Cp\"] = gfn2_dict[\"CrCp2+\"] - gfn2_dict[\"CrCp2\"] + g2_cp_corr\n",
    "    gfn2_dict[\"delta_Lu\"] = gfn2_dict[\"Lu\"] - gfn2_dict[\"LuH+\"] + g2_lut_corr\n",
    "\n",
    "    dft_ams_folders = (path / \"schrock_parts_ams\").rglob(\"*dft.out\")\n",
    "    dft_ams_dict = {}\n",
    "    for elem in dft_ams_folders:\n",
    "        dft_ams_dict[elem.parent.name] = (\n",
    "            HARTREE2KCAL * get_energies(paths=[elem], pattern=\"current energy\")[0]\n",
    "        )\n",
    "    dft_ams_dict[\"delta_Cp\"] = dft_ams_dict[\"CrCp2+\"] - dft_ams_dict[\"CrCp2\"]\n",
    "    dft_ams_dict[\"delta_Lu\"] = dft_ams_dict[\"Lu\"] - dft_ams_dict[\"LuH+\"]\n",
    "\n",
    "    dft_ams_folders = (path / \"parts_orca\").rglob(\"*orca.out\")\n",
    "    dft_ams_dict = {}\n",
    "    for elem in dft_ams_folders:\n",
    "        dft_ams_dict[elem.parent.name] = (\n",
    "                HARTREE2KCAL * get_energies(paths=[elem], pattern=\"FINAL SINGLE POINT\")[0]\n",
    "        )\n",
    "    dft_ams_dict[\"delta_Cp\"] = dft_ams_dict[\"CrCp2+\"] - dft_ams_dict[\"CrCp2\"]\n",
    "    dft_ams_dict[\"delta_Lu\"] = dft_ams_dict[\"Lu\"] - dft_ams_dict[\"LuH+\"]\n",
    "\n",
    "    with open(dict1_path, \"w\") as fp:\n",
    "        json.dump(gfn1_dict, fp)\n",
    "    with open(dict2_path, \"w\") as fp:\n",
    "        json.dump(gfn2_dict, fp)\n",
    "    with open(dict3_path, \"w\") as fp:\n",
    "        json.dump(dft_ams_dict, fp)\n",
    "    with open(dict4_path, \"w\") as fp:\n",
    "        json.dump(dft_orca_dict, fp)\n",
    "\n",
    "    return gfn1_dict, gfn2_dict, dft_ams_dict, dft_ams_dict"
   ]
  },
  {
   "cell_type": "code",
   "execution_count": 3,
   "id": "f18f4538-3276-4dbf-8632-ce84262b1547",
   "metadata": {},
   "outputs": [],
   "source": [
    "(\n",
    "        reactions_gfn1_corrected,\n",
    "        reactions_gfn2_corrected,\n",
    "        reactions_dft_ams_tzp,\n",
    "        reactions_dft_orca_tzp,\n",
    "    ) = get_energy_dicts()"
   ]
  },
  {
   "cell_type": "code",
   "execution_count": 4,
   "id": "8f68f648-e79b-42f6-a8c0-43c26b712e23",
   "metadata": {},
   "outputs": [
    {
     "data": {
      "text/plain": [
       "{'N2': -68745.86604206839,\n",
       " 'LuH+': -205372.4092126641,\n",
       " 'Lu': -205110.45920451736,\n",
       " 'H2': -731.7751548361912,\n",
       " 'CrCp2+': -1150967.7260743862,\n",
       " 'NH3': -35493.542519196264,\n",
       " 'CrCp2': -1151066.3300395126,\n",
       " 'delta_Cp': 98.60396512644365,\n",
       " 'delta_Lu': 261.95000814672676}"
      ]
     },
     "execution_count": 4,
     "metadata": {},
     "output_type": "execute_result"
    }
   ],
   "source": [
    "reactions_dft_orca_tzp"
   ]
  },
  {
   "cell_type": "code",
   "execution_count": 5,
   "id": "aab45cf3-641c-464a-99a6-a77928c4afd0",
   "metadata": {},
   "outputs": [],
   "source": [
    "eV = 27.2114\n",
    "kcal = 627.51"
   ]
  },
  {
   "cell_type": "markdown",
   "id": "8bf8dc79-9b93-49ff-a5d4-ead8681ba38e",
   "metadata": {},
   "source": [
    "# Singlepoint from GA analysis (before ind was saved)"
   ]
  },
  {
   "cell_type": "code",
   "execution_count": 20,
   "id": "108aa271-a7ec-4107-acc4-32102359f6fc",
   "metadata": {},
   "outputs": [],
   "source": [
    "def extract_energyxtb(logfile=None):\n",
    "    \"\"\"\n",
    "    Extracts xtb energies from xtb logfile using regex matching.\n",
    "\n",
    "    Args:\n",
    "        logfile (str): Specifies logfile to pull energy from\n",
    "\n",
    "    Returns:\n",
    "        energy (List[float]): List of floats containing the energy in each step\n",
    "    \"\"\"\n",
    "\n",
    "    re_energy = re.compile(\"energy: (-\\\\d+\\\\.\\\\d+)\")\n",
    "    energy = []\n",
    "    with logfile.open() as f:\n",
    "        for line in f:\n",
    "            if \"energy\" in line:\n",
    "                energy.append(float(re_energy.search(line).groups()[0]))\n",
    "    return energy"
   ]
  },
  {
   "cell_type": "code",
   "execution_count": 21,
   "id": "d4195b35-8e2d-4ea3-a3f9-5debfa547915",
   "metadata": {},
   "outputs": [],
   "source": [
    "def read_properties_sp(logfile):\n",
    "    \"\"\"\n",
    "    Read Singlepoint Energy\n",
    "    \"\"\"\n",
    "    with logfile.open() as f:\n",
    "    \n",
    "        for line in f:\n",
    "            if \"FINAL SINGLE POINT ENERGY\" in line:\n",
    "                scf_energy = float(line.split()[4])\n",
    "                break\n",
    "            else:\n",
    "                scf_energy = None\n",
    "\n",
    "    return scf_energy"
   ]
  },
  {
   "cell_type": "code",
   "execution_count": 22,
   "id": "edc4421c-a17d-42fa-8dce-5d79bdcd8f89",
   "metadata": {},
   "outputs": [],
   "source": [
    "logfile = Path('/home/magstr/dft_data/debug/')"
   ]
  },
  {
   "cell_type": "code",
   "execution_count": 23,
   "id": "53809b43-1261-4a74-93a7-0c2a22ad0ad4",
   "metadata": {},
   "outputs": [],
   "source": [
    "f = sorted(logfile.glob('*'))"
   ]
  },
  {
   "cell_type": "code",
   "execution_count": 24,
   "id": "f64341f6-dd94-4acc-975e-071b48836bc3",
   "metadata": {},
   "outputs": [
    {
     "data": {
      "text/plain": [
       "[PosixPath('/home/magstr/dft_data/debug/14_18_Mo_N2'),\n",
       " PosixPath('/home/magstr/dft_data/debug/14_18_Mo_NH3'),\n",
       " PosixPath('/home/magstr/dft_data/debug/19_32_Mo_N2'),\n",
       " PosixPath('/home/magstr/dft_data/debug/19_32_Mo_NH3'),\n",
       " PosixPath('/home/magstr/dft_data/debug/28_28_Mo_N2'),\n",
       " PosixPath('/home/magstr/dft_data/debug/28_28_Mo_NH3'),\n",
       " PosixPath('/home/magstr/dft_data/debug/2_3_Mo_N2'),\n",
       " PosixPath('/home/magstr/dft_data/debug/2_3_Mo_NH3'),\n",
       " PosixPath('/home/magstr/dft_data/debug/42_26_Mo_N2'),\n",
       " PosixPath('/home/magstr/dft_data/debug/42_26_Mo_NH3'),\n",
       " PosixPath('/home/magstr/dft_data/debug/47_21_Mo_N2'),\n",
       " PosixPath('/home/magstr/dft_data/debug/47_21_Mo_NH3'),\n",
       " PosixPath('/home/magstr/dft_data/debug/47_39_Mo_N2'),\n",
       " PosixPath('/home/magstr/dft_data/debug/47_39_Mo_NH3'),\n",
       " PosixPath('/home/magstr/dft_data/debug/4_20_Mo_N2'),\n",
       " PosixPath('/home/magstr/dft_data/debug/4_20_Mo_NH3'),\n",
       " PosixPath('/home/magstr/dft_data/debug/4_34_Mo_N2'),\n",
       " PosixPath('/home/magstr/dft_data/debug/4_34_Mo_NH3'),\n",
       " PosixPath('/home/magstr/dft_data/debug/6_1_Mo_N2'),\n",
       " PosixPath('/home/magstr/dft_data/debug/6_1_Mo_NH3'),\n",
       " PosixPath('/home/magstr/dft_data/debug/7_12_Mo_N2'),\n",
       " PosixPath('/home/magstr/dft_data/debug/7_12_Mo_NH3')]"
      ]
     },
     "execution_count": 24,
     "metadata": {},
     "output_type": "execute_result"
    }
   ],
   "source": [
    "f"
   ]
  },
  {
   "cell_type": "code",
   "execution_count": 25,
   "id": "334854a3-9c33-4ae9-940b-3f42abfe4554",
   "metadata": {},
   "outputs": [],
   "source": [
    "a = f[::2]"
   ]
  },
  {
   "cell_type": "code",
   "execution_count": 26,
   "id": "ff673fb7-a4ba-4856-a6b3-703c0e772f0b",
   "metadata": {},
   "outputs": [
    {
     "name": "stdout",
     "output_type": "stream",
     "text": [
      "[PosixPath('/home/magstr/dft_data/debug/14_18_Mo_N2/orca.out')] [PosixPath('/home/magstr/dft_data/debug/14_18_Mo_NH3/orca.out')]\n",
      "-7016.359843464012 -6963.405714742332\n",
      "23.07820873055607\n",
      "[PosixPath('/home/magstr/dft_data/debug/19_32_Mo_N2/orca.out')] [PosixPath('/home/magstr/dft_data/debug/19_32_Mo_NH3/orca.out')]\n",
      "-6443.313093725846 -6390.341023486578\n",
      "11.81972702872008\n",
      "[PosixPath('/home/magstr/dft_data/debug/28_28_Mo_N2/orca.out')] [PosixPath('/home/magstr/dft_data/debug/28_28_Mo_NH3/orca.out')]\n",
      "-6561.18891849947 -6508.252362592815\n",
      "34.1053258869797\n",
      "[PosixPath('/home/magstr/dft_data/debug/2_3_Mo_N2/orca.out')] [PosixPath('/home/magstr/dft_data/debug/2_3_Mo_NH3/orca.out')]\n",
      "-6218.387689385174 -6165.423881765083\n",
      "17.004603188484907\n",
      "[PosixPath('/home/magstr/dft_data/debug/42_26_Mo_N2/orca.out')] [PosixPath('/home/magstr/dft_data/debug/42_26_Mo_NH3/orca.out')]\n",
      "-6210.741189121704 -6158.147213690062\n",
      "249.07799976179376\n",
      "[PosixPath('/home/magstr/dft_data/debug/47_21_Mo_N2/orca.out')] [PosixPath('/home/magstr/dft_data/debug/47_21_Mo_NH3/orca.out')]\n",
      "-6796.988250940793 -6744.038866873927\n",
      "26.055527073331177\n",
      "[PosixPath('/home/magstr/dft_data/debug/47_39_Mo_N2/orca.out')] [PosixPath('/home/magstr/dft_data/debug/47_39_Mo_NH3/orca.out')]\n",
      "-7410.466177746216 -7357.093936048419\n",
      "-239.29186491202563\n",
      "[PosixPath('/home/magstr/dft_data/debug/4_20_Mo_N2/orca.out')] [PosixPath('/home/magstr/dft_data/debug/4_20_Mo_NH3/orca.out')]\n",
      "-6634.321194678613 -6581.370677473463\n",
      "25.3444714685902\n",
      "[PosixPath('/home/magstr/dft_data/debug/4_34_Mo_N2/orca.out')] [PosixPath('/home/magstr/dft_data/debug/4_34_Mo_NH3/orca.out')]\n",
      "-5761.167437909946 -5708.212514349954\n",
      "22.579439741559327\n",
      "[PosixPath('/home/magstr/dft_data/debug/6_1_Mo_N2/orca.out')] [PosixPath('/home/magstr/dft_data/debug/6_1_Mo_NH3/orca.out')]\n",
      "-6454.16755938573 -6401.203324368365\n",
      "16.736407125368714\n",
      "[PosixPath('/home/magstr/dft_data/debug/7_12_Mo_N2/orca.out')] [PosixPath('/home/magstr/dft_data/debug/7_12_Mo_NH3/orca.out')]\n",
      "-6572.053498576171 -6519.084766040087\n",
      "13.914169153664261\n"
     ]
    }
   ],
   "source": [
    "for elem in a:\n",
    "    a = sorted(logfile.glob(f'{elem.name[0:4]}*'))\n",
    "    \n",
    "    p1 = sorted(a[0].glob('*orca.out'))\n",
    "    p2 = sorted(a[1].glob('*orca.out'))\n",
    "    print(p1,p2)\n",
    "    \n",
    "    N2 = read_properties_sp(p1[0])\n",
    "    NH3 = read_properties_sp(p2[0])\n",
    "    print(N2,NH3)\n",
    "    \n",
    "    delta = ((N2*kcal+reactions_dft_orca_tzp['NH3'])-(NH3*kcal+reactions_dft_orca_tzp['N2']))\n",
    "    print(delta)"
   ]
  },
  {
   "cell_type": "code",
   "execution_count": 27,
   "id": "d82cf131-7c5f-48b3-9047-408047206a83",
   "metadata": {},
   "outputs": [
    {
     "ename": "NameError",
     "evalue": "name 'orca_files' is not defined",
     "output_type": "error",
     "traceback": [
      "\u001b[0;31m---------------------------------------------------------------------------\u001b[0m",
      "\u001b[0;31mNameError\u001b[0m                                 Traceback (most recent call last)",
      "\u001b[0;32m/tmp/ipykernel_543763/3473754370.py\u001b[0m in \u001b[0;36m<module>\u001b[0;34m\u001b[0m\n\u001b[0;32m----> 1\u001b[0;31m \u001b[0morca_files\u001b[0m\u001b[0;34m[\u001b[0m\u001b[0;36m0\u001b[0m\u001b[0;34m]\u001b[0m\u001b[0;34m.\u001b[0m\u001b[0mparent\u001b[0m\u001b[0;34m\u001b[0m\u001b[0;34m\u001b[0m\u001b[0m\n\u001b[0m",
      "\u001b[0;31mNameError\u001b[0m: name 'orca_files' is not defined"
     ]
    }
   ],
   "source": [
    "orca_files[0].parent"
   ]
  },
  {
   "cell_type": "code",
   "execution_count": 28,
   "id": "2af8bbb3-2040-43ea-ad88-516d872027cc",
   "metadata": {},
   "outputs": [
    {
     "ename": "IsADirectoryError",
     "evalue": "[Errno 21] Is a directory: '/home/magstr/dft_data/debug'",
     "output_type": "error",
     "traceback": [
      "\u001b[0;31m---------------------------------------------------------------------------\u001b[0m",
      "\u001b[0;31mIsADirectoryError\u001b[0m                         Traceback (most recent call last)",
      "\u001b[0;32m/tmp/ipykernel_543763/2855996481.py\u001b[0m in \u001b[0;36m<module>\u001b[0;34m\u001b[0m\n\u001b[0;32m----> 1\u001b[0;31m \u001b[0mread_properties_sp\u001b[0m\u001b[0;34m(\u001b[0m\u001b[0mlogfile\u001b[0m\u001b[0;34m)\u001b[0m\u001b[0;34m\u001b[0m\u001b[0;34m\u001b[0m\u001b[0m\n\u001b[0m",
      "\u001b[0;32m/tmp/ipykernel_543763/1106721127.py\u001b[0m in \u001b[0;36mread_properties_sp\u001b[0;34m(logfile)\u001b[0m\n\u001b[1;32m      3\u001b[0m     \u001b[0mRead\u001b[0m \u001b[0mSinglepoint\u001b[0m \u001b[0mEnergy\u001b[0m\u001b[0;34m\u001b[0m\u001b[0;34m\u001b[0m\u001b[0m\n\u001b[1;32m      4\u001b[0m     \"\"\"\n\u001b[0;32m----> 5\u001b[0;31m     \u001b[0;32mwith\u001b[0m \u001b[0mlogfile\u001b[0m\u001b[0;34m.\u001b[0m\u001b[0mopen\u001b[0m\u001b[0;34m(\u001b[0m\u001b[0;34m)\u001b[0m \u001b[0;32mas\u001b[0m \u001b[0mf\u001b[0m\u001b[0;34m:\u001b[0m\u001b[0;34m\u001b[0m\u001b[0;34m\u001b[0m\u001b[0m\n\u001b[0m\u001b[1;32m      6\u001b[0m \u001b[0;34m\u001b[0m\u001b[0m\n\u001b[1;32m      7\u001b[0m         \u001b[0;32mfor\u001b[0m \u001b[0mline\u001b[0m \u001b[0;32min\u001b[0m \u001b[0mf\u001b[0m\u001b[0;34m:\u001b[0m\u001b[0;34m\u001b[0m\u001b[0;34m\u001b[0m\u001b[0m\n",
      "\u001b[0;32m~/miniconda3/envs/mols_test/lib/python3.7/pathlib.py\u001b[0m in \u001b[0;36mopen\u001b[0;34m(self, mode, buffering, encoding, errors, newline)\u001b[0m\n\u001b[1;32m   1206\u001b[0m             \u001b[0mself\u001b[0m\u001b[0;34m.\u001b[0m\u001b[0m_raise_closed\u001b[0m\u001b[0;34m(\u001b[0m\u001b[0;34m)\u001b[0m\u001b[0;34m\u001b[0m\u001b[0;34m\u001b[0m\u001b[0m\n\u001b[1;32m   1207\u001b[0m         return io.open(self, mode, buffering, encoding, errors, newline,\n\u001b[0;32m-> 1208\u001b[0;31m                        opener=self._opener)\n\u001b[0m\u001b[1;32m   1209\u001b[0m \u001b[0;34m\u001b[0m\u001b[0m\n\u001b[1;32m   1210\u001b[0m     \u001b[0;32mdef\u001b[0m \u001b[0mread_bytes\u001b[0m\u001b[0;34m(\u001b[0m\u001b[0mself\u001b[0m\u001b[0;34m)\u001b[0m\u001b[0;34m:\u001b[0m\u001b[0;34m\u001b[0m\u001b[0;34m\u001b[0m\u001b[0m\n",
      "\u001b[0;31mIsADirectoryError\u001b[0m: [Errno 21] Is a directory: '/home/magstr/dft_data/debug'"
     ]
    }
   ],
   "source": [
    "read_properties_sp(logfile)"
   ]
  },
  {
   "cell_type": "code",
   "execution_count": 29,
   "id": "38ad9027-ecb1-4660-bb99-f161085005b9",
   "metadata": {},
   "outputs": [],
   "source": [
    "files = sorted(logfile.rglob('*.xyz'))"
   ]
  },
  {
   "cell_type": "code",
   "execution_count": 30,
   "id": "c353ec00-4370-4de0-a4b9-c4e3d55a747b",
   "metadata": {},
   "outputs": [
    {
     "data": {
      "text/plain": [
       "[-199.090144399448]"
      ]
     },
     "execution_count": 30,
     "metadata": {},
     "output_type": "execute_result"
    }
   ],
   "source": [
    "extract_energyxtb(files[0])"
   ]
  },
  {
   "cell_type": "code",
   "execution_count": 31,
   "id": "8fbafe82-cc30-4b64-b519-7e8593511430",
   "metadata": {},
   "outputs": [
    {
     "ename": "NameError",
     "evalue": "name 'reactions_dft_tzp' is not defined",
     "output_type": "error",
     "traceback": [
      "\u001b[0;31m---------------------------------------------------------------------------\u001b[0m",
      "\u001b[0;31mNameError\u001b[0m                                 Traceback (most recent call last)",
      "\u001b[0;32m/tmp/ipykernel_543763/3537655198.py\u001b[0m in \u001b[0;36m<module>\u001b[0;34m\u001b[0m\n\u001b[0;32m----> 1\u001b[0;31m \u001b[0mdelta\u001b[0m \u001b[0;34m=\u001b[0m \u001b[0;34m(\u001b[0m\u001b[0;34m(\u001b[0m\u001b[0mN2\u001b[0m\u001b[0;34m*\u001b[0m\u001b[0mkcal\u001b[0m\u001b[0;34m+\u001b[0m\u001b[0mreactions_dft_tzp\u001b[0m\u001b[0;34m[\u001b[0m\u001b[0;34m'NH3'\u001b[0m\u001b[0;34m]\u001b[0m\u001b[0;34m)\u001b[0m\u001b[0;34m-\u001b[0m\u001b[0;34m(\u001b[0m\u001b[0mNH3\u001b[0m\u001b[0;34m*\u001b[0m\u001b[0mkcal\u001b[0m\u001b[0;34m+\u001b[0m\u001b[0mreactions_dft_tzp\u001b[0m\u001b[0;34m[\u001b[0m\u001b[0;34m'N2_en'\u001b[0m\u001b[0;34m]\u001b[0m\u001b[0;34m)\u001b[0m\u001b[0;34m)\u001b[0m\u001b[0;34m\u001b[0m\u001b[0;34m\u001b[0m\u001b[0m\n\u001b[0m",
      "\u001b[0;31mNameError\u001b[0m: name 'reactions_dft_tzp' is not defined"
     ]
    }
   ],
   "source": [
    "delta = ((N2*kcal+reactions_dft_tzp['NH3'])-(NH3*kcal+reactions_dft_tzp['N2_en']))"
   ]
  },
  {
   "cell_type": "code",
   "execution_count": 32,
   "id": "d908c747-bc19-426a-99fb-36528204eb43",
   "metadata": {},
   "outputs": [
    {
     "ename": "NameError",
     "evalue": "name 'df_total' is not defined",
     "output_type": "error",
     "traceback": [
      "\u001b[0;31m---------------------------------------------------------------------------\u001b[0m",
      "\u001b[0;31mNameError\u001b[0m                                 Traceback (most recent call last)",
      "\u001b[0;32m/tmp/ipykernel_543763/3418503732.py\u001b[0m in \u001b[0;36m<module>\u001b[0;34m\u001b[0m\n\u001b[1;32m      1\u001b[0m \u001b[0mfig\u001b[0m\u001b[0;34m,\u001b[0m \u001b[0max\u001b[0m \u001b[0;34m=\u001b[0m \u001b[0mplt\u001b[0m\u001b[0;34m.\u001b[0m\u001b[0msubplots\u001b[0m\u001b[0;34m(\u001b[0m\u001b[0mfigsize\u001b[0m\u001b[0;34m=\u001b[0m\u001b[0;34m(\u001b[0m\u001b[0;36m12\u001b[0m\u001b[0;34m,\u001b[0m \u001b[0;36m8\u001b[0m\u001b[0;34m)\u001b[0m\u001b[0;34m)\u001b[0m\u001b[0;34m\u001b[0m\u001b[0;34m\u001b[0m\u001b[0m\n\u001b[0;32m----> 2\u001b[0;31m \u001b[0mdf_total\u001b[0m\u001b[0;34m[\u001b[0m\u001b[0;34m[\u001b[0m\u001b[0;34m'score'\u001b[0m\u001b[0;34m,\u001b[0m\u001b[0;34m'DFT'\u001b[0m\u001b[0;34m]\u001b[0m\u001b[0;34m]\u001b[0m\u001b[0;34m.\u001b[0m\u001b[0mplot\u001b[0m\u001b[0;34m.\u001b[0m\u001b[0mbar\u001b[0m\u001b[0;34m(\u001b[0m\u001b[0max\u001b[0m\u001b[0;34m=\u001b[0m\u001b[0max\u001b[0m\u001b[0;34m)\u001b[0m\u001b[0;34m;\u001b[0m\u001b[0;34m\u001b[0m\u001b[0;34m\u001b[0m\u001b[0m\n\u001b[0m\u001b[1;32m      3\u001b[0m \u001b[0max\u001b[0m\u001b[0;34m.\u001b[0m\u001b[0mset\u001b[0m\u001b[0;34m(\u001b[0m\u001b[0mylabel\u001b[0m\u001b[0;34m=\u001b[0m\u001b[0;34m'kcal/mol *'\u001b[0m\u001b[0;34m)\u001b[0m\u001b[0;34m\u001b[0m\u001b[0;34m\u001b[0m\u001b[0m\n\u001b[1;32m      4\u001b[0m \u001b[0;32mfor\u001b[0m \u001b[0mcontainer\u001b[0m \u001b[0;32min\u001b[0m \u001b[0max\u001b[0m\u001b[0;34m.\u001b[0m\u001b[0mcontainers\u001b[0m\u001b[0;34m:\u001b[0m\u001b[0;34m\u001b[0m\u001b[0;34m\u001b[0m\u001b[0m\n\u001b[1;32m      5\u001b[0m     \u001b[0max\u001b[0m\u001b[0;34m.\u001b[0m\u001b[0mbar_label\u001b[0m\u001b[0;34m(\u001b[0m\u001b[0mcontainer\u001b[0m\u001b[0;34m)\u001b[0m\u001b[0;34m\u001b[0m\u001b[0;34m\u001b[0m\u001b[0m\n",
      "\u001b[0;31mNameError\u001b[0m: name 'df_total' is not defined"
     ]
    },
    {
     "data": {
      "image/png": "[encoded data removed]",
      "text/plain": [
       "<Figure size 864x576 with 1 Axes>"
      ]
     },
     "metadata": {
      "needs_background": "light"
     },
     "output_type": "display_data"
    }
   ],
   "source": [
    "fig, ax = plt.subplots(figsize=(12, 8))\n",
    "df_total[['score','DFT']].plot.bar(ax=ax);\n",
    "ax.set(ylabel='kcal/mol *')\n",
    "for container in ax.containers:\n",
    "    ax.bar_label(container)\n",
    "fig.tight_layout()\n",
    "fig.savefig('singlepoints.png')"
   ]
  },
  {
   "cell_type": "markdown",
   "id": "94d6cffb-8188-4bdc-9d14-961dae97b90f",
   "metadata": {
    "tags": []
   },
   "source": [
    "# Singlepoint from GA analysis"
   ]
  },
  {
   "cell_type": "code",
   "execution_count": 59,
   "id": "19e2e597-d38c-4ace-818c-5b77300dca40",
   "metadata": {},
   "outputs": [],
   "source": [
    "logfile = [Path('/home/magstr/dft_data/prod_new12_0')]"
   ]
  },
  {
   "cell_type": "code",
   "execution_count": 60,
   "id": "f3ec698e-d557-4cd9-97bd-f132aece2053",
   "metadata": {},
   "outputs": [
    {
     "ename": "AttributeError",
     "evalue": "'list' object has no attribute 'glob'",
     "output_type": "error",
     "traceback": [
      "\u001b[0;31m---------------------------------------------------------------------------\u001b[0m",
      "\u001b[0;31mAttributeError\u001b[0m                            Traceback (most recent call last)",
      "\u001b[0;32m/tmp/ipykernel_543763/633748338.py\u001b[0m in \u001b[0;36m<module>\u001b[0;34m\u001b[0m\n\u001b[0;32m----> 1\u001b[0;31m \u001b[0mf\u001b[0m \u001b[0;34m=\u001b[0m \u001b[0msorted\u001b[0m\u001b[0;34m(\u001b[0m\u001b[0mlogfile\u001b[0m\u001b[0;34m.\u001b[0m\u001b[0mglob\u001b[0m\u001b[0;34m(\u001b[0m\u001b[0;34m'*'\u001b[0m\u001b[0;34m)\u001b[0m\u001b[0;34m)\u001b[0m\u001b[0;34m\u001b[0m\u001b[0;34m\u001b[0m\u001b[0m\n\u001b[0m",
      "\u001b[0;31mAttributeError\u001b[0m: 'list' object has no attribute 'glob'"
     ]
    }
   ],
   "source": [
    "f = sorted(logfile.glob('*'))"
   ]
  },
  {
   "cell_type": "code",
   "execution_count": 50,
   "id": "a924d24c-b402-4417-9984-d89669d29845",
   "metadata": {},
   "outputs": [
    {
     "data": {
      "text/plain": [
       "[PosixPath('/home/magstr/dft_data/prod_new12_0/13_20'),\n",
       " PosixPath('/home/magstr/dft_data/prod_new12_0/14_24'),\n",
       " PosixPath('/home/magstr/dft_data/prod_new12_0/15_24'),\n",
       " PosixPath('/home/magstr/dft_data/prod_new12_0/15_6'),\n",
       " PosixPath('/home/magstr/dft_data/prod_new12_0/16_11'),\n",
       " PosixPath('/home/magstr/dft_data/prod_new12_0/16_29'),\n",
       " PosixPath('/home/magstr/dft_data/prod_new12_0/18_22'),\n",
       " PosixPath('/home/magstr/dft_data/prod_new12_0/26_35'),\n",
       " PosixPath('/home/magstr/dft_data/prod_new12_0/31_6'),\n",
       " PosixPath('/home/magstr/dft_data/prod_new12_0/37_12'),\n",
       " PosixPath('/home/magstr/dft_data/prod_new12_0/37_15'),\n",
       " PosixPath('/home/magstr/dft_data/prod_new12_0/47_36'),\n",
       " PosixPath('/home/magstr/dft_data/prod_new12_0/8_23'),\n",
       " PosixPath('/home/magstr/dft_data/prod_new12_0/9_25'),\n",
       " PosixPath('/home/magstr/dft_data/prod_new12_0/9_47')]"
      ]
     },
     "execution_count": 50,
     "metadata": {},
     "output_type": "execute_result"
    }
   ],
   "source": [
    "f"
   ]
  },
  {
   "cell_type": "code",
   "execution_count": 51,
   "id": "7bf2d0d7-4e66-4ac7-b719-3b39f699dc7a",
   "metadata": {},
   "outputs": [],
   "source": [
    "# Crucial code for unpickling objects with old module names\n",
    "class RenameUnpickler(pickle.Unpickler):\n",
    "    def find_class(self, module, name):\n",
    "        renamed_module = module\n",
    "        if module == \"my_utils.my_utils\":\n",
    "            renamed_module = \"my_utils.classes\"\n",
    "\n",
    "        return super(RenameUnpickler, self).find_class(renamed_module, name)\n",
    "\n",
    "\n",
    "def renamed_load(file_obj):\n",
    "    return RenameUnpickler(file_obj).load()\n",
    "\n",
    "\n",
    "def renamed_loads(pickled_bytes):\n",
    "    file_obj = io.BytesIO(pickled_bytes)\n",
    "    return renamed_load(file_obj)"
   ]
  },
  {
   "cell_type": "code",
   "execution_count": 52,
   "id": "c13c514a-4d01-413c-9c9f-25a75038219b",
   "metadata": {},
   "outputs": [
    {
     "name": "stdout",
     "output_type": "stream",
     "text": [
      "[PosixPath('/home/magstr/dft_data/prod_new12_0/13_20/Mo_N2/orca.out')] [PosixPath('/home/magstr/dft_data/prod_new12_0/13_20/Mo_NH3/orca.out')]\n",
      "[PosixPath('/home/magstr/dft_data/prod_new12_0/14_24/Mo_N2/orca.out')] [PosixPath('/home/magstr/dft_data/prod_new12_0/14_24/Mo_NH3/orca.out')]\n",
      "[PosixPath('/home/magstr/dft_data/prod_new12_0/15_24/Mo_N2/orca.out')] [PosixPath('/home/magstr/dft_data/prod_new12_0/15_24/Mo_NH3/orca.out')]\n",
      "[PosixPath('/home/magstr/dft_data/prod_new12_0/15_6/Mo_N2/orca.out')] [PosixPath('/home/magstr/dft_data/prod_new12_0/15_6/Mo_NH3/orca.out')]\n",
      "[PosixPath('/home/magstr/dft_data/prod_new12_0/16_11/Mo_N2/orca.out')] [PosixPath('/home/magstr/dft_data/prod_new12_0/16_11/Mo_NH3/orca.out')]\n",
      "[PosixPath('/home/magstr/dft_data/prod_new12_0/16_29/Mo_N2/orca.out')] [PosixPath('/home/magstr/dft_data/prod_new12_0/16_29/Mo_NH3/orca.out')]\n",
      "[PosixPath('/home/magstr/dft_data/prod_new12_0/18_22/Mo_N2/orca.out')] [PosixPath('/home/magstr/dft_data/prod_new12_0/18_22/Mo_NH3/orca.out')]\n",
      "[PosixPath('/home/magstr/dft_data/prod_new12_0/26_35/Mo_N2/orca.out')] [PosixPath('/home/magstr/dft_data/prod_new12_0/26_35/Mo_NH3/orca.out')]\n",
      "[PosixPath('/home/magstr/dft_data/prod_new12_0/31_6/Mo_N2/orca.out')] [PosixPath('/home/magstr/dft_data/prod_new12_0/31_6/Mo_NH3/orca.out')]\n",
      "[PosixPath('/home/magstr/dft_data/prod_new12_0/37_12/Mo_N2/orca.out')] [PosixPath('/home/magstr/dft_data/prod_new12_0/37_12/Mo_NH3/orca.out')]\n",
      "[PosixPath('/home/magstr/dft_data/prod_new12_0/37_15/Mo_N2/orca.out')] [PosixPath('/home/magstr/dft_data/prod_new12_0/37_15/Mo_NH3/orca.out')]\n",
      "[PosixPath('/home/magstr/dft_data/prod_new12_0/47_36/Mo_N2/orca.out')] [PosixPath('/home/magstr/dft_data/prod_new12_0/47_36/Mo_NH3/orca.out')]\n",
      "[PosixPath('/home/magstr/dft_data/prod_new12_0/8_23/Mo_N2/orca.out')] [PosixPath('/home/magstr/dft_data/prod_new12_0/8_23/Mo_NH3/orca.out')]\n",
      "[PosixPath('/home/magstr/dft_data/prod_new12_0/9_25/Mo_N2/orca.out')] [PosixPath('/home/magstr/dft_data/prod_new12_0/9_25/Mo_NH3/orca.out')]\n",
      "[PosixPath('/home/magstr/dft_data/prod_new12_0/9_47/Mo_N2/orca.out')] [PosixPath('/home/magstr/dft_data/prod_new12_0/9_47/Mo_NH3/orca.out')]\n"
     ]
    }
   ],
   "source": [
    "inds = []\n",
    "deltas = []\n",
    "for elem in f:\n",
    "    p_nh3 = elem / 'Mo_NH3'\n",
    "    p_n2 = elem / 'Mo_N2'\n",
    "    \n",
    "    p1 = sorted(p_n2.glob('*orca.out'))\n",
    "    p2 = sorted(p_nh3.glob('*orca.out'))\n",
    "    print(p1,p2)\n",
    "    \n",
    "    N2 = read_properties_sp(p1[0])\n",
    "    NH3 = read_properties_sp(p2[0])\n",
    "    if not (N2 or NH3):\n",
    "        delta = None\n",
    "    else:\n",
    "        delta = ((N2*kcal+reactions_dft_orca_tzp['NH3'])-(NH3*kcal+reactions_dft_orca_tzp['N2']))\n",
    "        #print(delta)\n",
    "    deltas.append(delta)\n",
    "    # Get the ind object \n",
    "    ind = sorted(elem.rglob('*ind.pkl'))[0]\n",
    "    \n",
    "    with open(ind, \"rb\") as f:\n",
    "        ind = renamed_load(f)\n",
    "        inds.append(ind)\n",
    "        \n",
    "    \n",
    "gen = Generation(molecules=inds)"
   ]
  },
  {
   "cell_type": "code",
   "execution_count": 53,
   "id": "732fbf50-58ab-4993-8158-c16cf4d7811d",
   "metadata": {},
   "outputs": [
    {
     "data": {
      "image/png": "[encoded data removed]",
      "text/plain": [
       "<rdkit.Chem.rdchem.Mol at 0x7f83a9db2630>"
      ]
     },
     "execution_count": 53,
     "metadata": {},
     "output_type": "execute_result"
    }
   ],
   "source": [
    "inds[1].original_mol"
   ]
  },
  {
   "cell_type": "code",
   "execution_count": 54,
   "id": "5b62fb37-d869-41a7-80b6-52103221cba7",
   "metadata": {
    "tags": []
   },
   "outputs": [
    {
     "data": {
      "text/html": [
       "<div>\n",
       "<style scoped>\n",
       "    .dataframe tbody tr th:only-of-type {\n",
       "        vertical-align: middle;\n",
       "    }\n",
       "\n",
       "    .dataframe tbody tr th {\n",
       "        vertical-align: top;\n",
       "    }\n",
       "\n",
       "    .dataframe thead th {\n",
       "        text-align: right;\n",
       "    }\n",
       "</style>\n",
       "<table border=\"1\" class=\"dataframe\">\n",
       "  <thead>\n",
       "    <tr style=\"text-align: right;\">\n",
       "      <th></th>\n",
       "      <th></th>\n",
       "      <th>score</th>\n",
       "      <th>energy</th>\n",
       "      <th>sa_score</th>\n",
       "      <th>rdkit_mol</th>\n",
       "      <th>DFT</th>\n",
       "    </tr>\n",
       "    <tr>\n",
       "      <th>generation</th>\n",
       "      <th>individual</th>\n",
       "      <th></th>\n",
       "      <th></th>\n",
       "      <th></th>\n",
       "      <th></th>\n",
       "      <th></th>\n",
       "    </tr>\n",
       "  </thead>\n",
       "  <tbody>\n",
       "    <tr>\n",
       "      <th>14</th>\n",
       "      <th>24</th>\n",
       "      <td>-71.0</td>\n",
       "      <td>-71.015300</td>\n",
       "      <td>1.000000</td>\n",
       "      <td>&lt;rdkit.Chem.rdchem.Mol object at 0x7f83a9e79eb0&gt;</td>\n",
       "      <td>-24.7</td>\n",
       "    </tr>\n",
       "    <tr>\n",
       "      <th>13</th>\n",
       "      <th>20</th>\n",
       "      <td>-66.4</td>\n",
       "      <td>-68.141362</td>\n",
       "      <td>0.975052</td>\n",
       "      <td>&lt;rdkit.Chem.rdchem.Mol object at 0x7f83a9e79af0&gt;</td>\n",
       "      <td>-34.2</td>\n",
       "    </tr>\n",
       "    <tr>\n",
       "      <th>9</th>\n",
       "      <th>25</th>\n",
       "      <td>-66.3</td>\n",
       "      <td>-66.328355</td>\n",
       "      <td>0.999590</td>\n",
       "      <td>&lt;rdkit.Chem.rdchem.Mol object at 0x7f83a9dc7cb0&gt;</td>\n",
       "      <td>-31.3</td>\n",
       "    </tr>\n",
       "    <tr>\n",
       "      <th>15</th>\n",
       "      <th>24</th>\n",
       "      <td>-65.2</td>\n",
       "      <td>-65.171846</td>\n",
       "      <td>1.000000</td>\n",
       "      <td>&lt;rdkit.Chem.rdchem.Mol object at 0x7f83a9da8930&gt;</td>\n",
       "      <td>-35.9</td>\n",
       "    </tr>\n",
       "    <tr>\n",
       "      <th>9</th>\n",
       "      <th>47</th>\n",
       "      <td>-64.9</td>\n",
       "      <td>-64.899117</td>\n",
       "      <td>1.000000</td>\n",
       "      <td>&lt;rdkit.Chem.rdchem.Mol object at 0x7f83a9da8d30&gt;</td>\n",
       "      <td>-38.8</td>\n",
       "    </tr>\n",
       "    <tr>\n",
       "      <th rowspan=\"2\" valign=\"top\">16</th>\n",
       "      <th>29</th>\n",
       "      <td>-64.6</td>\n",
       "      <td>-64.588427</td>\n",
       "      <td>1.000000</td>\n",
       "      <td>&lt;rdkit.Chem.rdchem.Mol object at 0x7f83a9dcad30&gt;</td>\n",
       "      <td>-28.7</td>\n",
       "    </tr>\n",
       "    <tr>\n",
       "      <th>11</th>\n",
       "      <td>-64.2</td>\n",
       "      <td>-64.171974</td>\n",
       "      <td>1.000000</td>\n",
       "      <td>&lt;rdkit.Chem.rdchem.Mol object at 0x7f83a9dcabb0&gt;</td>\n",
       "      <td>-31.4</td>\n",
       "    </tr>\n",
       "    <tr>\n",
       "      <th>18</th>\n",
       "      <th>22</th>\n",
       "      <td>-64.1</td>\n",
       "      <td>-64.161020</td>\n",
       "      <td>0.999625</td>\n",
       "      <td>&lt;rdkit.Chem.rdchem.Mol object at 0x7f83a9dcacb0&gt;</td>\n",
       "      <td>-23.5</td>\n",
       "    </tr>\n",
       "    <tr>\n",
       "      <th rowspan=\"2\" valign=\"top\">37</th>\n",
       "      <th>12</th>\n",
       "      <td>-64.1</td>\n",
       "      <td>-64.073278</td>\n",
       "      <td>1.000000</td>\n",
       "      <td>&lt;rdkit.Chem.rdchem.Mol object at 0x7f83a9dc78f0&gt;</td>\n",
       "      <td>-26.9</td>\n",
       "    </tr>\n",
       "    <tr>\n",
       "      <th>15</th>\n",
       "      <td>-63.8</td>\n",
       "      <td>-63.835309</td>\n",
       "      <td>1.000000</td>\n",
       "      <td>&lt;rdkit.Chem.rdchem.Mol object at 0x7f83a9dc7ef0&gt;</td>\n",
       "      <td>-30.4</td>\n",
       "    </tr>\n",
       "    <tr>\n",
       "      <th>31</th>\n",
       "      <th>6</th>\n",
       "      <td>-63.3</td>\n",
       "      <td>-63.335771</td>\n",
       "      <td>1.000000</td>\n",
       "      <td>&lt;rdkit.Chem.rdchem.Mol object at 0x7f83a9dc78b0&gt;</td>\n",
       "      <td>-27.9</td>\n",
       "    </tr>\n",
       "    <tr>\n",
       "      <th>15</th>\n",
       "      <th>6</th>\n",
       "      <td>-62.8</td>\n",
       "      <td>-62.752999</td>\n",
       "      <td>1.000000</td>\n",
       "      <td>&lt;rdkit.Chem.rdchem.Mol object at 0x7f83a9dcaf70&gt;</td>\n",
       "      <td>-24.8</td>\n",
       "    </tr>\n",
       "    <tr>\n",
       "      <th>47</th>\n",
       "      <th>36</th>\n",
       "      <td>-62.5</td>\n",
       "      <td>-62.450762</td>\n",
       "      <td>1.000000</td>\n",
       "      <td>&lt;rdkit.Chem.rdchem.Mol object at 0x7f83a9dc7130&gt;</td>\n",
       "      <td>-27.4</td>\n",
       "    </tr>\n",
       "    <tr>\n",
       "      <th>26</th>\n",
       "      <th>35</th>\n",
       "      <td>-62.4</td>\n",
       "      <td>-62.356044</td>\n",
       "      <td>1.000000</td>\n",
       "      <td>&lt;rdkit.Chem.rdchem.Mol object at 0x7f83a9dcab70&gt;</td>\n",
       "      <td>-25.1</td>\n",
       "    </tr>\n",
       "    <tr>\n",
       "      <th>8</th>\n",
       "      <th>23</th>\n",
       "      <td>-62.4</td>\n",
       "      <td>-63.029818</td>\n",
       "      <td>0.989676</td>\n",
       "      <td>&lt;rdkit.Chem.rdchem.Mol object at 0x7f83a9dc72f0&gt;</td>\n",
       "      <td>-24.5</td>\n",
       "    </tr>\n",
       "  </tbody>\n",
       "</table>\n",
       "</div>"
      ],
      "text/plain": [
       "                       score     energy  sa_score  \\\n",
       "generation individual                               \n",
       "14         24          -71.0 -71.015300  1.000000   \n",
       "13         20          -66.4 -68.141362  0.975052   \n",
       "9          25          -66.3 -66.328355  0.999590   \n",
       "15         24          -65.2 -65.171846  1.000000   \n",
       "9          47          -64.9 -64.899117  1.000000   \n",
       "16         29          -64.6 -64.588427  1.000000   \n",
       "           11          -64.2 -64.171974  1.000000   \n",
       "18         22          -64.1 -64.161020  0.999625   \n",
       "37         12          -64.1 -64.073278  1.000000   \n",
       "           15          -63.8 -63.835309  1.000000   \n",
       "31         6           -63.3 -63.335771  1.000000   \n",
       "15         6           -62.8 -62.752999  1.000000   \n",
       "47         36          -62.5 -62.450762  1.000000   \n",
       "26         35          -62.4 -62.356044  1.000000   \n",
       "8          23          -62.4 -63.029818  0.989676   \n",
       "\n",
       "                                                              rdkit_mol   DFT  \n",
       "generation individual                                                          \n",
       "14         24          <rdkit.Chem.rdchem.Mol object at 0x7f83a9e79eb0> -24.7  \n",
       "13         20          <rdkit.Chem.rdchem.Mol object at 0x7f83a9e79af0> -34.2  \n",
       "9          25          <rdkit.Chem.rdchem.Mol object at 0x7f83a9dc7cb0> -31.3  \n",
       "15         24          <rdkit.Chem.rdchem.Mol object at 0x7f83a9da8930> -35.9  \n",
       "9          47          <rdkit.Chem.rdchem.Mol object at 0x7f83a9da8d30> -38.8  \n",
       "16         29          <rdkit.Chem.rdchem.Mol object at 0x7f83a9dcad30> -28.7  \n",
       "           11          <rdkit.Chem.rdchem.Mol object at 0x7f83a9dcabb0> -31.4  \n",
       "18         22          <rdkit.Chem.rdchem.Mol object at 0x7f83a9dcacb0> -23.5  \n",
       "37         12          <rdkit.Chem.rdchem.Mol object at 0x7f83a9dc78f0> -26.9  \n",
       "           15          <rdkit.Chem.rdchem.Mol object at 0x7f83a9dc7ef0> -30.4  \n",
       "31         6           <rdkit.Chem.rdchem.Mol object at 0x7f83a9dc78b0> -27.9  \n",
       "15         6           <rdkit.Chem.rdchem.Mol object at 0x7f83a9dcaf70> -24.8  \n",
       "47         36          <rdkit.Chem.rdchem.Mol object at 0x7f83a9dc7130> -27.4  \n",
       "26         35          <rdkit.Chem.rdchem.Mol object at 0x7f83a9dcab70> -25.1  \n",
       "8          23          <rdkit.Chem.rdchem.Mol object at 0x7f83a9dc72f0> -24.5  "
      ]
     },
     "execution_count": 54,
     "metadata": {},
     "output_type": "execute_result"
    }
   ],
   "source": [
    "df = gen.gen2pd()\n",
    "df['DFT'] = deltas\n",
    "df['score'] = df['score'].apply(lambda x: round(x, 1))\n",
    "df['DFT'] = df['DFT'].apply(lambda x: round(x, 1))\n",
    "df.sort_values(by=['score'], inplace=True)\n",
    "df"
   ]
  },
  {
   "cell_type": "code",
   "execution_count": 55,
   "id": "29d359c7-c2bc-4195-9e68-5bfc1f9a8474",
   "metadata": {},
   "outputs": [
    {
     "data": {
      "text/plain": [
       "score                                                   -66.4\n",
       "energy                                             -68.141362\n",
       "sa_score                                             0.975052\n",
       "rdkit_mol    <rdkit.Chem.rdchem.Mol object at 0x7f83a9e79af0>\n",
       "DFT                                                     -34.2\n",
       "Name: (13, 20), dtype: object"
      ]
     },
     "execution_count": 55,
     "metadata": {},
     "output_type": "execute_result"
    }
   ],
   "source": [
    "df.iloc[1]"
   ]
  },
  {
   "cell_type": "code",
   "execution_count": 56,
   "id": "e3ab99ad-85df-4de2-abb0-f73e8fe4554c",
   "metadata": {},
   "outputs": [
    {
     "data": {
      "image/png": "[encoded data removed]",
      "text/plain": [
       "<rdkit.Chem.rdchem.Mol at 0x7f83a9e79af0>"
      ]
     },
     "execution_count": 56,
     "metadata": {},
     "output_type": "execute_result"
    }
   ],
   "source": [
    "df.iloc[1]['rdkit_mol']"
   ]
  },
  {
   "cell_type": "code",
   "execution_count": 57,
   "id": "eaef0d39-8ec5-4710-b6db-32848e50e4a5",
   "metadata": {},
   "outputs": [
    {
     "data": {
      "image/png": "[encoded data removed]",
      "text/plain": [
       "<Figure size 864x576 with 1 Axes>"
      ]
     },
     "metadata": {
      "needs_background": "light"
     },
     "output_type": "display_data"
    }
   ],
   "source": [
    "fig, ax = plt.subplots(figsize=(12, 8))\n",
    "df[['score','DFT']].plot.bar(ax=ax);\n",
    "ax.set(ylabel='kcal/mol *', xlabel='Molecule No.')\n",
    "#ax.set_xticks([f'Molecule {x}' for x in range(5)])\n",
    "for container in ax.containers:\n",
    "    ax.bar_label(container)\n",
    "fig.tight_layout()\n",
    "fig.savefig('singlepoints.svg')"
   ]
  },
  {
   "cell_type": "markdown",
   "id": "d7c254f9-de23-4e48-a95f-a53d5d43953c",
   "metadata": {},
   "source": [
    "### Correlation plot"
   ]
  },
  {
   "cell_type": "code",
   "execution_count": 58,
   "id": "dda145ab-ae83-4e03-83a2-9da9f455b0c6",
   "metadata": {},
   "outputs": [
    {
     "data": {
      "image/png": "[encoded data removed]",
      "text/plain": [
       "<Figure size 864x576 with 1 Axes>"
      ]
     },
     "metadata": {
      "needs_background": "light"
     },
     "output_type": "display_data"
    }
   ],
   "source": [
    "fig, ax = plt.subplots(figsize=(12, 8))\n",
    "sns.regplot(x=\"score\", y=\"DFT\",ci=68,truncate=False,data=df, ax=ax);"
   ]
  },
  {
   "cell_type": "markdown",
   "id": "590245d5-1013-408d-97b2-579937016d2c",
   "metadata": {
    "tags": []
   },
   "source": [
    "# Singlepoint from GA analysis multiple"
   ]
  },
  {
   "cell_type": "code",
   "execution_count": 217,
   "id": "d80bf7b7-acf8-4c12-8817-ae52ca590767",
   "metadata": {},
   "outputs": [],
   "source": [
    "logfiles = [Path('/home/magstr/dft_data/prod_new12_0_def2j')]"
   ]
  },
  {
   "cell_type": "code",
   "execution_count": 218,
   "id": "6fbe8ffd-bfb7-4cd3-bf9c-a69389b12c72",
   "metadata": {},
   "outputs": [],
   "source": [
    "#N2 = read_properties_sp(p1[0])\n",
    "#NH3 = read_properties_sp(p2[0])"
   ]
  },
  {
   "cell_type": "code",
   "execution_count": 219,
   "id": "ae1e4528-4ec9-4724-9be2-7b85b5e792c5",
   "metadata": {},
   "outputs": [],
   "source": [
    "if not (N2 or NH3):\n",
    "    print('lol')"
   ]
  },
  {
   "cell_type": "code",
   "execution_count": 220,
   "id": "1f9f341c-ff9e-4611-a839-a54dbbe759a5",
   "metadata": {},
   "outputs": [
    {
     "name": "stdout",
     "output_type": "stream",
     "text": [
      "[PosixPath('/home/magstr/dft_data/prod_new12_0_def2j/13_20'), PosixPath('/home/magstr/dft_data/prod_new12_0_def2j/14_24'), PosixPath('/home/magstr/dft_data/prod_new12_0_def2j/15_24'), PosixPath('/home/magstr/dft_data/prod_new12_0_def2j/15_6'), PosixPath('/home/magstr/dft_data/prod_new12_0_def2j/16_11'), PosixPath('/home/magstr/dft_data/prod_new12_0_def2j/16_29'), PosixPath('/home/magstr/dft_data/prod_new12_0_def2j/18_22'), PosixPath('/home/magstr/dft_data/prod_new12_0_def2j/26_35'), PosixPath('/home/magstr/dft_data/prod_new12_0_def2j/31_6'), PosixPath('/home/magstr/dft_data/prod_new12_0_def2j/37_12'), PosixPath('/home/magstr/dft_data/prod_new12_0_def2j/37_15'), PosixPath('/home/magstr/dft_data/prod_new12_0_def2j/47_36'), PosixPath('/home/magstr/dft_data/prod_new12_0_def2j/8_23'), PosixPath('/home/magstr/dft_data/prod_new12_0_def2j/9_25'), PosixPath('/home/magstr/dft_data/prod_new12_0_def2j/9_47')]\n"
     ]
    }
   ],
   "source": [
    "for elem in logfiles:\n",
    "    print(sorted(elem.glob('*')))"
   ]
  },
  {
   "cell_type": "code",
   "execution_count": 221,
   "id": "bc885bac-8133-4f8c-8771-be4ad5a3b193",
   "metadata": {
    "tags": []
   },
   "outputs": [
    {
     "name": "stdout",
     "output_type": "stream",
     "text": [
      "/home/magstr/dft_data/prod_new12_0_def2j/13_20\n",
      "[PosixPath('/home/magstr/dft_data/prod_new12_0_def2j/13_20/Mo_N2/orca.out')] [PosixPath('/home/magstr/dft_data/prod_new12_0_def2j/13_20/Mo_NH3/orca.out')]\n",
      "/home/magstr/dft_data/prod_new12_0_def2j/14_24\n",
      "[PosixPath('/home/magstr/dft_data/prod_new12_0_def2j/14_24/Mo_N2/orca.out')] [PosixPath('/home/magstr/dft_data/prod_new12_0_def2j/14_24/Mo_NH3/orca.out')]\n",
      "/home/magstr/dft_data/prod_new12_0_def2j/15_24\n",
      "[PosixPath('/home/magstr/dft_data/prod_new12_0_def2j/15_24/Mo_N2/orca.out')] [PosixPath('/home/magstr/dft_data/prod_new12_0_def2j/15_24/Mo_NH3/orca.out')]\n",
      "/home/magstr/dft_data/prod_new12_0_def2j/15_6\n",
      "[PosixPath('/home/magstr/dft_data/prod_new12_0_def2j/15_6/Mo_N2/orca.out')] [PosixPath('/home/magstr/dft_data/prod_new12_0_def2j/15_6/Mo_NH3/orca.out')]\n",
      "/home/magstr/dft_data/prod_new12_0_def2j/16_11\n",
      "[PosixPath('/home/magstr/dft_data/prod_new12_0_def2j/16_11/Mo_N2/orca.out')] [PosixPath('/home/magstr/dft_data/prod_new12_0_def2j/16_11/Mo_NH3/orca.out')]\n",
      "/home/magstr/dft_data/prod_new12_0_def2j/16_29\n",
      "[PosixPath('/home/magstr/dft_data/prod_new12_0_def2j/16_29/Mo_N2/orca.out')] [PosixPath('/home/magstr/dft_data/prod_new12_0_def2j/16_29/Mo_NH3/orca.out')]\n",
      "/home/magstr/dft_data/prod_new12_0_def2j/18_22\n",
      "[PosixPath('/home/magstr/dft_data/prod_new12_0_def2j/18_22/Mo_N2/orca.out')] [PosixPath('/home/magstr/dft_data/prod_new12_0_def2j/18_22/Mo_NH3/orca.out')]\n",
      "/home/magstr/dft_data/prod_new12_0_def2j/26_35\n",
      "[PosixPath('/home/magstr/dft_data/prod_new12_0_def2j/26_35/Mo_N2/orca.out')] [PosixPath('/home/magstr/dft_data/prod_new12_0_def2j/26_35/Mo_NH3/orca.out')]\n",
      "/home/magstr/dft_data/prod_new12_0_def2j/31_6\n",
      "[PosixPath('/home/magstr/dft_data/prod_new12_0_def2j/31_6/Mo_N2/orca.out')] [PosixPath('/home/magstr/dft_data/prod_new12_0_def2j/31_6/Mo_NH3/orca.out')]\n",
      "/home/magstr/dft_data/prod_new12_0_def2j/37_12\n",
      "[PosixPath('/home/magstr/dft_data/prod_new12_0_def2j/37_12/Mo_N2/orca.out')] [PosixPath('/home/magstr/dft_data/prod_new12_0_def2j/37_12/Mo_NH3/orca.out')]\n",
      "/home/magstr/dft_data/prod_new12_0_def2j/37_15\n",
      "[PosixPath('/home/magstr/dft_data/prod_new12_0_def2j/37_15/Mo_N2/orca.out')] [PosixPath('/home/magstr/dft_data/prod_new12_0_def2j/37_15/Mo_NH3/orca.out')]\n",
      "/home/magstr/dft_data/prod_new12_0_def2j/47_36\n",
      "[PosixPath('/home/magstr/dft_data/prod_new12_0_def2j/47_36/Mo_N2/orca.out')] [PosixPath('/home/magstr/dft_data/prod_new12_0_def2j/47_36/Mo_NH3/orca.out')]\n",
      "/home/magstr/dft_data/prod_new12_0_def2j/8_23\n",
      "[PosixPath('/home/magstr/dft_data/prod_new12_0_def2j/8_23/Mo_N2/orca.out')] [PosixPath('/home/magstr/dft_data/prod_new12_0_def2j/8_23/Mo_NH3/orca.out')]\n",
      "/home/magstr/dft_data/prod_new12_0_def2j/9_25\n",
      "[PosixPath('/home/magstr/dft_data/prod_new12_0_def2j/9_25/Mo_N2/orca.out')] [PosixPath('/home/magstr/dft_data/prod_new12_0_def2j/9_25/Mo_NH3/orca.out')]\n",
      "/home/magstr/dft_data/prod_new12_0_def2j/9_47\n",
      "[PosixPath('/home/magstr/dft_data/prod_new12_0_def2j/9_47/Mo_N2/orca.out')] [PosixPath('/home/magstr/dft_data/prod_new12_0_def2j/9_47/Mo_NH3/orca.out')]\n"
     ]
    }
   ],
   "source": [
    "total_df = pd.DataFrame(columns=['score', 'energy', 'sa_score', 'rdkit_mol', 'DFT'])\n",
    "inds = []\n",
    "deltas = []\n",
    "for file in logfiles:\n",
    "    f = sorted(file.glob('*'))\n",
    "    for elem in f:\n",
    "        print(elem)\n",
    "        p_nh3 = elem / 'Mo_NH3'\n",
    "        p_n2 = elem / 'Mo_N2'\n",
    "\n",
    "        p1 = sorted(p_n2.glob('*orca.out'))\n",
    "        p2 = sorted(p_nh3.glob('*orca.out'))\n",
    "        print(p1,p2)\n",
    "        \n",
    "        N2 = read_properties_sp(p1[0])\n",
    "        NH3 = read_properties_sp(p2[0])\n",
    "        if not (N2 or NH3):\n",
    "            delta = None\n",
    "        else:\n",
    "            delta = ((N2*kcal+reactions_dft_orca_tzp['NH3'])-(NH3*kcal+reactions_dft_orca_tzp['N2']))\n",
    "            #print(delta)\n",
    "        deltas.append(delta)\n",
    "\n",
    "        # Get the ind object \n",
    "        ind = sorted(elem.rglob('*ind.pkl'))[0]\n",
    "\n",
    "        with open(ind, \"rb\") as f:\n",
    "            ind = renamed_load(f)\n",
    "            inds.append(ind)\n",
    "\n",
    "    gen = Generation(molecules=inds)\n",
    "    df = gen.gen2pd()\n",
    "    df['DFT'] = deltas\n",
    "    df['score'] = df['score'].apply(lambda x: round(x, 1))\n",
    "    df['DFT'] = df['DFT'].apply(lambda x: round(x, 1))\n",
    "    df.sort_values(by=['score'], inplace=True)\n",
    "    total_df = pd.concat([total_df, df])\n",
    "    df"
   ]
  },
  {
   "cell_type": "code",
   "execution_count": 222,
   "id": "d7f9877e-8fb9-4969-a4a8-927c095c9873",
   "metadata": {},
   "outputs": [],
   "source": [
    "df = total_df\n",
    "#df.sort_values(by=['score'], inplace=True)"
   ]
  },
  {
   "cell_type": "code",
   "execution_count": 223,
   "id": "7774e494-8614-43b3-b4cb-e6dc63b5a676",
   "metadata": {},
   "outputs": [
    {
     "data": {
      "text/html": [
       "<div>\n",
       "<style scoped>\n",
       "    .dataframe tbody tr th:only-of-type {\n",
       "        vertical-align: middle;\n",
       "    }\n",
       "\n",
       "    .dataframe tbody tr th {\n",
       "        vertical-align: top;\n",
       "    }\n",
       "\n",
       "    .dataframe thead th {\n",
       "        text-align: right;\n",
       "    }\n",
       "</style>\n",
       "<table border=\"1\" class=\"dataframe\">\n",
       "  <thead>\n",
       "    <tr style=\"text-align: right;\">\n",
       "      <th></th>\n",
       "      <th>score</th>\n",
       "      <th>energy</th>\n",
       "      <th>sa_score</th>\n",
       "      <th>rdkit_mol</th>\n",
       "      <th>DFT</th>\n",
       "    </tr>\n",
       "  </thead>\n",
       "  <tbody>\n",
       "    <tr>\n",
       "      <th>(14, 24)</th>\n",
       "      <td>-71.0</td>\n",
       "      <td>-71.015300</td>\n",
       "      <td>1.000000</td>\n",
       "      <td>&lt;rdkit.Chem.rdchem.Mol object at 0x7f839a3be2f0&gt;</td>\n",
       "      <td>9.1</td>\n",
       "    </tr>\n",
       "    <tr>\n",
       "      <th>(13, 20)</th>\n",
       "      <td>-66.4</td>\n",
       "      <td>-68.141362</td>\n",
       "      <td>0.975052</td>\n",
       "      <td>&lt;rdkit.Chem.rdchem.Mol object at 0x7f83a83646b0&gt;</td>\n",
       "      <td>-27.4</td>\n",
       "    </tr>\n",
       "    <tr>\n",
       "      <th>(9, 25)</th>\n",
       "      <td>-66.3</td>\n",
       "      <td>-66.328355</td>\n",
       "      <td>0.999590</td>\n",
       "      <td>&lt;rdkit.Chem.rdchem.Mol object at 0x7f83a9e45cb0&gt;</td>\n",
       "      <td>-21.8</td>\n",
       "    </tr>\n",
       "    <tr>\n",
       "      <th>(15, 24)</th>\n",
       "      <td>-65.2</td>\n",
       "      <td>-65.171846</td>\n",
       "      <td>1.000000</td>\n",
       "      <td>&lt;rdkit.Chem.rdchem.Mol object at 0x7f83a8364370&gt;</td>\n",
       "      <td>-16.3</td>\n",
       "    </tr>\n",
       "    <tr>\n",
       "      <th>(9, 47)</th>\n",
       "      <td>-64.9</td>\n",
       "      <td>-64.899117</td>\n",
       "      <td>1.000000</td>\n",
       "      <td>&lt;rdkit.Chem.rdchem.Mol object at 0x7f83a9e45370&gt;</td>\n",
       "      <td>-25.4</td>\n",
       "    </tr>\n",
       "    <tr>\n",
       "      <th>(16, 29)</th>\n",
       "      <td>-64.6</td>\n",
       "      <td>-64.588427</td>\n",
       "      <td>1.000000</td>\n",
       "      <td>&lt;rdkit.Chem.rdchem.Mol object at 0x7f83a83d52b0&gt;</td>\n",
       "      <td>-8.8</td>\n",
       "    </tr>\n",
       "    <tr>\n",
       "      <th>(16, 11)</th>\n",
       "      <td>-64.2</td>\n",
       "      <td>-64.171974</td>\n",
       "      <td>1.000000</td>\n",
       "      <td>&lt;rdkit.Chem.rdchem.Mol object at 0x7f83a83d5370&gt;</td>\n",
       "      <td>-19.4</td>\n",
       "    </tr>\n",
       "    <tr>\n",
       "      <th>(18, 22)</th>\n",
       "      <td>-64.1</td>\n",
       "      <td>-64.161020</td>\n",
       "      <td>0.999625</td>\n",
       "      <td>&lt;rdkit.Chem.rdchem.Mol object at 0x7f83a83d53b0&gt;</td>\n",
       "      <td>-4.8</td>\n",
       "    </tr>\n",
       "    <tr>\n",
       "      <th>(37, 12)</th>\n",
       "      <td>-64.1</td>\n",
       "      <td>-64.073278</td>\n",
       "      <td>1.000000</td>\n",
       "      <td>&lt;rdkit.Chem.rdchem.Mol object at 0x7f83a9e45eb0&gt;</td>\n",
       "      <td>-13.7</td>\n",
       "    </tr>\n",
       "    <tr>\n",
       "      <th>(37, 15)</th>\n",
       "      <td>-63.8</td>\n",
       "      <td>-63.835309</td>\n",
       "      <td>1.000000</td>\n",
       "      <td>&lt;rdkit.Chem.rdchem.Mol object at 0x7f83a9e455b0&gt;</td>\n",
       "      <td>-14.5</td>\n",
       "    </tr>\n",
       "    <tr>\n",
       "      <th>(31, 6)</th>\n",
       "      <td>-63.3</td>\n",
       "      <td>-63.335771</td>\n",
       "      <td>1.000000</td>\n",
       "      <td>&lt;rdkit.Chem.rdchem.Mol object at 0x7f83a9e45930&gt;</td>\n",
       "      <td>-6.3</td>\n",
       "    </tr>\n",
       "    <tr>\n",
       "      <th>(15, 6)</th>\n",
       "      <td>-62.8</td>\n",
       "      <td>-62.752999</td>\n",
       "      <td>1.000000</td>\n",
       "      <td>&lt;rdkit.Chem.rdchem.Mol object at 0x7f83a83d54f0&gt;</td>\n",
       "      <td>-13.5</td>\n",
       "    </tr>\n",
       "    <tr>\n",
       "      <th>(47, 36)</th>\n",
       "      <td>-62.5</td>\n",
       "      <td>-62.450762</td>\n",
       "      <td>1.000000</td>\n",
       "      <td>&lt;rdkit.Chem.rdchem.Mol object at 0x7f83a9e45c70&gt;</td>\n",
       "      <td>-12.9</td>\n",
       "    </tr>\n",
       "    <tr>\n",
       "      <th>(26, 35)</th>\n",
       "      <td>-62.4</td>\n",
       "      <td>-62.356044</td>\n",
       "      <td>1.000000</td>\n",
       "      <td>&lt;rdkit.Chem.rdchem.Mol object at 0x7f83a83d5570&gt;</td>\n",
       "      <td>-8.4</td>\n",
       "    </tr>\n",
       "    <tr>\n",
       "      <th>(8, 23)</th>\n",
       "      <td>-62.4</td>\n",
       "      <td>-63.029818</td>\n",
       "      <td>0.989676</td>\n",
       "      <td>&lt;rdkit.Chem.rdchem.Mol object at 0x7f83a9e450f0&gt;</td>\n",
       "      <td>-7.8</td>\n",
       "    </tr>\n",
       "  </tbody>\n",
       "</table>\n",
       "</div>"
      ],
      "text/plain": [
       "          score     energy  sa_score  \\\n",
       "(14, 24)  -71.0 -71.015300  1.000000   \n",
       "(13, 20)  -66.4 -68.141362  0.975052   \n",
       "(9, 25)   -66.3 -66.328355  0.999590   \n",
       "(15, 24)  -65.2 -65.171846  1.000000   \n",
       "(9, 47)   -64.9 -64.899117  1.000000   \n",
       "(16, 29)  -64.6 -64.588427  1.000000   \n",
       "(16, 11)  -64.2 -64.171974  1.000000   \n",
       "(18, 22)  -64.1 -64.161020  0.999625   \n",
       "(37, 12)  -64.1 -64.073278  1.000000   \n",
       "(37, 15)  -63.8 -63.835309  1.000000   \n",
       "(31, 6)   -63.3 -63.335771  1.000000   \n",
       "(15, 6)   -62.8 -62.752999  1.000000   \n",
       "(47, 36)  -62.5 -62.450762  1.000000   \n",
       "(26, 35)  -62.4 -62.356044  1.000000   \n",
       "(8, 23)   -62.4 -63.029818  0.989676   \n",
       "\n",
       "                                                 rdkit_mol   DFT  \n",
       "(14, 24)  <rdkit.Chem.rdchem.Mol object at 0x7f839a3be2f0>   9.1  \n",
       "(13, 20)  <rdkit.Chem.rdchem.Mol object at 0x7f83a83646b0> -27.4  \n",
       "(9, 25)   <rdkit.Chem.rdchem.Mol object at 0x7f83a9e45cb0> -21.8  \n",
       "(15, 24)  <rdkit.Chem.rdchem.Mol object at 0x7f83a8364370> -16.3  \n",
       "(9, 47)   <rdkit.Chem.rdchem.Mol object at 0x7f83a9e45370> -25.4  \n",
       "(16, 29)  <rdkit.Chem.rdchem.Mol object at 0x7f83a83d52b0>  -8.8  \n",
       "(16, 11)  <rdkit.Chem.rdchem.Mol object at 0x7f83a83d5370> -19.4  \n",
       "(18, 22)  <rdkit.Chem.rdchem.Mol object at 0x7f83a83d53b0>  -4.8  \n",
       "(37, 12)  <rdkit.Chem.rdchem.Mol object at 0x7f83a9e45eb0> -13.7  \n",
       "(37, 15)  <rdkit.Chem.rdchem.Mol object at 0x7f83a9e455b0> -14.5  \n",
       "(31, 6)   <rdkit.Chem.rdchem.Mol object at 0x7f83a9e45930>  -6.3  \n",
       "(15, 6)   <rdkit.Chem.rdchem.Mol object at 0x7f83a83d54f0> -13.5  \n",
       "(47, 36)  <rdkit.Chem.rdchem.Mol object at 0x7f83a9e45c70> -12.9  \n",
       "(26, 35)  <rdkit.Chem.rdchem.Mol object at 0x7f83a83d5570>  -8.4  \n",
       "(8, 23)   <rdkit.Chem.rdchem.Mol object at 0x7f83a9e450f0>  -7.8  "
      ]
     },
     "execution_count": 223,
     "metadata": {},
     "output_type": "execute_result"
    }
   ],
   "source": [
    "df"
   ]
  },
  {
   "cell_type": "code",
   "execution_count": 224,
   "id": "10df8076-8bac-43b3-bc8d-7c91bd593ffb",
   "metadata": {},
   "outputs": [],
   "source": [
    "list_of_moles = df['rdkit_mol'].tolist()"
   ]
  },
  {
   "cell_type": "code",
   "execution_count": 225,
   "id": "7d5a356b-5c5c-4553-bb4c-ccba8906cb83",
   "metadata": {},
   "outputs": [
    {
     "data": {
      "text/plain": [
       "[<rdkit.Chem.rdchem.Mol at 0x7f839a3be2f0>,\n",
       " <rdkit.Chem.rdchem.Mol at 0x7f83a83646b0>,\n",
       " <rdkit.Chem.rdchem.Mol at 0x7f83a9e45cb0>,\n",
       " <rdkit.Chem.rdchem.Mol at 0x7f83a8364370>,\n",
       " <rdkit.Chem.rdchem.Mol at 0x7f83a9e45370>,\n",
       " <rdkit.Chem.rdchem.Mol at 0x7f83a83d52b0>,\n",
       " <rdkit.Chem.rdchem.Mol at 0x7f83a83d5370>,\n",
       " <rdkit.Chem.rdchem.Mol at 0x7f83a83d53b0>,\n",
       " <rdkit.Chem.rdchem.Mol at 0x7f83a9e45eb0>,\n",
       " <rdkit.Chem.rdchem.Mol at 0x7f83a9e455b0>,\n",
       " <rdkit.Chem.rdchem.Mol at 0x7f83a9e45930>,\n",
       " <rdkit.Chem.rdchem.Mol at 0x7f83a83d54f0>,\n",
       " <rdkit.Chem.rdchem.Mol at 0x7f83a9e45c70>,\n",
       " <rdkit.Chem.rdchem.Mol at 0x7f83a83d5570>,\n",
       " <rdkit.Chem.rdchem.Mol at 0x7f83a9e450f0>]"
      ]
     },
     "execution_count": 225,
     "metadata": {},
     "output_type": "execute_result"
    }
   ],
   "source": [
    "list_of_moles"
   ]
  },
  {
   "cell_type": "code",
   "execution_count": 226,
   "id": "5fbf01a6-9b1c-4242-b79a-a2c3c18b38cb",
   "metadata": {},
   "outputs": [
    {
     "data": {
      "text/html": [
       "<div>\n",
       "<style scoped>\n",
       "    .dataframe tbody tr th:only-of-type {\n",
       "        vertical-align: middle;\n",
       "    }\n",
       "\n",
       "    .dataframe tbody tr th {\n",
       "        vertical-align: top;\n",
       "    }\n",
       "\n",
       "    .dataframe thead th {\n",
       "        text-align: right;\n",
       "    }\n",
       "</style>\n",
       "<table border=\"1\" class=\"dataframe\">\n",
       "  <thead>\n",
       "    <tr style=\"text-align: right;\">\n",
       "      <th></th>\n",
       "      <th>score</th>\n",
       "      <th>energy</th>\n",
       "      <th>sa_score</th>\n",
       "      <th>rdkit_mol</th>\n",
       "      <th>DFT</th>\n",
       "    </tr>\n",
       "  </thead>\n",
       "  <tbody>\n",
       "    <tr>\n",
       "      <th>(14, 24)</th>\n",
       "      <td>-71.0</td>\n",
       "      <td>-71.015300</td>\n",
       "      <td>1.000000</td>\n",
       "      <td>&lt;rdkit.Chem.rdchem.Mol object at 0x7f839a3be2f0&gt;</td>\n",
       "      <td>9.1</td>\n",
       "    </tr>\n",
       "    <tr>\n",
       "      <th>(13, 20)</th>\n",
       "      <td>-66.4</td>\n",
       "      <td>-68.141362</td>\n",
       "      <td>0.975052</td>\n",
       "      <td>&lt;rdkit.Chem.rdchem.Mol object at 0x7f83a83646b0&gt;</td>\n",
       "      <td>-27.4</td>\n",
       "    </tr>\n",
       "    <tr>\n",
       "      <th>(9, 25)</th>\n",
       "      <td>-66.3</td>\n",
       "      <td>-66.328355</td>\n",
       "      <td>0.999590</td>\n",
       "      <td>&lt;rdkit.Chem.rdchem.Mol object at 0x7f83a9e45cb0&gt;</td>\n",
       "      <td>-21.8</td>\n",
       "    </tr>\n",
       "    <tr>\n",
       "      <th>(15, 24)</th>\n",
       "      <td>-65.2</td>\n",
       "      <td>-65.171846</td>\n",
       "      <td>1.000000</td>\n",
       "      <td>&lt;rdkit.Chem.rdchem.Mol object at 0x7f83a8364370&gt;</td>\n",
       "      <td>-16.3</td>\n",
       "    </tr>\n",
       "    <tr>\n",
       "      <th>(9, 47)</th>\n",
       "      <td>-64.9</td>\n",
       "      <td>-64.899117</td>\n",
       "      <td>1.000000</td>\n",
       "      <td>&lt;rdkit.Chem.rdchem.Mol object at 0x7f83a9e45370&gt;</td>\n",
       "      <td>-25.4</td>\n",
       "    </tr>\n",
       "    <tr>\n",
       "      <th>(16, 29)</th>\n",
       "      <td>-64.6</td>\n",
       "      <td>-64.588427</td>\n",
       "      <td>1.000000</td>\n",
       "      <td>&lt;rdkit.Chem.rdchem.Mol object at 0x7f83a83d52b0&gt;</td>\n",
       "      <td>-8.8</td>\n",
       "    </tr>\n",
       "    <tr>\n",
       "      <th>(16, 11)</th>\n",
       "      <td>-64.2</td>\n",
       "      <td>-64.171974</td>\n",
       "      <td>1.000000</td>\n",
       "      <td>&lt;rdkit.Chem.rdchem.Mol object at 0x7f83a83d5370&gt;</td>\n",
       "      <td>-19.4</td>\n",
       "    </tr>\n",
       "    <tr>\n",
       "      <th>(18, 22)</th>\n",
       "      <td>-64.1</td>\n",
       "      <td>-64.161020</td>\n",
       "      <td>0.999625</td>\n",
       "      <td>&lt;rdkit.Chem.rdchem.Mol object at 0x7f83a83d53b0&gt;</td>\n",
       "      <td>-4.8</td>\n",
       "    </tr>\n",
       "    <tr>\n",
       "      <th>(37, 12)</th>\n",
       "      <td>-64.1</td>\n",
       "      <td>-64.073278</td>\n",
       "      <td>1.000000</td>\n",
       "      <td>&lt;rdkit.Chem.rdchem.Mol object at 0x7f83a9e45eb0&gt;</td>\n",
       "      <td>-13.7</td>\n",
       "    </tr>\n",
       "    <tr>\n",
       "      <th>(37, 15)</th>\n",
       "      <td>-63.8</td>\n",
       "      <td>-63.835309</td>\n",
       "      <td>1.000000</td>\n",
       "      <td>&lt;rdkit.Chem.rdchem.Mol object at 0x7f83a9e455b0&gt;</td>\n",
       "      <td>-14.5</td>\n",
       "    </tr>\n",
       "    <tr>\n",
       "      <th>(31, 6)</th>\n",
       "      <td>-63.3</td>\n",
       "      <td>-63.335771</td>\n",
       "      <td>1.000000</td>\n",
       "      <td>&lt;rdkit.Chem.rdchem.Mol object at 0x7f83a9e45930&gt;</td>\n",
       "      <td>-6.3</td>\n",
       "    </tr>\n",
       "    <tr>\n",
       "      <th>(15, 6)</th>\n",
       "      <td>-62.8</td>\n",
       "      <td>-62.752999</td>\n",
       "      <td>1.000000</td>\n",
       "      <td>&lt;rdkit.Chem.rdchem.Mol object at 0x7f83a83d54f0&gt;</td>\n",
       "      <td>-13.5</td>\n",
       "    </tr>\n",
       "    <tr>\n",
       "      <th>(47, 36)</th>\n",
       "      <td>-62.5</td>\n",
       "      <td>-62.450762</td>\n",
       "      <td>1.000000</td>\n",
       "      <td>&lt;rdkit.Chem.rdchem.Mol object at 0x7f83a9e45c70&gt;</td>\n",
       "      <td>-12.9</td>\n",
       "    </tr>\n",
       "    <tr>\n",
       "      <th>(26, 35)</th>\n",
       "      <td>-62.4</td>\n",
       "      <td>-62.356044</td>\n",
       "      <td>1.000000</td>\n",
       "      <td>&lt;rdkit.Chem.rdchem.Mol object at 0x7f83a83d5570&gt;</td>\n",
       "      <td>-8.4</td>\n",
       "    </tr>\n",
       "    <tr>\n",
       "      <th>(8, 23)</th>\n",
       "      <td>-62.4</td>\n",
       "      <td>-63.029818</td>\n",
       "      <td>0.989676</td>\n",
       "      <td>&lt;rdkit.Chem.rdchem.Mol object at 0x7f83a9e450f0&gt;</td>\n",
       "      <td>-7.8</td>\n",
       "    </tr>\n",
       "  </tbody>\n",
       "</table>\n",
       "</div>"
      ],
      "text/plain": [
       "          score     energy  sa_score  \\\n",
       "(14, 24)  -71.0 -71.015300  1.000000   \n",
       "(13, 20)  -66.4 -68.141362  0.975052   \n",
       "(9, 25)   -66.3 -66.328355  0.999590   \n",
       "(15, 24)  -65.2 -65.171846  1.000000   \n",
       "(9, 47)   -64.9 -64.899117  1.000000   \n",
       "(16, 29)  -64.6 -64.588427  1.000000   \n",
       "(16, 11)  -64.2 -64.171974  1.000000   \n",
       "(18, 22)  -64.1 -64.161020  0.999625   \n",
       "(37, 12)  -64.1 -64.073278  1.000000   \n",
       "(37, 15)  -63.8 -63.835309  1.000000   \n",
       "(31, 6)   -63.3 -63.335771  1.000000   \n",
       "(15, 6)   -62.8 -62.752999  1.000000   \n",
       "(47, 36)  -62.5 -62.450762  1.000000   \n",
       "(26, 35)  -62.4 -62.356044  1.000000   \n",
       "(8, 23)   -62.4 -63.029818  0.989676   \n",
       "\n",
       "                                                 rdkit_mol   DFT  \n",
       "(14, 24)  <rdkit.Chem.rdchem.Mol object at 0x7f839a3be2f0>   9.1  \n",
       "(13, 20)  <rdkit.Chem.rdchem.Mol object at 0x7f83a83646b0> -27.4  \n",
       "(9, 25)   <rdkit.Chem.rdchem.Mol object at 0x7f83a9e45cb0> -21.8  \n",
       "(15, 24)  <rdkit.Chem.rdchem.Mol object at 0x7f83a8364370> -16.3  \n",
       "(9, 47)   <rdkit.Chem.rdchem.Mol object at 0x7f83a9e45370> -25.4  \n",
       "(16, 29)  <rdkit.Chem.rdchem.Mol object at 0x7f83a83d52b0>  -8.8  \n",
       "(16, 11)  <rdkit.Chem.rdchem.Mol object at 0x7f83a83d5370> -19.4  \n",
       "(18, 22)  <rdkit.Chem.rdchem.Mol object at 0x7f83a83d53b0>  -4.8  \n",
       "(37, 12)  <rdkit.Chem.rdchem.Mol object at 0x7f83a9e45eb0> -13.7  \n",
       "(37, 15)  <rdkit.Chem.rdchem.Mol object at 0x7f83a9e455b0> -14.5  \n",
       "(31, 6)   <rdkit.Chem.rdchem.Mol object at 0x7f83a9e45930>  -6.3  \n",
       "(15, 6)   <rdkit.Chem.rdchem.Mol object at 0x7f83a83d54f0> -13.5  \n",
       "(47, 36)  <rdkit.Chem.rdchem.Mol object at 0x7f83a9e45c70> -12.9  \n",
       "(26, 35)  <rdkit.Chem.rdchem.Mol object at 0x7f83a83d5570>  -8.4  \n",
       "(8, 23)   <rdkit.Chem.rdchem.Mol object at 0x7f83a9e450f0>  -7.8  "
      ]
     },
     "execution_count": 226,
     "metadata": {},
     "output_type": "execute_result"
    }
   ],
   "source": [
    "df"
   ]
  },
  {
   "cell_type": "code",
   "execution_count": 227,
   "id": "03e72d89-b788-4a24-9676-e6ca0af5b696",
   "metadata": {},
   "outputs": [],
   "source": [
    "#Chem.Draw.MolsToGridImage(list_of_moles)"
   ]
  },
  {
   "cell_type": "code",
   "execution_count": 228,
   "id": "3d07e81f-8dc7-4e06-bdce-cd0a163cce12",
   "metadata": {},
   "outputs": [
    {
     "data": {
      "image/png": "[encoded data removed]",
      "text/plain": [
       "<Figure size 864x576 with 1 Axes>"
      ]
     },
     "metadata": {
      "needs_background": "light"
     },
     "output_type": "display_data"
    }
   ],
   "source": [
    "fig, ax = plt.subplots(figsize=(12, 8))\n",
    "df[['score','DFT']].plot.bar(ax=ax);\n",
    "ax.set(ylabel='kcal/mol *', xlabel='Molecule No.')\n",
    "#ax.set_xticks([f'Molecule {x}' for x in range(5)])\n",
    "for container in ax.containers:\n",
    "    ax.bar_label(container)\n",
    "fig.tight_layout()\n",
    "#fig.savefig('singlepoints.svg')"
   ]
  },
  {
   "cell_type": "markdown",
   "id": "9949a443-c6e2-42b9-a781-caa4a0964145",
   "metadata": {},
   "source": [
    "# Correlation plot"
   ]
  },
  {
   "cell_type": "code",
   "execution_count": 215,
   "id": "59f36e5c-e1a6-4fc2-ac31-d9e88307c548",
   "metadata": {},
   "outputs": [
    {
     "data": {
      "image/png": "[encoded data removed]",
      "text/plain": [
       "<Figure size 864x576 with 1 Axes>"
      ]
     },
     "metadata": {
      "needs_background": "light"
     },
     "output_type": "display_data"
    }
   ],
   "source": [
    "fig, ax = plt.subplots(figsize=(12, 8))\n",
    "sns.regplot(x=\"score\", y=\"DFT\",ci=68,truncate=False,data=df, ax=ax);"
   ]
  },
  {
   "cell_type": "code",
   "execution_count": null,
   "id": "15bf2701-48a2-4592-aa07-9b6a54401a06",
   "metadata": {},
   "outputs": [],
   "source": []
  }
 ],
 "metadata": {
  "kernelspec": {
   "display_name": "Python 3 (ipykernel)",
   "language": "python",
   "name": "python3"
  },
  "language_info": {
   "codemirror_mode": {
    "name": "ipython",
    "version": 3
   },
   "file_extension": ".py",
   "mimetype": "text/x-python",
   "name": "python",
   "nbconvert_exporter": "python",
   "pygments_lexer": "ipython3",
   "version": "3.7.12"
  }
 },
 "nbformat": 4,
 "nbformat_minor": 5
}
