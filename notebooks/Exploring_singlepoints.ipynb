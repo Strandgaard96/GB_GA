{
 "cells": [
  {
   "cell_type": "markdown",
   "id": "61f91755-832f-4a81-a568-5a5496782f30",
   "metadata": {},
   "source": [
    "# Exploring singlepoint"
   ]
  },
  {
   "cell_type": "code",
   "execution_count": 1,
   "id": "b189eb18-945a-4c43-ae51-d4389336c15c",
   "metadata": {},
   "outputs": [],
   "source": [
    "# improts\n",
    "import sys\n",
    "import os\n",
    "import numpy as np\n",
    "import matplotlib.pyplot as plt\n",
    "import re\n",
    "from pathlib import Path\n",
    "from glob import glob\n",
    "import pickle\n",
    "import shutil\n",
    "import json\n",
    "import io\n",
    "import pandas as pd\n",
    "import seaborn as sns\n",
    "from rdkit import Chem\n",
    "from rdkit.Chem import Draw\n",
    "from rdkit.Chem.Draw import IPythonConsole, MolsToGridImage\n",
    "import py3Dmol\n",
    "\n",
    "os.chdir('../')\n",
    "\n",
    "# For highlight colors\n",
    "from matplotlib.colors import ColorConverter\n",
    "\n",
    "from ipywidgets import interact,fixed,IntSlider\n",
    "\n",
    "\n",
    "module_path = os.path.abspath(os.path.join('..'))\n",
    "if module_path not in sys.path:\n",
    "    sys.path.append(module_path)\n",
    "    \n",
    "# Custom functions \n",
    "from my_utils.analysis import draw_generation,conf_viewer, sort_ga, natural_keys, atoi\n",
    "from my_utils.classes import Generation\n",
    "\n",
    "#IPythonConsole.drawOptions.addAtomIndices = True\n",
    "IPythonConsole.molSize = 500,500\n",
    "IPythonConsole.drawOptions.addAtomIndices = True\n",
    "\n",
    "font = {'weight' : 'bold',\n",
    "        'size'   : 18}\n",
    "\n",
    "plt.rc('font', **font)\n"
   ]
  },
  {
   "cell_type": "markdown",
   "id": "02d848a9-cee2-4ed3-8f80-be31faaedca1",
   "metadata": {},
   "source": [
    "## Load the reference energies"
   ]
  },
  {
   "cell_type": "code",
   "execution_count": 2,
   "id": "5d9ca76e-0e36-4440-b4b2-a93fc9d94ddd",
   "metadata": {},
   "outputs": [],
   "source": [
    "def get_energy_dicts():\n",
    "\n",
    "    path = Path(\n",
    "        \"/home/magstr/Documents/nitrogenase/niflheim_scripts/nitrogenase/reference_energies\"\n",
    "    )\n",
    "    dict1_path = path / \"gfn1_dict.json\"\n",
    "    dict2_path = path / \"gfn2_dict.json\"\n",
    "    dict3_path = path / \"dft_ams_dict.json\"\n",
    "    dict4_path = path / \"dft_orca_dict.json\"\n",
    "\n",
    "    # Check for existing reference energy_dicts for speedup\n",
    "    if (dict1_path.exists()) and (dict2_path.exists()) and (dict3_path.exists()) and (dict4_path.exists()):\n",
    "        with open(dict1_path, \"r\", encoding=\"utf-8\") as f:\n",
    "            gfn1_dict = json.load(f)\n",
    "        with open(dict2_path, \"r\", encoding=\"utf-8\") as f:\n",
    "            gfn2_dict = json.load(f)\n",
    "        with open(dict3_path, \"r\", encoding=\"utf-8\") as f:\n",
    "            dft_ams_dict = json.load(f)\n",
    "        with open(dict4_path, \"r\", encoding=\"utf-8\") as f:\n",
    "            dft_orca_dict = json.load(f)\n",
    "\n",
    "        return gfn1_dict, gfn2_dict, dft_ams_dict, dft_orca_dict\n",
    "\n",
    "    # Correction values\n",
    "    g1_lut_corr = 10\n",
    "    g1_cp_corr = -65\n",
    "    g2_lut_corr = 0\n",
    "    g2_cp_corr = -40\n",
    "\n",
    "    gfn1_folders = (path / \"gas_gfn1\").rglob(\"*job.out\")\n",
    "    gfn2_folders = (path / \"gas_gfn2\").rglob(\"*job.out\")\n",
    "\n",
    "    gfn1_dict = {}\n",
    "    for elem in gfn1_folders:\n",
    "        gfn1_dict[elem.parent.name] = (\n",
    "            HARTREE2KCAL * get_energies(paths=[elem], pattern=\"TOTAL ENERGY\")[0]\n",
    "        )\n",
    "    gfn1_dict[\"delta_Cp\"] = gfn1_dict[\"CrCp2+\"] - gfn1_dict[\"CrCp2\"] + g1_cp_corr\n",
    "    gfn1_dict[\"delta_Lu\"] = gfn1_dict[\"Lu\"] - gfn1_dict[\"LuH+\"] + g1_lut_corr\n",
    "\n",
    "    gfn2_dict = {}\n",
    "    for elem in gfn2_folders:\n",
    "        gfn2_dict[elem.parent.name] = (\n",
    "            HARTREE2KCAL * get_energies(paths=[elem], pattern=\"TOTAL ENERGY\")[0]\n",
    "        )\n",
    "    gfn2_dict[\"delta_Cp\"] = gfn2_dict[\"CrCp2+\"] - gfn2_dict[\"CrCp2\"] + g2_cp_corr\n",
    "    gfn2_dict[\"delta_Lu\"] = gfn2_dict[\"Lu\"] - gfn2_dict[\"LuH+\"] + g2_lut_corr\n",
    "\n",
    "    dft_ams_folders = (path / \"schrock_parts_ams\").rglob(\"*dft.out\")\n",
    "    dft_ams_dict = {}\n",
    "    for elem in dft_ams_folders:\n",
    "        dft_ams_dict[elem.parent.name] = (\n",
    "            HARTREE2KCAL * get_energies(paths=[elem], pattern=\"current energy\")[0]\n",
    "        )\n",
    "    dft_ams_dict[\"delta_Cp\"] = dft_ams_dict[\"CrCp2+\"] - dft_ams_dict[\"CrCp2\"]\n",
    "    dft_ams_dict[\"delta_Lu\"] = dft_ams_dict[\"Lu\"] - dft_ams_dict[\"LuH+\"]\n",
    "\n",
    "    dft_ams_folders = (path / \"parts_orca\").rglob(\"*orca.out\")\n",
    "    dft_ams_dict = {}\n",
    "    for elem in dft_ams_folders:\n",
    "        dft_ams_dict[elem.parent.name] = (\n",
    "                HARTREE2KCAL * get_energies(paths=[elem], pattern=\"FINAL SINGLE POINT\")[0]\n",
    "        )\n",
    "    dft_ams_dict[\"delta_Cp\"] = dft_ams_dict[\"CrCp2+\"] - dft_ams_dict[\"CrCp2\"]\n",
    "    dft_ams_dict[\"delta_Lu\"] = dft_ams_dict[\"Lu\"] - dft_ams_dict[\"LuH+\"]\n",
    "\n",
    "    with open(dict1_path, \"w\") as fp:\n",
    "        json.dump(gfn1_dict, fp)\n",
    "    with open(dict2_path, \"w\") as fp:\n",
    "        json.dump(gfn2_dict, fp)\n",
    "    with open(dict3_path, \"w\") as fp:\n",
    "        json.dump(dft_ams_dict, fp)\n",
    "    with open(dict4_path, \"w\") as fp:\n",
    "        json.dump(dft_orca_dict, fp)\n",
    "\n",
    "    return gfn1_dict, gfn2_dict, dft_ams_dict, dft_ams_dict"
   ]
  },
  {
   "cell_type": "code",
   "execution_count": 3,
   "id": "f18f4538-3276-4dbf-8632-ce84262b1547",
   "metadata": {},
   "outputs": [],
   "source": [
    "(\n",
    "        reactions_gfn1_corrected,\n",
    "        reactions_gfn2_corrected,\n",
    "        reactions_dft_ams_tzp,\n",
    "        reactions_dft_orca_tzp,\n",
    "    ) = get_energy_dicts()"
   ]
  },
  {
   "cell_type": "code",
   "execution_count": 4,
   "id": "8f68f648-e79b-42f6-a8c0-43c26b712e23",
   "metadata": {},
   "outputs": [
    {
     "data": {
      "text/plain": [
       "{'N2': -68745.86604206839,\n",
       " 'LuH+': -205372.4092126641,\n",
       " 'Lu': -205110.45920451736,\n",
       " 'H2': -731.7751548361912,\n",
       " 'CrCp2+': -1150967.7260743862,\n",
       " 'NH3': -35493.542519196264,\n",
       " 'CrCp2': -1151066.3300395126,\n",
       " 'delta_Cp': 98.60396512644365,\n",
       " 'delta_Lu': 261.95000814672676}"
      ]
     },
     "execution_count": 4,
     "metadata": {},
     "output_type": "execute_result"
    }
   ],
   "source": [
    "reactions_dft_orca_tzp"
   ]
  },
  {
   "cell_type": "code",
   "execution_count": 5,
   "id": "aab45cf3-641c-464a-99a6-a77928c4afd0",
   "metadata": {},
   "outputs": [],
   "source": [
    "eV = 27.2114\n",
    "kcal = 627.51"
   ]
  },
  {
   "cell_type": "markdown",
   "id": "8bf8dc79-9b93-49ff-a5d4-ead8681ba38e",
   "metadata": {},
   "source": [
    "# Singlepoint from GA analysis (before ind was saved)"
   ]
  },
  {
   "cell_type": "code",
   "execution_count": 6,
   "id": "108aa271-a7ec-4107-acc4-32102359f6fc",
   "metadata": {},
   "outputs": [],
   "source": [
    "def extract_energyxtb(logfile=None):\n",
    "    \"\"\"\n",
    "    Extracts xtb energies from xtb logfile using regex matching.\n",
    "\n",
    "    Args:\n",
    "        logfile (str): Specifies logfile to pull energy from\n",
    "\n",
    "    Returns:\n",
    "        energy (List[float]): List of floats containing the energy in each step\n",
    "    \"\"\"\n",
    "\n",
    "    re_energy = re.compile(\"energy: (-\\\\d+\\\\.\\\\d+)\")\n",
    "    energy = []\n",
    "    with logfile.open() as f:\n",
    "        for line in f:\n",
    "            if \"energy\" in line:\n",
    "                energy.append(float(re_energy.search(line).groups()[0]))\n",
    "    return energy"
   ]
  },
  {
   "cell_type": "code",
   "execution_count": 7,
   "id": "d4195b35-8e2d-4ea3-a3f9-5debfa547915",
   "metadata": {},
   "outputs": [],
   "source": [
    "def read_properties_sp(logfile):\n",
    "    \"\"\"\n",
    "    Read Singlepoint Energy\n",
    "    \"\"\"\n",
    "    with logfile.open() as f:\n",
    "    \n",
    "        for line in f:\n",
    "            if \"FINAL SINGLE POINT ENERGY\" in line:\n",
    "                scf_energy = float(line.split()[4])\n",
    "                break\n",
    "            else:\n",
    "                scf_energy = None\n",
    "\n",
    "    return scf_energy"
   ]
  },
  {
   "cell_type": "code",
   "execution_count": 8,
   "id": "edc4421c-a17d-42fa-8dce-5d79bdcd8f89",
   "metadata": {},
   "outputs": [],
   "source": [
    "logfile = Path('/home/magstr/dft_data/debug/')"
   ]
  },
  {
   "cell_type": "code",
   "execution_count": 9,
   "id": "53809b43-1261-4a74-93a7-0c2a22ad0ad4",
   "metadata": {},
   "outputs": [],
   "source": [
    "f = sorted(logfile.glob('*'))"
   ]
  },
  {
   "cell_type": "code",
   "execution_count": 10,
   "id": "f64341f6-dd94-4acc-975e-071b48836bc3",
   "metadata": {},
   "outputs": [
    {
     "data": {
      "text/plain": [
       "[PosixPath('/home/magstr/dft_data/debug/14_18_Mo_N2'),\n",
       " PosixPath('/home/magstr/dft_data/debug/14_18_Mo_NH3'),\n",
       " PosixPath('/home/magstr/dft_data/debug/19_32_Mo_N2'),\n",
       " PosixPath('/home/magstr/dft_data/debug/19_32_Mo_NH3'),\n",
       " PosixPath('/home/magstr/dft_data/debug/28_28_Mo_N2'),\n",
       " PosixPath('/home/magstr/dft_data/debug/28_28_Mo_NH3'),\n",
       " PosixPath('/home/magstr/dft_data/debug/2_3_Mo_N2'),\n",
       " PosixPath('/home/magstr/dft_data/debug/2_3_Mo_NH3'),\n",
       " PosixPath('/home/magstr/dft_data/debug/42_26_Mo_N2'),\n",
       " PosixPath('/home/magstr/dft_data/debug/42_26_Mo_NH3'),\n",
       " PosixPath('/home/magstr/dft_data/debug/47_21_Mo_N2'),\n",
       " PosixPath('/home/magstr/dft_data/debug/47_21_Mo_NH3'),\n",
       " PosixPath('/home/magstr/dft_data/debug/47_39_Mo_N2'),\n",
       " PosixPath('/home/magstr/dft_data/debug/47_39_Mo_NH3'),\n",
       " PosixPath('/home/magstr/dft_data/debug/4_20_Mo_N2'),\n",
       " PosixPath('/home/magstr/dft_data/debug/4_20_Mo_NH3'),\n",
       " PosixPath('/home/magstr/dft_data/debug/4_34_Mo_N2'),\n",
       " PosixPath('/home/magstr/dft_data/debug/4_34_Mo_NH3'),\n",
       " PosixPath('/home/magstr/dft_data/debug/6_1_Mo_N2'),\n",
       " PosixPath('/home/magstr/dft_data/debug/6_1_Mo_NH3'),\n",
       " PosixPath('/home/magstr/dft_data/debug/7_12_Mo_N2'),\n",
       " PosixPath('/home/magstr/dft_data/debug/7_12_Mo_NH3')]"
      ]
     },
     "execution_count": 10,
     "metadata": {},
     "output_type": "execute_result"
    }
   ],
   "source": [
    "f"
   ]
  },
  {
   "cell_type": "code",
   "execution_count": 11,
   "id": "334854a3-9c33-4ae9-940b-3f42abfe4554",
   "metadata": {},
   "outputs": [],
   "source": [
    "a = f[::2]"
   ]
  },
  {
   "cell_type": "code",
   "execution_count": 12,
   "id": "ff673fb7-a4ba-4856-a6b3-703c0e772f0b",
   "metadata": {},
   "outputs": [
    {
     "name": "stdout",
     "output_type": "stream",
     "text": [
      "[PosixPath('/home/magstr/dft_data/debug/14_18_Mo_N2/orca.out')] [PosixPath('/home/magstr/dft_data/debug/14_18_Mo_NH3/orca.out')]\n",
      "-7016.359843464012 -6963.405714742332\n",
      "23.07820873055607\n",
      "[PosixPath('/home/magstr/dft_data/debug/19_32_Mo_N2/orca.out')] [PosixPath('/home/magstr/dft_data/debug/19_32_Mo_NH3/orca.out')]\n",
      "-6443.313093725846 -6390.341023486578\n",
      "11.81972702872008\n",
      "[PosixPath('/home/magstr/dft_data/debug/28_28_Mo_N2/orca.out')] [PosixPath('/home/magstr/dft_data/debug/28_28_Mo_NH3/orca.out')]\n",
      "-6561.18891849947 -6508.252362592815\n",
      "34.1053258869797\n",
      "[PosixPath('/home/magstr/dft_data/debug/2_3_Mo_N2/orca.out')] [PosixPath('/home/magstr/dft_data/debug/2_3_Mo_NH3/orca.out')]\n",
      "-6218.387689385174 -6165.423881765083\n",
      "17.004603188484907\n",
      "[PosixPath('/home/magstr/dft_data/debug/42_26_Mo_N2/orca.out')] [PosixPath('/home/magstr/dft_data/debug/42_26_Mo_NH3/orca.out')]\n",
      "-6210.741189121704 -6158.147213690062\n",
      "249.07799976179376\n",
      "[PosixPath('/home/magstr/dft_data/debug/47_21_Mo_N2/orca.out')] [PosixPath('/home/magstr/dft_data/debug/47_21_Mo_NH3/orca.out')]\n",
      "-6796.988250940793 -6744.038866873927\n",
      "26.055527073331177\n",
      "[PosixPath('/home/magstr/dft_data/debug/47_39_Mo_N2/orca.out')] [PosixPath('/home/magstr/dft_data/debug/47_39_Mo_NH3/orca.out')]\n",
      "-7410.466177746216 -7357.093936048419\n",
      "-239.29186491202563\n",
      "[PosixPath('/home/magstr/dft_data/debug/4_20_Mo_N2/orca.out')] [PosixPath('/home/magstr/dft_data/debug/4_20_Mo_NH3/orca.out')]\n",
      "-6634.321194678613 -6581.370677473463\n",
      "25.3444714685902\n",
      "[PosixPath('/home/magstr/dft_data/debug/4_34_Mo_N2/orca.out')] [PosixPath('/home/magstr/dft_data/debug/4_34_Mo_NH3/orca.out')]\n",
      "-5761.167437909946 -5708.212514349954\n",
      "22.579439741559327\n",
      "[PosixPath('/home/magstr/dft_data/debug/6_1_Mo_N2/orca.out')] [PosixPath('/home/magstr/dft_data/debug/6_1_Mo_NH3/orca.out')]\n",
      "-6454.16755938573 -6401.203324368365\n",
      "16.736407125368714\n",
      "[PosixPath('/home/magstr/dft_data/debug/7_12_Mo_N2/orca.out')] [PosixPath('/home/magstr/dft_data/debug/7_12_Mo_NH3/orca.out')]\n",
      "-6572.053498576171 -6519.084766040087\n",
      "13.914169153664261\n"
     ]
    }
   ],
   "source": [
    "for elem in a:\n",
    "    a = sorted(logfile.glob(f'{elem.name[0:4]}*'))\n",
    "    \n",
    "    p1 = sorted(a[0].glob('*orca.out'))\n",
    "    p2 = sorted(a[1].glob('*orca.out'))\n",
    "    print(p1,p2)\n",
    "    \n",
    "    N2 = read_properties_sp(p1[0])\n",
    "    NH3 = read_properties_sp(p2[0])\n",
    "    print(N2,NH3)\n",
    "    \n",
    "    delta = ((N2*kcal+reactions_dft_orca_tzp['NH3'])-(NH3*kcal+reactions_dft_orca_tzp['N2']))\n",
    "    print(delta)"
   ]
  },
  {
   "cell_type": "code",
   "execution_count": 13,
   "id": "d82cf131-7c5f-48b3-9047-408047206a83",
   "metadata": {},
   "outputs": [
    {
     "ename": "NameError",
     "evalue": "name 'orca_files' is not defined",
     "output_type": "error",
     "traceback": [
      "\u001b[0;31m---------------------------------------------------------------------------\u001b[0m",
      "\u001b[0;31mNameError\u001b[0m                                 Traceback (most recent call last)",
      "\u001b[0;32m/tmp/ipykernel_7399/3473754370.py\u001b[0m in \u001b[0;36m<module>\u001b[0;34m\u001b[0m\n\u001b[0;32m----> 1\u001b[0;31m \u001b[0morca_files\u001b[0m\u001b[0;34m[\u001b[0m\u001b[0;36m0\u001b[0m\u001b[0;34m]\u001b[0m\u001b[0;34m.\u001b[0m\u001b[0mparent\u001b[0m\u001b[0;34m\u001b[0m\u001b[0;34m\u001b[0m\u001b[0m\n\u001b[0m",
      "\u001b[0;31mNameError\u001b[0m: name 'orca_files' is not defined"
     ]
    }
   ],
   "source": [
    "orca_files[0].parent"
   ]
  },
  {
   "cell_type": "code",
   "execution_count": 14,
   "id": "2af8bbb3-2040-43ea-ad88-516d872027cc",
   "metadata": {},
   "outputs": [
    {
     "ename": "IsADirectoryError",
     "evalue": "[Errno 21] Is a directory: '/home/magstr/dft_data/debug'",
     "output_type": "error",
     "traceback": [
      "\u001b[0;31m---------------------------------------------------------------------------\u001b[0m",
      "\u001b[0;31mIsADirectoryError\u001b[0m                         Traceback (most recent call last)",
      "\u001b[0;32m/tmp/ipykernel_7399/2855996481.py\u001b[0m in \u001b[0;36m<module>\u001b[0;34m\u001b[0m\n\u001b[0;32m----> 1\u001b[0;31m \u001b[0mread_properties_sp\u001b[0m\u001b[0;34m(\u001b[0m\u001b[0mlogfile\u001b[0m\u001b[0;34m)\u001b[0m\u001b[0;34m\u001b[0m\u001b[0;34m\u001b[0m\u001b[0m\n\u001b[0m",
      "\u001b[0;32m/tmp/ipykernel_7399/1106721127.py\u001b[0m in \u001b[0;36mread_properties_sp\u001b[0;34m(logfile)\u001b[0m\n\u001b[1;32m      3\u001b[0m     \u001b[0mRead\u001b[0m \u001b[0mSinglepoint\u001b[0m \u001b[0mEnergy\u001b[0m\u001b[0;34m\u001b[0m\u001b[0;34m\u001b[0m\u001b[0m\n\u001b[1;32m      4\u001b[0m     \"\"\"\n\u001b[0;32m----> 5\u001b[0;31m     \u001b[0;32mwith\u001b[0m \u001b[0mlogfile\u001b[0m\u001b[0;34m.\u001b[0m\u001b[0mopen\u001b[0m\u001b[0;34m(\u001b[0m\u001b[0;34m)\u001b[0m \u001b[0;32mas\u001b[0m \u001b[0mf\u001b[0m\u001b[0;34m:\u001b[0m\u001b[0;34m\u001b[0m\u001b[0;34m\u001b[0m\u001b[0m\n\u001b[0m\u001b[1;32m      6\u001b[0m \u001b[0;34m\u001b[0m\u001b[0m\n\u001b[1;32m      7\u001b[0m         \u001b[0;32mfor\u001b[0m \u001b[0mline\u001b[0m \u001b[0;32min\u001b[0m \u001b[0mf\u001b[0m\u001b[0;34m:\u001b[0m\u001b[0;34m\u001b[0m\u001b[0;34m\u001b[0m\u001b[0m\n",
      "\u001b[0;32m~/miniconda3/envs/mols_test/lib/python3.7/pathlib.py\u001b[0m in \u001b[0;36mopen\u001b[0;34m(self, mode, buffering, encoding, errors, newline)\u001b[0m\n\u001b[1;32m   1206\u001b[0m             \u001b[0mself\u001b[0m\u001b[0;34m.\u001b[0m\u001b[0m_raise_closed\u001b[0m\u001b[0;34m(\u001b[0m\u001b[0;34m)\u001b[0m\u001b[0;34m\u001b[0m\u001b[0;34m\u001b[0m\u001b[0m\n\u001b[1;32m   1207\u001b[0m         return io.open(self, mode, buffering, encoding, errors, newline,\n\u001b[0;32m-> 1208\u001b[0;31m                        opener=self._opener)\n\u001b[0m\u001b[1;32m   1209\u001b[0m \u001b[0;34m\u001b[0m\u001b[0m\n\u001b[1;32m   1210\u001b[0m     \u001b[0;32mdef\u001b[0m \u001b[0mread_bytes\u001b[0m\u001b[0;34m(\u001b[0m\u001b[0mself\u001b[0m\u001b[0;34m)\u001b[0m\u001b[0;34m:\u001b[0m\u001b[0;34m\u001b[0m\u001b[0;34m\u001b[0m\u001b[0m\n",
      "\u001b[0;31mIsADirectoryError\u001b[0m: [Errno 21] Is a directory: '/home/magstr/dft_data/debug'"
     ]
    }
   ],
   "source": [
    "read_properties_sp(logfile)"
   ]
  },
  {
   "cell_type": "code",
   "execution_count": 15,
   "id": "38ad9027-ecb1-4660-bb99-f161085005b9",
   "metadata": {},
   "outputs": [],
   "source": [
    "files = sorted(logfile.rglob('*.xyz'))"
   ]
  },
  {
   "cell_type": "code",
   "execution_count": 16,
   "id": "c353ec00-4370-4de0-a4b9-c4e3d55a747b",
   "metadata": {},
   "outputs": [
    {
     "data": {
      "text/plain": [
       "[-199.090144399448]"
      ]
     },
     "execution_count": 16,
     "metadata": {},
     "output_type": "execute_result"
    }
   ],
   "source": [
    "extract_energyxtb(files[0])"
   ]
  },
  {
   "cell_type": "code",
   "execution_count": 17,
   "id": "8fbafe82-cc30-4b64-b519-7e8593511430",
   "metadata": {},
   "outputs": [
    {
     "ename": "NameError",
     "evalue": "name 'reactions_dft_tzp' is not defined",
     "output_type": "error",
     "traceback": [
      "\u001b[0;31m---------------------------------------------------------------------------\u001b[0m",
      "\u001b[0;31mNameError\u001b[0m                                 Traceback (most recent call last)",
      "\u001b[0;32m/tmp/ipykernel_7399/3537655198.py\u001b[0m in \u001b[0;36m<module>\u001b[0;34m\u001b[0m\n\u001b[0;32m----> 1\u001b[0;31m \u001b[0mdelta\u001b[0m \u001b[0;34m=\u001b[0m \u001b[0;34m(\u001b[0m\u001b[0;34m(\u001b[0m\u001b[0mN2\u001b[0m\u001b[0;34m*\u001b[0m\u001b[0mkcal\u001b[0m\u001b[0;34m+\u001b[0m\u001b[0mreactions_dft_tzp\u001b[0m\u001b[0;34m[\u001b[0m\u001b[0;34m'NH3'\u001b[0m\u001b[0;34m]\u001b[0m\u001b[0;34m)\u001b[0m\u001b[0;34m-\u001b[0m\u001b[0;34m(\u001b[0m\u001b[0mNH3\u001b[0m\u001b[0;34m*\u001b[0m\u001b[0mkcal\u001b[0m\u001b[0;34m+\u001b[0m\u001b[0mreactions_dft_tzp\u001b[0m\u001b[0;34m[\u001b[0m\u001b[0;34m'N2_en'\u001b[0m\u001b[0;34m]\u001b[0m\u001b[0;34m)\u001b[0m\u001b[0;34m)\u001b[0m\u001b[0;34m\u001b[0m\u001b[0;34m\u001b[0m\u001b[0m\n\u001b[0m",
      "\u001b[0;31mNameError\u001b[0m: name 'reactions_dft_tzp' is not defined"
     ]
    }
   ],
   "source": [
    "delta = ((N2*kcal+reactions_dft_tzp['NH3'])-(NH3*kcal+reactions_dft_tzp['N2_en']))"
   ]
  },
  {
   "cell_type": "code",
   "execution_count": 18,
   "id": "d908c747-bc19-426a-99fb-36528204eb43",
   "metadata": {},
   "outputs": [
    {
     "ename": "NameError",
     "evalue": "name 'df_total' is not defined",
     "output_type": "error",
     "traceback": [
      "\u001b[0;31m---------------------------------------------------------------------------\u001b[0m",
      "\u001b[0;31mNameError\u001b[0m                                 Traceback (most recent call last)",
      "\u001b[0;32m/tmp/ipykernel_7399/3418503732.py\u001b[0m in \u001b[0;36m<module>\u001b[0;34m\u001b[0m\n\u001b[1;32m      1\u001b[0m \u001b[0mfig\u001b[0m\u001b[0;34m,\u001b[0m \u001b[0max\u001b[0m \u001b[0;34m=\u001b[0m \u001b[0mplt\u001b[0m\u001b[0;34m.\u001b[0m\u001b[0msubplots\u001b[0m\u001b[0;34m(\u001b[0m\u001b[0mfigsize\u001b[0m\u001b[0;34m=\u001b[0m\u001b[0;34m(\u001b[0m\u001b[0;36m12\u001b[0m\u001b[0;34m,\u001b[0m \u001b[0;36m8\u001b[0m\u001b[0;34m)\u001b[0m\u001b[0;34m)\u001b[0m\u001b[0;34m\u001b[0m\u001b[0;34m\u001b[0m\u001b[0m\n\u001b[0;32m----> 2\u001b[0;31m \u001b[0mdf_total\u001b[0m\u001b[0;34m[\u001b[0m\u001b[0;34m[\u001b[0m\u001b[0;34m'score'\u001b[0m\u001b[0;34m,\u001b[0m\u001b[0;34m'DFT'\u001b[0m\u001b[0;34m]\u001b[0m\u001b[0;34m]\u001b[0m\u001b[0;34m.\u001b[0m\u001b[0mplot\u001b[0m\u001b[0;34m.\u001b[0m\u001b[0mbar\u001b[0m\u001b[0;34m(\u001b[0m\u001b[0max\u001b[0m\u001b[0;34m=\u001b[0m\u001b[0max\u001b[0m\u001b[0;34m)\u001b[0m\u001b[0;34m;\u001b[0m\u001b[0;34m\u001b[0m\u001b[0;34m\u001b[0m\u001b[0m\n\u001b[0m\u001b[1;32m      3\u001b[0m \u001b[0max\u001b[0m\u001b[0;34m.\u001b[0m\u001b[0mset\u001b[0m\u001b[0;34m(\u001b[0m\u001b[0mylabel\u001b[0m\u001b[0;34m=\u001b[0m\u001b[0;34m'kcal/mol *'\u001b[0m\u001b[0;34m)\u001b[0m\u001b[0;34m\u001b[0m\u001b[0;34m\u001b[0m\u001b[0m\n\u001b[1;32m      4\u001b[0m \u001b[0;32mfor\u001b[0m \u001b[0mcontainer\u001b[0m \u001b[0;32min\u001b[0m \u001b[0max\u001b[0m\u001b[0;34m.\u001b[0m\u001b[0mcontainers\u001b[0m\u001b[0;34m:\u001b[0m\u001b[0;34m\u001b[0m\u001b[0;34m\u001b[0m\u001b[0m\n\u001b[1;32m      5\u001b[0m     \u001b[0max\u001b[0m\u001b[0;34m.\u001b[0m\u001b[0mbar_label\u001b[0m\u001b[0;34m(\u001b[0m\u001b[0mcontainer\u001b[0m\u001b[0;34m)\u001b[0m\u001b[0;34m\u001b[0m\u001b[0;34m\u001b[0m\u001b[0m\n",
      "\u001b[0;31mNameError\u001b[0m: name 'df_total' is not defined"
     ]
    },
    {
     "data": {
      "image/png": "[encoded data removed]",
      "text/plain": [
       "<Figure size 864x576 with 1 Axes>"
      ]
     },
     "metadata": {
      "needs_background": "light"
     },
     "output_type": "display_data"
    }
   ],
   "source": [
    "fig, ax = plt.subplots(figsize=(12, 8))\n",
    "df_total[['score','DFT']].plot.bar(ax=ax);\n",
    "ax.set(ylabel='kcal/mol *')\n",
    "for container in ax.containers:\n",
    "    ax.bar_label(container)\n",
    "fig.tight_layout()\n",
    "fig.savefig('singlepoints.png')"
   ]
  },
  {
   "cell_type": "markdown",
   "id": "94d6cffb-8188-4bdc-9d14-961dae97b90f",
   "metadata": {
    "tags": []
   },
   "source": [
    "# Singlepoint from GA analysis"
   ]
  },
  {
   "cell_type": "code",
   "execution_count": 19,
   "id": "19e2e597-d38c-4ace-818c-5b77300dca40",
   "metadata": {},
   "outputs": [],
   "source": [
    "logfile = [Path('/home/magstr/dft_data/prod_new12_0')]"
   ]
  },
  {
   "cell_type": "code",
   "execution_count": 60,
   "id": "f3ec698e-d557-4cd9-97bd-f132aece2053",
   "metadata": {},
   "outputs": [
    {
     "ename": "AttributeError",
     "evalue": "'list' object has no attribute 'glob'",
     "output_type": "error",
     "traceback": [
      "\u001b[0;31m---------------------------------------------------------------------------\u001b[0m",
      "\u001b[0;31mAttributeError\u001b[0m                            Traceback (most recent call last)",
      "\u001b[0;32m/tmp/ipykernel_543763/633748338.py\u001b[0m in \u001b[0;36m<module>\u001b[0;34m\u001b[0m\n\u001b[0;32m----> 1\u001b[0;31m \u001b[0mf\u001b[0m \u001b[0;34m=\u001b[0m \u001b[0msorted\u001b[0m\u001b[0;34m(\u001b[0m\u001b[0mlogfile\u001b[0m\u001b[0;34m.\u001b[0m\u001b[0mglob\u001b[0m\u001b[0;34m(\u001b[0m\u001b[0;34m'*'\u001b[0m\u001b[0;34m)\u001b[0m\u001b[0;34m)\u001b[0m\u001b[0;34m\u001b[0m\u001b[0;34m\u001b[0m\u001b[0m\n\u001b[0m",
      "\u001b[0;31mAttributeError\u001b[0m: 'list' object has no attribute 'glob'"
     ]
    }
   ],
   "source": [
    "f = sorted(logfile.glob('*'))"
   ]
  },
  {
   "cell_type": "code",
   "execution_count": 50,
   "id": "a924d24c-b402-4417-9984-d89669d29845",
   "metadata": {},
   "outputs": [
    {
     "data": {
      "text/plain": [
       "[PosixPath('/home/magstr/dft_data/prod_new12_0/13_20'),\n",
       " PosixPath('/home/magstr/dft_data/prod_new12_0/14_24'),\n",
       " PosixPath('/home/magstr/dft_data/prod_new12_0/15_24'),\n",
       " PosixPath('/home/magstr/dft_data/prod_new12_0/15_6'),\n",
       " PosixPath('/home/magstr/dft_data/prod_new12_0/16_11'),\n",
       " PosixPath('/home/magstr/dft_data/prod_new12_0/16_29'),\n",
       " PosixPath('/home/magstr/dft_data/prod_new12_0/18_22'),\n",
       " PosixPath('/home/magstr/dft_data/prod_new12_0/26_35'),\n",
       " PosixPath('/home/magstr/dft_data/prod_new12_0/31_6'),\n",
       " PosixPath('/home/magstr/dft_data/prod_new12_0/37_12'),\n",
       " PosixPath('/home/magstr/dft_data/prod_new12_0/37_15'),\n",
       " PosixPath('/home/magstr/dft_data/prod_new12_0/47_36'),\n",
       " PosixPath('/home/magstr/dft_data/prod_new12_0/8_23'),\n",
       " PosixPath('/home/magstr/dft_data/prod_new12_0/9_25'),\n",
       " PosixPath('/home/magstr/dft_data/prod_new12_0/9_47')]"
      ]
     },
     "execution_count": 50,
     "metadata": {},
     "output_type": "execute_result"
    }
   ],
   "source": [
    "f"
   ]
  },
  {
   "cell_type": "code",
   "execution_count": 29,
   "id": "7bf2d0d7-4e66-4ac7-b719-3b39f699dc7a",
   "metadata": {},
   "outputs": [],
   "source": [
    "# Crucial code for unpickling objects with old module names\n",
    "class RenameUnpickler(pickle.Unpickler):\n",
    "    def find_class(self, module, name):\n",
    "        renamed_module = module\n",
    "        if module == \"my_utils.my_utils\":\n",
    "            renamed_module = \"my_utils.classes\"\n",
    "\n",
    "        return super(RenameUnpickler, self).find_class(renamed_module, name)\n",
    "\n",
    "\n",
    "def renamed_load(file_obj):\n",
    "    return RenameUnpickler(file_obj).load()\n",
    "\n",
    "\n",
    "def renamed_loads(pickled_bytes):\n",
    "    file_obj = io.BytesIO(pickled_bytes)\n",
    "    return renamed_load(file_obj)"
   ]
  },
  {
   "cell_type": "code",
   "execution_count": 30,
   "id": "c13c514a-4d01-413c-9c9f-25a75038219b",
   "metadata": {},
   "outputs": [
    {
     "ename": "SyntaxError",
     "evalue": "invalid syntax (454992533.py, line 8)",
     "output_type": "error",
     "traceback": [
      "\u001b[0;36m  File \u001b[0;32m\"/tmp/ipykernel_7399/454992533.py\"\u001b[0;36m, line \u001b[0;32m8\u001b[0m\n\u001b[0;31m    p2 = sorted(p_nh3.glob('*orca.out'))Jul\u001b[0m\n\u001b[0m                                          ^\u001b[0m\n\u001b[0;31mSyntaxError\u001b[0m\u001b[0;31m:\u001b[0m invalid syntax\n"
     ]
    }
   ],
   "source": [
    "inds = []\n",
    "deltas = []\n",
    "for elem in f:\n",
    "    p_nh3 = elem / 'Mo_NH3'\n",
    "    p_n2 = elem / 'Mo_N2'\n",
    "    \n",
    "    p1 = sorted(p_n2.glob('*orca.out'))\n",
    "    p2 = sorted(p_nh3.glob('*orca.out'))Jul\n",
    "    print(p1,p2)\n",
    "    \n",
    "    N2 = read_properties_sp(p1[0])\n",
    "    NH3 = read_properties_sp(p2[0])\n",
    "    if not (N2 or NH3):\n",
    "        delta = None\n",
    "    else:\n",
    "        delta = ((N2*kcal+reactions_dft_orca_tzp['NH3'])-(NH3*kcal+reactions_dft_orca_tzp['N2']))\n",
    "        #print(delta)\n",
    "    deltas.append(delta)\n",
    "    # Get the ind object \n",
    "    ind = sorted(elem.rglob('*ind.pkl'))[0]\n",
    "    \n",
    "    with open(ind, \"rb\") as f:\n",
    "        ind = renamed_load(f)\n",
    "        inds.append(ind)\n",
    "        \n",
    "    \n",
    "gen = Generation(molecules=inds)"
   ]
  },
  {
   "cell_type": "code",
   "execution_count": 31,
   "id": "732fbf50-58ab-4993-8158-c16cf4d7811d",
   "metadata": {},
   "outputs": [
    {
     "ename": "IndexError",
     "evalue": "list index out of range",
     "output_type": "error",
     "traceback": [
      "\u001b[0;31m---------------------------------------------------------------------------\u001b[0m",
      "\u001b[0;31mIndexError\u001b[0m                                Traceback (most recent call last)",
      "\u001b[0;32m/tmp/ipykernel_7399/3521647676.py\u001b[0m in \u001b[0;36m<module>\u001b[0;34m\u001b[0m\n\u001b[0;32m----> 1\u001b[0;31m \u001b[0minds\u001b[0m\u001b[0;34m[\u001b[0m\u001b[0;36m1\u001b[0m\u001b[0;34m]\u001b[0m\u001b[0;34m.\u001b[0m\u001b[0moriginal_mol\u001b[0m\u001b[0;34m\u001b[0m\u001b[0;34m\u001b[0m\u001b[0m\n\u001b[0m",
      "\u001b[0;31mIndexError\u001b[0m: list index out of range"
     ]
    }
   ],
   "source": [
    "inds[1].original_mol"
   ]
  },
  {
   "cell_type": "code",
   "execution_count": 32,
   "id": "5b62fb37-d869-41a7-80b6-52103221cba7",
   "metadata": {
    "tags": []
   },
   "outputs": [
    {
     "ename": "NameError",
     "evalue": "name 'gen' is not defined",
     "output_type": "error",
     "traceback": [
      "\u001b[0;31m---------------------------------------------------------------------------\u001b[0m",
      "\u001b[0;31mNameError\u001b[0m                                 Traceback (most recent call last)",
      "\u001b[0;32m/tmp/ipykernel_7399/970147568.py\u001b[0m in \u001b[0;36m<module>\u001b[0;34m\u001b[0m\n\u001b[0;32m----> 1\u001b[0;31m \u001b[0mdf\u001b[0m \u001b[0;34m=\u001b[0m \u001b[0mgen\u001b[0m\u001b[0;34m.\u001b[0m\u001b[0mgen2pd\u001b[0m\u001b[0;34m(\u001b[0m\u001b[0;34m)\u001b[0m\u001b[0;34m\u001b[0m\u001b[0;34m\u001b[0m\u001b[0m\n\u001b[0m\u001b[1;32m      2\u001b[0m \u001b[0mdf\u001b[0m\u001b[0;34m[\u001b[0m\u001b[0;34m'DFT'\u001b[0m\u001b[0;34m]\u001b[0m \u001b[0;34m=\u001b[0m \u001b[0mdeltas\u001b[0m\u001b[0;34m\u001b[0m\u001b[0;34m\u001b[0m\u001b[0m\n\u001b[1;32m      3\u001b[0m \u001b[0mdf\u001b[0m\u001b[0;34m[\u001b[0m\u001b[0;34m'score'\u001b[0m\u001b[0;34m]\u001b[0m \u001b[0;34m=\u001b[0m \u001b[0mdf\u001b[0m\u001b[0;34m[\u001b[0m\u001b[0;34m'score'\u001b[0m\u001b[0;34m]\u001b[0m\u001b[0;34m.\u001b[0m\u001b[0mapply\u001b[0m\u001b[0;34m(\u001b[0m\u001b[0;32mlambda\u001b[0m \u001b[0mx\u001b[0m\u001b[0;34m:\u001b[0m \u001b[0mround\u001b[0m\u001b[0;34m(\u001b[0m\u001b[0mx\u001b[0m\u001b[0;34m,\u001b[0m \u001b[0;36m1\u001b[0m\u001b[0;34m)\u001b[0m\u001b[0;34m)\u001b[0m\u001b[0;34m\u001b[0m\u001b[0;34m\u001b[0m\u001b[0m\n\u001b[1;32m      4\u001b[0m \u001b[0mdf\u001b[0m\u001b[0;34m[\u001b[0m\u001b[0;34m'DFT'\u001b[0m\u001b[0;34m]\u001b[0m \u001b[0;34m=\u001b[0m \u001b[0mdf\u001b[0m\u001b[0;34m[\u001b[0m\u001b[0;34m'DFT'\u001b[0m\u001b[0;34m]\u001b[0m\u001b[0;34m.\u001b[0m\u001b[0mapply\u001b[0m\u001b[0;34m(\u001b[0m\u001b[0;32mlambda\u001b[0m \u001b[0mx\u001b[0m\u001b[0;34m:\u001b[0m \u001b[0mround\u001b[0m\u001b[0;34m(\u001b[0m\u001b[0mx\u001b[0m\u001b[0;34m,\u001b[0m \u001b[0;36m1\u001b[0m\u001b[0;34m)\u001b[0m\u001b[0;34m)\u001b[0m\u001b[0;34m\u001b[0m\u001b[0;34m\u001b[0m\u001b[0m\n\u001b[1;32m      5\u001b[0m \u001b[0mdf\u001b[0m\u001b[0;34m.\u001b[0m\u001b[0msort_values\u001b[0m\u001b[0;34m(\u001b[0m\u001b[0mby\u001b[0m\u001b[0;34m=\u001b[0m\u001b[0;34m[\u001b[0m\u001b[0;34m'score'\u001b[0m\u001b[0;34m]\u001b[0m\u001b[0;34m,\u001b[0m \u001b[0minplace\u001b[0m\u001b[0;34m=\u001b[0m\u001b[0;32mTrue\u001b[0m\u001b[0;34m)\u001b[0m\u001b[0;34m\u001b[0m\u001b[0;34m\u001b[0m\u001b[0m\n",
      "\u001b[0;31mNameError\u001b[0m: name 'gen' is not defined"
     ]
    }
   ],
   "source": [
    "df = gen.gen2pd()\n",
    "df['DFT'] = deltas\n",
    "df['score'] = df['score'].apply(lambda x: round(x, 1))\n",
    "df['DFT'] = df['DFT'].apply(lambda x: round(x, 1))\n",
    "df.sort_values(by=['score'], inplace=True)\n",
    "df"
   ]
  },
  {
   "cell_type": "code",
   "execution_count": 33,
   "id": "29d359c7-c2bc-4195-9e68-5bfc1f9a8474",
   "metadata": {},
   "outputs": [
    {
     "ename": "IndexError",
     "evalue": "single positional indexer is out-of-bounds",
     "output_type": "error",
     "traceback": [
      "\u001b[0;31m---------------------------------------------------------------------------\u001b[0m",
      "\u001b[0;31mIndexError\u001b[0m                                Traceback (most recent call last)",
      "\u001b[0;32m/tmp/ipykernel_7399/3094195611.py\u001b[0m in \u001b[0;36m<module>\u001b[0;34m\u001b[0m\n\u001b[0;32m----> 1\u001b[0;31m \u001b[0mdf\u001b[0m\u001b[0;34m.\u001b[0m\u001b[0miloc\u001b[0m\u001b[0;34m[\u001b[0m\u001b[0;36m1\u001b[0m\u001b[0;34m]\u001b[0m\u001b[0;34m\u001b[0m\u001b[0;34m\u001b[0m\u001b[0m\n\u001b[0m",
      "\u001b[0;32m~/miniconda3/envs/mols_test/lib/python3.7/site-packages/pandas/core/indexing.py\u001b[0m in \u001b[0;36m__getitem__\u001b[0;34m(self, key)\u001b[0m\n\u001b[1;32m    929\u001b[0m \u001b[0;34m\u001b[0m\u001b[0m\n\u001b[1;32m    930\u001b[0m             \u001b[0mmaybe_callable\u001b[0m \u001b[0;34m=\u001b[0m \u001b[0mcom\u001b[0m\u001b[0;34m.\u001b[0m\u001b[0mapply_if_callable\u001b[0m\u001b[0;34m(\u001b[0m\u001b[0mkey\u001b[0m\u001b[0;34m,\u001b[0m \u001b[0mself\u001b[0m\u001b[0;34m.\u001b[0m\u001b[0mobj\u001b[0m\u001b[0;34m)\u001b[0m\u001b[0;34m\u001b[0m\u001b[0;34m\u001b[0m\u001b[0m\n\u001b[0;32m--> 931\u001b[0;31m             \u001b[0;32mreturn\u001b[0m \u001b[0mself\u001b[0m\u001b[0;34m.\u001b[0m\u001b[0m_getitem_axis\u001b[0m\u001b[0;34m(\u001b[0m\u001b[0mmaybe_callable\u001b[0m\u001b[0;34m,\u001b[0m \u001b[0maxis\u001b[0m\u001b[0;34m=\u001b[0m\u001b[0maxis\u001b[0m\u001b[0;34m)\u001b[0m\u001b[0;34m\u001b[0m\u001b[0;34m\u001b[0m\u001b[0m\n\u001b[0m\u001b[1;32m    932\u001b[0m \u001b[0;34m\u001b[0m\u001b[0m\n\u001b[1;32m    933\u001b[0m     \u001b[0;32mdef\u001b[0m \u001b[0m_is_scalar_access\u001b[0m\u001b[0;34m(\u001b[0m\u001b[0mself\u001b[0m\u001b[0;34m,\u001b[0m \u001b[0mkey\u001b[0m\u001b[0;34m:\u001b[0m \u001b[0mtuple\u001b[0m\u001b[0;34m)\u001b[0m\u001b[0;34m:\u001b[0m\u001b[0;34m\u001b[0m\u001b[0;34m\u001b[0m\u001b[0m\n",
      "\u001b[0;32m~/miniconda3/envs/mols_test/lib/python3.7/site-packages/pandas/core/indexing.py\u001b[0m in \u001b[0;36m_getitem_axis\u001b[0;34m(self, key, axis)\u001b[0m\n\u001b[1;32m   1564\u001b[0m \u001b[0;34m\u001b[0m\u001b[0m\n\u001b[1;32m   1565\u001b[0m             \u001b[0;31m# validate the location\u001b[0m\u001b[0;34m\u001b[0m\u001b[0;34m\u001b[0m\u001b[0;34m\u001b[0m\u001b[0m\n\u001b[0;32m-> 1566\u001b[0;31m             \u001b[0mself\u001b[0m\u001b[0;34m.\u001b[0m\u001b[0m_validate_integer\u001b[0m\u001b[0;34m(\u001b[0m\u001b[0mkey\u001b[0m\u001b[0;34m,\u001b[0m \u001b[0maxis\u001b[0m\u001b[0;34m)\u001b[0m\u001b[0;34m\u001b[0m\u001b[0;34m\u001b[0m\u001b[0m\n\u001b[0m\u001b[1;32m   1567\u001b[0m \u001b[0;34m\u001b[0m\u001b[0m\n\u001b[1;32m   1568\u001b[0m             \u001b[0;32mreturn\u001b[0m \u001b[0mself\u001b[0m\u001b[0;34m.\u001b[0m\u001b[0mobj\u001b[0m\u001b[0;34m.\u001b[0m\u001b[0m_ixs\u001b[0m\u001b[0;34m(\u001b[0m\u001b[0mkey\u001b[0m\u001b[0;34m,\u001b[0m \u001b[0maxis\u001b[0m\u001b[0;34m=\u001b[0m\u001b[0maxis\u001b[0m\u001b[0;34m)\u001b[0m\u001b[0;34m\u001b[0m\u001b[0;34m\u001b[0m\u001b[0m\n",
      "\u001b[0;32m~/miniconda3/envs/mols_test/lib/python3.7/site-packages/pandas/core/indexing.py\u001b[0m in \u001b[0;36m_validate_integer\u001b[0;34m(self, key, axis)\u001b[0m\n\u001b[1;32m   1498\u001b[0m         \u001b[0mlen_axis\u001b[0m \u001b[0;34m=\u001b[0m \u001b[0mlen\u001b[0m\u001b[0;34m(\u001b[0m\u001b[0mself\u001b[0m\u001b[0;34m.\u001b[0m\u001b[0mobj\u001b[0m\u001b[0;34m.\u001b[0m\u001b[0m_get_axis\u001b[0m\u001b[0;34m(\u001b[0m\u001b[0maxis\u001b[0m\u001b[0;34m)\u001b[0m\u001b[0;34m)\u001b[0m\u001b[0;34m\u001b[0m\u001b[0;34m\u001b[0m\u001b[0m\n\u001b[1;32m   1499\u001b[0m         \u001b[0;32mif\u001b[0m \u001b[0mkey\u001b[0m \u001b[0;34m>=\u001b[0m \u001b[0mlen_axis\u001b[0m \u001b[0;32mor\u001b[0m \u001b[0mkey\u001b[0m \u001b[0;34m<\u001b[0m \u001b[0;34m-\u001b[0m\u001b[0mlen_axis\u001b[0m\u001b[0;34m:\u001b[0m\u001b[0;34m\u001b[0m\u001b[0;34m\u001b[0m\u001b[0m\n\u001b[0;32m-> 1500\u001b[0;31m             \u001b[0;32mraise\u001b[0m \u001b[0mIndexError\u001b[0m\u001b[0;34m(\u001b[0m\u001b[0;34m\"single positional indexer is out-of-bounds\"\u001b[0m\u001b[0;34m)\u001b[0m\u001b[0;34m\u001b[0m\u001b[0;34m\u001b[0m\u001b[0m\n\u001b[0m\u001b[1;32m   1501\u001b[0m \u001b[0;34m\u001b[0m\u001b[0m\n\u001b[1;32m   1502\u001b[0m     \u001b[0;31m# -------------------------------------------------------------------\u001b[0m\u001b[0;34m\u001b[0m\u001b[0;34m\u001b[0m\u001b[0;34m\u001b[0m\u001b[0m\n",
      "\u001b[0;31mIndexError\u001b[0m: single positional indexer is out-of-bounds"
     ]
    }
   ],
   "source": [
    "df.iloc[1]"
   ]
  },
  {
   "cell_type": "code",
   "execution_count": 34,
   "id": "e3ab99ad-85df-4de2-abb0-f73e8fe4554c",
   "metadata": {},
   "outputs": [
    {
     "ename": "IndexError",
     "evalue": "single positional indexer is out-of-bounds",
     "output_type": "error",
     "traceback": [
      "\u001b[0;31m---------------------------------------------------------------------------\u001b[0m",
      "\u001b[0;31mIndexError\u001b[0m                                Traceback (most recent call last)",
      "\u001b[0;32m/tmp/ipykernel_7399/864467413.py\u001b[0m in \u001b[0;36m<module>\u001b[0;34m\u001b[0m\n\u001b[0;32m----> 1\u001b[0;31m \u001b[0mdf\u001b[0m\u001b[0;34m.\u001b[0m\u001b[0miloc\u001b[0m\u001b[0;34m[\u001b[0m\u001b[0;36m1\u001b[0m\u001b[0;34m]\u001b[0m\u001b[0;34m[\u001b[0m\u001b[0;34m'rdkit_mol'\u001b[0m\u001b[0;34m]\u001b[0m\u001b[0;34m\u001b[0m\u001b[0;34m\u001b[0m\u001b[0m\n\u001b[0m",
      "\u001b[0;32m~/miniconda3/envs/mols_test/lib/python3.7/site-packages/pandas/core/indexing.py\u001b[0m in \u001b[0;36m__getitem__\u001b[0;34m(self, key)\u001b[0m\n\u001b[1;32m    929\u001b[0m \u001b[0;34m\u001b[0m\u001b[0m\n\u001b[1;32m    930\u001b[0m             \u001b[0mmaybe_callable\u001b[0m \u001b[0;34m=\u001b[0m \u001b[0mcom\u001b[0m\u001b[0;34m.\u001b[0m\u001b[0mapply_if_callable\u001b[0m\u001b[0;34m(\u001b[0m\u001b[0mkey\u001b[0m\u001b[0;34m,\u001b[0m \u001b[0mself\u001b[0m\u001b[0;34m.\u001b[0m\u001b[0mobj\u001b[0m\u001b[0;34m)\u001b[0m\u001b[0;34m\u001b[0m\u001b[0;34m\u001b[0m\u001b[0m\n\u001b[0;32m--> 931\u001b[0;31m             \u001b[0;32mreturn\u001b[0m \u001b[0mself\u001b[0m\u001b[0;34m.\u001b[0m\u001b[0m_getitem_axis\u001b[0m\u001b[0;34m(\u001b[0m\u001b[0mmaybe_callable\u001b[0m\u001b[0;34m,\u001b[0m \u001b[0maxis\u001b[0m\u001b[0;34m=\u001b[0m\u001b[0maxis\u001b[0m\u001b[0;34m)\u001b[0m\u001b[0;34m\u001b[0m\u001b[0;34m\u001b[0m\u001b[0m\n\u001b[0m\u001b[1;32m    932\u001b[0m \u001b[0;34m\u001b[0m\u001b[0m\n\u001b[1;32m    933\u001b[0m     \u001b[0;32mdef\u001b[0m \u001b[0m_is_scalar_access\u001b[0m\u001b[0;34m(\u001b[0m\u001b[0mself\u001b[0m\u001b[0;34m,\u001b[0m \u001b[0mkey\u001b[0m\u001b[0;34m:\u001b[0m \u001b[0mtuple\u001b[0m\u001b[0;34m)\u001b[0m\u001b[0;34m:\u001b[0m\u001b[0;34m\u001b[0m\u001b[0;34m\u001b[0m\u001b[0m\n",
      "\u001b[0;32m~/miniconda3/envs/mols_test/lib/python3.7/site-packages/pandas/core/indexing.py\u001b[0m in \u001b[0;36m_getitem_axis\u001b[0;34m(self, key, axis)\u001b[0m\n\u001b[1;32m   1564\u001b[0m \u001b[0;34m\u001b[0m\u001b[0m\n\u001b[1;32m   1565\u001b[0m             \u001b[0;31m# validate the location\u001b[0m\u001b[0;34m\u001b[0m\u001b[0;34m\u001b[0m\u001b[0;34m\u001b[0m\u001b[0m\n\u001b[0;32m-> 1566\u001b[0;31m             \u001b[0mself\u001b[0m\u001b[0;34m.\u001b[0m\u001b[0m_validate_integer\u001b[0m\u001b[0;34m(\u001b[0m\u001b[0mkey\u001b[0m\u001b[0;34m,\u001b[0m \u001b[0maxis\u001b[0m\u001b[0;34m)\u001b[0m\u001b[0;34m\u001b[0m\u001b[0;34m\u001b[0m\u001b[0m\n\u001b[0m\u001b[1;32m   1567\u001b[0m \u001b[0;34m\u001b[0m\u001b[0m\n\u001b[1;32m   1568\u001b[0m             \u001b[0;32mreturn\u001b[0m \u001b[0mself\u001b[0m\u001b[0;34m.\u001b[0m\u001b[0mobj\u001b[0m\u001b[0;34m.\u001b[0m\u001b[0m_ixs\u001b[0m\u001b[0;34m(\u001b[0m\u001b[0mkey\u001b[0m\u001b[0;34m,\u001b[0m \u001b[0maxis\u001b[0m\u001b[0;34m=\u001b[0m\u001b[0maxis\u001b[0m\u001b[0;34m)\u001b[0m\u001b[0;34m\u001b[0m\u001b[0;34m\u001b[0m\u001b[0m\n",
      "\u001b[0;32m~/miniconda3/envs/mols_test/lib/python3.7/site-packages/pandas/core/indexing.py\u001b[0m in \u001b[0;36m_validate_integer\u001b[0;34m(self, key, axis)\u001b[0m\n\u001b[1;32m   1498\u001b[0m         \u001b[0mlen_axis\u001b[0m \u001b[0;34m=\u001b[0m \u001b[0mlen\u001b[0m\u001b[0;34m(\u001b[0m\u001b[0mself\u001b[0m\u001b[0;34m.\u001b[0m\u001b[0mobj\u001b[0m\u001b[0;34m.\u001b[0m\u001b[0m_get_axis\u001b[0m\u001b[0;34m(\u001b[0m\u001b[0maxis\u001b[0m\u001b[0;34m)\u001b[0m\u001b[0;34m)\u001b[0m\u001b[0;34m\u001b[0m\u001b[0;34m\u001b[0m\u001b[0m\n\u001b[1;32m   1499\u001b[0m         \u001b[0;32mif\u001b[0m \u001b[0mkey\u001b[0m \u001b[0;34m>=\u001b[0m \u001b[0mlen_axis\u001b[0m \u001b[0;32mor\u001b[0m \u001b[0mkey\u001b[0m \u001b[0;34m<\u001b[0m \u001b[0;34m-\u001b[0m\u001b[0mlen_axis\u001b[0m\u001b[0;34m:\u001b[0m\u001b[0;34m\u001b[0m\u001b[0;34m\u001b[0m\u001b[0m\n\u001b[0;32m-> 1500\u001b[0;31m             \u001b[0;32mraise\u001b[0m \u001b[0mIndexError\u001b[0m\u001b[0;34m(\u001b[0m\u001b[0;34m\"single positional indexer is out-of-bounds\"\u001b[0m\u001b[0;34m)\u001b[0m\u001b[0;34m\u001b[0m\u001b[0;34m\u001b[0m\u001b[0m\n\u001b[0m\u001b[1;32m   1501\u001b[0m \u001b[0;34m\u001b[0m\u001b[0m\n\u001b[1;32m   1502\u001b[0m     \u001b[0;31m# -------------------------------------------------------------------\u001b[0m\u001b[0;34m\u001b[0m\u001b[0;34m\u001b[0m\u001b[0;34m\u001b[0m\u001b[0m\n",
      "\u001b[0;31mIndexError\u001b[0m: single positional indexer is out-of-bounds"
     ]
    }
   ],
   "source": [
    "df.iloc[1]['rdkit_mol']"
   ]
  },
  {
   "cell_type": "code",
   "execution_count": 35,
   "id": "eaef0d39-8ec5-4710-b6db-32848e50e4a5",
   "metadata": {},
   "outputs": [
    {
     "ename": "TypeError",
     "evalue": "no numeric data to plot",
     "output_type": "error",
     "traceback": [
      "\u001b[0;31m---------------------------------------------------------------------------\u001b[0m",
      "\u001b[0;31mTypeError\u001b[0m                                 Traceback (most recent call last)",
      "\u001b[0;32m/tmp/ipykernel_7399/2847702997.py\u001b[0m in \u001b[0;36m<module>\u001b[0;34m\u001b[0m\n\u001b[1;32m      1\u001b[0m \u001b[0mfig\u001b[0m\u001b[0;34m,\u001b[0m \u001b[0max\u001b[0m \u001b[0;34m=\u001b[0m \u001b[0mplt\u001b[0m\u001b[0;34m.\u001b[0m\u001b[0msubplots\u001b[0m\u001b[0;34m(\u001b[0m\u001b[0mfigsize\u001b[0m\u001b[0;34m=\u001b[0m\u001b[0;34m(\u001b[0m\u001b[0;36m12\u001b[0m\u001b[0;34m,\u001b[0m \u001b[0;36m8\u001b[0m\u001b[0;34m)\u001b[0m\u001b[0;34m)\u001b[0m\u001b[0;34m\u001b[0m\u001b[0;34m\u001b[0m\u001b[0m\n\u001b[0;32m----> 2\u001b[0;31m \u001b[0mdf\u001b[0m\u001b[0;34m[\u001b[0m\u001b[0;34m[\u001b[0m\u001b[0;34m'score'\u001b[0m\u001b[0;34m,\u001b[0m\u001b[0;34m'DFT'\u001b[0m\u001b[0;34m]\u001b[0m\u001b[0;34m]\u001b[0m\u001b[0;34m.\u001b[0m\u001b[0mplot\u001b[0m\u001b[0;34m.\u001b[0m\u001b[0mbar\u001b[0m\u001b[0;34m(\u001b[0m\u001b[0max\u001b[0m\u001b[0;34m=\u001b[0m\u001b[0max\u001b[0m\u001b[0;34m)\u001b[0m\u001b[0;34m;\u001b[0m\u001b[0;34m\u001b[0m\u001b[0;34m\u001b[0m\u001b[0m\n\u001b[0m\u001b[1;32m      3\u001b[0m \u001b[0max\u001b[0m\u001b[0;34m.\u001b[0m\u001b[0mset\u001b[0m\u001b[0;34m(\u001b[0m\u001b[0mylabel\u001b[0m\u001b[0;34m=\u001b[0m\u001b[0;34m'kcal/mol *'\u001b[0m\u001b[0;34m,\u001b[0m \u001b[0mxlabel\u001b[0m\u001b[0;34m=\u001b[0m\u001b[0;34m'Molecule No.'\u001b[0m\u001b[0;34m)\u001b[0m\u001b[0;34m\u001b[0m\u001b[0;34m\u001b[0m\u001b[0m\n\u001b[1;32m      4\u001b[0m \u001b[0;31m#ax.set_xticks([f'Molecule {x}' for x in range(5)])\u001b[0m\u001b[0;34m\u001b[0m\u001b[0;34m\u001b[0m\u001b[0;34m\u001b[0m\u001b[0m\n\u001b[1;32m      5\u001b[0m \u001b[0;32mfor\u001b[0m \u001b[0mcontainer\u001b[0m \u001b[0;32min\u001b[0m \u001b[0max\u001b[0m\u001b[0;34m.\u001b[0m\u001b[0mcontainers\u001b[0m\u001b[0;34m:\u001b[0m\u001b[0;34m\u001b[0m\u001b[0;34m\u001b[0m\u001b[0m\n",
      "\u001b[0;32m~/miniconda3/envs/mols_test/lib/python3.7/site-packages/pandas/plotting/_core.py\u001b[0m in \u001b[0;36mbar\u001b[0;34m(self, x, y, **kwargs)\u001b[0m\n\u001b[1;32m   1128\u001b[0m         \u001b[0mother\u001b[0m \u001b[0maxis\u001b[0m \u001b[0mrepresents\u001b[0m \u001b[0ma\u001b[0m \u001b[0mmeasured\u001b[0m \u001b[0mvalue\u001b[0m\u001b[0;34m.\u001b[0m\u001b[0;34m\u001b[0m\u001b[0;34m\u001b[0m\u001b[0m\n\u001b[1;32m   1129\u001b[0m         \"\"\"\n\u001b[0;32m-> 1130\u001b[0;31m         \u001b[0;32mreturn\u001b[0m \u001b[0mself\u001b[0m\u001b[0;34m(\u001b[0m\u001b[0mkind\u001b[0m\u001b[0;34m=\u001b[0m\u001b[0;34m\"bar\"\u001b[0m\u001b[0;34m,\u001b[0m \u001b[0mx\u001b[0m\u001b[0;34m=\u001b[0m\u001b[0mx\u001b[0m\u001b[0;34m,\u001b[0m \u001b[0my\u001b[0m\u001b[0;34m=\u001b[0m\u001b[0my\u001b[0m\u001b[0;34m,\u001b[0m \u001b[0;34m**\u001b[0m\u001b[0mkwargs\u001b[0m\u001b[0;34m)\u001b[0m\u001b[0;34m\u001b[0m\u001b[0;34m\u001b[0m\u001b[0m\n\u001b[0m\u001b[1;32m   1131\u001b[0m \u001b[0;34m\u001b[0m\u001b[0m\n\u001b[1;32m   1132\u001b[0m     @Appender(\n",
      "\u001b[0;32m~/miniconda3/envs/mols_test/lib/python3.7/site-packages/pandas/plotting/_core.py\u001b[0m in \u001b[0;36m__call__\u001b[0;34m(self, *args, **kwargs)\u001b[0m\n\u001b[1;32m    970\u001b[0m                     \u001b[0mdata\u001b[0m\u001b[0;34m.\u001b[0m\u001b[0mcolumns\u001b[0m \u001b[0;34m=\u001b[0m \u001b[0mlabel_name\u001b[0m\u001b[0;34m\u001b[0m\u001b[0;34m\u001b[0m\u001b[0m\n\u001b[1;32m    971\u001b[0m \u001b[0;34m\u001b[0m\u001b[0m\n\u001b[0;32m--> 972\u001b[0;31m         \u001b[0;32mreturn\u001b[0m \u001b[0mplot_backend\u001b[0m\u001b[0;34m.\u001b[0m\u001b[0mplot\u001b[0m\u001b[0;34m(\u001b[0m\u001b[0mdata\u001b[0m\u001b[0;34m,\u001b[0m \u001b[0mkind\u001b[0m\u001b[0;34m=\u001b[0m\u001b[0mkind\u001b[0m\u001b[0;34m,\u001b[0m \u001b[0;34m**\u001b[0m\u001b[0mkwargs\u001b[0m\u001b[0;34m)\u001b[0m\u001b[0;34m\u001b[0m\u001b[0;34m\u001b[0m\u001b[0m\n\u001b[0m\u001b[1;32m    973\u001b[0m \u001b[0;34m\u001b[0m\u001b[0m\n\u001b[1;32m    974\u001b[0m     \u001b[0m__call__\u001b[0m\u001b[0;34m.\u001b[0m\u001b[0m__doc__\u001b[0m \u001b[0;34m=\u001b[0m \u001b[0m__doc__\u001b[0m\u001b[0;34m\u001b[0m\u001b[0;34m\u001b[0m\u001b[0m\n",
      "\u001b[0;32m~/miniconda3/envs/mols_test/lib/python3.7/site-packages/pandas/plotting/_matplotlib/__init__.py\u001b[0m in \u001b[0;36mplot\u001b[0;34m(data, kind, **kwargs)\u001b[0m\n\u001b[1;32m     69\u001b[0m             \u001b[0mkwargs\u001b[0m\u001b[0;34m[\u001b[0m\u001b[0;34m\"ax\"\u001b[0m\u001b[0;34m]\u001b[0m \u001b[0;34m=\u001b[0m \u001b[0mgetattr\u001b[0m\u001b[0;34m(\u001b[0m\u001b[0max\u001b[0m\u001b[0;34m,\u001b[0m \u001b[0;34m\"left_ax\"\u001b[0m\u001b[0;34m,\u001b[0m \u001b[0max\u001b[0m\u001b[0;34m)\u001b[0m\u001b[0;34m\u001b[0m\u001b[0;34m\u001b[0m\u001b[0m\n\u001b[1;32m     70\u001b[0m     \u001b[0mplot_obj\u001b[0m \u001b[0;34m=\u001b[0m \u001b[0mPLOT_CLASSES\u001b[0m\u001b[0;34m[\u001b[0m\u001b[0mkind\u001b[0m\u001b[0;34m]\u001b[0m\u001b[0;34m(\u001b[0m\u001b[0mdata\u001b[0m\u001b[0;34m,\u001b[0m \u001b[0;34m**\u001b[0m\u001b[0mkwargs\u001b[0m\u001b[0;34m)\u001b[0m\u001b[0;34m\u001b[0m\u001b[0;34m\u001b[0m\u001b[0m\n\u001b[0;32m---> 71\u001b[0;31m     \u001b[0mplot_obj\u001b[0m\u001b[0;34m.\u001b[0m\u001b[0mgenerate\u001b[0m\u001b[0;34m(\u001b[0m\u001b[0;34m)\u001b[0m\u001b[0;34m\u001b[0m\u001b[0;34m\u001b[0m\u001b[0m\n\u001b[0m\u001b[1;32m     72\u001b[0m     \u001b[0mplot_obj\u001b[0m\u001b[0;34m.\u001b[0m\u001b[0mdraw\u001b[0m\u001b[0;34m(\u001b[0m\u001b[0;34m)\u001b[0m\u001b[0;34m\u001b[0m\u001b[0;34m\u001b[0m\u001b[0m\n\u001b[1;32m     73\u001b[0m     \u001b[0;32mreturn\u001b[0m \u001b[0mplot_obj\u001b[0m\u001b[0;34m.\u001b[0m\u001b[0mresult\u001b[0m\u001b[0;34m\u001b[0m\u001b[0;34m\u001b[0m\u001b[0m\n",
      "\u001b[0;32m~/miniconda3/envs/mols_test/lib/python3.7/site-packages/pandas/plotting/_matplotlib/core.py\u001b[0m in \u001b[0;36mgenerate\u001b[0;34m(self)\u001b[0m\n\u001b[1;32m    284\u001b[0m     \u001b[0;32mdef\u001b[0m \u001b[0mgenerate\u001b[0m\u001b[0;34m(\u001b[0m\u001b[0mself\u001b[0m\u001b[0;34m)\u001b[0m\u001b[0;34m:\u001b[0m\u001b[0;34m\u001b[0m\u001b[0;34m\u001b[0m\u001b[0m\n\u001b[1;32m    285\u001b[0m         \u001b[0mself\u001b[0m\u001b[0;34m.\u001b[0m\u001b[0m_args_adjust\u001b[0m\u001b[0;34m(\u001b[0m\u001b[0;34m)\u001b[0m\u001b[0;34m\u001b[0m\u001b[0;34m\u001b[0m\u001b[0m\n\u001b[0;32m--> 286\u001b[0;31m         \u001b[0mself\u001b[0m\u001b[0;34m.\u001b[0m\u001b[0m_compute_plot_data\u001b[0m\u001b[0;34m(\u001b[0m\u001b[0;34m)\u001b[0m\u001b[0;34m\u001b[0m\u001b[0;34m\u001b[0m\u001b[0m\n\u001b[0m\u001b[1;32m    287\u001b[0m         \u001b[0mself\u001b[0m\u001b[0;34m.\u001b[0m\u001b[0m_setup_subplots\u001b[0m\u001b[0;34m(\u001b[0m\u001b[0;34m)\u001b[0m\u001b[0;34m\u001b[0m\u001b[0;34m\u001b[0m\u001b[0m\n\u001b[1;32m    288\u001b[0m         \u001b[0mself\u001b[0m\u001b[0;34m.\u001b[0m\u001b[0m_make_plot\u001b[0m\u001b[0;34m(\u001b[0m\u001b[0;34m)\u001b[0m\u001b[0;34m\u001b[0m\u001b[0;34m\u001b[0m\u001b[0m\n",
      "\u001b[0;32m~/miniconda3/envs/mols_test/lib/python3.7/site-packages/pandas/plotting/_matplotlib/core.py\u001b[0m in \u001b[0;36m_compute_plot_data\u001b[0;34m(self)\u001b[0m\n\u001b[1;32m    451\u001b[0m         \u001b[0;31m# no non-numeric frames or series allowed\u001b[0m\u001b[0;34m\u001b[0m\u001b[0;34m\u001b[0m\u001b[0;34m\u001b[0m\u001b[0m\n\u001b[1;32m    452\u001b[0m         \u001b[0;32mif\u001b[0m \u001b[0mis_empty\u001b[0m\u001b[0;34m:\u001b[0m\u001b[0;34m\u001b[0m\u001b[0;34m\u001b[0m\u001b[0m\n\u001b[0;32m--> 453\u001b[0;31m             \u001b[0;32mraise\u001b[0m \u001b[0mTypeError\u001b[0m\u001b[0;34m(\u001b[0m\u001b[0;34m\"no numeric data to plot\"\u001b[0m\u001b[0;34m)\u001b[0m\u001b[0;34m\u001b[0m\u001b[0;34m\u001b[0m\u001b[0m\n\u001b[0m\u001b[1;32m    454\u001b[0m \u001b[0;34m\u001b[0m\u001b[0m\n\u001b[1;32m    455\u001b[0m         \u001b[0mself\u001b[0m\u001b[0;34m.\u001b[0m\u001b[0mdata\u001b[0m \u001b[0;34m=\u001b[0m \u001b[0mnumeric_data\u001b[0m\u001b[0;34m.\u001b[0m\u001b[0mapply\u001b[0m\u001b[0;34m(\u001b[0m\u001b[0mself\u001b[0m\u001b[0;34m.\u001b[0m\u001b[0m_convert_to_ndarray\u001b[0m\u001b[0;34m)\u001b[0m\u001b[0;34m\u001b[0m\u001b[0;34m\u001b[0m\u001b[0m\n",
      "\u001b[0;31mTypeError\u001b[0m: no numeric data to plot"
     ]
    },
    {
     "data": {
      "image/png": "[encoded data removed]",
      "text/plain": [
       "<Figure size 864x576 with 1 Axes>"
      ]
     },
     "metadata": {
      "needs_background": "light"
     },
     "output_type": "display_data"
    }
   ],
   "source": [
    "fig, ax = plt.subplots(figsize=(12, 8))\n",
    "df[['score','DFT']].plot.bar(ax=ax);\n",
    "ax.set(ylabel='kcal/mol *', xlabel='Molecule No.')\n",
    "#ax.set_xticks([f'Molecule {x}' for x in range(5)])\n",
    "for container in ax.containers:\n",
    "    ax.bar_label(container)\n",
    "fig.tight_layout()\n",
    "fig.savefig('singlepoints.svg')"
   ]
  },
  {
   "cell_type": "markdown",
   "id": "d7c254f9-de23-4e48-a95f-a53d5d43953c",
   "metadata": {},
   "source": [
    "### Correlation plot"
   ]
  },
  {
   "cell_type": "code",
   "execution_count": 36,
   "id": "dda145ab-ae83-4e03-83a2-9da9f455b0c6",
   "metadata": {},
   "outputs": [
    {
     "data": {
      "image/png": "[encoded data removed]",
      "text/plain": [
       "<Figure size 864x576 with 1 Axes>"
      ]
     },
     "metadata": {
      "needs_background": "light"
     },
     "output_type": "display_data"
    }
   ],
   "source": [
    "fig, ax = plt.subplots(figsize=(12, 8))\n",
    "sns.regplot(x=\"score\", y=\"DFT\",ci=68,truncate=False,data=df, ax=ax);"
   ]
  },
  {
   "cell_type": "markdown",
   "id": "590245d5-1013-408d-97b2-579937016d2c",
   "metadata": {
    "tags": []
   },
   "source": [
    "# Singlepoint from GA analysis multiple"
   ]
  },
  {
   "cell_type": "code",
   "execution_count": 55,
   "id": "d80bf7b7-acf8-4c12-8817-ae52ca590767",
   "metadata": {},
   "outputs": [],
   "source": [
    "logfiles = [Path('/home/magstr/dft_data/prod_new15_large_0')]"
   ]
  },
  {
   "cell_type": "code",
   "execution_count": 56,
   "id": "6fbe8ffd-bfb7-4cd3-bf9c-a69389b12c72",
   "metadata": {},
   "outputs": [],
   "source": [
    "#N2 = read_properties_sp(p1[0])\n",
    "#NH3 = read_properties_sp(p2[0])"
   ]
  },
  {
   "cell_type": "code",
   "execution_count": 57,
   "id": "ae1e4528-4ec9-4724-9be2-7b85b5e792c5",
   "metadata": {},
   "outputs": [
    {
     "name": "stdout",
     "output_type": "stream",
     "text": [
      "lol\n"
     ]
    }
   ],
   "source": [
    "if not (N2 or NH3):\n",
    "    print('lol')"
   ]
  },
  {
   "cell_type": "code",
   "execution_count": 58,
   "id": "1f9f341c-ff9e-4611-a839-a54dbbe759a5",
   "metadata": {},
   "outputs": [
    {
     "name": "stdout",
     "output_type": "stream",
     "text": [
      "[PosixPath('/home/magstr/dft_data/prod_new15_large_0/10_22'), PosixPath('/home/magstr/dft_data/prod_new15_large_0/10_25'), PosixPath('/home/magstr/dft_data/prod_new15_large_0/13_27'), PosixPath('/home/magstr/dft_data/prod_new15_large_0/15_14'), PosixPath('/home/magstr/dft_data/prod_new15_large_0/15_36'), PosixPath('/home/magstr/dft_data/prod_new15_large_0/18_7'), PosixPath('/home/magstr/dft_data/prod_new15_large_0/19_26'), PosixPath('/home/magstr/dft_data/prod_new15_large_0/20_31'), PosixPath('/home/magstr/dft_data/prod_new15_large_0/20_34'), PosixPath('/home/magstr/dft_data/prod_new15_large_0/21_39'), PosixPath('/home/magstr/dft_data/prod_new15_large_0/23_8'), PosixPath('/home/magstr/dft_data/prod_new15_large_0/28_12'), PosixPath('/home/magstr/dft_data/prod_new15_large_0/28_31'), PosixPath('/home/magstr/dft_data/prod_new15_large_0/29_27'), PosixPath('/home/magstr/dft_data/prod_new15_large_0/30_31'), PosixPath('/home/magstr/dft_data/prod_new15_large_0/32_18'), PosixPath('/home/magstr/dft_data/prod_new15_large_0/32_22'), PosixPath('/home/magstr/dft_data/prod_new15_large_0/34_43'), PosixPath('/home/magstr/dft_data/prod_new15_large_0/34_49'), PosixPath('/home/magstr/dft_data/prod_new15_large_0/36_22'), PosixPath('/home/magstr/dft_data/prod_new15_large_0/37_36'), PosixPath('/home/magstr/dft_data/prod_new15_large_0/37_41'), PosixPath('/home/magstr/dft_data/prod_new15_large_0/37_49'), PosixPath('/home/magstr/dft_data/prod_new15_large_0/41_7'), PosixPath('/home/magstr/dft_data/prod_new15_large_0/43_19'), PosixPath('/home/magstr/dft_data/prod_new15_large_0/44_7'), PosixPath('/home/magstr/dft_data/prod_new15_large_0/45_2'), PosixPath('/home/magstr/dft_data/prod_new15_large_0/45_48'), PosixPath('/home/magstr/dft_data/prod_new15_large_0/9_26'), PosixPath('/home/magstr/dft_data/prod_new15_large_0/9_35')]\n"
     ]
    }
   ],
   "source": [
    "for elem in logfiles:\n",
    "    print(sorted(elem.glob('*')))"
   ]
  },
  {
   "cell_type": "code",
   "execution_count": 61,
   "id": "bc885bac-8133-4f8c-8771-be4ad5a3b193",
   "metadata": {
    "tags": []
   },
   "outputs": [
    {
     "name": "stdout",
     "output_type": "stream",
     "text": [
      "/home/magstr/dft_data/prod_new15_large_0/10_22\n",
      "[PosixPath('/home/magstr/dft_data/prod_new15_large_0/10_22/Mo_N2/orca.out')] [PosixPath('/home/magstr/dft_data/prod_new15_large_0/10_22/Mo_NH3/orca.out')]\n",
      "/home/magstr/dft_data/prod_new15_large_0/10_25\n",
      "[PosixPath('/home/magstr/dft_data/prod_new15_large_0/10_25/Mo_N2/orca.out')] [PosixPath('/home/magstr/dft_data/prod_new15_large_0/10_25/Mo_NH3/orca.out')]\n",
      "/home/magstr/dft_data/prod_new15_large_0/13_27\n",
      "[PosixPath('/home/magstr/dft_data/prod_new15_large_0/13_27/Mo_N2/orca.out')] [PosixPath('/home/magstr/dft_data/prod_new15_large_0/13_27/Mo_NH3/orca.out')]\n",
      "/home/magstr/dft_data/prod_new15_large_0/15_14\n",
      "[PosixPath('/home/magstr/dft_data/prod_new15_large_0/15_14/Mo_N2/orca.out')] [PosixPath('/home/magstr/dft_data/prod_new15_large_0/15_14/Mo_NH3/orca.out')]\n",
      "/home/magstr/dft_data/prod_new15_large_0/15_36\n",
      "[PosixPath('/home/magstr/dft_data/prod_new15_large_0/15_36/Mo_N2/orca.out')] [PosixPath('/home/magstr/dft_data/prod_new15_large_0/15_36/Mo_NH3/orca.out')]\n",
      "/home/magstr/dft_data/prod_new15_large_0/18_7\n",
      "[PosixPath('/home/magstr/dft_data/prod_new15_large_0/18_7/Mo_N2/orca.out')] [PosixPath('/home/magstr/dft_data/prod_new15_large_0/18_7/Mo_NH3/orca.out')]\n",
      "/home/magstr/dft_data/prod_new15_large_0/19_26\n",
      "[PosixPath('/home/magstr/dft_data/prod_new15_large_0/19_26/Mo_N2/orca.out')] [PosixPath('/home/magstr/dft_data/prod_new15_large_0/19_26/Mo_NH3/orca.out')]\n",
      "/home/magstr/dft_data/prod_new15_large_0/20_31\n",
      "[PosixPath('/home/magstr/dft_data/prod_new15_large_0/20_31/Mo_N2/orca.out')] [PosixPath('/home/magstr/dft_data/prod_new15_large_0/20_31/Mo_NH3/orca.out')]\n",
      "/home/magstr/dft_data/prod_new15_large_0/20_34\n",
      "[PosixPath('/home/magstr/dft_data/prod_new15_large_0/20_34/Mo_N2/orca.out')] [PosixPath('/home/magstr/dft_data/prod_new15_large_0/20_34/Mo_NH3/orca.out')]\n",
      "/home/magstr/dft_data/prod_new15_large_0/21_39\n",
      "[PosixPath('/home/magstr/dft_data/prod_new15_large_0/21_39/Mo_N2/orca.out')] [PosixPath('/home/magstr/dft_data/prod_new15_large_0/21_39/Mo_NH3/orca.out')]\n",
      "/home/magstr/dft_data/prod_new15_large_0/23_8\n",
      "[PosixPath('/home/magstr/dft_data/prod_new15_large_0/23_8/Mo_N2/orca.out')] [PosixPath('/home/magstr/dft_data/prod_new15_large_0/23_8/Mo_NH3/orca.out')]\n",
      "/home/magstr/dft_data/prod_new15_large_0/28_12\n",
      "[PosixPath('/home/magstr/dft_data/prod_new15_large_0/28_12/Mo_N2/orca.out')] [PosixPath('/home/magstr/dft_data/prod_new15_large_0/28_12/Mo_NH3/orca.out')]\n",
      "/home/magstr/dft_data/prod_new15_large_0/28_31\n",
      "[PosixPath('/home/magstr/dft_data/prod_new15_large_0/28_31/Mo_N2/orca.out')] [PosixPath('/home/magstr/dft_data/prod_new15_large_0/28_31/Mo_NH3/orca.out')]\n",
      "/home/magstr/dft_data/prod_new15_large_0/29_27\n",
      "[PosixPath('/home/magstr/dft_data/prod_new15_large_0/29_27/Mo_N2/orca.out')] [PosixPath('/home/magstr/dft_data/prod_new15_large_0/29_27/Mo_NH3/orca.out')]\n",
      "/home/magstr/dft_data/prod_new15_large_0/30_31\n",
      "[PosixPath('/home/magstr/dft_data/prod_new15_large_0/30_31/Mo_N2/orca.out')] [PosixPath('/home/magstr/dft_data/prod_new15_large_0/30_31/Mo_NH3/orca.out')]\n",
      "/home/magstr/dft_data/prod_new15_large_0/32_18\n",
      "[PosixPath('/home/magstr/dft_data/prod_new15_large_0/32_18/Mo_N2/orca.out')] [PosixPath('/home/magstr/dft_data/prod_new15_large_0/32_18/Mo_NH3/orca.out')]\n",
      "/home/magstr/dft_data/prod_new15_large_0/32_22\n",
      "[PosixPath('/home/magstr/dft_data/prod_new15_large_0/32_22/Mo_N2/orca.out')] [PosixPath('/home/magstr/dft_data/prod_new15_large_0/32_22/Mo_NH3/orca.out')]\n",
      "/home/magstr/dft_data/prod_new15_large_0/34_43\n",
      "[PosixPath('/home/magstr/dft_data/prod_new15_large_0/34_43/Mo_N2/orca.out')] [PosixPath('/home/magstr/dft_data/prod_new15_large_0/34_43/Mo_NH3/orca.out')]\n",
      "/home/magstr/dft_data/prod_new15_large_0/34_49\n",
      "[PosixPath('/home/magstr/dft_data/prod_new15_large_0/34_49/Mo_N2/orca.out')] [PosixPath('/home/magstr/dft_data/prod_new15_large_0/34_49/Mo_NH3/orca.out')]\n",
      "/home/magstr/dft_data/prod_new15_large_0/36_22\n",
      "[PosixPath('/home/magstr/dft_data/prod_new15_large_0/36_22/Mo_N2/orca.out')] [PosixPath('/home/magstr/dft_data/prod_new15_large_0/36_22/Mo_NH3/orca.out')]\n",
      "/home/magstr/dft_data/prod_new15_large_0/37_36\n",
      "[PosixPath('/home/magstr/dft_data/prod_new15_large_0/37_36/Mo_N2/orca.out')] [PosixPath('/home/magstr/dft_data/prod_new15_large_0/37_36/Mo_NH3/orca.out')]\n",
      "/home/magstr/dft_data/prod_new15_large_0/37_41\n",
      "[PosixPath('/home/magstr/dft_data/prod_new15_large_0/37_41/Mo_N2/orca.out')] [PosixPath('/home/magstr/dft_data/prod_new15_large_0/37_41/Mo_NH3/orca.out')]\n",
      "/home/magstr/dft_data/prod_new15_large_0/37_49\n",
      "[PosixPath('/home/magstr/dft_data/prod_new15_large_0/37_49/Mo_N2/orca.out')] [PosixPath('/home/magstr/dft_data/prod_new15_large_0/37_49/Mo_NH3/orca.out')]\n",
      "/home/magstr/dft_data/prod_new15_large_0/41_7\n",
      "[PosixPath('/home/magstr/dft_data/prod_new15_large_0/41_7/Mo_N2/orca.out')] [PosixPath('/home/magstr/dft_data/prod_new15_large_0/41_7/Mo_NH3/orca.out')]\n",
      "/home/magstr/dft_data/prod_new15_large_0/43_19\n",
      "[PosixPath('/home/magstr/dft_data/prod_new15_large_0/43_19/Mo_N2/orca.out')] [PosixPath('/home/magstr/dft_data/prod_new15_large_0/43_19/Mo_NH3/orca.out')]\n",
      "/home/magstr/dft_data/prod_new15_large_0/44_7\n",
      "[PosixPath('/home/magstr/dft_data/prod_new15_large_0/44_7/Mo_N2/orca.out')] [PosixPath('/home/magstr/dft_data/prod_new15_large_0/44_7/Mo_NH3/orca.out')]\n",
      "/home/magstr/dft_data/prod_new15_large_0/45_2\n",
      "[PosixPath('/home/magstr/dft_data/prod_new15_large_0/45_2/Mo_N2/orca.out')] [PosixPath('/home/magstr/dft_data/prod_new15_large_0/45_2/Mo_NH3/orca.out')]\n",
      "/home/magstr/dft_data/prod_new15_large_0/45_48\n",
      "[PosixPath('/home/magstr/dft_data/prod_new15_large_0/45_48/Mo_N2/orca.out')] [PosixPath('/home/magstr/dft_data/prod_new15_large_0/45_48/Mo_NH3/orca.out')]\n",
      "/home/magstr/dft_data/prod_new15_large_0/9_26\n",
      "[PosixPath('/home/magstr/dft_data/prod_new15_large_0/9_26/Mo_N2/orca.out')] [PosixPath('/home/magstr/dft_data/prod_new15_large_0/9_26/Mo_NH3/orca.out')]\n",
      "/home/magstr/dft_data/prod_new15_large_0/9_35\n",
      "[PosixPath('/home/magstr/dft_data/prod_new15_large_0/9_35/Mo_N2/orca.out')] [PosixPath('/home/magstr/dft_data/prod_new15_large_0/9_35/Mo_NH3/orca.out')]\n"
     ]
    }
   ],
   "source": [
    "total_df = pd.DataFrame(columns=['score', 'energy', 'sa_score', 'rdkit_mol', 'DFT'])\n",
    "inds = []\n",
    "deltas = []\n",
    "for file in logfiles:\n",
    "    f = sorted(file.glob('*'))\n",
    "    for elem in f:\n",
    "        print(elem)\n",
    "        p_nh3 = elem / 'Mo_NH3'\n",
    "        p_n2 = elem / 'Mo_N2'\n",
    "\n",
    "        p1 = sorted(p_n2.glob('*orca.out'))\n",
    "        p2 = sorted(p_nh3.glob('*orca.out'))\n",
    "        print(p1,p2)\n",
    "        \n",
    "        N2 = read_properties_sp(p1[0])\n",
    "        NH3 = read_properties_sp(p2[0])\n",
    "        if not (N2 and NH3):\n",
    "            delta = None\n",
    "        else:\n",
    "            delta = ((N2*kcal+reactions_dft_orca_tzp['NH3'])-(NH3*kcal+reactions_dft_orca_tzp['N2']))\n",
    "            #print(delta)\n",
    "        deltas.append(delta)\n",
    "\n",
    "        # Get the ind object \n",
    "        ind = sorted(elem.rglob('*ind.pkl'))[0]\n",
    "\n",
    "        with open(ind, \"rb\") as f:\n",
    "            ind = renamed_load(f)\n",
    "            inds.append(ind)\n",
    "\n",
    "    gen = Generation(molecules=inds)\n",
    "    df = gen.gen2pd()\n",
    "    df['DFT'] = deltas\n",
    "    df['score'] = df['score'].apply(lambda x: round(x, 1))\n",
    "    df['DFT'] = df['DFT'].apply(lambda x: round(x, 1))\n",
    "    df.sort_values(by=['score'], inplace=True)\n",
    "    total_df = pd.concat([total_df, df])\n",
    "    df"
   ]
  },
  {
   "cell_type": "code",
   "execution_count": 62,
   "id": "d7f9877e-8fb9-4969-a4a8-927c095c9873",
   "metadata": {},
   "outputs": [],
   "source": [
    "df = total_df\n",
    "#df.sort_values(by=['score'], inplace=True)"
   ]
  },
  {
   "cell_type": "code",
   "execution_count": 63,
   "id": "7774e494-8614-43b3-b4cb-e6dc63b5a676",
   "metadata": {},
   "outputs": [
    {
     "data": {
      "text/html": [
       "<div>\n",
       "<style scoped>\n",
       "    .dataframe tbody tr th:only-of-type {\n",
       "        vertical-align: middle;\n",
       "    }\n",
       "\n",
       "    .dataframe tbody tr th {\n",
       "        vertical-align: top;\n",
       "    }\n",
       "\n",
       "    .dataframe thead th {\n",
       "        text-align: right;\n",
       "    }\n",
       "</style>\n",
       "<table border=\"1\" class=\"dataframe\">\n",
       "  <thead>\n",
       "    <tr style=\"text-align: right;\">\n",
       "      <th></th>\n",
       "      <th>score</th>\n",
       "      <th>energy</th>\n",
       "      <th>sa_score</th>\n",
       "      <th>rdkit_mol</th>\n",
       "      <th>DFT</th>\n",
       "    </tr>\n",
       "  </thead>\n",
       "  <tbody>\n",
       "    <tr>\n",
       "      <th>(37, 49)</th>\n",
       "      <td>-128.5</td>\n",
       "      <td>-129.750386</td>\n",
       "      <td>0.990219</td>\n",
       "      <td>&lt;rdkit.Chem.rdchem.Mol object at 0x7f50f5369970&gt;</td>\n",
       "      <td>201.1</td>\n",
       "    </tr>\n",
       "    <tr>\n",
       "      <th>(20, 31)</th>\n",
       "      <td>-72.4</td>\n",
       "      <td>-72.413743</td>\n",
       "      <td>1.000000</td>\n",
       "      <td>&lt;rdkit.Chem.rdchem.Mol object at 0x7f50f54117b0&gt;</td>\n",
       "      <td>-14.3</td>\n",
       "    </tr>\n",
       "    <tr>\n",
       "      <th>(37, 36)</th>\n",
       "      <td>-65.2</td>\n",
       "      <td>-65.238807</td>\n",
       "      <td>1.000000</td>\n",
       "      <td>&lt;rdkit.Chem.rdchem.Mol object at 0x7f50f5402cb0&gt;</td>\n",
       "      <td>-27.2</td>\n",
       "    </tr>\n",
       "    <tr>\n",
       "      <th>(9, 35)</th>\n",
       "      <td>-62.1</td>\n",
       "      <td>-62.113881</td>\n",
       "      <td>1.000000</td>\n",
       "      <td>&lt;rdkit.Chem.rdchem.Mol object at 0x7f50f53696f0&gt;</td>\n",
       "      <td>-24.1</td>\n",
       "    </tr>\n",
       "    <tr>\n",
       "      <th>(13, 27)</th>\n",
       "      <td>-62.1</td>\n",
       "      <td>-62.081733</td>\n",
       "      <td>1.000000</td>\n",
       "      <td>&lt;rdkit.Chem.rdchem.Mol object at 0x7f50f53ee930&gt;</td>\n",
       "      <td>-27.8</td>\n",
       "    </tr>\n",
       "    <tr>\n",
       "      <th>(45, 2)</th>\n",
       "      <td>-61.6</td>\n",
       "      <td>-61.576054</td>\n",
       "      <td>1.000000</td>\n",
       "      <td>&lt;rdkit.Chem.rdchem.Mol object at 0x7f50f5369c30&gt;</td>\n",
       "      <td>-44.9</td>\n",
       "    </tr>\n",
       "    <tr>\n",
       "      <th>(20, 34)</th>\n",
       "      <td>-61.1</td>\n",
       "      <td>-61.069443</td>\n",
       "      <td>1.000000</td>\n",
       "      <td>&lt;rdkit.Chem.rdchem.Mol object at 0x7f50f54094b0&gt;</td>\n",
       "      <td>-25.6</td>\n",
       "    </tr>\n",
       "    <tr>\n",
       "      <th>(45, 48)</th>\n",
       "      <td>-60.3</td>\n",
       "      <td>-60.316929</td>\n",
       "      <td>1.000000</td>\n",
       "      <td>&lt;rdkit.Chem.rdchem.Mol object at 0x7f50f5369d30&gt;</td>\n",
       "      <td>-31.1</td>\n",
       "    </tr>\n",
       "    <tr>\n",
       "      <th>(19, 26)</th>\n",
       "      <td>-60.3</td>\n",
       "      <td>-60.333260</td>\n",
       "      <td>1.000000</td>\n",
       "      <td>&lt;rdkit.Chem.rdchem.Mol object at 0x7f50f53ee8b0&gt;</td>\n",
       "      <td>-28.3</td>\n",
       "    </tr>\n",
       "    <tr>\n",
       "      <th>(41, 7)</th>\n",
       "      <td>-60.0</td>\n",
       "      <td>-60.013226</td>\n",
       "      <td>1.000000</td>\n",
       "      <td>&lt;rdkit.Chem.rdchem.Mol object at 0x7f50f5369ab0&gt;</td>\n",
       "      <td>-22.9</td>\n",
       "    </tr>\n",
       "    <tr>\n",
       "      <th>(28, 31)</th>\n",
       "      <td>-59.5</td>\n",
       "      <td>-59.534399</td>\n",
       "      <td>1.000000</td>\n",
       "      <td>&lt;rdkit.Chem.rdchem.Mol object at 0x7f50f54119f0&gt;</td>\n",
       "      <td>-26.7</td>\n",
       "    </tr>\n",
       "    <tr>\n",
       "      <th>(30, 31)</th>\n",
       "      <td>-59.5</td>\n",
       "      <td>-59.549615</td>\n",
       "      <td>1.000000</td>\n",
       "      <td>&lt;rdkit.Chem.rdchem.Mol object at 0x7f50f5402cf0&gt;</td>\n",
       "      <td>-23.9</td>\n",
       "    </tr>\n",
       "    <tr>\n",
       "      <th>(10, 25)</th>\n",
       "      <td>-59.4</td>\n",
       "      <td>-59.392346</td>\n",
       "      <td>1.000000</td>\n",
       "      <td>&lt;rdkit.Chem.rdchem.Mol object at 0x7f50f53ee230&gt;</td>\n",
       "      <td>-21.5</td>\n",
       "    </tr>\n",
       "    <tr>\n",
       "      <th>(15, 36)</th>\n",
       "      <td>-59.4</td>\n",
       "      <td>-59.443061</td>\n",
       "      <td>1.000000</td>\n",
       "      <td>&lt;rdkit.Chem.rdchem.Mol object at 0x7f50f5447f30&gt;</td>\n",
       "      <td>-23.1</td>\n",
       "    </tr>\n",
       "    <tr>\n",
       "      <th>(34, 43)</th>\n",
       "      <td>-59.2</td>\n",
       "      <td>-59.176156</td>\n",
       "      <td>1.000000</td>\n",
       "      <td>&lt;rdkit.Chem.rdchem.Mol object at 0x7f50f5411270&gt;</td>\n",
       "      <td>-24.2</td>\n",
       "    </tr>\n",
       "    <tr>\n",
       "      <th>(32, 22)</th>\n",
       "      <td>-58.7</td>\n",
       "      <td>-64.248231</td>\n",
       "      <td>0.914151</td>\n",
       "      <td>&lt;rdkit.Chem.rdchem.Mol object at 0x7f50f54112f0&gt;</td>\n",
       "      <td>-28.5</td>\n",
       "    </tr>\n",
       "    <tr>\n",
       "      <th>(34, 49)</th>\n",
       "      <td>-58.6</td>\n",
       "      <td>-58.564904</td>\n",
       "      <td>1.000000</td>\n",
       "      <td>&lt;rdkit.Chem.rdchem.Mol object at 0x7f50f54091f0&gt;</td>\n",
       "      <td>-18.1</td>\n",
       "    </tr>\n",
       "    <tr>\n",
       "      <th>(18, 7)</th>\n",
       "      <td>-58.6</td>\n",
       "      <td>-58.567012</td>\n",
       "      <td>1.000000</td>\n",
       "      <td>&lt;rdkit.Chem.rdchem.Mol object at 0x7f50f54113f0&gt;</td>\n",
       "      <td>-24.5</td>\n",
       "    </tr>\n",
       "    <tr>\n",
       "      <th>(21, 39)</th>\n",
       "      <td>-58.5</td>\n",
       "      <td>-58.501007</td>\n",
       "      <td>1.000000</td>\n",
       "      <td>&lt;rdkit.Chem.rdchem.Mol object at 0x7f50f54098b0&gt;</td>\n",
       "      <td>-22.8</td>\n",
       "    </tr>\n",
       "    <tr>\n",
       "      <th>(44, 7)</th>\n",
       "      <td>-58.4</td>\n",
       "      <td>-58.421383</td>\n",
       "      <td>1.000000</td>\n",
       "      <td>&lt;rdkit.Chem.rdchem.Mol object at 0x7f50f5369df0&gt;</td>\n",
       "      <td>NaN</td>\n",
       "    </tr>\n",
       "    <tr>\n",
       "      <th>(43, 19)</th>\n",
       "      <td>-58.4</td>\n",
       "      <td>-58.463105</td>\n",
       "      <td>0.998378</td>\n",
       "      <td>&lt;rdkit.Chem.rdchem.Mol object at 0x7f50f5369cf0&gt;</td>\n",
       "      <td>NaN</td>\n",
       "    </tr>\n",
       "    <tr>\n",
       "      <th>(23, 8)</th>\n",
       "      <td>-58.4</td>\n",
       "      <td>-58.438512</td>\n",
       "      <td>1.000000</td>\n",
       "      <td>&lt;rdkit.Chem.rdchem.Mol object at 0x7f50f53c81b0&gt;</td>\n",
       "      <td>-28.4</td>\n",
       "    </tr>\n",
       "    <tr>\n",
       "      <th>(32, 18)</th>\n",
       "      <td>-58.3</td>\n",
       "      <td>-58.323082</td>\n",
       "      <td>1.000000</td>\n",
       "      <td>&lt;rdkit.Chem.rdchem.Mol object at 0x7f50f5411fb0&gt;</td>\n",
       "      <td>NaN</td>\n",
       "    </tr>\n",
       "    <tr>\n",
       "      <th>(9, 26)</th>\n",
       "      <td>-58.3</td>\n",
       "      <td>-58.287760</td>\n",
       "      <td>1.000000</td>\n",
       "      <td>&lt;rdkit.Chem.rdchem.Mol object at 0x7f50f5369b70&gt;</td>\n",
       "      <td>NaN</td>\n",
       "    </tr>\n",
       "    <tr>\n",
       "      <th>(29, 27)</th>\n",
       "      <td>-58.3</td>\n",
       "      <td>-58.313757</td>\n",
       "      <td>1.000000</td>\n",
       "      <td>&lt;rdkit.Chem.rdchem.Mol object at 0x7f50f5411170&gt;</td>\n",
       "      <td>NaN</td>\n",
       "    </tr>\n",
       "    <tr>\n",
       "      <th>(37, 41)</th>\n",
       "      <td>-58.3</td>\n",
       "      <td>-58.319304</td>\n",
       "      <td>1.000000</td>\n",
       "      <td>&lt;rdkit.Chem.rdchem.Mol object at 0x7f50f54114b0&gt;</td>\n",
       "      <td>-32.8</td>\n",
       "    </tr>\n",
       "    <tr>\n",
       "      <th>(28, 12)</th>\n",
       "      <td>-58.2</td>\n",
       "      <td>-58.206690</td>\n",
       "      <td>1.000000</td>\n",
       "      <td>&lt;rdkit.Chem.rdchem.Mol object at 0x7f50f54111b0&gt;</td>\n",
       "      <td>NaN</td>\n",
       "    </tr>\n",
       "    <tr>\n",
       "      <th>(36, 22)</th>\n",
       "      <td>-58.2</td>\n",
       "      <td>-58.227059</td>\n",
       "      <td>1.000000</td>\n",
       "      <td>&lt;rdkit.Chem.rdchem.Mol object at 0x7f50f54099f0&gt;</td>\n",
       "      <td>NaN</td>\n",
       "    </tr>\n",
       "    <tr>\n",
       "      <th>(15, 14)</th>\n",
       "      <td>-58.2</td>\n",
       "      <td>-58.186938</td>\n",
       "      <td>1.000000</td>\n",
       "      <td>&lt;rdkit.Chem.rdchem.Mol object at 0x7f50f54110f0&gt;</td>\n",
       "      <td>-25.2</td>\n",
       "    </tr>\n",
       "    <tr>\n",
       "      <th>(10, 22)</th>\n",
       "      <td>-58.2</td>\n",
       "      <td>-58.165058</td>\n",
       "      <td>1.000000</td>\n",
       "      <td>&lt;rdkit.Chem.rdchem.Mol object at 0x7f50f53eea30&gt;</td>\n",
       "      <td>-19.0</td>\n",
       "    </tr>\n",
       "  </tbody>\n",
       "</table>\n",
       "</div>"
      ],
      "text/plain": [
       "          score      energy  sa_score  \\\n",
       "(37, 49) -128.5 -129.750386  0.990219   \n",
       "(20, 31)  -72.4  -72.413743  1.000000   \n",
       "(37, 36)  -65.2  -65.238807  1.000000   \n",
       "(9, 35)   -62.1  -62.113881  1.000000   \n",
       "(13, 27)  -62.1  -62.081733  1.000000   \n",
       "(45, 2)   -61.6  -61.576054  1.000000   \n",
       "(20, 34)  -61.1  -61.069443  1.000000   \n",
       "(45, 48)  -60.3  -60.316929  1.000000   \n",
       "(19, 26)  -60.3  -60.333260  1.000000   \n",
       "(41, 7)   -60.0  -60.013226  1.000000   \n",
       "(28, 31)  -59.5  -59.534399  1.000000   \n",
       "(30, 31)  -59.5  -59.549615  1.000000   \n",
       "(10, 25)  -59.4  -59.392346  1.000000   \n",
       "(15, 36)  -59.4  -59.443061  1.000000   \n",
       "(34, 43)  -59.2  -59.176156  1.000000   \n",
       "(32, 22)  -58.7  -64.248231  0.914151   \n",
       "(34, 49)  -58.6  -58.564904  1.000000   \n",
       "(18, 7)   -58.6  -58.567012  1.000000   \n",
       "(21, 39)  -58.5  -58.501007  1.000000   \n",
       "(44, 7)   -58.4  -58.421383  1.000000   \n",
       "(43, 19)  -58.4  -58.463105  0.998378   \n",
       "(23, 8)   -58.4  -58.438512  1.000000   \n",
       "(32, 18)  -58.3  -58.323082  1.000000   \n",
       "(9, 26)   -58.3  -58.287760  1.000000   \n",
       "(29, 27)  -58.3  -58.313757  1.000000   \n",
       "(37, 41)  -58.3  -58.319304  1.000000   \n",
       "(28, 12)  -58.2  -58.206690  1.000000   \n",
       "(36, 22)  -58.2  -58.227059  1.000000   \n",
       "(15, 14)  -58.2  -58.186938  1.000000   \n",
       "(10, 22)  -58.2  -58.165058  1.000000   \n",
       "\n",
       "                                                 rdkit_mol    DFT  \n",
       "(37, 49)  <rdkit.Chem.rdchem.Mol object at 0x7f50f5369970>  201.1  \n",
       "(20, 31)  <rdkit.Chem.rdchem.Mol object at 0x7f50f54117b0>  -14.3  \n",
       "(37, 36)  <rdkit.Chem.rdchem.Mol object at 0x7f50f5402cb0>  -27.2  \n",
       "(9, 35)   <rdkit.Chem.rdchem.Mol object at 0x7f50f53696f0>  -24.1  \n",
       "(13, 27)  <rdkit.Chem.rdchem.Mol object at 0x7f50f53ee930>  -27.8  \n",
       "(45, 2)   <rdkit.Chem.rdchem.Mol object at 0x7f50f5369c30>  -44.9  \n",
       "(20, 34)  <rdkit.Chem.rdchem.Mol object at 0x7f50f54094b0>  -25.6  \n",
       "(45, 48)  <rdkit.Chem.rdchem.Mol object at 0x7f50f5369d30>  -31.1  \n",
       "(19, 26)  <rdkit.Chem.rdchem.Mol object at 0x7f50f53ee8b0>  -28.3  \n",
       "(41, 7)   <rdkit.Chem.rdchem.Mol object at 0x7f50f5369ab0>  -22.9  \n",
       "(28, 31)  <rdkit.Chem.rdchem.Mol object at 0x7f50f54119f0>  -26.7  \n",
       "(30, 31)  <rdkit.Chem.rdchem.Mol object at 0x7f50f5402cf0>  -23.9  \n",
       "(10, 25)  <rdkit.Chem.rdchem.Mol object at 0x7f50f53ee230>  -21.5  \n",
       "(15, 36)  <rdkit.Chem.rdchem.Mol object at 0x7f50f5447f30>  -23.1  \n",
       "(34, 43)  <rdkit.Chem.rdchem.Mol object at 0x7f50f5411270>  -24.2  \n",
       "(32, 22)  <rdkit.Chem.rdchem.Mol object at 0x7f50f54112f0>  -28.5  \n",
       "(34, 49)  <rdkit.Chem.rdchem.Mol object at 0x7f50f54091f0>  -18.1  \n",
       "(18, 7)   <rdkit.Chem.rdchem.Mol object at 0x7f50f54113f0>  -24.5  \n",
       "(21, 39)  <rdkit.Chem.rdchem.Mol object at 0x7f50f54098b0>  -22.8  \n",
       "(44, 7)   <rdkit.Chem.rdchem.Mol object at 0x7f50f5369df0>    NaN  \n",
       "(43, 19)  <rdkit.Chem.rdchem.Mol object at 0x7f50f5369cf0>    NaN  \n",
       "(23, 8)   <rdkit.Chem.rdchem.Mol object at 0x7f50f53c81b0>  -28.4  \n",
       "(32, 18)  <rdkit.Chem.rdchem.Mol object at 0x7f50f5411fb0>    NaN  \n",
       "(9, 26)   <rdkit.Chem.rdchem.Mol object at 0x7f50f5369b70>    NaN  \n",
       "(29, 27)  <rdkit.Chem.rdchem.Mol object at 0x7f50f5411170>    NaN  \n",
       "(37, 41)  <rdkit.Chem.rdchem.Mol object at 0x7f50f54114b0>  -32.8  \n",
       "(28, 12)  <rdkit.Chem.rdchem.Mol object at 0x7f50f54111b0>    NaN  \n",
       "(36, 22)  <rdkit.Chem.rdchem.Mol object at 0x7f50f54099f0>    NaN  \n",
       "(15, 14)  <rdkit.Chem.rdchem.Mol object at 0x7f50f54110f0>  -25.2  \n",
       "(10, 22)  <rdkit.Chem.rdchem.Mol object at 0x7f50f53eea30>  -19.0  "
      ]
     },
     "execution_count": 63,
     "metadata": {},
     "output_type": "execute_result"
    }
   ],
   "source": [
    "df"
   ]
  },
  {
   "cell_type": "code",
   "execution_count": 64,
   "id": "10df8076-8bac-43b3-bc8d-7c91bd593ffb",
   "metadata": {},
   "outputs": [],
   "source": [
    "list_of_moles = df['rdkit_mol'].tolist()"
   ]
  },
  {
   "cell_type": "code",
   "execution_count": 65,
   "id": "7d5a356b-5c5c-4553-bb4c-ccba8906cb83",
   "metadata": {},
   "outputs": [
    {
     "data": {
      "text/plain": [
       "[<rdkit.Chem.rdchem.Mol at 0x7f50f5369970>,\n",
       " <rdkit.Chem.rdchem.Mol at 0x7f50f54117b0>,\n",
       " <rdkit.Chem.rdchem.Mol at 0x7f50f5402cb0>,\n",
       " <rdkit.Chem.rdchem.Mol at 0x7f50f53696f0>,\n",
       " <rdkit.Chem.rdchem.Mol at 0x7f50f53ee930>,\n",
       " <rdkit.Chem.rdchem.Mol at 0x7f50f5369c30>,\n",
       " <rdkit.Chem.rdchem.Mol at 0x7f50f54094b0>,\n",
       " <rdkit.Chem.rdchem.Mol at 0x7f50f5369d30>,\n",
       " <rdkit.Chem.rdchem.Mol at 0x7f50f53ee8b0>,\n",
       " <rdkit.Chem.rdchem.Mol at 0x7f50f5369ab0>,\n",
       " <rdkit.Chem.rdchem.Mol at 0x7f50f54119f0>,\n",
       " <rdkit.Chem.rdchem.Mol at 0x7f50f5402cf0>,\n",
       " <rdkit.Chem.rdchem.Mol at 0x7f50f53ee230>,\n",
       " <rdkit.Chem.rdchem.Mol at 0x7f50f5447f30>,\n",
       " <rdkit.Chem.rdchem.Mol at 0x7f50f5411270>,\n",
       " <rdkit.Chem.rdchem.Mol at 0x7f50f54112f0>,\n",
       " <rdkit.Chem.rdchem.Mol at 0x7f50f54091f0>,\n",
       " <rdkit.Chem.rdchem.Mol at 0x7f50f54113f0>,\n",
       " <rdkit.Chem.rdchem.Mol at 0x7f50f54098b0>,\n",
       " <rdkit.Chem.rdchem.Mol at 0x7f50f5369df0>,\n",
       " <rdkit.Chem.rdchem.Mol at 0x7f50f5369cf0>,\n",
       " <rdkit.Chem.rdchem.Mol at 0x7f50f53c81b0>,\n",
       " <rdkit.Chem.rdchem.Mol at 0x7f50f5411fb0>,\n",
       " <rdkit.Chem.rdchem.Mol at 0x7f50f5369b70>,\n",
       " <rdkit.Chem.rdchem.Mol at 0x7f50f5411170>,\n",
       " <rdkit.Chem.rdchem.Mol at 0x7f50f54114b0>,\n",
       " <rdkit.Chem.rdchem.Mol at 0x7f50f54111b0>,\n",
       " <rdkit.Chem.rdchem.Mol at 0x7f50f54099f0>,\n",
       " <rdkit.Chem.rdchem.Mol at 0x7f50f54110f0>,\n",
       " <rdkit.Chem.rdchem.Mol at 0x7f50f53eea30>]"
      ]
     },
     "execution_count": 65,
     "metadata": {},
     "output_type": "execute_result"
    }
   ],
   "source": [
    "list_of_moles"
   ]
  },
  {
   "cell_type": "code",
   "execution_count": 66,
   "id": "5fbf01a6-9b1c-4242-b79a-a2c3c18b38cb",
   "metadata": {},
   "outputs": [
    {
     "data": {
      "text/html": [
       "<div>\n",
       "<style scoped>\n",
       "    .dataframe tbody tr th:only-of-type {\n",
       "        vertical-align: middle;\n",
       "    }\n",
       "\n",
       "    .dataframe tbody tr th {\n",
       "        vertical-align: top;\n",
       "    }\n",
       "\n",
       "    .dataframe thead th {\n",
       "        text-align: right;\n",
       "    }\n",
       "</style>\n",
       "<table border=\"1\" class=\"dataframe\">\n",
       "  <thead>\n",
       "    <tr style=\"text-align: right;\">\n",
       "      <th></th>\n",
       "      <th>score</th>\n",
       "      <th>energy</th>\n",
       "      <th>sa_score</th>\n",
       "      <th>rdkit_mol</th>\n",
       "      <th>DFT</th>\n",
       "    </tr>\n",
       "  </thead>\n",
       "  <tbody>\n",
       "    <tr>\n",
       "      <th>(37, 49)</th>\n",
       "      <td>-128.5</td>\n",
       "      <td>-129.750386</td>\n",
       "      <td>0.990219</td>\n",
       "      <td>&lt;rdkit.Chem.rdchem.Mol object at 0x7f50f5369970&gt;</td>\n",
       "      <td>201.1</td>\n",
       "    </tr>\n",
       "    <tr>\n",
       "      <th>(20, 31)</th>\n",
       "      <td>-72.4</td>\n",
       "      <td>-72.413743</td>\n",
       "      <td>1.000000</td>\n",
       "      <td>&lt;rdkit.Chem.rdchem.Mol object at 0x7f50f54117b0&gt;</td>\n",
       "      <td>-14.3</td>\n",
       "    </tr>\n",
       "    <tr>\n",
       "      <th>(37, 36)</th>\n",
       "      <td>-65.2</td>\n",
       "      <td>-65.238807</td>\n",
       "      <td>1.000000</td>\n",
       "      <td>&lt;rdkit.Chem.rdchem.Mol object at 0x7f50f5402cb0&gt;</td>\n",
       "      <td>-27.2</td>\n",
       "    </tr>\n",
       "    <tr>\n",
       "      <th>(9, 35)</th>\n",
       "      <td>-62.1</td>\n",
       "      <td>-62.113881</td>\n",
       "      <td>1.000000</td>\n",
       "      <td>&lt;rdkit.Chem.rdchem.Mol object at 0x7f50f53696f0&gt;</td>\n",
       "      <td>-24.1</td>\n",
       "    </tr>\n",
       "    <tr>\n",
       "      <th>(13, 27)</th>\n",
       "      <td>-62.1</td>\n",
       "      <td>-62.081733</td>\n",
       "      <td>1.000000</td>\n",
       "      <td>&lt;rdkit.Chem.rdchem.Mol object at 0x7f50f53ee930&gt;</td>\n",
       "      <td>-27.8</td>\n",
       "    </tr>\n",
       "    <tr>\n",
       "      <th>(45, 2)</th>\n",
       "      <td>-61.6</td>\n",
       "      <td>-61.576054</td>\n",
       "      <td>1.000000</td>\n",
       "      <td>&lt;rdkit.Chem.rdchem.Mol object at 0x7f50f5369c30&gt;</td>\n",
       "      <td>-44.9</td>\n",
       "    </tr>\n",
       "    <tr>\n",
       "      <th>(20, 34)</th>\n",
       "      <td>-61.1</td>\n",
       "      <td>-61.069443</td>\n",
       "      <td>1.000000</td>\n",
       "      <td>&lt;rdkit.Chem.rdchem.Mol object at 0x7f50f54094b0&gt;</td>\n",
       "      <td>-25.6</td>\n",
       "    </tr>\n",
       "    <tr>\n",
       "      <th>(45, 48)</th>\n",
       "      <td>-60.3</td>\n",
       "      <td>-60.316929</td>\n",
       "      <td>1.000000</td>\n",
       "      <td>&lt;rdkit.Chem.rdchem.Mol object at 0x7f50f5369d30&gt;</td>\n",
       "      <td>-31.1</td>\n",
       "    </tr>\n",
       "    <tr>\n",
       "      <th>(19, 26)</th>\n",
       "      <td>-60.3</td>\n",
       "      <td>-60.333260</td>\n",
       "      <td>1.000000</td>\n",
       "      <td>&lt;rdkit.Chem.rdchem.Mol object at 0x7f50f53ee8b0&gt;</td>\n",
       "      <td>-28.3</td>\n",
       "    </tr>\n",
       "    <tr>\n",
       "      <th>(41, 7)</th>\n",
       "      <td>-60.0</td>\n",
       "      <td>-60.013226</td>\n",
       "      <td>1.000000</td>\n",
       "      <td>&lt;rdkit.Chem.rdchem.Mol object at 0x7f50f5369ab0&gt;</td>\n",
       "      <td>-22.9</td>\n",
       "    </tr>\n",
       "    <tr>\n",
       "      <th>(28, 31)</th>\n",
       "      <td>-59.5</td>\n",
       "      <td>-59.534399</td>\n",
       "      <td>1.000000</td>\n",
       "      <td>&lt;rdkit.Chem.rdchem.Mol object at 0x7f50f54119f0&gt;</td>\n",
       "      <td>-26.7</td>\n",
       "    </tr>\n",
       "    <tr>\n",
       "      <th>(30, 31)</th>\n",
       "      <td>-59.5</td>\n",
       "      <td>-59.549615</td>\n",
       "      <td>1.000000</td>\n",
       "      <td>&lt;rdkit.Chem.rdchem.Mol object at 0x7f50f5402cf0&gt;</td>\n",
       "      <td>-23.9</td>\n",
       "    </tr>\n",
       "    <tr>\n",
       "      <th>(10, 25)</th>\n",
       "      <td>-59.4</td>\n",
       "      <td>-59.392346</td>\n",
       "      <td>1.000000</td>\n",
       "      <td>&lt;rdkit.Chem.rdchem.Mol object at 0x7f50f53ee230&gt;</td>\n",
       "      <td>-21.5</td>\n",
       "    </tr>\n",
       "    <tr>\n",
       "      <th>(15, 36)</th>\n",
       "      <td>-59.4</td>\n",
       "      <td>-59.443061</td>\n",
       "      <td>1.000000</td>\n",
       "      <td>&lt;rdkit.Chem.rdchem.Mol object at 0x7f50f5447f30&gt;</td>\n",
       "      <td>-23.1</td>\n",
       "    </tr>\n",
       "    <tr>\n",
       "      <th>(34, 43)</th>\n",
       "      <td>-59.2</td>\n",
       "      <td>-59.176156</td>\n",
       "      <td>1.000000</td>\n",
       "      <td>&lt;rdkit.Chem.rdchem.Mol object at 0x7f50f5411270&gt;</td>\n",
       "      <td>-24.2</td>\n",
       "    </tr>\n",
       "    <tr>\n",
       "      <th>(32, 22)</th>\n",
       "      <td>-58.7</td>\n",
       "      <td>-64.248231</td>\n",
       "      <td>0.914151</td>\n",
       "      <td>&lt;rdkit.Chem.rdchem.Mol object at 0x7f50f54112f0&gt;</td>\n",
       "      <td>-28.5</td>\n",
       "    </tr>\n",
       "    <tr>\n",
       "      <th>(34, 49)</th>\n",
       "      <td>-58.6</td>\n",
       "      <td>-58.564904</td>\n",
       "      <td>1.000000</td>\n",
       "      <td>&lt;rdkit.Chem.rdchem.Mol object at 0x7f50f54091f0&gt;</td>\n",
       "      <td>-18.1</td>\n",
       "    </tr>\n",
       "    <tr>\n",
       "      <th>(18, 7)</th>\n",
       "      <td>-58.6</td>\n",
       "      <td>-58.567012</td>\n",
       "      <td>1.000000</td>\n",
       "      <td>&lt;rdkit.Chem.rdchem.Mol object at 0x7f50f54113f0&gt;</td>\n",
       "      <td>-24.5</td>\n",
       "    </tr>\n",
       "    <tr>\n",
       "      <th>(21, 39)</th>\n",
       "      <td>-58.5</td>\n",
       "      <td>-58.501007</td>\n",
       "      <td>1.000000</td>\n",
       "      <td>&lt;rdkit.Chem.rdchem.Mol object at 0x7f50f54098b0&gt;</td>\n",
       "      <td>-22.8</td>\n",
       "    </tr>\n",
       "    <tr>\n",
       "      <th>(44, 7)</th>\n",
       "      <td>-58.4</td>\n",
       "      <td>-58.421383</td>\n",
       "      <td>1.000000</td>\n",
       "      <td>&lt;rdkit.Chem.rdchem.Mol object at 0x7f50f5369df0&gt;</td>\n",
       "      <td>NaN</td>\n",
       "    </tr>\n",
       "    <tr>\n",
       "      <th>(43, 19)</th>\n",
       "      <td>-58.4</td>\n",
       "      <td>-58.463105</td>\n",
       "      <td>0.998378</td>\n",
       "      <td>&lt;rdkit.Chem.rdchem.Mol object at 0x7f50f5369cf0&gt;</td>\n",
       "      <td>NaN</td>\n",
       "    </tr>\n",
       "    <tr>\n",
       "      <th>(23, 8)</th>\n",
       "      <td>-58.4</td>\n",
       "      <td>-58.438512</td>\n",
       "      <td>1.000000</td>\n",
       "      <td>&lt;rdkit.Chem.rdchem.Mol object at 0x7f50f53c81b0&gt;</td>\n",
       "      <td>-28.4</td>\n",
       "    </tr>\n",
       "    <tr>\n",
       "      <th>(32, 18)</th>\n",
       "      <td>-58.3</td>\n",
       "      <td>-58.323082</td>\n",
       "      <td>1.000000</td>\n",
       "      <td>&lt;rdkit.Chem.rdchem.Mol object at 0x7f50f5411fb0&gt;</td>\n",
       "      <td>NaN</td>\n",
       "    </tr>\n",
       "    <tr>\n",
       "      <th>(9, 26)</th>\n",
       "      <td>-58.3</td>\n",
       "      <td>-58.287760</td>\n",
       "      <td>1.000000</td>\n",
       "      <td>&lt;rdkit.Chem.rdchem.Mol object at 0x7f50f5369b70&gt;</td>\n",
       "      <td>NaN</td>\n",
       "    </tr>\n",
       "    <tr>\n",
       "      <th>(29, 27)</th>\n",
       "      <td>-58.3</td>\n",
       "      <td>-58.313757</td>\n",
       "      <td>1.000000</td>\n",
       "      <td>&lt;rdkit.Chem.rdchem.Mol object at 0x7f50f5411170&gt;</td>\n",
       "      <td>NaN</td>\n",
       "    </tr>\n",
       "    <tr>\n",
       "      <th>(37, 41)</th>\n",
       "      <td>-58.3</td>\n",
       "      <td>-58.319304</td>\n",
       "      <td>1.000000</td>\n",
       "      <td>&lt;rdkit.Chem.rdchem.Mol object at 0x7f50f54114b0&gt;</td>\n",
       "      <td>-32.8</td>\n",
       "    </tr>\n",
       "    <tr>\n",
       "      <th>(28, 12)</th>\n",
       "      <td>-58.2</td>\n",
       "      <td>-58.206690</td>\n",
       "      <td>1.000000</td>\n",
       "      <td>&lt;rdkit.Chem.rdchem.Mol object at 0x7f50f54111b0&gt;</td>\n",
       "      <td>NaN</td>\n",
       "    </tr>\n",
       "    <tr>\n",
       "      <th>(36, 22)</th>\n",
       "      <td>-58.2</td>\n",
       "      <td>-58.227059</td>\n",
       "      <td>1.000000</td>\n",
       "      <td>&lt;rdkit.Chem.rdchem.Mol object at 0x7f50f54099f0&gt;</td>\n",
       "      <td>NaN</td>\n",
       "    </tr>\n",
       "    <tr>\n",
       "      <th>(15, 14)</th>\n",
       "      <td>-58.2</td>\n",
       "      <td>-58.186938</td>\n",
       "      <td>1.000000</td>\n",
       "      <td>&lt;rdkit.Chem.rdchem.Mol object at 0x7f50f54110f0&gt;</td>\n",
       "      <td>-25.2</td>\n",
       "    </tr>\n",
       "    <tr>\n",
       "      <th>(10, 22)</th>\n",
       "      <td>-58.2</td>\n",
       "      <td>-58.165058</td>\n",
       "      <td>1.000000</td>\n",
       "      <td>&lt;rdkit.Chem.rdchem.Mol object at 0x7f50f53eea30&gt;</td>\n",
       "      <td>-19.0</td>\n",
       "    </tr>\n",
       "  </tbody>\n",
       "</table>\n",
       "</div>"
      ],
      "text/plain": [
       "          score      energy  sa_score  \\\n",
       "(37, 49) -128.5 -129.750386  0.990219   \n",
       "(20, 31)  -72.4  -72.413743  1.000000   \n",
       "(37, 36)  -65.2  -65.238807  1.000000   \n",
       "(9, 35)   -62.1  -62.113881  1.000000   \n",
       "(13, 27)  -62.1  -62.081733  1.000000   \n",
       "(45, 2)   -61.6  -61.576054  1.000000   \n",
       "(20, 34)  -61.1  -61.069443  1.000000   \n",
       "(45, 48)  -60.3  -60.316929  1.000000   \n",
       "(19, 26)  -60.3  -60.333260  1.000000   \n",
       "(41, 7)   -60.0  -60.013226  1.000000   \n",
       "(28, 31)  -59.5  -59.534399  1.000000   \n",
       "(30, 31)  -59.5  -59.549615  1.000000   \n",
       "(10, 25)  -59.4  -59.392346  1.000000   \n",
       "(15, 36)  -59.4  -59.443061  1.000000   \n",
       "(34, 43)  -59.2  -59.176156  1.000000   \n",
       "(32, 22)  -58.7  -64.248231  0.914151   \n",
       "(34, 49)  -58.6  -58.564904  1.000000   \n",
       "(18, 7)   -58.6  -58.567012  1.000000   \n",
       "(21, 39)  -58.5  -58.501007  1.000000   \n",
       "(44, 7)   -58.4  -58.421383  1.000000   \n",
       "(43, 19)  -58.4  -58.463105  0.998378   \n",
       "(23, 8)   -58.4  -58.438512  1.000000   \n",
       "(32, 18)  -58.3  -58.323082  1.000000   \n",
       "(9, 26)   -58.3  -58.287760  1.000000   \n",
       "(29, 27)  -58.3  -58.313757  1.000000   \n",
       "(37, 41)  -58.3  -58.319304  1.000000   \n",
       "(28, 12)  -58.2  -58.206690  1.000000   \n",
       "(36, 22)  -58.2  -58.227059  1.000000   \n",
       "(15, 14)  -58.2  -58.186938  1.000000   \n",
       "(10, 22)  -58.2  -58.165058  1.000000   \n",
       "\n",
       "                                                 rdkit_mol    DFT  \n",
       "(37, 49)  <rdkit.Chem.rdchem.Mol object at 0x7f50f5369970>  201.1  \n",
       "(20, 31)  <rdkit.Chem.rdchem.Mol object at 0x7f50f54117b0>  -14.3  \n",
       "(37, 36)  <rdkit.Chem.rdchem.Mol object at 0x7f50f5402cb0>  -27.2  \n",
       "(9, 35)   <rdkit.Chem.rdchem.Mol object at 0x7f50f53696f0>  -24.1  \n",
       "(13, 27)  <rdkit.Chem.rdchem.Mol object at 0x7f50f53ee930>  -27.8  \n",
       "(45, 2)   <rdkit.Chem.rdchem.Mol object at 0x7f50f5369c30>  -44.9  \n",
       "(20, 34)  <rdkit.Chem.rdchem.Mol object at 0x7f50f54094b0>  -25.6  \n",
       "(45, 48)  <rdkit.Chem.rdchem.Mol object at 0x7f50f5369d30>  -31.1  \n",
       "(19, 26)  <rdkit.Chem.rdchem.Mol object at 0x7f50f53ee8b0>  -28.3  \n",
       "(41, 7)   <rdkit.Chem.rdchem.Mol object at 0x7f50f5369ab0>  -22.9  \n",
       "(28, 31)  <rdkit.Chem.rdchem.Mol object at 0x7f50f54119f0>  -26.7  \n",
       "(30, 31)  <rdkit.Chem.rdchem.Mol object at 0x7f50f5402cf0>  -23.9  \n",
       "(10, 25)  <rdkit.Chem.rdchem.Mol object at 0x7f50f53ee230>  -21.5  \n",
       "(15, 36)  <rdkit.Chem.rdchem.Mol object at 0x7f50f5447f30>  -23.1  \n",
       "(34, 43)  <rdkit.Chem.rdchem.Mol object at 0x7f50f5411270>  -24.2  \n",
       "(32, 22)  <rdkit.Chem.rdchem.Mol object at 0x7f50f54112f0>  -28.5  \n",
       "(34, 49)  <rdkit.Chem.rdchem.Mol object at 0x7f50f54091f0>  -18.1  \n",
       "(18, 7)   <rdkit.Chem.rdchem.Mol object at 0x7f50f54113f0>  -24.5  \n",
       "(21, 39)  <rdkit.Chem.rdchem.Mol object at 0x7f50f54098b0>  -22.8  \n",
       "(44, 7)   <rdkit.Chem.rdchem.Mol object at 0x7f50f5369df0>    NaN  \n",
       "(43, 19)  <rdkit.Chem.rdchem.Mol object at 0x7f50f5369cf0>    NaN  \n",
       "(23, 8)   <rdkit.Chem.rdchem.Mol object at 0x7f50f53c81b0>  -28.4  \n",
       "(32, 18)  <rdkit.Chem.rdchem.Mol object at 0x7f50f5411fb0>    NaN  \n",
       "(9, 26)   <rdkit.Chem.rdchem.Mol object at 0x7f50f5369b70>    NaN  \n",
       "(29, 27)  <rdkit.Chem.rdchem.Mol object at 0x7f50f5411170>    NaN  \n",
       "(37, 41)  <rdkit.Chem.rdchem.Mol object at 0x7f50f54114b0>  -32.8  \n",
       "(28, 12)  <rdkit.Chem.rdchem.Mol object at 0x7f50f54111b0>    NaN  \n",
       "(36, 22)  <rdkit.Chem.rdchem.Mol object at 0x7f50f54099f0>    NaN  \n",
       "(15, 14)  <rdkit.Chem.rdchem.Mol object at 0x7f50f54110f0>  -25.2  \n",
       "(10, 22)  <rdkit.Chem.rdchem.Mol object at 0x7f50f53eea30>  -19.0  "
      ]
     },
     "execution_count": 66,
     "metadata": {},
     "output_type": "execute_result"
    }
   ],
   "source": [
    "df"
   ]
  },
  {
   "cell_type": "code",
   "execution_count": 67,
   "id": "03e72d89-b788-4a24-9676-e6ca0af5b696",
   "metadata": {},
   "outputs": [],
   "source": [
    "#Chem.Draw.MolsToGridImage(list_of_moles)"
   ]
  },
  {
   "cell_type": "code",
   "execution_count": 70,
   "id": "3d07e81f-8dc7-4e06-bdce-cd0a163cce12",
   "metadata": {},
   "outputs": [
    {
     "data": {
      "image/png": "[encoded data removed]",
      "text/plain": [
       "<Figure size 864x576 with 1 Axes>"
      ]
     },
     "metadata": {
      "needs_background": "light"
     },
     "output_type": "display_data"
    }
   ],
   "source": [
    "fig, ax = plt.subplots(figsize=(12, 8))\n",
    "df[['score','DFT']].iloc[1:].plot.bar(ax=ax);\n",
    "ax.set(ylabel='kcal/mol *', xlabel='Molecule No.')\n",
    "#ax.set_xticks([f'Molecule {x}' for x in range(5)])\n",
    "for container in ax.containers:\n",
    "    ax.bar_label(container)\n",
    "fig.tight_layout()\n",
    "#fig.savefig('singlepoints.svg')"
   ]
  },
  {
   "cell_type": "markdown",
   "id": "9949a443-c6e2-42b9-a781-caa4a0964145",
   "metadata": {},
   "source": [
    "# Correlation plot"
   ]
  },
  {
   "cell_type": "code",
   "execution_count": 72,
   "id": "59f36e5c-e1a6-4fc2-ac31-d9e88307c548",
   "metadata": {},
   "outputs": [
    {
     "data": {
      "image/png": "[encoded data removed]",
      "text/plain": [
       "<Figure size 864x576 with 1 Axes>"
      ]
     },
     "metadata": {
      "needs_background": "light"
     },
     "output_type": "display_data"
    }
   ],
   "source": [
    "fig, ax = plt.subplots(figsize=(12, 8))\n",
    "sns.regplot(x=\"score\", y=\"DFT\",ci=68,truncate=False,data=df.iloc[1:], ax=ax);"
   ]
  },
  {
   "cell_type": "code",
   "execution_count": null,
   "id": "15bf2701-48a2-4592-aa07-9b6a54401a06",
   "metadata": {},
   "outputs": [],
   "source": []
  }
 ],
 "metadata": {
  "kernelspec": {
   "display_name": "Python 3 (ipykernel)",
   "language": "python",
   "name": "python3"
  },
  "language_info": {
   "codemirror_mode": {
    "name": "ipython",
    "version": 3
   },
   "file_extension": ".py",
   "mimetype": "text/x-python",
   "name": "python",
   "nbconvert_exporter": "python",
   "pygments_lexer": "ipython3",
   "version": "3.7.12"
  }
 },
 "nbformat": 4,
 "nbformat_minor": 5
}
