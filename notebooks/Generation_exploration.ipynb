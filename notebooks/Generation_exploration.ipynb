{
 "cells": [
  {
   "cell_type": "markdown",
   "id": "f5979cac-f0ad-46e0-958c-3b0aaff336df",
   "metadata": {},
   "source": [
    "# Exploring generations"
   ]
  },
  {
   "cell_type": "code",
   "execution_count": 1,
   "id": "09a5de4e-ab4d-4f3f-9e91-c11ff9a2f98c",
   "metadata": {},
   "outputs": [],
   "source": [
    "# improts\n",
    "import sys\n",
    "import os\n",
    "import numpy as np\n",
    "import matplotlib.pyplot as plt\n",
    "import re\n",
    "from pathlib import Path\n",
    "from glob import glob\n",
    "import pickle\n",
    "import shutil\n",
    "from rdkit import Chem\n",
    "from rdkit.Chem import Draw\n",
    "from rdkit.Chem.Draw import IPythonConsole, MolsToGridImage\n",
    "import py3Dmol\n",
    "\n",
    "from ipywidgets import interact,fixed,IntSlider\n",
    "\n",
    "IPythonConsole.drawOptions.addAtomIndices = True\n",
    "IPythonConsole.molSize = 500,500\n",
    "\n",
    "templates = Path('../templates/')\n",
    "generation_path = Path('~').expanduser()/'generation_correct_scoring'\n"
   ]
  },
  {
   "cell_type": "markdown",
   "id": "51006b7a-5c41-4761-bd88-d8c12bdd5987",
   "metadata": {},
   "source": [
    "### First test generation"
   ]
  },
  {
   "cell_type": "code",
   "execution_count": 2,
   "id": "4bccf941-e390-4320-9093-903934074400",
   "metadata": {},
   "outputs": [
    {
     "data": {
      "text/plain": [
       "PosixPath('/home/magstr/generation_correct_scoring')"
      ]
     },
     "execution_count": 2,
     "metadata": {},
     "output_type": "execute_result"
    }
   ],
   "source": [
    "generation_path"
   ]
  },
  {
   "cell_type": "code",
   "execution_count": 3,
   "id": "9c522093-96b7-436a-a0ab-8db3225aceb0",
   "metadata": {},
   "outputs": [],
   "source": [
    "files = generation_path.rglob('*xtbopt.xyz')"
   ]
  },
  {
   "cell_type": "code",
   "execution_count": 9,
   "id": "c6ae9015-23e0-47e6-848b-f1fcabb60edd",
   "metadata": {},
   "outputs": [],
   "source": [
    "paths = sorted(files)"
   ]
  },
  {
   "cell_type": "code",
   "execution_count": 10,
   "id": "14d7b336-2313-4585-a0c1-328a3524e01e",
   "metadata": {},
   "outputs": [
    {
     "data": {
      "text/plain": [
       "[]"
      ]
     },
     "execution_count": 10,
     "metadata": {},
     "output_type": "execute_result"
    }
   ],
   "source": [
    "paths"
   ]
  },
  {
   "cell_type": "code",
   "execution_count": null,
   "id": "2c39f35b-66e8-49fe-ae34-56c112caf584",
   "metadata": {},
   "outputs": [],
   "source": []
  },
  {
   "cell_type": "code",
   "execution_count": 4,
   "id": "eaac3fbb-e8a7-4bb0-bba9-0283cc60a252",
   "metadata": {},
   "outputs": [],
   "source": [
    "def draw_generation(\n",
    "    mols,\n",
    "    width=800,\n",
    "    height=600,\n",
    "    Hs=False,\n",
    "    confId=-1,\n",
    "    multipleConfs=False,\n",
    "    atomlabel=False,\n",
    "):\n",
    "    try:\n",
    "        p = py3Dmol.view(width=width, height=height)\n",
    "        if type(mols) is not list:\n",
    "            mols = [mols]\n",
    "        for mol in mols:\n",
    "            if multipleConfs:\n",
    "                for conf in mol.GetConformers():\n",
    "                    mb = Chem.MolToMolBlock(mol, confId=conf.GetId())\n",
    "                    p.addModel(mb, \"sdf\")\n",
    "            else:\n",
    "                if type(mol) is str:\n",
    "                    if os.path.splitext(mol)[-1] == \".xyz\":\n",
    "                        xyz_f = open(mol)\n",
    "                        line = xyz_f.read()\n",
    "                        xyz_f.close()\n",
    "                        p.addModel(line, \"xyz\")\n",
    "                else:\n",
    "                    mb = Chem.MolToMolBlock(mol, confId=confId)\n",
    "                    p.addModel(mb, \"sdf\")\n",
    "        p.setStyle({\"stick\": {\"radius\": 0.2}})\n",
    "        if atomlabel:\n",
    "            p.addPropertyLabels(\"index\")  # ,{'elem':'H'}\n",
    "        p.zoomTo()\n",
    "        p.update()\n",
    "        # p.show()\n",
    "    except Exception as e:\n",
    "        print(e)\n",
    "        print(\"py3Dmol, RDKit, and IPython are required for this feature.\")"
   ]
  },
  {
   "cell_type": "code",
   "execution_count": 5,
   "id": "1b1cf1a0-ec56-4833-9a21-1e7aba80b709",
   "metadata": {},
   "outputs": [],
   "source": [
    "#draw3d(str(paths[4]))"
   ]
  },
  {
   "cell_type": "code",
   "execution_count": 6,
   "id": "ad43e96b-755c-4dfb-ab96-97ca8523981c",
   "metadata": {},
   "outputs": [],
   "source": [
    "#paths[0]"
   ]
  },
  {
   "cell_type": "code",
   "execution_count": 7,
   "id": "3d5e87e7-21ef-451a-8b16-b9dba92aa1d1",
   "metadata": {},
   "outputs": [
    {
     "ename": "NameError",
     "evalue": "name 'paths' is not defined",
     "output_type": "error",
     "traceback": [
      "\u001b[0;31m---------------------------------------------------------------------------\u001b[0m",
      "\u001b[0;31mNameError\u001b[0m                                 Traceback (most recent call last)",
      "\u001b[0;32m/tmp/ipykernel_4937/3003059828.py\u001b[0m in \u001b[0;36m<module>\u001b[0;34m\u001b[0m\n\u001b[0;32m----> 1\u001b[0;31m \u001b[0mconfs\u001b[0m \u001b[0;34m=\u001b[0m \u001b[0;34m[\u001b[0m\u001b[0mpath\u001b[0m \u001b[0;32mfor\u001b[0m \u001b[0mpath\u001b[0m \u001b[0;32min\u001b[0m \u001b[0mpaths\u001b[0m\u001b[0;34m]\u001b[0m\u001b[0;34m\u001b[0m\u001b[0;34m\u001b[0m\u001b[0m\n\u001b[0m\u001b[1;32m      2\u001b[0m \u001b[0;34m\u001b[0m\u001b[0m\n\u001b[1;32m      3\u001b[0m \u001b[0;32mdef\u001b[0m \u001b[0mconf_viewer\u001b[0m\u001b[0;34m(\u001b[0m\u001b[0midx\u001b[0m\u001b[0;34m)\u001b[0m\u001b[0;34m:\u001b[0m\u001b[0;34m\u001b[0m\u001b[0;34m\u001b[0m\u001b[0m\n\u001b[1;32m      4\u001b[0m     \u001b[0mmol\u001b[0m \u001b[0;34m=\u001b[0m \u001b[0mconfs\u001b[0m\u001b[0;34m[\u001b[0m\u001b[0midx\u001b[0m\u001b[0;34m]\u001b[0m\u001b[0;34m\u001b[0m\u001b[0;34m\u001b[0m\u001b[0m\n\u001b[1;32m      5\u001b[0m     \u001b[0;32mreturn\u001b[0m \u001b[0mdraw_generation\u001b[0m\u001b[0;34m(\u001b[0m\u001b[0mstr\u001b[0m\u001b[0;34m(\u001b[0m\u001b[0mpaths\u001b[0m\u001b[0;34m[\u001b[0m\u001b[0midx\u001b[0m\u001b[0;34m]\u001b[0m\u001b[0;34m)\u001b[0m\u001b[0;34m)\u001b[0m\u001b[0;34m\u001b[0m\u001b[0;34m\u001b[0m\u001b[0m\n",
      "\u001b[0;31mNameError\u001b[0m: name 'paths' is not defined"
     ]
    }
   ],
   "source": [
    "confs = [path for path in paths]\n",
    "\n",
    "def conf_viewer(idx):\n",
    "    mol = confs[idx]\n",
    "    return draw_generation(str(paths[idx]))\n",
    "\n",
    "#interact(conf_viewer, idx=IntSlider(min=0,max=len(paths)-1, step=1))"
   ]
  },
  {
   "cell_type": "code",
   "execution_count": 8,
   "id": "53fe9393-0e83-4ac6-9db9-aa55c2ee3eab",
   "metadata": {},
   "outputs": [],
   "source": [
    "templates = Path('../templates/')\n",
    "generation_path = Path('~').expanduser()/'generation_final_correct_scoring'"
   ]
  },
  {
   "cell_type": "code",
   "execution_count": 9,
   "id": "3a9fb5c4-171f-4825-a6ea-ae59e6131e70",
   "metadata": {},
   "outputs": [],
   "source": [
    "files = generation_path.rglob('*xtbopt.xyz')\n",
    "paths = sorted(files)"
   ]
  },
  {
   "cell_type": "code",
   "execution_count": 10,
   "id": "4290bffd-565c-4a15-9a12-b25ef7251c0c",
   "metadata": {},
   "outputs": [
    {
     "data": {
      "application/vnd.jupyter.widget-view+json": {
       "model_id": "024fcd102d8449aa9d65c456b7d254fe",
       "version_major": 2,
       "version_minor": 0
      },
      "text/plain": [
       "interactive(children=(IntSlider(value=0, description='idx', max=189), Output()), _dom_classes=('widget-interac…"
      ]
     },
     "metadata": {},
     "output_type": "display_data"
    },
    {
     "data": {
      "text/plain": [
       "<function __main__.conf_viewer(idx)>"
      ]
     },
     "execution_count": 10,
     "metadata": {},
     "output_type": "execute_result"
    }
   ],
   "source": [
    "confs = [path for path in paths]\n",
    "\n",
    "def conf_viewer(idx):\n",
    "    mol = confs[idx]\n",
    "    return draw_generation(str(paths[idx]))\n",
    "\n",
    "interact(conf_viewer, idx=IntSlider(min=0,max=len(paths)-1, step=1))\n",
    "# 0, 34, 64, 71, 104, 186, 178\n",
    "# 27 weird, 172 ?!?"
   ]
  },
  {
   "cell_type": "code",
   "execution_count": 13,
   "id": "b84e9999-16d6-4415-a466-679f4ac7952a",
   "metadata": {},
   "outputs": [
    {
     "data": {
      "application/3dmoljs_load.v0": "<div id=\"3dmolviewer_16469208544936736\"  style=\"position: relative; width: 800px; height: 600px\">\n        <p id=\"3dmolwarning_16469208544936736\" style=\"background-color:#ffcccc;color:black\">You appear to be running in JupyterLab (or JavaScript failed to load for some other reason).  You need to install the 3dmol extension: <br>\n        <tt>jupyter labextension install jupyterlab_3dmol</tt></p>\n        </div>\n<script>\n\nvar loadScriptAsync = function(uri){\n  return new Promise((resolve, reject) => {\n    var tag = document.createElement('script');\n    tag.src = uri;\n    tag.async = true;\n    tag.onload = () => {\n      resolve();\n    };\n  var firstScriptTag = document.getElementsByTagName('script')[0];\n  firstScriptTag.parentNode.insertBefore(tag, firstScriptTag);\n});\n};\n\nif(typeof $3Dmolpromise === 'undefined') {\n$3Dmolpromise = null;\n  $3Dmolpromise = loadScriptAsync('https://3dmol.org/build/3Dmol.js');\n}\n\nvar viewer_16469208544936736 = null;\nvar warn = document.getElementById(\"3dmolwarning_16469208544936736\");\nif(warn) {\n    warn.parentNode.removeChild(warn);\n}\n$3Dmolpromise.then(function() {\nviewer_16469208544936736 = $3Dmol.createViewer($(\"#3dmolviewer_16469208544936736\"),{backgroundColor:\"white\"});\nviewer_16469208544936736.zoomTo();\n\tviewer_16469208544936736.addModel(\"36\\n energy: -49.094139247389 gnorm: 0.000210721663 xtb: 6.4.1 (23d549d)\\nN        -1.59728832153561   -4.07322538597723    4.17090309009157\\nC        -1.54120515356170   -5.42659066388944    3.96763715594555\\nC        -2.13406523017038   -6.02770564001340    2.67646639846504\\nN        -3.46069784965295   -6.42893639609532    2.64666961497805\\nC        -4.02726571815326   -7.17958444912738    3.65500305544263\\nC        -5.43049983905946   -6.72038610238155    4.16231724657013\\nN        -5.52316017225215   -5.82766371727765    5.18705110550987\\nMo       -4.03463904008864   -4.42761182021975    3.78118603245377\\nN        -5.76368267942490   -4.44007212735203    1.98435698392206\\nC        -4.65810901131764   -4.74865201591181    1.18710476568074\\nC        -4.20955424974648   -6.17584294199866    1.49084395216437\\nH        -5.03041549947630   -4.76257934496559    0.15300181097988\\nH        -3.85940908217299   -4.01322230127220    1.24811748556362\\nH        -5.11705530162955   -6.78077100851160    1.52089055788501\\nH        -3.60450910882094   -6.49554637162311    0.62987003417149\\nH        -5.98945239019944   -7.60171844017606    4.50551386119143\\nH        -6.02408671498814   -6.30020418406547    3.34670444960265\\nH        -3.33857855496762   -7.25748613989932    4.49353051032438\\nH        -4.22949617189826   -8.18833298208397    3.26717621755666\\nH        -0.47331583687718   -5.67795478095992    4.02879611756968\\nH        -1.99026802284093   -5.86641388343575    4.85631200073755\\nH        -1.97127150669780   -5.33742997700560    1.84974391630575\\nH        -1.51765049357001   -6.92521926791326    2.50813891692390\\nN        -4.49201462364129   -2.20388576233521    5.27798386654548\\nH        -4.27376873883606   -1.84267580908227    4.36737899177134\\nH        -3.72634424470354   -2.72877154810022    5.66426604786695\\nH        -5.34354028406802   -2.73724243546299    5.26090712045087\\nN        -1.85825369974156   -3.21585675207432    3.39156987216218\\nH        -2.01250078247322   -2.26747934482747    3.74401010124456\\nH        -2.21667185152736   -3.36034255026025    2.42735761231101\\nN        -4.70827308155781   -5.46339268959932    5.96830512995250\\nH        -4.93147073677156   -4.67461238896793    6.58269461871163\\nH        -3.68630266586915   -5.65950768293074    5.92941543764709\\nN        -5.88123611921384   -3.33995303825637    2.42260919213276\\nH        -6.58984382944571   -3.16451821216278    3.13721622209276\\nH        -5.15501335764201   -2.60515021027691    2.32802994483206\\n\",\"xyz\");\n\tviewer_16469208544936736.setStyle({\"stick\": {\"radius\": 0.2}});\n\tviewer_16469208544936736.zoomTo();\nviewer_16469208544936736.render();\n});\n</script><script>\n            $3Dmolpromise.then(function() { //wrap in promise for non-interactive functionality\n                \n                viewer_16469208544936736.render();\n            });\n            </script>",
      "text/html": [
       "<div id=\"3dmolviewer_16469208544936736\"  style=\"position: relative; width: 800px; height: 600px\">\n",
       "        <p id=\"3dmolwarning_16469208544936736\" style=\"background-color:#ffcccc;color:black\">You appear to be running in JupyterLab (or JavaScript failed to load for some other reason).  You need to install the 3dmol extension: <br>\n",
       "        <tt>jupyter labextension install jupyterlab_3dmol</tt></p>\n",
       "        </div>\n",
       "<script>\n",
       "\n",
       "var loadScriptAsync = function(uri){\n",
       "  return new Promise((resolve, reject) => {\n",
       "    var tag = document.createElement('script');\n",
       "    tag.src = uri;\n",
       "    tag.async = true;\n",
       "    tag.onload = () => {\n",
       "      resolve();\n",
       "    };\n",
       "  var firstScriptTag = document.getElementsByTagName('script')[0];\n",
       "  firstScriptTag.parentNode.insertBefore(tag, firstScriptTag);\n",
       "});\n",
       "};\n",
       "\n",
       "if(typeof $3Dmolpromise === 'undefined') {\n",
       "$3Dmolpromise = null;\n",
       "  $3Dmolpromise = loadScriptAsync('https://3dmol.org/build/3Dmol.js');\n",
       "}\n",
       "\n",
       "var viewer_16469208544936736 = null;\n",
       "var warn = document.getElementById(\"3dmolwarning_16469208544936736\");\n",
       "if(warn) {\n",
       "    warn.parentNode.removeChild(warn);\n",
       "}\n",
       "$3Dmolpromise.then(function() {\n",
       "viewer_16469208544936736 = $3Dmol.createViewer($(\"#3dmolviewer_16469208544936736\"),{backgroundColor:\"white\"});\n",
       "viewer_16469208544936736.zoomTo();\n",
       "\tviewer_16469208544936736.addModel(\"36\\n energy: -49.094139247389 gnorm: 0.000210721663 xtb: 6.4.1 (23d549d)\\nN        -1.59728832153561   -4.07322538597723    4.17090309009157\\nC        -1.54120515356170   -5.42659066388944    3.96763715594555\\nC        -2.13406523017038   -6.02770564001340    2.67646639846504\\nN        -3.46069784965295   -6.42893639609532    2.64666961497805\\nC        -4.02726571815326   -7.17958444912738    3.65500305544263\\nC        -5.43049983905946   -6.72038610238155    4.16231724657013\\nN        -5.52316017225215   -5.82766371727765    5.18705110550987\\nMo       -4.03463904008864   -4.42761182021975    3.78118603245377\\nN        -5.76368267942490   -4.44007212735203    1.98435698392206\\nC        -4.65810901131764   -4.74865201591181    1.18710476568074\\nC        -4.20955424974648   -6.17584294199866    1.49084395216437\\nH        -5.03041549947630   -4.76257934496559    0.15300181097988\\nH        -3.85940908217299   -4.01322230127220    1.24811748556362\\nH        -5.11705530162955   -6.78077100851160    1.52089055788501\\nH        -3.60450910882094   -6.49554637162311    0.62987003417149\\nH        -5.98945239019944   -7.60171844017606    4.50551386119143\\nH        -6.02408671498814   -6.30020418406547    3.34670444960265\\nH        -3.33857855496762   -7.25748613989932    4.49353051032438\\nH        -4.22949617189826   -8.18833298208397    3.26717621755666\\nH        -0.47331583687718   -5.67795478095992    4.02879611756968\\nH        -1.99026802284093   -5.86641388343575    4.85631200073755\\nH        -1.97127150669780   -5.33742997700560    1.84974391630575\\nH        -1.51765049357001   -6.92521926791326    2.50813891692390\\nN        -4.49201462364129   -2.20388576233521    5.27798386654548\\nH        -4.27376873883606   -1.84267580908227    4.36737899177134\\nH        -3.72634424470354   -2.72877154810022    5.66426604786695\\nH        -5.34354028406802   -2.73724243546299    5.26090712045087\\nN        -1.85825369974156   -3.21585675207432    3.39156987216218\\nH        -2.01250078247322   -2.26747934482747    3.74401010124456\\nH        -2.21667185152736   -3.36034255026025    2.42735761231101\\nN        -4.70827308155781   -5.46339268959932    5.96830512995250\\nH        -4.93147073677156   -4.67461238896793    6.58269461871163\\nH        -3.68630266586915   -5.65950768293074    5.92941543764709\\nN        -5.88123611921384   -3.33995303825637    2.42260919213276\\nH        -6.58984382944571   -3.16451821216278    3.13721622209276\\nH        -5.15501335764201   -2.60515021027691    2.32802994483206\\n\",\"xyz\");\n",
       "\tviewer_16469208544936736.setStyle({\"stick\": {\"radius\": 0.2}});\n",
       "\tviewer_16469208544936736.zoomTo();\n",
       "viewer_16469208544936736.render();\n",
       "});\n",
       "</script><script>\n",
       "            $3Dmolpromise.then(function() { //wrap in promise for non-interactive functionality\n",
       "                \n",
       "                viewer_16469208544936736.render();\n",
       "            });\n",
       "            </script>"
      ]
     },
     "metadata": {},
     "output_type": "display_data"
    }
   ],
   "source": [
    "draw_generation(str(paths[172]))"
   ]
  },
  {
   "cell_type": "code",
   "execution_count": null,
   "id": "eb1cddb0-9013-4a0e-9a26-0995448c3a9a",
   "metadata": {},
   "outputs": [],
   "source": []
  }
 ],
 "metadata": {
  "kernelspec": {
   "display_name": "Python [conda env:GA_molS] *",
   "language": "python",
   "name": "conda-env-GA_molS-py"
  },
  "language_info": {
   "codemirror_mode": {
    "name": "ipython",
    "version": 3
   },
   "file_extension": ".py",
   "mimetype": "text/x-python",
   "name": "python",
   "nbconvert_exporter": "python",
   "pygments_lexer": "ipython3",
   "version": "3.7.12"
  }
 },
 "nbformat": 4,
 "nbformat_minor": 5
}
