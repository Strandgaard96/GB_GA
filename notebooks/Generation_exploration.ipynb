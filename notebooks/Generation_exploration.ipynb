{
 "cells": [
  {
   "cell_type": "markdown",
   "id": "f5979cac-f0ad-46e0-958c-3b0aaff336df",
   "metadata": {},
   "source": [
    "# Exploring generations"
   ]
  },
  {
   "cell_type": "code",
   "execution_count": 17,
   "id": "09a5de4e-ab4d-4f3f-9e91-c11ff9a2f98c",
   "metadata": {},
   "outputs": [],
   "source": [
    "# improts\n",
    "import sys\n",
    "import os\n",
    "import numpy as np\n",
    "import matplotlib.pyplot as plt\n",
    "import re\n",
    "from pathlib import Path\n",
    "from glob import glob\n",
    "import pickle\n",
    "import shutil\n",
    "from rdkit import Chem\n",
    "from rdkit.Chem import Draw\n",
    "from rdkit.Chem.Draw import IPythonConsole, MolsToGridImage\n",
    "import py3Dmol\n",
    "\n",
    "from ipywidgets import interact,fixed,IntSlider\n",
    "\n",
    "IPythonConsole.drawOptions.addAtomIndices = True\n",
    "IPythonConsole.molSize = 500,500\n",
    "\n",
    "templates = Path('../templates/')\n",
    "generation_path = Path('~').expanduser()/'generation_correct_scoring'\n"
   ]
  },
  {
   "cell_type": "markdown",
   "id": "51006b7a-5c41-4761-bd88-d8c12bdd5987",
   "metadata": {},
   "source": [
    "### First test generation"
   ]
  },
  {
   "cell_type": "code",
   "execution_count": 2,
   "id": "4bccf941-e390-4320-9093-903934074400",
   "metadata": {},
   "outputs": [
    {
     "data": {
      "text/plain": [
       "PosixPath('/home/magstr/generation_correct_scoring')"
      ]
     },
     "execution_count": 2,
     "metadata": {},
     "output_type": "execute_result"
    }
   ],
   "source": [
    "generation_path"
   ]
  },
  {
   "cell_type": "code",
   "execution_count": 3,
   "id": "9c522093-96b7-436a-a0ab-8db3225aceb0",
   "metadata": {},
   "outputs": [],
   "source": [
    "files = generation_path.rglob('*xtbopt.xyz')"
   ]
  },
  {
   "cell_type": "code",
   "execution_count": 4,
   "id": "c6ae9015-23e0-47e6-848b-f1fcabb60edd",
   "metadata": {},
   "outputs": [],
   "source": [
    "paths = sorted(files)"
   ]
  },
  {
   "cell_type": "code",
   "execution_count": 5,
   "id": "14d7b336-2313-4585-a0c1-328a3524e01e",
   "metadata": {},
   "outputs": [
    {
     "data": {
      "text/plain": [
       "[]"
      ]
     },
     "execution_count": 5,
     "metadata": {},
     "output_type": "execute_result"
    }
   ],
   "source": [
    "paths"
   ]
  },
  {
   "cell_type": "code",
   "execution_count": null,
   "id": "2c39f35b-66e8-49fe-ae34-56c112caf584",
   "metadata": {},
   "outputs": [],
   "source": []
  },
  {
   "cell_type": "code",
   "execution_count": 6,
   "id": "eaac3fbb-e8a7-4bb0-bba9-0283cc60a252",
   "metadata": {},
   "outputs": [],
   "source": [
    "def draw_generation(\n",
    "    mols,\n",
    "    width=800,\n",
    "    height=600,\n",
    "    Hs=False,\n",
    "    confId=-1,\n",
    "    multipleConfs=False,\n",
    "    atomlabel=False,\n",
    "):\n",
    "    try:\n",
    "        p = py3Dmol.view(width=width, height=height)\n",
    "        if type(mols) is not list:\n",
    "            mols = [mols]\n",
    "        for mol in mols:\n",
    "            if multipleConfs:\n",
    "                for conf in mol.GetConformers():\n",
    "                    mb = Chem.MolToMolBlock(mol, confId=conf.GetId())\n",
    "                    p.addModel(mb, \"sdf\")\n",
    "            else:\n",
    "                if type(mol) is str:\n",
    "                    if os.path.splitext(mol)[-1] == \".xyz\":\n",
    "                        xyz_f = open(mol)\n",
    "                        line = xyz_f.read()\n",
    "                        xyz_f.close()\n",
    "                        p.addModel(line, \"xyz\")\n",
    "                else:\n",
    "                    mb = Chem.MolToMolBlock(mol, confId=confId)\n",
    "                    p.addModel(mb, \"sdf\")\n",
    "        p.setStyle({\"stick\": {\"radius\": 0.2}})\n",
    "        if atomlabel:\n",
    "            p.addPropertyLabels(\"index\")  # ,{'elem':'H'}\n",
    "        p.zoomTo()\n",
    "        p.update()\n",
    "        # p.show()\n",
    "    except Exception as e:\n",
    "        print(e)\n",
    "        print(\"py3Dmol, RDKit, and IPython are required for this feature.\")"
   ]
  },
  {
   "cell_type": "code",
   "execution_count": 7,
   "id": "1b1cf1a0-ec56-4833-9a21-1e7aba80b709",
   "metadata": {},
   "outputs": [],
   "source": [
    "#draw3d(str(paths[4]))"
   ]
  },
  {
   "cell_type": "code",
   "execution_count": 8,
   "id": "ad43e96b-755c-4dfb-ab96-97ca8523981c",
   "metadata": {},
   "outputs": [],
   "source": [
    "#paths[0]"
   ]
  },
  {
   "cell_type": "code",
   "execution_count": 9,
   "id": "3d5e87e7-21ef-451a-8b16-b9dba92aa1d1",
   "metadata": {},
   "outputs": [],
   "source": [
    "confs = [path for path in paths]\n",
    "\n",
    "def conf_viewer(idx):\n",
    "    mol = confs[idx]\n",
    "    return draw_generation(str(paths[idx]))\n",
    "\n",
    "#interact(conf_viewer, idx=IntSlider(min=0,max=len(paths)-1, step=1))"
   ]
  },
  {
   "cell_type": "code",
   "execution_count": 18,
   "id": "53fe9393-0e83-4ac6-9db9-aa55c2ee3eab",
   "metadata": {},
   "outputs": [],
   "source": [
    "templates = Path('../templates/')\n",
    "generation_path = Path('~').expanduser()/'generation_prim_amine'"
   ]
  },
  {
   "cell_type": "code",
   "execution_count": 19,
   "id": "3a9fb5c4-171f-4825-a6ea-ae59e6131e70",
   "metadata": {},
   "outputs": [],
   "source": [
    "files = generation_path.rglob('*xtbopt.xyz')\n",
    "paths = sorted(files)"
   ]
  },
  {
   "cell_type": "code",
   "execution_count": 20,
   "id": "4290bffd-565c-4a15-9a12-b25ef7251c0c",
   "metadata": {},
   "outputs": [
    {
     "data": {
      "application/vnd.jupyter.widget-view+json": {
       "model_id": "191cfb9860bb4172bf2b084d9abde8b3",
       "version_major": 2,
       "version_minor": 0
      },
      "text/plain": [
       "interactive(children=(IntSlider(value=0, description='idx', max=142), Output()), _dom_classes=('widget-interac…"
      ]
     },
     "metadata": {},
     "output_type": "display_data"
    },
    {
     "data": {
      "text/plain": [
       "<function __main__.conf_viewer(idx)>"
      ]
     },
     "execution_count": 20,
     "metadata": {},
     "output_type": "execute_result"
    }
   ],
   "source": [
    "confs = [path for path in paths]\n",
    "\n",
    "def conf_viewer(idx):\n",
    "    mol = confs[idx]\n",
    "    return draw_generation(str(paths[idx]))\n",
    "\n",
    "interact(conf_viewer, idx=IntSlider(min=0,max=len(paths)-1, step=1))\n",
    "# 0, 34, 64, 71, 104, 186, 178\n",
    "# 27 weird, 172 ?!?"
   ]
  },
  {
   "cell_type": "code",
   "execution_count": 16,
   "id": "b84e9999-16d6-4415-a466-679f4ac7952a",
   "metadata": {},
   "outputs": [
    {
     "ename": "IndexError",
     "evalue": "list index out of range",
     "output_type": "error",
     "traceback": [
      "\u001b[0;31m---------------------------------------------------------------------------\u001b[0m",
      "\u001b[0;31mIndexError\u001b[0m                                Traceback (most recent call last)",
      "\u001b[0;32m/tmp/ipykernel_35753/3070033104.py\u001b[0m in \u001b[0;36m<module>\u001b[0;34m\u001b[0m\n\u001b[0;32m----> 1\u001b[0;31m \u001b[0mdraw_generation\u001b[0m\u001b[0;34m(\u001b[0m\u001b[0mstr\u001b[0m\u001b[0;34m(\u001b[0m\u001b[0mpaths\u001b[0m\u001b[0;34m[\u001b[0m\u001b[0;36m172\u001b[0m\u001b[0;34m]\u001b[0m\u001b[0;34m)\u001b[0m\u001b[0;34m)\u001b[0m\u001b[0;34m\u001b[0m\u001b[0;34m\u001b[0m\u001b[0m\n\u001b[0m",
      "\u001b[0;31mIndexError\u001b[0m: list index out of range"
     ]
    }
   ],
   "source": [
    "draw_generation(str(paths[172]))"
   ]
  },
  {
   "cell_type": "code",
   "execution_count": null,
   "id": "eb1cddb0-9013-4a0e-9a26-0995448c3a9a",
   "metadata": {},
   "outputs": [],
   "source": []
  }
 ],
 "metadata": {
  "kernelspec": {
   "display_name": "Python [conda env:GA_molS] *",
   "language": "python",
   "name": "conda-env-GA_molS-py"
  },
  "language_info": {
   "codemirror_mode": {
    "name": "ipython",
    "version": 3
   },
   "file_extension": ".py",
   "mimetype": "text/x-python",
   "name": "python",
   "nbconvert_exporter": "python",
   "pygments_lexer": "ipython3",
   "version": "3.7.12"
  }
 },
 "nbformat": 4,
 "nbformat_minor": 5
}
