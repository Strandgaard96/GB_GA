{
 "cells": [
  {
   "cell_type": "markdown",
   "id": "f5979cac-f0ad-46e0-958c-3b0aaff336df",
   "metadata": {},
   "source": [
    "# Exploring generations"
   ]
  },
  {
   "cell_type": "code",
   "execution_count": 1,
   "id": "09a5de4e-ab4d-4f3f-9e91-c11ff9a2f98c",
   "metadata": {},
   "outputs": [],
   "source": [
    "# improts\n",
    "import sys\n",
    "import os\n",
    "import numpy as np\n",
    "import matplotlib.pyplot as plt\n",
    "import re\n",
    "from pathlib import Path\n",
    "from glob import glob\n",
    "import pickle\n",
    "import shutil\n",
    "from rdkit import Chem\n",
    "from rdkit.Chem import Draw\n",
    "from rdkit.Chem.Draw import IPythonConsole, MolsToGridImage\n",
    "import py3Dmol\n",
    "\n",
    "# For highlight colors\n",
    "from matplotlib.colors import ColorConverter\n",
    "\n",
    "from ipywidgets import interact,fixed,IntSlider \n",
    "\n",
    "\n",
    "module_path = os.path.abspath(os.path.join('..'))\n",
    "if module_path not in sys.path:\n",
    "\n",
    "    sys.path.append(module_path)\n",
    "    \n",
    "# Custom functions \n",
    "from my_utils.analysis import draw_generation,conf_viewer, sort_ga\n",
    "\n",
    "#IPythonConsole.drawOptions.addAtomIndices = True\n",
    "IPythonConsole.molSize = 500,500\n",
    "IPythonConsole.drawOptions.addAtomIndices = True\n",
    "\n",
    "font = {'weight' : 'bold',\n",
    "        'size'   : 18}\n",
    "\n",
    "plt.rc('font', **font)\n"
   ]
  },
  {
   "cell_type": "markdown",
   "id": "a506e0e2-bf16-4ceb-ba41-08b6e4810df3",
   "metadata": {},
   "source": [
    "# The original structure as reference:  "
   ]
  },
  {
   "cell_type": "code",
   "execution_count": 2,
   "id": "8cdf1f08-1217-48d5-976e-e4d58208a770",
   "metadata": {},
   "outputs": [],
   "source": [
    "Mo_hipt_path = '/home/magstr/Documents/nitrogenase/schrock/reference_structures/mo.xyz'\n",
    "#draw_generation(Mo_hipt_path)"
   ]
  },
  {
   "cell_type": "markdown",
   "id": "883d415f-de6e-43e6-bb0a-d69fd1281dc6",
   "metadata": {},
   "source": [
    "## PATHS: "
   ]
  },
  {
   "cell_type": "code",
   "execution_count": 71,
   "id": "3708fdeb-64bf-4743-87d1-7387371ef85f",
   "metadata": {},
   "outputs": [],
   "source": [
    "# Initilized path variables\n",
    "templates = Path('../templates/')\n",
    "\n",
    "# Path to folder with GA.pkl files\n",
    "generation_path = Path('~').expanduser()/\"generation_data/generation_testpre50\"\n",
    "\n",
    "# What GA to look at \n",
    "gen  = 'GA20.pkl'\n",
    "\n",
    "# How many molecules in the pop to look at \n",
    "size = 100\n",
    "\n",
    "# Name of folder to put xyz files in \n",
    "xyz_files = generation_path / 'xyz_files'\n",
    "Path(xyz_files).mkdir(exist_ok=True)"
   ]
  },
  {
   "cell_type": "markdown",
   "id": "0cd09acf-e533-4fef-9df1-b31c7fe12420",
   "metadata": {},
   "source": [
    "### The best ones from final generation"
   ]
  },
  {
   "cell_type": "code",
   "execution_count": 72,
   "id": "797215bf-67ff-4dba-a3e5-ac0bbef97b21",
   "metadata": {},
   "outputs": [],
   "source": [
    "with open(generation_path/gen, \"rb\") as f:\n",
    "    gen = pickle.load(f)"
   ]
  },
  {
   "cell_type": "code",
   "execution_count": 73,
   "id": "e2d215be-df1d-4767-b301-2d7dea32dd7e",
   "metadata": {},
   "outputs": [],
   "source": [
    "#for elem in gen.survivors.molecules:\n",
    "#    print(elem.energy)"
   ]
  },
  {
   "cell_type": "code",
   "execution_count": 82,
   "id": "83b4094a-4166-4e1d-ad94-c990d43cae2e",
   "metadata": {},
   "outputs": [
    {
     "data": {
      "text/plain": [
       "(16, 37)"
      ]
     },
     "execution_count": 82,
     "metadata": {},
     "output_type": "execute_result"
    }
   ],
   "source": [
    "gen.survivors.molecules[1].idx"
   ]
  },
  {
   "cell_type": "code",
   "execution_count": 75,
   "id": "d15220e3-e7ef-4738-b2df-a2420fe59d79",
   "metadata": {},
   "outputs": [
    {
     "ename": "TypeError",
     "evalue": "'NoneType' object is not iterable",
     "output_type": "error",
     "traceback": [
      "\u001b[0;31m---------------------------------------------------------------------------\u001b[0m",
      "\u001b[0;31mTypeError\u001b[0m                                 Traceback (most recent call last)",
      "Cell \u001b[0;32mIn[75], line 4\u001b[0m\n\u001b[1;32m      1\u001b[0m \u001b[38;5;28;01mfor\u001b[39;00m i,elem \u001b[38;5;129;01min\u001b[39;00m \u001b[38;5;28menumerate\u001b[39m(gen\u001b[38;5;241m.\u001b[39msurvivors\u001b[38;5;241m.\u001b[39mmolecules[\u001b[38;5;241m0\u001b[39m:size]):\n\u001b[1;32m      3\u001b[0m     \u001b[38;5;28;01mwith\u001b[39;00m \u001b[38;5;28mopen\u001b[39m(xyz_files\u001b[38;5;241m/\u001b[39m\u001b[38;5;124mf\u001b[39m\u001b[38;5;124m'\u001b[39m\u001b[38;5;124mxtbopt\u001b[39m\u001b[38;5;132;01m{\u001b[39;00mi\u001b[38;5;132;01m}\u001b[39;00m\u001b[38;5;124m.xyz\u001b[39m\u001b[38;5;124m'\u001b[39m, \u001b[38;5;124m\"\u001b[39m\u001b[38;5;124mw+\u001b[39m\u001b[38;5;124m\"\u001b[39m) \u001b[38;5;28;01mas\u001b[39;00m f:\n\u001b[0;32m----> 4\u001b[0m         \u001b[38;5;28;01mfor\u001b[39;00m line \u001b[38;5;129;01min\u001b[39;00m elem\u001b[38;5;241m.\u001b[39mstructure:\n\u001b[1;32m      5\u001b[0m             f\u001b[38;5;241m.\u001b[39mwrite(line)\n",
      "\u001b[0;31mTypeError\u001b[0m: 'NoneType' object is not iterable"
     ]
    }
   ],
   "source": [
    "for i,elem in enumerate(gen.survivors.molecules[0:size]):\n",
    "\n",
    "    with open(xyz_files/f'xtbopt{i}.xyz', \"w+\") as f:\n",
    "        for line in elem.structure:\n",
    "            f.write(line)"
   ]
  },
  {
   "cell_type": "code",
   "execution_count": 76,
   "id": "19330364-3be7-4c4d-917c-99f652e6d77b",
   "metadata": {},
   "outputs": [],
   "source": [
    "# Extract stuff from the generation\n",
    "\n",
    "mols = []\n",
    "list_idx = []\n",
    "cut_idx = []\n",
    "score = []\n",
    "\n",
    "for elem in gen.survivors.molecules:\n",
    "    mols.append(elem.rdkit_mol)    \n",
    "    list_idx.append(elem.idx)\n",
    "    score.append(elem.score)\n",
    "    cut_idx.append([elem.cut_idx])\n",
    "    "
   ]
  },
  {
   "cell_type": "code",
   "execution_count": 77,
   "id": "ed3b3494-05ef-4eb9-ac42-634608d21962",
   "metadata": {},
   "outputs": [
    {
     "ename": "TypeError",
     "evalue": "No registered converter was able to produce a C++ rvalue of type int from this Python object of type tuple",
     "output_type": "error",
     "traceback": [
      "\u001b[0;31m---------------------------------------------------------------------------\u001b[0m",
      "\u001b[0;31mTypeError\u001b[0m                                 Traceback (most recent call last)",
      "Cell \u001b[0;32mIn[77], line 1\u001b[0m\n\u001b[0;32m----> 1\u001b[0m \u001b[43mDraw\u001b[49m\u001b[38;5;241;43m.\u001b[39;49m\u001b[43mMolsToGridImage\u001b[49m\u001b[43m(\u001b[49m\u001b[43mmols\u001b[49m\u001b[43m,\u001b[49m\u001b[43mmolsPerRow\u001b[49m\u001b[38;5;241;43m=\u001b[39;49m\u001b[38;5;241;43m3\u001b[39;49m\u001b[43m,\u001b[49m\u001b[43mmaxMols\u001b[49m\u001b[38;5;241;43m=\u001b[39;49m\u001b[38;5;241;43m9\u001b[39;49m\u001b[43m,\u001b[49m\u001b[43mlegends\u001b[49m\u001b[38;5;241;43m=\u001b[39;49m\u001b[43m[\u001b[49m\u001b[38;5;124;43mf\u001b[39;49m\u001b[38;5;124;43m'\u001b[39;49m\u001b[38;5;124;43midx: \u001b[39;49m\u001b[38;5;132;43;01m{\u001b[39;49;00m\u001b[43mx\u001b[49m\u001b[38;5;132;43;01m}\u001b[39;49;00m\u001b[38;5;124;43m  |   Score:  \u001b[39;49m\u001b[38;5;132;43;01m{\u001b[39;49;00m\u001b[38;5;28;43mround\u001b[39;49m\u001b[43m(\u001b[49m\u001b[43mscore\u001b[49m\u001b[43m,\u001b[49m\u001b[38;5;241;43m3\u001b[39;49m\u001b[43m)\u001b[49m\u001b[38;5;132;43;01m}\u001b[39;49;00m\u001b[38;5;124;43m'\u001b[39;49m\u001b[43m \u001b[49m\u001b[38;5;28;43;01mfor\u001b[39;49;00m\u001b[43m \u001b[49m\u001b[43mx\u001b[49m\u001b[43m,\u001b[49m\u001b[43m \u001b[49m\u001b[43mscore\u001b[49m\u001b[43m \u001b[49m\u001b[38;5;129;43;01min\u001b[39;49;00m\u001b[43m \u001b[49m\u001b[38;5;28;43mzip\u001b[39;49m\u001b[43m(\u001b[49m\u001b[43mlist_idx\u001b[49m\u001b[43m,\u001b[49m\u001b[43mscore\u001b[49m\u001b[43m)\u001b[49m\u001b[43m]\u001b[49m\u001b[43m,\u001b[49m\u001b[43m \u001b[49m\u001b[43msubImgSize\u001b[49m\u001b[38;5;241;43m=\u001b[39;49m\u001b[43m(\u001b[49m\u001b[38;5;241;43m400\u001b[39;49m\u001b[43m,\u001b[49m\u001b[38;5;241;43m200\u001b[39;49m\u001b[43m)\u001b[49m\u001b[43m,\u001b[49m\u001b[43m \u001b[49m\u001b[43mhighlightAtomLists\u001b[49m\u001b[38;5;241;43m=\u001b[39;49m\u001b[43mcut_idx\u001b[49m\u001b[43m,\u001b[49m\u001b[43mreturnPNG\u001b[49m\u001b[38;5;241;43m=\u001b[39;49m\u001b[38;5;28;43;01mFalse\u001b[39;49;00m\u001b[43m)\u001b[49m\n",
      "File \u001b[0;32m~/miniconda3/envs/test/lib/python3.9/site-packages/rdkit/Chem/Draw/IPythonConsole.py:268\u001b[0m, in \u001b[0;36mShowMols\u001b[0;34m(mols, maxMols, **kwargs)\u001b[0m\n\u001b[1;32m    265\u001b[0m \u001b[38;5;28;01mif\u001b[39;00m \u001b[38;5;124m\"\u001b[39m\u001b[38;5;124mdrawOptions\u001b[39m\u001b[38;5;124m\"\u001b[39m \u001b[38;5;129;01mnot\u001b[39;00m \u001b[38;5;129;01min\u001b[39;00m kwargs:\n\u001b[1;32m    266\u001b[0m   kwargs[\u001b[38;5;124m\"\u001b[39m\u001b[38;5;124mdrawOptions\u001b[39m\u001b[38;5;124m\"\u001b[39m] \u001b[38;5;241m=\u001b[39m drawOptions\n\u001b[0;32m--> 268\u001b[0m res \u001b[38;5;241m=\u001b[39m \u001b[43mfn\u001b[49m\u001b[43m(\u001b[49m\u001b[43mmols\u001b[49m\u001b[43m,\u001b[49m\u001b[43m \u001b[49m\u001b[38;5;241;43m*\u001b[39;49m\u001b[38;5;241;43m*\u001b[39;49m\u001b[43mkwargs\u001b[49m\u001b[43m)\u001b[49m\n\u001b[1;32m    269\u001b[0m \u001b[38;5;28;01mif\u001b[39;00m InteractiveRenderer\u001b[38;5;241m.\u001b[39misEnabled():\n\u001b[1;32m    270\u001b[0m   \u001b[38;5;28;01mreturn\u001b[39;00m HTML(res)\n",
      "File \u001b[0;32m~/miniconda3/envs/test/lib/python3.9/site-packages/rdkit/Chem/Draw/__init__.py:622\u001b[0m, in \u001b[0;36mMolsToGridImage\u001b[0;34m(mols, molsPerRow, subImgSize, legends, highlightAtomLists, highlightBondLists, useSVG, returnPNG, **kwargs)\u001b[0m\n\u001b[1;32m    618\u001b[0m   \u001b[38;5;28;01mreturn\u001b[39;00m _MolsToGridSVG(mols, molsPerRow\u001b[38;5;241m=\u001b[39mmolsPerRow, subImgSize\u001b[38;5;241m=\u001b[39msubImgSize, legends\u001b[38;5;241m=\u001b[39mlegends,\n\u001b[1;32m    619\u001b[0m                         highlightAtomLists\u001b[38;5;241m=\u001b[39mhighlightAtomLists,\n\u001b[1;32m    620\u001b[0m                         highlightBondLists\u001b[38;5;241m=\u001b[39mhighlightBondLists, \u001b[38;5;241m*\u001b[39m\u001b[38;5;241m*\u001b[39mkwargs)\n\u001b[1;32m    621\u001b[0m \u001b[38;5;28;01melse\u001b[39;00m:\n\u001b[0;32m--> 622\u001b[0m   \u001b[38;5;28;01mreturn\u001b[39;00m \u001b[43m_MolsToGridImage\u001b[49m\u001b[43m(\u001b[49m\u001b[43mmols\u001b[49m\u001b[43m,\u001b[49m\u001b[43m \u001b[49m\u001b[43mmolsPerRow\u001b[49m\u001b[38;5;241;43m=\u001b[39;49m\u001b[43mmolsPerRow\u001b[49m\u001b[43m,\u001b[49m\u001b[43m \u001b[49m\u001b[43msubImgSize\u001b[49m\u001b[38;5;241;43m=\u001b[39;49m\u001b[43msubImgSize\u001b[49m\u001b[43m,\u001b[49m\u001b[43m \u001b[49m\u001b[43mlegends\u001b[49m\u001b[38;5;241;43m=\u001b[39;49m\u001b[43mlegends\u001b[49m\u001b[43m,\u001b[49m\n\u001b[1;32m    623\u001b[0m \u001b[43m                          \u001b[49m\u001b[43mhighlightAtomLists\u001b[49m\u001b[38;5;241;43m=\u001b[39;49m\u001b[43mhighlightAtomLists\u001b[49m\u001b[43m,\u001b[49m\n\u001b[1;32m    624\u001b[0m \u001b[43m                          \u001b[49m\u001b[43mhighlightBondLists\u001b[49m\u001b[38;5;241;43m=\u001b[39;49m\u001b[43mhighlightBondLists\u001b[49m\u001b[43m,\u001b[49m\u001b[43m \u001b[49m\u001b[43mreturnPNG\u001b[49m\u001b[38;5;241;43m=\u001b[39;49m\u001b[43mreturnPNG\u001b[49m\u001b[43m,\u001b[49m\u001b[43m \u001b[49m\u001b[38;5;241;43m*\u001b[39;49m\u001b[38;5;241;43m*\u001b[39;49m\u001b[43mkwargs\u001b[49m\u001b[43m)\u001b[49m\n",
      "File \u001b[0;32m~/miniconda3/envs/test/lib/python3.9/site-packages/rdkit/Chem/Draw/__init__.py:565\u001b[0m, in \u001b[0;36m_MolsToGridImage\u001b[0;34m(mols, molsPerRow, subImgSize, legends, highlightAtomLists, highlightBondLists, drawOptions, returnPNG, **kwargs)\u001b[0m\n\u001b[1;32m    563\u001b[0m       \u001b[38;5;28msetattr\u001b[39m(dops, k, v)\n\u001b[1;32m    564\u001b[0m       \u001b[38;5;28;01mdel\u001b[39;00m kwargs[k]\n\u001b[0;32m--> 565\u001b[0m \u001b[43md2d\u001b[49m\u001b[38;5;241;43m.\u001b[39;49m\u001b[43mDrawMolecules\u001b[49m\u001b[43m(\u001b[49m\u001b[38;5;28;43mlist\u001b[39;49m\u001b[43m(\u001b[49m\u001b[43mmols\u001b[49m\u001b[43m)\u001b[49m\u001b[43m,\u001b[49m\u001b[43m \u001b[49m\u001b[43mlegends\u001b[49m\u001b[38;5;241;43m=\u001b[39;49m\u001b[43mlegends\u001b[49m\u001b[43m \u001b[49m\u001b[38;5;129;43;01mor\u001b[39;49;00m\u001b[43m \u001b[49m\u001b[38;5;28;43;01mNone\u001b[39;49;00m\u001b[43m,\u001b[49m\u001b[43m \u001b[49m\u001b[43mhighlightAtoms\u001b[49m\u001b[38;5;241;43m=\u001b[39;49m\u001b[43mhighlightAtomLists\u001b[49m\u001b[43m,\u001b[49m\n\u001b[1;32m    566\u001b[0m \u001b[43m                  \u001b[49m\u001b[43mhighlightBonds\u001b[49m\u001b[38;5;241;43m=\u001b[39;49m\u001b[43mhighlightBondLists\u001b[49m\u001b[43m,\u001b[49m\u001b[43m \u001b[49m\u001b[38;5;241;43m*\u001b[39;49m\u001b[38;5;241;43m*\u001b[39;49m\u001b[43mkwargs\u001b[49m\u001b[43m)\u001b[49m\n\u001b[1;32m    567\u001b[0m d2d\u001b[38;5;241m.\u001b[39mFinishDrawing()\n\u001b[1;32m    568\u001b[0m \u001b[38;5;28;01mif\u001b[39;00m \u001b[38;5;129;01mnot\u001b[39;00m returnPNG:\n",
      "\u001b[0;31mTypeError\u001b[0m: No registered converter was able to produce a C++ rvalue of type int from this Python object of type tuple"
     ]
    }
   ],
   "source": [
    "Draw.MolsToGridImage(mols,molsPerRow=3,maxMols=9,legends=[f'idx: {x}  |   Score:  {round(score,3)}' for x, score in zip(list_idx,score)], subImgSize=(400,200), highlightAtomLists=cut_idx,returnPNG=False)"
   ]
  },
  {
   "cell_type": "code",
   "execution_count": 78,
   "id": "7abc1ec2-3956-4a3f-bdeb-0319fb69fb1a",
   "metadata": {},
   "outputs": [
    {
     "data": {
      "text/plain": [
       "1"
      ]
     },
     "execution_count": 78,
     "metadata": {},
     "output_type": "execute_result"
    }
   ],
   "source": [
    "paths = sorted(xyz_files.rglob('xtbopt*.xyz'))\n",
    "len(paths)"
   ]
  },
  {
   "cell_type": "code",
   "execution_count": 79,
   "id": "e747079a-6563-474f-9ec1-ab97f508130b",
   "metadata": {
    "tags": []
   },
   "outputs": [
    {
     "data": {
      "application/vnd.jupyter.widget-view+json": {
       "model_id": "9709105835b04e06b309f453bb791513",
       "version_major": 2,
       "version_minor": 0
      },
      "text/plain": [
       "interactive(children=(IntSlider(value=0, description='idx', max=0), Output()), _dom_classes=('widget-interact'…"
      ]
     },
     "metadata": {},
     "output_type": "display_data"
    }
   ],
   "source": [
    "interact(conf_viewer,confs=fixed(paths),idx=IntSlider(min=0,max=len(paths)-1,step=1), width=fixed(1200), height=fixed(500));"
   ]
  },
  {
   "cell_type": "markdown",
   "id": "d9537fd0-ed04-4e88-8139-5fc59d7ec020",
   "metadata": {},
   "source": [
    "### Energy evolution through time"
   ]
  },
  {
   "cell_type": "code",
   "execution_count": 10,
   "id": "1cf998df-0e3e-456f-8b11-9c7ec396a967",
   "metadata": {},
   "outputs": [],
   "source": [
    "# Get gen paths\n",
    "gen_objects = sorted(generation_path.rglob('GA*.pkl'), key=sort_ga)"
   ]
  },
  {
   "cell_type": "code",
   "execution_count": 33,
   "id": "50fa3fc8-c9cb-4b71-87c0-c3a7fd6c7617",
   "metadata": {},
   "outputs": [],
   "source": [
    "avg_energy=[]\n",
    "for elem in gen_objects:\n",
    "    with open(elem, \"rb\") as f:\n",
    "        #f.seek(0)\n",
    "        gen = pickle.load(f)\n",
    "        \n",
    "        df = gen.gen2pd()['score']\n",
    "        pop_size = len(df)\n",
    "        \n",
    "        # Remove the 9999 energies from mean calc\n",
    "        df = df[df < 1000]\n",
    "        \n",
    "        avg_energy.append(df.mean())"
   ]
  },
  {
   "cell_type": "code",
   "execution_count": 34,
   "id": "7dcfe955-b758-4b62-ad52-bac284970a10",
   "metadata": {},
   "outputs": [
    {
     "data": {
      "image/png": "[encoded data removed]",
      "text/plain": [
       "<Figure size 864x576 with 1 Axes>"
      ]
     },
     "metadata": {
      "needs_background": "light"
     },
     "output_type": "display_data"
    }
   ],
   "source": [
    "fig, ax = plt.subplots(figsize=(12, 8))\n",
    "x = np.arange(0,len(avg_energy))\n",
    "ax.plot(x,avg_energy,'*-')\n",
    "ax.set(xlabel='Generation No.', ylabel='Avg. score', title=f'Average energy in test population of {pop_size}', ylim =(min(avg_energy)-20,max(avg_energy)+10));\n",
    "fig.savefig(generation_path/generation_path.stem, dpi=600)"
   ]
  },
  {
   "cell_type": "code",
   "execution_count": null,
   "id": "35a4a7d7-6b75-4ff0-9d68-433f6a948bc1",
   "metadata": {},
   "outputs": [],
   "source": []
  }
 ],
 "metadata": {
  "kernelspec": {
   "display_name": "Python 3 (ipykernel)",
   "language": "python",
   "name": "python3"
  },
  "language_info": {
   "codemirror_mode": {
    "name": "ipython",
    "version": 3
   },
   "file_extension": ".py",
   "mimetype": "text/x-python",
   "name": "python",
   "nbconvert_exporter": "python",
   "pygments_lexer": "ipython3",
   "version": "3.10.11"
  }
 },
 "nbformat": 4,
 "nbformat_minor": 5
}
