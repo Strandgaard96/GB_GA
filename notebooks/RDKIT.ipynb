{
 "cells": [
  {
   "cell_type": "code",
   "execution_count": null,
   "id": "00572ccd-3d16-465d-a733-585b23f00835",
   "metadata": {},
   "outputs": [],
   "source": [
    "# importd\n",
    "import sys\n",
    "import os\n",
    "import numpy as np\n",
    "import matplotlib.pyplot as plt\n",
    "import re\n",
    "from pathlib import Path\n",
    "from glob import glob\n",
    "import pickle\n",
    "import shutil\n",
    "from rdkit import Chem\n",
    "from rdkit.Chem import Draw\n",
    "from rdkit.Chem.Draw import IPythonConsole, MolsToGridImage\n",
    "from rdkit.Chem import AllChem"
   ]
  },
  {
   "cell_type": "code",
   "execution_count": null,
   "id": "e2540c3d-6d13-45c5-87f5-8bf44d97bc2a",
   "metadata": {},
   "outputs": [],
   "source": [
    "file = \"../templates/core_dummy.sdf\"\n",
    "core = Chem.SDMolSupplier(file, removeHs=False, sanitize=False)\n",
    "\"\"\"Mol: \n",
    "mol object of the Mo core with dummy atoms instead of ligands\n",
    "\"\"\"\n",
    "file_NH3 = \"../templates/core_NH3_dummy.sdf\"\n",
    "core_NH3 = Chem.SDMolSupplier(file_NH3, removeHs=False, sanitize=False)"
   ]
  },
  {
   "cell_type": "code",
   "execution_count": null,
   "id": "c51a7f64-63d8-49e2-a678-1abc2c373a22",
   "metadata": {},
   "outputs": [],
   "source": [
    "core[0]"
   ]
  },
  {
   "cell_type": "code",
   "execution_count": null,
   "id": "9e404251-63c1-4302-b513-69d466cd56ea",
   "metadata": {},
   "outputs": [],
   "source": [
    "mol = Chem.MolFromMolFile(\n",
    "        \"/home/magstr/Documents/schrock/diagrams_schrock/dft/cycle_restart/Mo_N2/ams.results/traj.mol\", sanitize = False, removeHs=False)\n",
    "\n",
    "# Initialize substructure string\n",
    "\n",
    "# : matches aromatic bonds. Not == when it is delocalized\n",
    "# '[c]:[c][N]'\n",
    "# Smart for a nitrogen bound to aromatic carbon.\n",
    "smart = '[c][N]'\n",
    "\n",
    "patt = Chem.MolFromSmarts(smart)\n",
    "\n",
    "# Get indice of the carbon atom\n",
    "print(f'Has substructure match: {mol.HasSubstructMatch(patt)}')\n",
    "indices = mol.GetSubstructMatches(patt)\n",
    "print(f'Match at indices {indices}')\n",
    "\n",
    "frag = Chem.FragmentOnBonds(mol, [117])\n",
    "frags = Chem.GetMolFrags(frag,asMols=True,sanitizeFrags=False)\n",
    "\n",
    "\n",
    "Chem.Draw.MolToImage(frags[0], size=(800, 400))"
   ]
  },
  {
   "cell_type": "code",
   "execution_count": null,
   "id": "64426b16-40ed-4848-997c-b9210f3fbf37",
   "metadata": {},
   "outputs": [],
   "source": [
    "m = Chem.MolFromSmiles(Chem.MolToSmiles(frags[0]))"
   ]
  },
  {
   "cell_type": "code",
   "execution_count": null,
   "id": "cf7cf119-36cb-405a-b181-290c9cbd6a82",
   "metadata": {},
   "outputs": [],
   "source": [
    "im = Draw.MolToImage(m,returnPNG=False)"
   ]
  },
  {
   "cell_type": "code",
   "execution_count": null,
   "id": "f0b75ab3-82be-4d7a-8851-b5c75ecd9c4d",
   "metadata": {},
   "outputs": [],
   "source": [
    "im.save('HIPT_image', format='png')\n"
   ]
  },
  {
   "cell_type": "code",
   "execution_count": null,
   "id": "0c3da5e0-93a0-4045-8dbb-24c1dcbee5c8",
   "metadata": {},
   "outputs": [],
   "source": [
    "Chem.Draw.MolToImage(mol, size=(800, 400))"
   ]
  },
  {
   "cell_type": "code",
   "execution_count": null,
   "id": "9a6c3858-0576-40ff-8d03-952cbecdb540",
   "metadata": {},
   "outputs": [],
   "source": [
    "frag = Chem.FragmentOnBonds(mol, [117])"
   ]
  },
  {
   "cell_type": "code",
   "execution_count": null,
   "id": "1593b149-c472-48b0-b565-6285d5562c18",
   "metadata": {},
   "outputs": [],
   "source": [
    "Chem.Draw.MolToImage(frag, size=(800, 800))"
   ]
  },
  {
   "cell_type": "code",
   "execution_count": null,
   "id": "c25aca7b-a5ff-4031-9576-14f9a6fbd2a8",
   "metadata": {},
   "outputs": [],
   "source": [
    "frags = Chem.GetMolFrags(frag,asMols=True,sanitizeFrags=False)"
   ]
  },
  {
   "cell_type": "code",
   "execution_count": null,
   "id": "264ab4a1-2f42-4fa7-99e8-ea48fa3d784f",
   "metadata": {},
   "outputs": [],
   "source": [
    "frags[1]"
   ]
  },
  {
   "cell_type": "code",
   "execution_count": null,
   "id": "2cbcb524-be77-4d9f-b598-bf6fd10ae072",
   "metadata": {},
   "outputs": [],
   "source": [
    "Chem.MolToSmiles(Chem.RemoveHs(frags[0]))"
   ]
  },
  {
   "cell_type": "code",
   "execution_count": null,
   "id": "2ba0c733-04c0-4925-b529-9feb813b26c3",
   "metadata": {},
   "outputs": [],
   "source": [
    "Chem.MolFromSmiles('[NH2]c1cc(-c2c(C(C)C)cc(C(C)C)cc2C(C)C)cc(-c2c(C(C)C)cc(C(C)C)cc2C(C)C)c1')"
   ]
  },
  {
   "cell_type": "code",
   "execution_count": null,
   "id": "09e31a4c-068a-4092-aae8-25c6b824beff",
   "metadata": {},
   "outputs": [],
   "source": [
    "Chem.Draw.MolToImage(frags[0], size=(800, 800))"
   ]
  },
  {
   "cell_type": "code",
   "execution_count": null,
   "id": "0b82f61d-c019-45fc-b4f9-1026e8645b39",
   "metadata": {},
   "outputs": [],
   "source": [
    "Chem.MolToSmiles(Chem.RemoveHs(frags[0]))"
   ]
  },
  {
   "cell_type": "code",
   "execution_count": null,
   "id": "fe68781e-af96-4a22-a38a-abdb7e675ffe",
   "metadata": {},
   "outputs": [],
   "source": [
    "Draw.MolsToGridImage(frags)"
   ]
  },
  {
   "cell_type": "code",
   "execution_count": null,
   "id": "6e187a47-8dfa-4a9b-9e14-9d7f15e6821c",
   "metadata": {},
   "outputs": [],
   "source": [
    "Chem.Draw.MolToImage(frags[1], size=(800, 800))"
   ]
  },
  {
   "cell_type": "code",
   "execution_count": null,
   "id": "e0a137f7-6dd3-4ddf-86d6-d7bc042d6d41",
   "metadata": {},
   "outputs": [],
   "source": [
    "# Load intermediate\n",
    "mol = Chem.MolFromMolFile(\n",
    "    \"/home/magstr/Documents/nitrogenase/schrock/diagrams_schrock/dft/cycle_restart/Mo_N2/ams.results/traj.mol\", sanitize = False, removeHs=True)\n",
    "#mol.UpdatePropertyCache()\n",
    "mol.GetAtomWithIdx(23).SetFormalCharge(1)\n",
    "\n",
    "# Initialize substructure string\n",
    "\n",
    "# : matches aromatic bonds. Not == when it is delocalized\n",
    "# '[c]:[c][N]'\n",
    "# Smart for a nitrogen bound to aromatic carbon.\n",
    "smart = '[c][N]'\n",
    "\n",
    "# Initialize pattern\n",
    "patt = Chem.MolFromSmarts(smart)\n",
    "\n",
    "# Substructure match\n",
    "print(f'Has substructure match: {mol.HasSubstructMatch(patt)}')\n",
    "indices = mol.GetSubstructMatches(patt)\n",
    "\n",
    "# Visualize\n",
    "#im = Chem.Draw.MolToImage(mol, size=(800, 800))\n",
    "#im.show()\n",
    "bonds=[]\n",
    "# Cut the bonds between the nitrogen and the carbon.\n",
    "for tuple in indices:\n",
    "    # Get bond number\n",
    "    bonds.append(mol.GetBondBetweenAtoms(tuple[0], tuple[1]).GetIdx())\n",
    "\n",
    "# Cut\n",
    "frag = Chem.FragmentOnBonds(mol, bonds,addDummies=True, dummyLabels=[(1, 1), (1,1), (1,1)])\n",
    "\n",
    "#Draw cut\n",
    "#Chem.Draw.MolToImage(frag, size=(800, 800))\n",
    "\n",
    "# Split mol object into individual fragments. sanitizeFrags needs to be false, otherwise not work.\n",
    "frags = Chem.GetMolFrags(frag, asMols=True, sanitizeFrags=False)\n",
    "\n",
    "#final = Chem.RemoveHs(frags[1])\n",
    "Chem.Draw.MolToImage(frags[1], size=(400, 200))\n",
    "\n"
   ]
  },
  {
   "cell_type": "code",
   "execution_count": null,
   "id": "7e3010dc-069e-4097-8924-6558b526570e",
   "metadata": {},
   "outputs": [],
   "source": [
    "Chem.Draw.MolToImage(frags[2])"
   ]
  },
  {
   "cell_type": "code",
   "execution_count": null,
   "id": "3ee0a189-a1ba-435d-b686-db37edb57795",
   "metadata": {},
   "outputs": [],
   "source": [
    "Chem.MolFromSmiles(Chem.MolToSmiles(Chem.RemoveHs(frags[2])))"
   ]
  },
  {
   "cell_type": "code",
   "execution_count": null,
   "id": "78d40176-9f0c-4738-a4ab-be0435e7c4fb",
   "metadata": {},
   "outputs": [],
   "source": [
    "Chem.MolToSmiles(Chem.RemoveHs(frags[2]))"
   ]
  },
  {
   "cell_type": "markdown",
   "id": "2cd6cb77-ab99-4992-b4cb-47f838f6447e",
   "metadata": {
    "tags": []
   },
   "source": [
    "### Try to replace nitrogen with dummy instead"
   ]
  },
  {
   "cell_type": "code",
   "execution_count": null,
   "id": "d65acc3f-068a-4c3f-a95f-198ffe8bd0aa",
   "metadata": {},
   "outputs": [],
   "source": [
    "# This doesnt work if valenve is not filled for N. Eg if not dummy atoms are added\n",
    "#Draw.MolsToGridImage(frags)"
   ]
  },
  {
   "cell_type": "code",
   "execution_count": null,
   "id": "e751508f-3bd0-484a-9cae-cf639da2eea7",
   "metadata": {},
   "outputs": [],
   "source": [
    "frags[1]"
   ]
  },
  {
   "cell_type": "code",
   "execution_count": null,
   "id": "ad5f6285-b474-4b30-a1df-136c7d5d33df",
   "metadata": {},
   "outputs": [],
   "source": [
    "# Print dummy\n",
    "# Save frag to file\n",
    "templates = '../templates/'\n",
    "with open(templates+'core_N2.sdf', 'w+') as f:\n",
    "    f.write(Chem.MolToMolBlock(frags[1]))\n"
   ]
  },
  {
   "cell_type": "code",
   "execution_count": null,
   "id": "05840552-c25f-4e1d-a6d3-a7b81f3fac76",
   "metadata": {},
   "outputs": [],
   "source": [
    "# Convert dummy to hydrogen. Label possibly still persists\n",
    "for a in frags[1].GetAtoms():\n",
    "    if a.GetSymbol() == '*':\n",
    "        a.SetAtomicNum(1)\n",
    "templates = '../templates/'\n",
    "        \n",
    "# Save frag to file\n",
    "with open(templates+'core_N2_NH3_hs.sdf', 'w+') as f:\n",
    "    f.write(Chem.MolToMolBlock(frags[1]))\n",
    "\n",
    "## Save frag to file\n",
    "#with open('templates/HIPT.mol', 'w+') as f:\n",
    "#    f.write(Chem.MolToMolBlock(frags[0]))"
   ]
  },
  {
   "cell_type": "code",
   "execution_count": null,
   "id": "da7e85e8-cfca-4062-b910-9b138de53d2a",
   "metadata": {},
   "outputs": [],
   "source": [
    "# Replace dummy atoms\n",
    "for a in frags[1].GetAtoms():\n",
    "    if a.GetSymbol() == '*':\n",
    "        a.SetAtomicNum(1)\n",
    "        print('Dummy replaced')"
   ]
  },
  {
   "cell_type": "code",
   "execution_count": null,
   "id": "faa0d6bf-92b6-4430-8020-12ff4f4affe9",
   "metadata": {},
   "outputs": [],
   "source": [
    "frags[1]"
   ]
  },
  {
   "cell_type": "code",
   "execution_count": null,
   "id": "6eff9ce5-c72c-491e-b927-958396dee8da",
   "metadata": {},
   "outputs": [],
   "source": [
    "with open(templates+'core_noHS.sdf', 'w+') as f:\n",
    "    f.write(Chem.MolToMolBlock(frags[1]))"
   ]
  },
  {
   "cell_type": "code",
   "execution_count": null,
   "id": "befc36de-645b-4066-a4aa-ff4e52da4a4d",
   "metadata": {},
   "outputs": [],
   "source": [
    "# Alternative way to replace dummy? \n",
    "mod_mol = Chem.ReplaceSubstructs(frags[1],\n",
    "                                 Chem.MolFromSmiles('[1*]'),\n",
    "                                 Chem.MolFromSmiles('[H]'))\n",
    "mod_mol[0]"
   ]
  },
  {
   "cell_type": "code",
   "execution_count": null,
   "id": "7e4e519a-0598-4218-907f-094651d2080e",
   "metadata": {},
   "outputs": [],
   "source": [
    "# Substructure match to find the fragment with the core\n",
    "# Smart for a nitrogen bound to aromatic carbon.\n",
    "smart = \"[Mo]\"\n",
    "\n",
    "# Initialize pattern\n",
    "patt = Chem.MolFromSmarts(smart)\n",
    "\n",
    "# Substructure match\n",
    "for idx,struct in enumerate(frags):\n",
    "    if struct.HasSubstructMatch(patt):\n",
    "        print(f\"Found the molybdenum core: {idx}\")\n",
    "        break"
   ]
  },
  {
   "cell_type": "markdown",
   "id": "2589dd5e-cbca-4e08-b838-22438ac5b19a",
   "metadata": {},
   "source": [
    "## Mo_NH3 struct for GA template"
   ]
  },
  {
   "cell_type": "code",
   "execution_count": null,
   "id": "43a619c5-642a-4cc4-8f89-3735a8389509",
   "metadata": {},
   "outputs": [],
   "source": [
    "# Load intermediate\n",
    "mol = Chem.MolFromMolFile(\n",
    "    \"../templates/core_NH3_N2.mol\", sanitize = False, removeHs=False)\n",
    "\n",
    "# Initialize substructure string\n",
    "\n",
    "# : matches aromatic bonds. Not == when it is delocalized\n",
    "# '[c]:[c][N]'\n",
    "# Smart for a nitrogen bound to aromatic carbon.\n",
    "smart = '[H][N][C]'\n",
    "\n",
    "# Initialize pattern\n",
    "patt = Chem.MolFromSmarts(smart)\n",
    "\n",
    "# Substructure match\n",
    "print(f'Has substructure match: {mol.HasSubstructMatch(patt)}')\n",
    "indices = mol.GetSubstructMatches(patt)\n",
    "\n",
    "# Visualize\n",
    "#im = Chem.Draw.MolToImage(mol, size=(800, 800))\n",
    "#im.show()\n",
    "bonds=[]\n",
    "# Cut the bonds between the nitrogen and the carbon.\n",
    "for tuple in indices:\n",
    "    # Get bond number\n",
    "    bonds.append(mol.GetBondBetweenAtoms(tuple[0], tuple[1]).GetIdx())\n",
    "\n",
    "# Cut\n",
    "frag = Chem.FragmentOnBonds(mol, bonds,addDummies=True)\n",
    "\n",
    "#Draw cut\n",
    "#Chem.Draw.MolToImage(frag, size=(800, 800))\n",
    "\n",
    "# Split mol object into individual fragments. sanitizeFrags needs to be false, otherwise not work.\n",
    "frags = Chem.GetMolFrags(frag, asMols=True, sanitizeFrags=False)\n",
    "\n",
    "Chem.Draw.MolToImage(frags[0], size=(400, 200))\n",
    "\n"
   ]
  },
  {
   "cell_type": "code",
   "execution_count": null,
   "id": "26e98a00-a40b-4b6c-a874-a2227860604b",
   "metadata": {},
   "outputs": [],
   "source": [
    "Chem.Draw.MolToImage(mol, size=(400, 200))"
   ]
  },
  {
   "cell_type": "markdown",
   "id": "b28eea82-9078-4296-b58f-dc396a398f6c",
   "metadata": {},
   "source": [
    "### Try to put N2 on side"
   ]
  },
  {
   "cell_type": "code",
   "execution_count": null,
   "id": "6c4820b9-a042-43a2-81d9-05de1c1a05f2",
   "metadata": {},
   "outputs": [],
   "source": [
    "def getAttachmentVector(mol, atom_num=0):\n",
    "    \"\"\"Search for the position of the attachment point and extract the atom index of the attachment point and the connected atom (only single neighbour supported)\n",
    "    Function from https://pschmidtke.github.io/blog/rdkit/3d-editor/2021/01/23/grafting-fragments.html\n",
    "    mol: rdkit molecule with a dummy atom\n",
    "    return: atom indices\n",
    "    \"\"\"\n",
    "    rindex = -1\n",
    "    rindexNeighbor = -1\n",
    "    for atom in mol.GetAtoms():\n",
    "        if atom.GetAtomicNum() == atom_num:\n",
    "            rindex = atom.GetIdx()\n",
    "            print(rindex)\n",
    "            neighbours = atom.GetNeighbors()\n",
    "            print(neighbours)\n",
    "            if len(neighbours) == 1:\n",
    "                rindexNeighbor = neighbours[0].GetIdx()\n",
    "            else:\n",
    "                print(\"two attachment points not supported yet\")\n",
    "                return None\n",
    "\n",
    "    return rindex, rindexNeighbor"
   ]
  },
  {
   "cell_type": "code",
   "execution_count": null,
   "id": "5cd2b4a0-7bbb-41ce-81ea-0c04cf9e7f32",
   "metadata": {},
   "outputs": [],
   "source": [
    "def AddAtom(mol,indexNeighbor, atom_type=\"N\"):\n",
    "    \"\"\"Replace an atom with another type\"\"\"\n",
    "\n",
    "    emol = Chem.EditableMol(mol)\n",
    "    idx = emol.AddAtom(Chem.Atom(atom_type))\n",
    "    print(idx, indexNeighbor)\n",
    "    emol.AddBond(idx, indexNeighbor, order=Chem.rdchem.BondType.SINGLE)\n",
    "    \n",
    "    secondN_idx = emol.AddAtom(Chem.Atom(atom_type))\n",
    "\n",
    "    emol.AddBond(secondN_idx, idx, order=Chem.rdchem.BondType.TRIPLE)\n",
    "    \n",
    "    return emol.GetMol()"
   ]
  },
  {
   "cell_type": "code",
   "execution_count": null,
   "id": "d43d991e-4a52-48bc-a4c7-c78f49da43cd",
   "metadata": {},
   "outputs": [],
   "source": [
    "mol2 = AddAtom(mol,7)"
   ]
  },
  {
   "cell_type": "code",
   "execution_count": null,
   "id": "e3168594-bf13-4d1e-8023-e5b860832934",
   "metadata": {},
   "outputs": [],
   "source": [
    "mol2"
   ]
  },
  {
   "cell_type": "code",
   "execution_count": null,
   "id": "89c946c3-4977-44ec-9a0f-faf9fa99e6e2",
   "metadata": {},
   "outputs": [],
   "source": [
    "mol2.RemoveAllConformers()"
   ]
  },
  {
   "cell_type": "code",
   "execution_count": null,
   "id": "b46770ad-301d-4a61-ac30-d86ccc935901",
   "metadata": {},
   "outputs": [],
   "source": [
    "mol2"
   ]
  },
  {
   "cell_type": "code",
   "execution_count": null,
   "id": "290d9715-992e-412a-bde9-206ba652921e",
   "metadata": {},
   "outputs": [],
   "source": []
  },
  {
   "cell_type": "code",
   "execution_count": null,
   "id": "2e7a0925-a950-43b3-824e-22f2ab1a4a0d",
   "metadata": {},
   "outputs": [],
   "source": [
    "mol2.GetAtomWithIdx(26).SetFormalCharge(1)\n",
    "mol2.GetAtomWithIdx(30).SetFormalCharge(1)"
   ]
  },
  {
   "cell_type": "code",
   "execution_count": null,
   "id": "623876c0-c639-44b0-ab19-ae334a4b4ea4",
   "metadata": {},
   "outputs": [],
   "source": [
    "Chem.SanitizeMol(mol2)"
   ]
  },
  {
   "cell_type": "code",
   "execution_count": null,
   "id": "cb975db3-f433-413c-a193-b759bb44b623",
   "metadata": {},
   "outputs": [],
   "source": [
    "mol2"
   ]
  },
  {
   "cell_type": "code",
   "execution_count": null,
   "id": "1e3bb3f6-27d4-4b55-9711-4c3dffa86292",
   "metadata": {},
   "outputs": [],
   "source": [
    "from rdkit.Chem import AllChem"
   ]
  },
  {
   "cell_type": "code",
   "execution_count": null,
   "id": "4909cb23-03c3-4aac-84b8-ac3939bf59cd",
   "metadata": {},
   "outputs": [],
   "source": [
    "cids = AllChem.EmbedMultipleConfs(\n",
    "        mol=mol2,\n",
    "        numConfs=1,\n",
    "        maxAttempts=10,\n",
    "        randomSeed=2,\n",
    "    )"
   ]
  },
  {
   "cell_type": "code",
   "execution_count": null,
   "id": "ff00cb5c-4136-4f84-a77b-e3bec60868ba",
   "metadata": {},
   "outputs": [],
   "source": [
    "len(cids)"
   ]
  },
  {
   "cell_type": "code",
   "execution_count": null,
   "id": "96a77c6f-6beb-4905-b6f9-b36c2f0a60f3",
   "metadata": {},
   "outputs": [],
   "source": [
    "# Print dummy\n",
    "# Save frag to file\n",
    "templates = '../templates/'\n",
    "with open(templates+'core_NH3_N2.mol', 'w+') as f:\n",
    "    f.write(Chem.MolToMolBlock(mol2))"
   ]
  },
  {
   "cell_type": "markdown",
   "id": "6f69ad0a-e3a4-4ba5-966a-3b57ab62f626",
   "metadata": {},
   "source": [
    "### Try to replace nitrogen with dummy instead"
   ]
  },
  {
   "cell_type": "code",
   "execution_count": null,
   "id": "1221ed22-9d1f-45be-bbbd-5be2d73e4855",
   "metadata": {},
   "outputs": [],
   "source": [
    "# This doesnt work if valenve is not filled for N. Eg if not dummy atoms are added\n",
    "#Draw.MolsToGridImage(frags)"
   ]
  },
  {
   "cell_type": "code",
   "execution_count": null,
   "id": "faf635e3-f4f7-41da-bf06-4edce9b9d7fb",
   "metadata": {},
   "outputs": [],
   "source": [
    "frags[0]"
   ]
  },
  {
   "cell_type": "code",
   "execution_count": null,
   "id": "cf8de222-ec19-4105-938a-f00ee8b9cac1",
   "metadata": {},
   "outputs": [],
   "source": [
    "# Convert dummy to hydrogen. Label possibly still persists\n",
    "for a in frags[0].GetAtoms():\n",
    "    if a.GetSymbol() == '*':\n",
    "        a.SetAtomicNum(0)"
   ]
  },
  {
   "cell_type": "code",
   "execution_count": null,
   "id": "12ce2f81-72fd-4364-a9e6-3a1b697a36e3",
   "metadata": {},
   "outputs": [],
   "source": [
    "frags[0]"
   ]
  },
  {
   "cell_type": "code",
   "execution_count": null,
   "id": "94a7eb62-962e-45dd-a28c-3547beb67629",
   "metadata": {},
   "outputs": [],
   "source": [
    "# Print dummy\n",
    "# Save frag to file\n",
    "templates = '../templates/'\n",
    "with open(templates+'core_NH3_N2_dummy.mol', 'w+') as f:\n",
    "    f.write(Chem.MolToMolBlock(frags[0]))\n"
   ]
  },
  {
   "cell_type": "code",
   "execution_count": null,
   "id": "14ddd6c2-468d-4982-a48d-30e3cd843985",
   "metadata": {},
   "outputs": [],
   "source": [
    "file_NH3 = \"../templates/core_NH3_N2_dummy.mol\"\n",
    "core_NH3 = Chem.SDMolSupplier(file_NH3, removeHs=False, sanitize=False)"
   ]
  },
  {
   "cell_type": "code",
   "execution_count": null,
   "id": "a4a03e59-c1c1-4215-8105-428ab24c017b",
   "metadata": {},
   "outputs": [],
   "source": [
    "core_NH3[0]"
   ]
  },
  {
   "cell_type": "code",
   "execution_count": null,
   "id": "29b6d197-4035-481d-afc1-f6c091c6ea65",
   "metadata": {},
   "outputs": [],
   "source": [
    "Chem.MolFromSmiles('[N]([H])[H]')"
   ]
  },
  {
   "cell_type": "code",
   "execution_count": null,
   "id": "e7bd5106-30f5-4890-8a1b-15f1c1199909",
   "metadata": {},
   "outputs": [],
   "source": [
    "# Load intermediate\n",
    "mol = Chem.MolFromMolFile(\n",
    "    \"../templates/core_NH3.mol\", sanitize = False, removeHs=False)\n",
    "\n",
    "# Initialize substructure string\n",
    "\n",
    "# : matches aromatic bonds. Not == when it is delocalized\n",
    "# '[c]:[c][N]'\n",
    "# Smart for a nitrogen bound to aromatic carbon.\n",
    "smart = '[H][N][C]'\n",
    "\n",
    "# Initialize pattern\n",
    "patt = Chem.MolFromSmarts(smart)\n",
    "\n",
    "# Substructure match\n",
    "print(f'Has substructure match: {mol.HasSubstructMatch(patt)}')\n",
    "indices = mol.GetSubstructMatches(patt)"
   ]
  },
  {
   "cell_type": "markdown",
   "id": "499f81f1-0304-420f-9e0a-31aa4f003371",
   "metadata": {},
   "source": [
    "### Explore replace core functionality"
   ]
  },
  {
   "cell_type": "code",
   "execution_count": null,
   "id": "9f38f71b-10bb-4b6d-86de-90b55ae17c17",
   "metadata": {},
   "outputs": [],
   "source": [
    "from rdkit.Chem import MolToSmiles, MolFromSmiles, ReplaceCore\n",
    "mol = MolFromSmiles('CCN(CC)CC')\n",
    "core = Chem.MolFromSmarts(\"[NX3;H0]\")"
   ]
  },
  {
   "cell_type": "code",
   "execution_count": null,
   "id": "69b1c007-39ef-4fd8-9005-a95bee09b8fd",
   "metadata": {},
   "outputs": [],
   "source": [
    "mol"
   ]
  },
  {
   "cell_type": "code",
   "execution_count": null,
   "id": "cbc6fc5b-f93c-4baf-97cc-acb6ac4e1ac1",
   "metadata": {},
   "outputs": [],
   "source": [
    "ReplaceCore(mol, core, mol.GetSubstructMatch(core))"
   ]
  },
  {
   "cell_type": "code",
   "execution_count": null,
   "id": "0c089701-3c0b-4d45-a289-16172fa79295",
   "metadata": {},
   "outputs": [],
   "source": []
  },
  {
   "cell_type": "code",
   "execution_count": null,
   "id": "4a3670e2-c8a1-4342-bce2-1c88e660dfce",
   "metadata": {},
   "outputs": [],
   "source": [
    "mol = Chem.MolFromSmiles('CC=C(C=CCCN1CCC(N)CC1)CCS')"
   ]
  },
  {
   "cell_type": "code",
   "execution_count": null,
   "id": "ffa28150-ea3e-4b97-b5b4-49a1d0aadcd6",
   "metadata": {},
   "outputs": [],
   "source": [
    "mol"
   ]
  },
  {
   "cell_type": "code",
   "execution_count": null,
   "id": "e35dd286-a562-4f34-91de-8f85541ce2bc",
   "metadata": {},
   "outputs": [],
   "source": [
    "output_ligand = AllChem.ReplaceSubstructs(\n",
    "            mol,\n",
    "            Chem.MolFromSmarts(\"[c]\"),\n",
    "            Chem.MolFromSmarts(\"[H]\"),\n",
    "            replacementConnectionPoint=0,\n",
    "            replaceAll=True\n",
    "        )\n",
    "res = Chem.MolFromSmiles(Chem.MolToSmiles(output_ligand))"
   ]
  },
  {
   "cell_type": "code",
   "execution_count": null,
   "id": "0064617b-2942-4c5a-bfa7-47092692501a",
   "metadata": {},
   "outputs": [],
   "source": [
    "res"
   ]
  },
  {
   "cell_type": "code",
   "execution_count": null,
   "id": "bf3425d6-a64a-4c17-80cc-ab13265b89e1",
   "metadata": {},
   "outputs": [],
   "source": [
    "output_ligand"
   ]
  },
  {
   "cell_type": "code",
   "execution_count": null,
   "id": "1f91fbfe-565a-4891-8f7a-ec0348e4906f",
   "metadata": {},
   "outputs": [],
   "source": [
    "sys.path.insert(0, \"../my_utils\")\n",
    "with open(\"/home/magstr/generation_data/prod_new5_0/GA27_debug.pkl\", \"rb\") as f:\n",
    "    gen = pickle.load(f)"
   ]
  },
  {
   "cell_type": "code",
   "execution_count": null,
   "id": "f67a6800-dcaa-4060-bfc8-2780d16839c8",
   "metadata": {},
   "outputs": [],
   "source": [
    "mol = gen.molecules[48].rdkit_mol\n",
    "mol_with_atom_index(mol)\n",
    "m = mol.GetSubstructMatch(Chem.MolFromSmarts(\"*C\"))\n"
   ]
  }
 ],
 "metadata": {
  "language_info": {
   "name": "python"
  }
 },
 "nbformat": 4,
 "nbformat_minor": 5
}
