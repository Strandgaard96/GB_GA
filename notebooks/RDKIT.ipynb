{
 "cells": [
  {
   "cell_type": "code",
   "execution_count": 1,
   "id": "00572ccd-3d16-465d-a733-585b23f00835",
   "metadata": {},
   "outputs": [],
   "source": [
    "# improts\n",
    "import sys\n",
    "import os\n",
    "import numpy as np\n",
    "import matplotlib.pyplot as plt\n",
    "import re\n",
    "from pathlib import Path\n",
    "from glob import glob\n",
    "import pickle\n",
    "import shutil\n",
    "from rdkit import Chem\n",
    "from rdkit.Chem import Draw\n",
    "from rdkit.Chem.Draw import IPythonConsole, MolsToGridImage"
   ]
  },
  {
   "cell_type": "code",
   "execution_count": 2,
   "id": "9e404251-63c1-4302-b513-69d466cd56ea",
   "metadata": {},
   "outputs": [
    {
     "ename": "OSError",
     "evalue": "Bad input file /home/magstr/Documents/nitrogenase/schrock/diagrams_schrock/schrock_dft/Mo_N2/ams.results/traj.mol",
     "output_type": "error",
     "traceback": [
      "\u001b[0;31m---------------------------------------------------------------------------\u001b[0m",
      "\u001b[0;31mOSError\u001b[0m                                   Traceback (most recent call last)",
      "\u001b[0;32m/tmp/ipykernel_240686/1072679425.py\u001b[0m in \u001b[0;36m<module>\u001b[0;34m\u001b[0m\n\u001b[1;32m      1\u001b[0m mol = Chem.MolFromMolFile(\n\u001b[0;32m----> 2\u001b[0;31m         \"/home/magstr/Documents/nitrogenase/schrock/diagrams_schrock/schrock_dft/Mo_N2/ams.results/traj.mol\", sanitize = False, removeHs=False)\n\u001b[0m\u001b[1;32m      3\u001b[0m \u001b[0;34m\u001b[0m\u001b[0m\n\u001b[1;32m      4\u001b[0m \u001b[0;31m# Initialize substructure string\u001b[0m\u001b[0;34m\u001b[0m\u001b[0;34m\u001b[0m\u001b[0;34m\u001b[0m\u001b[0m\n\u001b[1;32m      5\u001b[0m \u001b[0;34m\u001b[0m\u001b[0m\n",
      "\u001b[0;31mOSError\u001b[0m: Bad input file /home/magstr/Documents/nitrogenase/schrock/diagrams_schrock/schrock_dft/Mo_N2/ams.results/traj.mol"
     ]
    }
   ],
   "source": [
    "mol = Chem.MolFromMolFile(\n",
    "        \"/home/magstr/Documents/nitrogenase/schrock/diagrams_schrock/schrock_dft/Mo_N2/ams.results/traj.mol\", sanitize = False, removeHs=False)\n",
    "\n",
    "# Initialize substructure string\n",
    "\n",
    "# : matches aromatic bonds. Not == when it is delocalized\n",
    "# '[c]:[c][N]'\n",
    "# Smart for a nitrogen bound to aromatic carbon.\n",
    "smart = '[c][N]'\n",
    "\n",
    "patt = Chem.MolFromSmarts(smart)\n",
    "print(Chem.MolToSmiles(patt), Chem.MolToSmiles(mol))\n",
    "\n",
    "# Get indice of the carbon atom\n",
    "print(f'Has substructure match: {mol.HasSubstructMatch(patt)}')\n",
    "indices = mol.GetSubstructMatches(patt)\n",
    "print(f'Match at indices {indices}')\n",
    "\n",
    "Chem.Draw.MolToImage(mol, size=(500, 500))\n",
    "\n",
    "frag = Chem.FragmentOnBonds(mol, [117])\n",
    "Chem.Draw.MolToImage(frag, size=(800, 800))\n",
    "frags = Chem.GetMolFrags(frag,asMols=True,sanitizeFrags=False)\n",
    "Chem.Draw.MolToImage(frags[0], size=(800, 800))"
   ]
  },
  {
   "cell_type": "code",
   "execution_count": 3,
   "id": "9a6c3858-0576-40ff-8d03-952cbecdb540",
   "metadata": {},
   "outputs": [
    {
     "ename": "NameError",
     "evalue": "name 'mol' is not defined",
     "output_type": "error",
     "traceback": [
      "\u001b[0;31m---------------------------------------------------------------------------\u001b[0m",
      "\u001b[0;31mNameError\u001b[0m                                 Traceback (most recent call last)",
      "\u001b[0;32m/tmp/ipykernel_240686/2109857242.py\u001b[0m in \u001b[0;36m<module>\u001b[0;34m\u001b[0m\n\u001b[0;32m----> 1\u001b[0;31m \u001b[0mfrag\u001b[0m \u001b[0;34m=\u001b[0m \u001b[0mChem\u001b[0m\u001b[0;34m.\u001b[0m\u001b[0mFragmentOnBonds\u001b[0m\u001b[0;34m(\u001b[0m\u001b[0mmol\u001b[0m\u001b[0;34m,\u001b[0m \u001b[0;34m[\u001b[0m\u001b[0;36m117\u001b[0m\u001b[0;34m]\u001b[0m\u001b[0;34m)\u001b[0m\u001b[0;34m\u001b[0m\u001b[0;34m\u001b[0m\u001b[0m\n\u001b[0m",
      "\u001b[0;31mNameError\u001b[0m: name 'mol' is not defined"
     ]
    }
   ],
   "source": [
    "frag = Chem.FragmentOnBonds(mol, [117])"
   ]
  },
  {
   "cell_type": "code",
   "execution_count": 4,
   "id": "1593b149-c472-48b0-b565-6285d5562c18",
   "metadata": {},
   "outputs": [
    {
     "ename": "NameError",
     "evalue": "name 'frag' is not defined",
     "output_type": "error",
     "traceback": [
      "\u001b[0;31m---------------------------------------------------------------------------\u001b[0m",
      "\u001b[0;31mNameError\u001b[0m                                 Traceback (most recent call last)",
      "\u001b[0;32m/tmp/ipykernel_240686/2580199836.py\u001b[0m in \u001b[0;36m<module>\u001b[0;34m\u001b[0m\n\u001b[0;32m----> 1\u001b[0;31m \u001b[0mChem\u001b[0m\u001b[0;34m.\u001b[0m\u001b[0mDraw\u001b[0m\u001b[0;34m.\u001b[0m\u001b[0mMolToImage\u001b[0m\u001b[0;34m(\u001b[0m\u001b[0mfrag\u001b[0m\u001b[0;34m,\u001b[0m \u001b[0msize\u001b[0m\u001b[0;34m=\u001b[0m\u001b[0;34m(\u001b[0m\u001b[0;36m800\u001b[0m\u001b[0;34m,\u001b[0m \u001b[0;36m800\u001b[0m\u001b[0;34m)\u001b[0m\u001b[0;34m)\u001b[0m\u001b[0;34m\u001b[0m\u001b[0;34m\u001b[0m\u001b[0m\n\u001b[0m",
      "\u001b[0;31mNameError\u001b[0m: name 'frag' is not defined"
     ]
    }
   ],
   "source": [
    "Chem.Draw.MolToImage(frag, size=(800, 800))"
   ]
  },
  {
   "cell_type": "code",
   "execution_count": 5,
   "id": "c25aca7b-a5ff-4031-9576-14f9a6fbd2a8",
   "metadata": {},
   "outputs": [
    {
     "ename": "NameError",
     "evalue": "name 'frag' is not defined",
     "output_type": "error",
     "traceback": [
      "\u001b[0;31m---------------------------------------------------------------------------\u001b[0m",
      "\u001b[0;31mNameError\u001b[0m                                 Traceback (most recent call last)",
      "\u001b[0;32m/tmp/ipykernel_240686/362483722.py\u001b[0m in \u001b[0;36m<module>\u001b[0;34m\u001b[0m\n\u001b[0;32m----> 1\u001b[0;31m \u001b[0mfrags\u001b[0m \u001b[0;34m=\u001b[0m \u001b[0mChem\u001b[0m\u001b[0;34m.\u001b[0m\u001b[0mGetMolFrags\u001b[0m\u001b[0;34m(\u001b[0m\u001b[0mfrag\u001b[0m\u001b[0;34m,\u001b[0m\u001b[0masMols\u001b[0m\u001b[0;34m=\u001b[0m\u001b[0;32mTrue\u001b[0m\u001b[0;34m,\u001b[0m\u001b[0msanitizeFrags\u001b[0m\u001b[0;34m=\u001b[0m\u001b[0;32mFalse\u001b[0m\u001b[0;34m)\u001b[0m\u001b[0;34m\u001b[0m\u001b[0;34m\u001b[0m\u001b[0m\n\u001b[0m",
      "\u001b[0;31mNameError\u001b[0m: name 'frag' is not defined"
     ]
    }
   ],
   "source": [
    "frags = Chem.GetMolFrags(frag,asMols=True,sanitizeFrags=False)"
   ]
  },
  {
   "cell_type": "code",
   "execution_count": 6,
   "id": "264ab4a1-2f42-4fa7-99e8-ea48fa3d784f",
   "metadata": {},
   "outputs": [
    {
     "ename": "NameError",
     "evalue": "name 'frags' is not defined",
     "output_type": "error",
     "traceback": [
      "\u001b[0;31m---------------------------------------------------------------------------\u001b[0m",
      "\u001b[0;31mNameError\u001b[0m                                 Traceback (most recent call last)",
      "\u001b[0;32m/tmp/ipykernel_240686/2277658424.py\u001b[0m in \u001b[0;36m<module>\u001b[0;34m\u001b[0m\n\u001b[0;32m----> 1\u001b[0;31m \u001b[0mfrags\u001b[0m\u001b[0;34m[\u001b[0m\u001b[0;36m1\u001b[0m\u001b[0;34m]\u001b[0m\u001b[0;34m\u001b[0m\u001b[0;34m\u001b[0m\u001b[0m\n\u001b[0m",
      "\u001b[0;31mNameError\u001b[0m: name 'frags' is not defined"
     ]
    }
   ],
   "source": [
    "frags[1]"
   ]
  },
  {
   "cell_type": "code",
   "execution_count": 7,
   "id": "2cbcb524-be77-4d9f-b598-bf6fd10ae072",
   "metadata": {},
   "outputs": [
    {
     "ename": "NameError",
     "evalue": "name 'frags' is not defined",
     "output_type": "error",
     "traceback": [
      "\u001b[0;31m---------------------------------------------------------------------------\u001b[0m",
      "\u001b[0;31mNameError\u001b[0m                                 Traceback (most recent call last)",
      "\u001b[0;32m/tmp/ipykernel_240686/1866660701.py\u001b[0m in \u001b[0;36m<module>\u001b[0;34m\u001b[0m\n\u001b[0;32m----> 1\u001b[0;31m \u001b[0mfrags\u001b[0m\u001b[0;34m[\u001b[0m\u001b[0;36m0\u001b[0m\u001b[0;34m]\u001b[0m\u001b[0;34m\u001b[0m\u001b[0;34m\u001b[0m\u001b[0m\n\u001b[0m",
      "\u001b[0;31mNameError\u001b[0m: name 'frags' is not defined"
     ]
    }
   ],
   "source": [
    "frags[0]"
   ]
  },
  {
   "cell_type": "code",
   "execution_count": 8,
   "id": "09e31a4c-068a-4092-aae8-25c6b824beff",
   "metadata": {},
   "outputs": [
    {
     "ename": "NameError",
     "evalue": "name 'frags' is not defined",
     "output_type": "error",
     "traceback": [
      "\u001b[0;31m---------------------------------------------------------------------------\u001b[0m",
      "\u001b[0;31mNameError\u001b[0m                                 Traceback (most recent call last)",
      "\u001b[0;32m/tmp/ipykernel_240686/1722627923.py\u001b[0m in \u001b[0;36m<module>\u001b[0;34m\u001b[0m\n\u001b[0;32m----> 1\u001b[0;31m \u001b[0mChem\u001b[0m\u001b[0;34m.\u001b[0m\u001b[0mDraw\u001b[0m\u001b[0;34m.\u001b[0m\u001b[0mMolToImage\u001b[0m\u001b[0;34m(\u001b[0m\u001b[0mfrags\u001b[0m\u001b[0;34m[\u001b[0m\u001b[0;36m0\u001b[0m\u001b[0;34m]\u001b[0m\u001b[0;34m,\u001b[0m \u001b[0msize\u001b[0m\u001b[0;34m=\u001b[0m\u001b[0;34m(\u001b[0m\u001b[0;36m800\u001b[0m\u001b[0;34m,\u001b[0m \u001b[0;36m800\u001b[0m\u001b[0;34m)\u001b[0m\u001b[0;34m)\u001b[0m\u001b[0;34m\u001b[0m\u001b[0;34m\u001b[0m\u001b[0m\n\u001b[0m",
      "\u001b[0;31mNameError\u001b[0m: name 'frags' is not defined"
     ]
    }
   ],
   "source": [
    "Chem.Draw.MolToImage(frags[0], size=(800, 800))"
   ]
  },
  {
   "cell_type": "code",
   "execution_count": 9,
   "id": "fe68781e-af96-4a22-a38a-abdb7e675ffe",
   "metadata": {},
   "outputs": [
    {
     "ename": "NameError",
     "evalue": "name 'frags' is not defined",
     "output_type": "error",
     "traceback": [
      "\u001b[0;31m---------------------------------------------------------------------------\u001b[0m",
      "\u001b[0;31mNameError\u001b[0m                                 Traceback (most recent call last)",
      "\u001b[0;32m/tmp/ipykernel_240686/2192002381.py\u001b[0m in \u001b[0;36m<module>\u001b[0;34m\u001b[0m\n\u001b[0;32m----> 1\u001b[0;31m \u001b[0mDraw\u001b[0m\u001b[0;34m.\u001b[0m\u001b[0mMolsToGridImage\u001b[0m\u001b[0;34m(\u001b[0m\u001b[0mfrags\u001b[0m\u001b[0;34m)\u001b[0m\u001b[0;34m\u001b[0m\u001b[0;34m\u001b[0m\u001b[0m\n\u001b[0m",
      "\u001b[0;31mNameError\u001b[0m: name 'frags' is not defined"
     ]
    }
   ],
   "source": [
    "Draw.MolsToGridImage(frags)"
   ]
  },
  {
   "cell_type": "code",
   "execution_count": 10,
   "id": "6e187a47-8dfa-4a9b-9e14-9d7f15e6821c",
   "metadata": {},
   "outputs": [
    {
     "ename": "NameError",
     "evalue": "name 'frags' is not defined",
     "output_type": "error",
     "traceback": [
      "\u001b[0;31m---------------------------------------------------------------------------\u001b[0m",
      "\u001b[0;31mNameError\u001b[0m                                 Traceback (most recent call last)",
      "\u001b[0;32m/tmp/ipykernel_240686/1830333180.py\u001b[0m in \u001b[0;36m<module>\u001b[0;34m\u001b[0m\n\u001b[0;32m----> 1\u001b[0;31m \u001b[0mChem\u001b[0m\u001b[0;34m.\u001b[0m\u001b[0mDraw\u001b[0m\u001b[0;34m.\u001b[0m\u001b[0mMolToImage\u001b[0m\u001b[0;34m(\u001b[0m\u001b[0mfrags\u001b[0m\u001b[0;34m[\u001b[0m\u001b[0;36m1\u001b[0m\u001b[0;34m]\u001b[0m\u001b[0;34m,\u001b[0m \u001b[0msize\u001b[0m\u001b[0;34m=\u001b[0m\u001b[0;34m(\u001b[0m\u001b[0;36m800\u001b[0m\u001b[0;34m,\u001b[0m \u001b[0;36m800\u001b[0m\u001b[0;34m)\u001b[0m\u001b[0;34m)\u001b[0m\u001b[0;34m\u001b[0m\u001b[0;34m\u001b[0m\u001b[0m\n\u001b[0m",
      "\u001b[0;31mNameError\u001b[0m: name 'frags' is not defined"
     ]
    }
   ],
   "source": [
    "Chem.Draw.MolToImage(frags[1], size=(800, 800))"
   ]
  },
  {
   "cell_type": "code",
   "execution_count": 75,
   "id": "e0a137f7-6dd3-4ddf-86d6-d7bc042d6d41",
   "metadata": {},
   "outputs": [
    {
     "name": "stdout",
     "output_type": "stream",
     "text": [
      "Has substructure match: True\n"
     ]
    },
    {
     "data": {
      "image/png": "[encoded data removed]",
      "text/plain": [
       "<PIL.PngImagePlugin.PngImageFile image mode=RGB size=400x200 at 0x7F098F1C83D0>"
      ]
     },
     "execution_count": 75,
     "metadata": {},
     "output_type": "execute_result"
    }
   ],
   "source": [
    "# Load intermediate\n",
    "mol = Chem.MolFromMolFile(\n",
    "    \"/home/magstr/Documents/nitrogenase/schrock/diagrams_schrock/dft/cycle_restart/Mo/ams.results/traj.mol\", sanitize = False, removeHs=False)\n",
    "\n",
    "#mol.GetAtomWithIdx(269).SetFormalCharge(1)\n",
    "mol.UpdatePropertyCache()\n",
    "# Initialize substructure string\n",
    "\n",
    "# : matches aromatic bonds. Not == when it is delocalized\n",
    "# '[c]:[c][N]'\n",
    "# Smart for a nitrogen bound to aromatic carbon.\n",
    "smart = '[c][N]'\n",
    "\n",
    "# Initialize pattern\n",
    "patt = Chem.MolFromSmarts(smart)\n",
    "\n",
    "# Substructure match\n",
    "print(f'Has substructure match: {mol.HasSubstructMatch(patt)}')\n",
    "indices = mol.GetSubstructMatches(patt)\n",
    "\n",
    "# Visualize\n",
    "#im = Chem.Draw.MolToImage(mol, size=(800, 800))\n",
    "#im.show()\n",
    "bonds=[]\n",
    "# Cut the bonds between the nitrogen and the carbon.\n",
    "for tuple in indices:\n",
    "    # Get bond number\n",
    "    bonds.append(mol.GetBondBetweenAtoms(tuple[0], tuple[1]).GetIdx())\n",
    "\n",
    "# Cut\n",
    "frag = Chem.FragmentOnBonds(mol, bonds,addDummies=False)\n",
    "\n",
    "#Draw cut\n",
    "#Chem.Draw.MolToImage(frag, size=(800, 800))\n",
    "\n",
    "# Split mol object into individual fragments. sanitizeFrags needs to be false, otherwise not work.\n",
    "frags = Chem.GetMolFrags(frag, asMols=True, sanitizeFrags=False)\n",
    "\n",
    "final = Chem.RemoveHs(frags[1])\n",
    "Chem.Draw.MolToImage(frags[1], size=(400, 200))\n",
    "\n"
   ]
  },
  {
   "cell_type": "code",
   "execution_count": 52,
   "id": "b0270857-ac60-4479-9469-c8eb2ee7311e",
   "metadata": {},
   "outputs": [
    {
     "data": {
      "text/plain": [
       "((8, 12), (41, 40), (70, 14))"
      ]
     },
     "execution_count": 52,
     "metadata": {},
     "output_type": "execute_result"
    }
   ],
   "source": [
    "indices"
   ]
  },
  {
   "cell_type": "markdown",
   "id": "2cd6cb77-ab99-4992-b4cb-47f838f6447e",
   "metadata": {},
   "source": [
    "### Try to replace nitrogen with dummy instead"
   ]
  },
  {
   "cell_type": "code",
   "execution_count": 19,
   "id": "d65acc3f-068a-4c3f-a95f-198ffe8bd0aa",
   "metadata": {},
   "outputs": [],
   "source": [
    "# This doesnt work if valenve is not filled for N. Eg if not dummy atoms are added\n",
    "#Draw.MolsToGridImage(frags)"
   ]
  },
  {
   "cell_type": "code",
   "execution_count": null,
   "id": "e751508f-3bd0-484a-9cae-cf639da2eea7",
   "metadata": {},
   "outputs": [
    {
     "data": {
      "image/png": "[encoded data removed]",
      "text/plain": [
       "<rdkit.Chem.rdchem.Mol at 0x7f098f203270>"
      ]
     },
     "execution_count": 63,
     "metadata": {},
     "output_type": "execute_result"
    }
   ],
   "source": [
    "frags[1]"
   ]
  },
  {
   "cell_type": "code",
   "execution_count": 72,
   "id": "ad5f6285-b474-4b30-a1df-136c7d5d33df",
   "metadata": {},
   "outputs": [],
   "source": [
    "# Print dummy\n",
    "# Save frag to file\n",
    "templates = '../templates/'\n",
    "with open(templates+'core_NH3_final.sdf', 'w+') as f:\n",
    "    f.write(Chem.MolToMolBlock(frags[1]))\n"
   ]
  },
  {
   "cell_type": "code",
   "execution_count": 12,
   "id": "05840552-c25f-4e1d-a6d3-a7b81f3fac76",
   "metadata": {},
   "outputs": [],
   "source": [
    "# Convert dummy to hydrogen. Label possibly still persists\n",
    "for a in frags[1].GetAtoms():\n",
    "    if a.GetSymbol() == '*':\n",
    "        a.SetAtomicNum(1)\n",
    "templates = '../templates/'\n",
    "        \n",
    "# Save frag to file\n",
    "with open(templates+'core_noHS.sdf', 'w+') as f:\n",
    "    f.write(Chem.MolToMolBlock(frags[1]))\n",
    "\n",
    "## Save frag to file\n",
    "#with open('templates/HIPT.mol', 'w+') as f:\n",
    "#    f.write(Chem.MolToMolBlock(frags[0]))"
   ]
  },
  {
   "cell_type": "code",
   "execution_count": 13,
   "id": "da7e85e8-cfca-4062-b910-9b138de53d2a",
   "metadata": {},
   "outputs": [],
   "source": [
    "# Replace dummy atoms\n",
    "for a in frags[1].GetAtoms():\n",
    "    if a.GetSymbol() == '*':\n",
    "        a.SetAtomicNum(1)\n",
    "        print('Dummy replaced')"
   ]
  },
  {
   "cell_type": "code",
   "execution_count": 14,
   "id": "faa0d6bf-92b6-4430-8020-12ff4f4affe9",
   "metadata": {},
   "outputs": [
    {
     "data": {
      "image/png": "[encoded data removed]",
      "text/plain": [
       "<rdkit.Chem.rdchem.Mol at 0x7f424e67c330>"
      ]
     },
     "execution_count": 14,
     "metadata": {},
     "output_type": "execute_result"
    }
   ],
   "source": [
    "frags[1]"
   ]
  },
  {
   "cell_type": "code",
   "execution_count": 15,
   "id": "befc36de-645b-4066-a4aa-ff4e52da4a4d",
   "metadata": {
    "tags": []
   },
   "outputs": [
    {
     "name": "stderr",
     "output_type": "stream",
     "text": [
      "RDKit WARNING: [15:57:19] WARNING: not removing hydrogen atom without neighbors\n",
      "[15:57:19] WARNING: not removing hydrogen atom without neighbors\n"
     ]
    },
    {
     "data": {
      "image/png": "[encoded data removed]",
      "text/plain": [
       "<rdkit.Chem.rdchem.Mol at 0x7f424e5e5630>"
      ]
     },
     "execution_count": 15,
     "metadata": {},
     "output_type": "execute_result"
    }
   ],
   "source": [
    "# Alternative way to replace dummy? \n",
    "mod_mol = Chem.ReplaceSubstructs(frags[1],\n",
    "                                 Chem.MolFromSmiles('[1*]'),\n",
    "                                 Chem.MolFromSmiles('[H]'))\n",
    "mod_mol[0]"
   ]
  },
  {
   "cell_type": "code",
   "execution_count": null,
   "id": "7e4e519a-0598-4218-907f-094651d2080e",
   "metadata": {},
   "outputs": [],
   "source": [
    "# Substructure match to find the fragment with the core\n",
    "# Smart for a nitrogen bound to aromatic carbon.\n",
    "smart = \"[Mo]\"\n",
    "\n",
    "# Initialize pattern\n",
    "patt = Chem.MolFromSmarts(smart)\n",
    "\n",
    "# Substructure match\n",
    "for idx,struct in enumerate(frags):\n",
    "    if struct.HasSubstructMatch(patt):\n",
    "        print(f\"Found the molybdenum core: {idx}\")\n",
    "        break"
   ]
  },
  {
   "cell_type": "code",
   "execution_count": null,
   "id": "59860dd1-8a49-4ece-b8d8-e02d3cb53c8c",
   "metadata": {},
   "outputs": [],
   "source": []
  },
  {
   "cell_type": "markdown",
   "id": "2589dd5e-cbca-4e08-b838-22438ac5b19a",
   "metadata": {},
   "source": [
    "## Mo_NH3 struct for GA template"
   ]
  },
  {
   "cell_type": "code",
   "execution_count": 5,
   "id": "a1ec1665-d0e5-4dc0-91df-59b047f2f5fc",
   "metadata": {},
   "outputs": [
    {
     "data": {
      "image/png": "[encoded data removed]",
      "text/plain": [
       "<rdkit.Chem.rdchem.Mol at 0x7fea5058d7b0>"
      ]
     },
     "execution_count": 5,
     "metadata": {},
     "output_type": "execute_result"
    }
   ],
   "source": [
    "mol"
   ]
  },
  {
   "cell_type": "code",
   "execution_count": 22,
   "id": "43a619c5-642a-4cc4-8f89-3735a8389509",
   "metadata": {},
   "outputs": [
    {
     "name": "stdout",
     "output_type": "stream",
     "text": [
      "Has substructure match: True\n"
     ]
    },
    {
     "data": {
      "image/png": "[encoded data removed]",
      "text/plain": [
       "<PIL.PngImagePlugin.PngImageFile image mode=RGB size=400x200 at 0x7FEA50527290>"
      ]
     },
     "execution_count": 22,
     "metadata": {},
     "output_type": "execute_result"
    }
   ],
   "source": [
    "# Load intermediate\n",
    "mol = Chem.MolFromMolFile(\n",
    "    \"../templates/core_NH3.mol\", sanitize = False, removeHs=False)\n",
    "\n",
    "# Initialize substructure string\n",
    "\n",
    "# : matches aromatic bonds. Not == when it is delocalized\n",
    "# '[c]:[c][N]'\n",
    "# Smart for a nitrogen bound to aromatic carbon.\n",
    "smart = '[H][N][C]'\n",
    "\n",
    "# Initialize pattern\n",
    "patt = Chem.MolFromSmarts(smart)\n",
    "\n",
    "# Substructure match\n",
    "print(f'Has substructure match: {mol.HasSubstructMatch(patt)}')\n",
    "indices = mol.GetSubstructMatches(patt)\n",
    "\n",
    "# Visualize\n",
    "#im = Chem.Draw.MolToImage(mol, size=(800, 800))\n",
    "#im.show()\n",
    "bonds=[]\n",
    "# Cut the bonds between the nitrogen and the carbon.\n",
    "for tuple in indices:\n",
    "    # Get bond number\n",
    "    bonds.append(mol.GetBondBetweenAtoms(tuple[0], tuple[1]).GetIdx())\n",
    "\n",
    "# Cut\n",
    "frag = Chem.FragmentOnBonds(mol, bonds,addDummies=True)\n",
    "\n",
    "#Draw cut\n",
    "#Chem.Draw.MolToImage(frag, size=(800, 800))\n",
    "\n",
    "# Split mol object into individual fragments. sanitizeFrags needs to be false, otherwise not work.\n",
    "frags = Chem.GetMolFrags(frag, asMols=True, sanitizeFrags=False)\n",
    "\n",
    "Chem.Draw.MolToImage(frags[0], size=(400, 200))\n",
    "\n"
   ]
  },
  {
   "cell_type": "code",
   "execution_count": 23,
   "id": "26e98a00-a40b-4b6c-a874-a2227860604b",
   "metadata": {},
   "outputs": [
    {
     "data": {
      "image/png": "[encoded data removed]",
      "text/plain": [
       "<PIL.PngImagePlugin.PngImageFile image mode=RGB size=400x200 at 0x7FEA50527790>"
      ]
     },
     "execution_count": 23,
     "metadata": {},
     "output_type": "execute_result"
    }
   ],
   "source": [
    "Chem.Draw.MolToImage(mol, size=(400, 200))"
   ]
  },
  {
   "cell_type": "markdown",
   "id": "6f69ad0a-e3a4-4ba5-966a-3b57ab62f626",
   "metadata": {},
   "source": [
    "### Try to replace nitrogen with dummy instead"
   ]
  },
  {
   "cell_type": "code",
   "execution_count": 13,
   "id": "1221ed22-9d1f-45be-bbbd-5be2d73e4855",
   "metadata": {},
   "outputs": [],
   "source": [
    "# This doesnt work if valenve is not filled for N. Eg if not dummy atoms are added\n",
    "#Draw.MolsToGridImage(frags)"
   ]
  },
  {
   "cell_type": "code",
   "execution_count": 24,
   "id": "faf635e3-f4f7-41da-bf06-4edce9b9d7fb",
   "metadata": {},
   "outputs": [
    {
     "data": {
      "image/png": "[encoded data removed]",
      "text/plain": [
       "<rdkit.Chem.rdchem.Mol at 0x7fea5051eb70>"
      ]
     },
     "execution_count": 24,
     "metadata": {},
     "output_type": "execute_result"
    }
   ],
   "source": [
    "frags[0]"
   ]
  },
  {
   "cell_type": "code",
   "execution_count": 20,
   "id": "cf8de222-ec19-4105-938a-f00ee8b9cac1",
   "metadata": {},
   "outputs": [],
   "source": [
    "# Convert dummy to hydrogen. Label possibly still persists\n",
    "for a in frags[0].GetAtoms():\n",
    "    if a.GetSymbol() == '*':\n",
    "        a.SetAtomicNum(0)"
   ]
  },
  {
   "cell_type": "code",
   "execution_count": 29,
   "id": "12ce2f81-72fd-4364-a9e6-3a1b697a36e3",
   "metadata": {},
   "outputs": [
    {
     "data": {
      "image/png": "[encoded data removed]",
      "text/plain": [
       "<rdkit.Chem.rdchem.Mol at 0x7fea5051eb70>"
      ]
     },
     "execution_count": 29,
     "metadata": {},
     "output_type": "execute_result"
    }
   ],
   "source": [
    "frags[0]"
   ]
  },
  {
   "cell_type": "code",
   "execution_count": 28,
   "id": "94a7eb62-962e-45dd-a28c-3547beb67629",
   "metadata": {},
   "outputs": [],
   "source": [
    "# Print dummy\n",
    "# Save frag to file\n",
    "templates = '../templates/'\n",
    "with open(templates+'core_NH3_dummy.mol', 'w+') as f:\n",
    "    f.write(Chem.MolToMolBlock(frags[0]))\n"
   ]
  },
  {
   "cell_type": "code",
   "execution_count": 38,
   "id": "14ddd6c2-468d-4982-a48d-30e3cd843985",
   "metadata": {},
   "outputs": [],
   "source": [
    "file_NH3 = \"../templates/core_NH3_dummy.mol\"\n",
    "core_NH3 = Chem.SDMolSupplier(file_NH3, removeHs=False, sanitize=False)"
   ]
  },
  {
   "cell_type": "code",
   "execution_count": 39,
   "id": "a4a03e59-c1c1-4215-8105-428ab24c017b",
   "metadata": {},
   "outputs": [
    {
     "data": {
      "image/png": "[encoded data removed]",
      "text/plain": [
       "<rdkit.Chem.rdchem.Mol at 0x7fea504ace40>"
      ]
     },
     "execution_count": 39,
     "metadata": {},
     "output_type": "execute_result"
    }
   ],
   "source": [
    "core_NH3[0]"
   ]
  },
  {
   "cell_type": "code",
   "execution_count": 40,
   "id": "9028b535-46b2-4f26-9026-01015229370f",
   "metadata": {},
   "outputs": [
    {
     "data": {
      "image/png": "[encoded data removed]",
      "text/plain": [
       "<rdkit.Chem.rdchem.Mol at 0x7fea504b3300>"
      ]
     },
     "execution_count": 40,
     "metadata": {},
     "output_type": "execute_result"
    }
   ],
   "source": [
    "core_NH3[0]"
   ]
  },
  {
   "cell_type": "code",
   "execution_count": 37,
   "id": "29b6d197-4035-481d-afc1-f6c091c6ea65",
   "metadata": {},
   "outputs": [
    {
     "data": {
      "image/png": "[encoded data removed]",
      "text/plain": [
       "<rdkit.Chem.rdchem.Mol at 0x7f3643693710>"
      ]
     },
     "execution_count": 37,
     "metadata": {},
     "output_type": "execute_result"
    }
   ],
   "source": [
    "Chem.MolFromSmiles('[N]([H])[H]')"
   ]
  },
  {
   "cell_type": "code",
   "execution_count": null,
   "id": "8b8e72a3-5f49-4bed-a938-d4ecb4883c0b",
   "metadata": {},
   "outputs": [],
   "source": []
  },
  {
   "cell_type": "code",
   "execution_count": 16,
   "id": "8896de63-6784-473f-bad3-de4b4e126180",
   "metadata": {},
   "outputs": [],
   "source": [
    "prim_amine_index = Chem.MolFromSmiles('[NH3]').GetSubstructMatches(\n",
    "        Chem.MolFromSmarts(\"[NX3;H2;!+1]\")\n",
    "    )"
   ]
  },
  {
   "cell_type": "code",
   "execution_count": 17,
   "id": "ea8594aa-0b13-4d69-a586-2481cbb3e43f",
   "metadata": {},
   "outputs": [],
   "source": [
    "a = prim_amine_index"
   ]
  },
  {
   "cell_type": "code",
   "execution_count": 18,
   "id": "1267e7cc-802b-483d-b5af-4796ede6565c",
   "metadata": {},
   "outputs": [
    {
     "data": {
      "text/plain": [
       "()"
      ]
     },
     "execution_count": 18,
     "metadata": {},
     "output_type": "execute_result"
    }
   ],
   "source": [
    "a"
   ]
  },
  {
   "cell_type": "code",
   "execution_count": 10,
   "id": "1cb59482-65c1-4cd4-9d52-822946560c2f",
   "metadata": {},
   "outputs": [],
   "source": [
    "a = ((0),)"
   ]
  },
  {
   "cell_type": "code",
   "execution_count": 19,
   "id": "e7bd5106-30f5-4890-8a1b-15f1c1199909",
   "metadata": {},
   "outputs": [
    {
     "name": "stdout",
     "output_type": "stream",
     "text": [
      "Has substructure match: True\n"
     ]
    }
   ],
   "source": [
    "# Load intermediate\n",
    "mol = Chem.MolFromMolFile(\n",
    "    \"../templates/core_NH3.mol\", sanitize = False, removeHs=False)\n",
    "\n",
    "# Initialize substructure string\n",
    "\n",
    "# : matches aromatic bonds. Not == when it is delocalized\n",
    "# '[c]:[c][N]'\n",
    "# Smart for a nitrogen bound to aromatic carbon.\n",
    "smart = '[H][N][C]'\n",
    "\n",
    "# Initialize pattern\n",
    "patt = Chem.MolFromSmarts(smart)\n",
    "\n",
    "# Substructure match\n",
    "print(f'Has substructure match: {mol.HasSubstructMatch(patt)}')\n",
    "indices = mol.GetSubstructMatches(patt)"
   ]
  },
  {
   "cell_type": "code",
   "execution_count": 26,
   "id": "47415259-0352-4ed7-b686-202a1bfffedf",
   "metadata": {},
   "outputs": [],
   "source": [
    "b = mol.GetSubstructMatches(patt)"
   ]
  },
  {
   "cell_type": "code",
   "execution_count": 32,
   "id": "1593be96-2642-4421-945f-626efed94f89",
   "metadata": {},
   "outputs": [],
   "source": [
    "a = ((0),)"
   ]
  },
  {
   "cell_type": "code",
   "execution_count": 34,
   "id": "854777a2-d722-4409-a370-5f6d13f57214",
   "metadata": {},
   "outputs": [
    {
     "ename": "TypeError",
     "evalue": "'int' object is not subscriptable",
     "output_type": "error",
     "traceback": [
      "\u001b[0;31m---------------------------------------------------------------------------\u001b[0m",
      "\u001b[0;31mTypeError\u001b[0m                                 Traceback (most recent call last)",
      "\u001b[0;32m/tmp/ipykernel_484068/1258311651.py\u001b[0m in \u001b[0;36m<module>\u001b[0;34m\u001b[0m\n\u001b[0;32m----> 1\u001b[0;31m \u001b[0ma\u001b[0m\u001b[0;34m[\u001b[0m\u001b[0;36m0\u001b[0m\u001b[0;34m]\u001b[0m\u001b[0;34m[\u001b[0m\u001b[0;36m0\u001b[0m\u001b[0;34m]\u001b[0m\u001b[0;34m\u001b[0m\u001b[0;34m\u001b[0m\u001b[0m\n\u001b[0m",
      "\u001b[0;31mTypeError\u001b[0m: 'int' object is not subscriptable"
     ]
    }
   ],
   "source": [
    "a[0][0]"
   ]
  },
  {
   "cell_type": "code",
   "execution_count": 25,
   "id": "0968c078-00a5-40af-bd1c-2c40ea9900c2",
   "metadata": {},
   "outputs": [
    {
     "ename": "TypeError",
     "evalue": "'int' object is not subscriptable",
     "output_type": "error",
     "traceback": [
      "\u001b[0;31m---------------------------------------------------------------------------\u001b[0m",
      "\u001b[0;31mTypeError\u001b[0m                                 Traceback (most recent call last)",
      "\u001b[0;32m/tmp/ipykernel_484068/1258311651.py\u001b[0m in \u001b[0;36m<module>\u001b[0;34m\u001b[0m\n\u001b[0;32m----> 1\u001b[0;31m \u001b[0ma\u001b[0m\u001b[0;34m[\u001b[0m\u001b[0;36m0\u001b[0m\u001b[0;34m]\u001b[0m\u001b[0;34m[\u001b[0m\u001b[0;36m0\u001b[0m\u001b[0;34m]\u001b[0m\u001b[0;34m\u001b[0m\u001b[0;34m\u001b[0m\u001b[0m\n\u001b[0m",
      "\u001b[0;31mTypeError\u001b[0m: 'int' object is not subscriptable"
     ]
    }
   ],
   "source": [
    "a[0][0]"
   ]
  },
  {
   "cell_type": "code",
   "execution_count": 36,
   "id": "81ed42a8-6f4a-4913-afe3-2f6f79e9cef3",
   "metadata": {},
   "outputs": [
    {
     "data": {
      "image/png": "[encoded data removed]",
      "text/plain": [
       "<rdkit.Chem.rdchem.Mol at 0x7f1dd8409b20>"
      ]
     },
     "execution_count": 36,
     "metadata": {},
     "output_type": "execute_result"
    }
   ],
   "source": [
    "Chem.MolFromSmiles('CN')"
   ]
  },
  {
   "cell_type": "code",
   "execution_count": null,
   "id": "e33596b3-0f1b-4d02-b1b5-d80fbc85b5cc",
   "metadata": {},
   "outputs": [],
   "source": []
  }
 ],
 "metadata": {
  "kernelspec": {
   "display_name": "Python 3 (ipykernel)",
   "language": "python",
   "name": "python3"
  },
  "language_info": {
   "codemirror_mode": {
    "name": "ipython",
    "version": 3
   },
   "file_extension": ".py",
   "mimetype": "text/x-python",
   "name": "python",
   "nbconvert_exporter": "python",
   "pygments_lexer": "ipython3",
   "version": "3.7.12"
  }
 },
 "nbformat": 4,
 "nbformat_minor": 5
}
