{
 "cells": [
  {
   "cell_type": "code",
   "execution_count": 90,
   "id": "90e4d67e-50ac-4e49-994f-c7535599b964",
   "metadata": {},
   "outputs": [],
   "source": [
    "# improts\n",
    "import sys\n",
    "import os\n",
    "import numpy as np\n",
    "import matplotlib.pyplot as plt\n",
    "import re\n",
    "from pathlib import Path\n",
    "from glob import glob\n",
    "import pickle\n",
    "import shutil\n",
    "from rdkit import Chem\n",
    "from rdkit.Chem import AllChem\n",
    "from rdkit.Chem import Draw\n",
    "from rdkit.Chem.Draw import IPythonConsole, MolsToGridImage\n",
    "\n",
    "from ase.db import connect\n",
    "from ase.io import read\n",
    "from ase.visualize import view\n",
    "\n",
    "from ase.calculators.singlepoint import SinglePointCalculator\n",
    "\n",
    "# Ensure we can import from the module level\n",
    "module_path = os.path.abspath(os.path.join('..'))\n",
    "if module_path not in sys.path:\n",
    "    sys.path.append(module_path)\n",
    "\n",
    "from my_utils.analysis import conf_viewer\n"
   ]
  },
  {
   "cell_type": "code",
   "execution_count": 91,
   "id": "7e958d99-01e9-4bc0-a5b2-faa3433d387e",
   "metadata": {},
   "outputs": [],
   "source": [
    "db = connect('/home/magstr/generation_data/sweet3/ase_database.db')\n",
    "test_db = connect('/home/magstr/generation_data/databases/test2.db')"
   ]
  },
  {
   "cell_type": "code",
   "execution_count": 92,
   "id": "fcfb7fc3-282e-42b7-880a-77f2caa159bc",
   "metadata": {},
   "outputs": [
    {
     "data": {
      "text/plain": [
       "0"
      ]
     },
     "execution_count": 92,
     "metadata": {},
     "output_type": "execute_result"
    }
   ],
   "source": [
    "len(test_db)"
   ]
  },
  {
   "cell_type": "code",
   "execution_count": 63,
   "id": "743971e5-5872-47bf-b4c9-e653d7a2bfdf",
   "metadata": {},
   "outputs": [
    {
     "name": "stdout",
     "output_type": "stream",
     "text": [
      "020_013_Mo_NH3/conf000/traj.xyz\n"
     ]
    }
   ],
   "source": [
    "structs = []\n",
    "for elem in db.select():\n",
    "    structs.append(elem.toatoms())\n",
    "print(elem['name'])"
   ]
  },
  {
   "cell_type": "code",
   "execution_count": 64,
   "id": "9c63ee61-abdd-44ea-a1eb-93b862489592",
   "metadata": {},
   "outputs": [
    {
     "data": {
      "text/plain": [
       "1480"
      ]
     },
     "execution_count": 64,
     "metadata": {},
     "output_type": "execute_result"
    }
   ],
   "source": [
    "len(structs)"
   ]
  },
  {
   "cell_type": "code",
   "execution_count": 52,
   "id": "811dba4e-3a20-4d0c-8bfd-2fffc6150f72",
   "metadata": {},
   "outputs": [
    {
     "data": {
      "application/vnd.jupyter.widget-view+json": {
       "model_id": "ef0d68659cc6469ba6105f4f8e659615",
       "version_major": 2,
       "version_minor": 0
      },
      "text/plain": [
       "HBox(children=(NGLWidget(), VBox(children=(Dropdown(description='Show', options=('All', 'Mo', 'C', 'N', 'O', '…"
      ]
     },
     "metadata": {},
     "output_type": "display_data"
    }
   ],
   "source": [
    "view(structs[996], viewer ='ngl')"
   ]
  },
  {
   "cell_type": "code",
   "execution_count": 53,
   "id": "6f472e49-4ecd-4cd5-b638-50239109c8cf",
   "metadata": {},
   "outputs": [],
   "source": [
    "# This has to be after the cell.......\n",
    "v=_\n",
    "v.view.add_ball_and_stick(\"ligand\")"
   ]
  },
  {
   "cell_type": "code",
   "execution_count": null,
   "id": "d5236d64-8bca-402b-9e7e-df6ba27ddd15",
   "metadata": {},
   "outputs": [],
   "source": []
  },
  {
   "cell_type": "code",
   "execution_count": 68,
   "id": "8c9b8ac4-8a9d-49be-8be6-601d1d0b0fea",
   "metadata": {},
   "outputs": [],
   "source": [
    "p = Path('/home/magstr/generation_data/sweet3/')"
   ]
  },
  {
   "cell_type": "code",
   "execution_count": 69,
   "id": "52bd56aa-65cf-47ce-89c3-aac42d4ea6a3",
   "metadata": {},
   "outputs": [],
   "source": [
    "trajs =sorted(p.rglob('*traj*'))"
   ]
  },
  {
   "cell_type": "code",
   "execution_count": 71,
   "id": "fe5704df-c98e-47c0-9633-186fea24c3f5",
   "metadata": {},
   "outputs": [
    {
     "data": {
      "text/plain": [
       "PosixPath('/home/magstr/generation_data/sweet3/000_000_Mo_N2_NH3/conf002/traj.xyz')"
      ]
     },
     "execution_count": 71,
     "metadata": {},
     "output_type": "execute_result"
    }
   ],
   "source": [
    "trajs[0]"
   ]
  },
  {
   "cell_type": "code",
   "execution_count": 38,
   "id": "3be016b2-ad27-4cc5-92e7-161c9d05f631",
   "metadata": {},
   "outputs": [],
   "source": [
    "sum = 0\n",
    "for i in trajs:\n",
    "    structs = read(i,index=':')\n",
    "    sum+=len(structs)"
   ]
  },
  {
   "cell_type": "code",
   "execution_count": 39,
   "id": "673c6b1a-f166-4923-8cd9-36b56eb1b384",
   "metadata": {},
   "outputs": [
    {
     "data": {
      "text/plain": [
       "160347"
      ]
     },
     "execution_count": 39,
     "metadata": {},
     "output_type": "execute_result"
    }
   ],
   "source": [
    "sum"
   ]
  },
  {
   "cell_type": "code",
   "execution_count": 107,
   "id": "2738602e-08b0-4706-bb84-a7020410b314",
   "metadata": {},
   "outputs": [
    {
     "name": "stdout",
     "output_type": "stream",
     "text": [
      "Atoms(symbols='C21H36MoN7O3', pbc=False)\n",
      "Atoms(symbols='C21H36MoN7O3', pbc=False)\n",
      "Atoms(symbols='C21H36MoN7O3', pbc=False)\n",
      "Atoms(symbols='C21H36MoN7O3', pbc=False)\n",
      "Atoms(symbols='C21H36MoN7O3', pbc=False)\n",
      "Atoms(symbols='C21H36MoN7O3', pbc=False)\n",
      "Atoms(symbols='C21H36MoN7O3', pbc=False)\n",
      "Atoms(symbols='C21H36MoN7O3', pbc=False)\n",
      "Atoms(symbols='C21H36MoN7O3', pbc=False)\n",
      "Atoms(symbols='C21H36MoN7O3', pbc=False)\n",
      "Atoms(symbols='C21H36MoN7O3', pbc=False)\n",
      "Atoms(symbols='C21H36MoN7O3', pbc=False)\n",
      "Atoms(symbols='C21H36MoN7O3', pbc=False)\n",
      "Atoms(symbols='C21H36MoN7O3', pbc=False)\n",
      "Atoms(symbols='C21H36MoN7O3', pbc=False)\n",
      "Atoms(symbols='C21H36MoN7O3', pbc=False)\n",
      "Atoms(symbols='C21H36MoN7O3', pbc=False)\n",
      "Atoms(symbols='C21H36MoN7O3', pbc=False)\n",
      "Atoms(symbols='C21H36MoN7O3', pbc=False)\n",
      "Atoms(symbols='C21H36MoN7O3', pbc=False)\n",
      "Atoms(symbols='C21H36MoN7O3', pbc=False)\n",
      "Atoms(symbols='C21H36MoN7O3', pbc=False)\n",
      "Atoms(symbols='C21H36MoN7O3', pbc=False)\n",
      "Atoms(symbols='C21H36MoN7O3', pbc=False)\n",
      "Atoms(symbols='C21H36MoN7O3', pbc=False)\n",
      "Atoms(symbols='C21H36MoN7O3', pbc=False)\n",
      "Atoms(symbols='C21H36MoN7O3', pbc=False)\n",
      "Atoms(symbols='C21H36MoN7O3', pbc=False)\n",
      "Atoms(symbols='C21H36MoN7O3', pbc=False)\n",
      "Atoms(symbols='C21H36MoN7O3', pbc=False)\n",
      "Atoms(symbols='C21H36MoN7O3', pbc=False)\n",
      "Atoms(symbols='C21H36MoN7O3', pbc=False)\n",
      "Atoms(symbols='C21H36MoN7O3', pbc=False)\n",
      "Atoms(symbols='C21H36MoN7O3', pbc=False)\n",
      "Atoms(symbols='C21H36MoN7O3', pbc=False)\n",
      "Atoms(symbols='C21H36MoN7O3', pbc=False)\n",
      "Atoms(symbols='C21H36MoN7O3', pbc=False)\n",
      "Atoms(symbols='C21H36MoN7O3', pbc=False)\n",
      "Atoms(symbols='C21H36MoN7O3', pbc=False)\n",
      "Atoms(symbols='C21H36MoN7O3', pbc=False)\n",
      "Atoms(symbols='C21H36MoN7O3', pbc=False)\n",
      "Atoms(symbols='C21H36MoN7O3', pbc=False)\n",
      "Atoms(symbols='C21H36MoN7O3', pbc=False)\n",
      "Atoms(symbols='C21H36MoN7O3', pbc=False)\n",
      "Atoms(symbols='C21H36MoN7O3', pbc=False)\n",
      "Atoms(symbols='C21H36MoN7O3', pbc=False)\n",
      "Atoms(symbols='C21H36MoN7O3', pbc=False)\n",
      "Atoms(symbols='C21H36MoN7O3', pbc=False)\n",
      "Atoms(symbols='C21H36MoN7O3', pbc=False)\n",
      "Atoms(symbols='C21H36MoN7O3', pbc=False)\n",
      "Atoms(symbols='C21H36MoN7O3', pbc=False)\n",
      "Atoms(symbols='C21H36MoN7O3', pbc=False)\n",
      "Atoms(symbols='C21H36MoN7O3', pbc=False)\n",
      "Atoms(symbols='C21H36MoN7O3', pbc=False)\n",
      "Atoms(symbols='C21H36MoN7O3', pbc=False)\n",
      "Atoms(symbols='C21H36MoN7O3', pbc=False)\n",
      "Atoms(symbols='C21H36MoN7O3', pbc=False)\n",
      "Atoms(symbols='C21H36MoN7O3', pbc=False)\n",
      "Atoms(symbols='C21H36MoN7O3', pbc=False)\n",
      "Atoms(symbols='C21H36MoN7O3', pbc=False)\n",
      "Atoms(symbols='C21H36MoN7O3', pbc=False)\n",
      "Atoms(symbols='C21H36MoN7O3', pbc=False)\n",
      "Atoms(symbols='C21H36MoN7O3', pbc=False)\n",
      "Atoms(symbols='C21H36MoN7O3', pbc=False)\n",
      "Atoms(symbols='C21H36MoN7O3', pbc=False)\n",
      "Atoms(symbols='C21H36MoN7O3', pbc=False)\n",
      "Atoms(symbols='C21H36MoN7O3', pbc=False)\n",
      "Atoms(symbols='C21H36MoN7O3', pbc=False)\n",
      "Atoms(symbols='C21H36MoN7O3', pbc=False)\n",
      "Atoms(symbols='C21H36MoN7O3', pbc=False)\n",
      "Atoms(symbols='C21H36MoN7O3', pbc=False)\n",
      "Atoms(symbols='C21H36MoN7O3', pbc=False)\n",
      "Atoms(symbols='C21H36MoN7O3', pbc=False)\n",
      "Atoms(symbols='C21H36MoN7O3', pbc=False)\n",
      "Atoms(symbols='C21H36MoN7O3', pbc=False)\n",
      "Atoms(symbols='C21H36MoN7O3', pbc=False)\n",
      "Atoms(symbols='C21H36MoN7O3', pbc=False)\n",
      "Atoms(symbols='C21H36MoN7O3', pbc=False)\n",
      "Atoms(symbols='C21H36MoN7O3', pbc=False)\n",
      "Atoms(symbols='C21H36MoN7O3', pbc=False)\n",
      "Atoms(symbols='C21H36MoN7O3', pbc=False)\n",
      "Atoms(symbols='C21H36MoN7O3', pbc=False)\n",
      "Atoms(symbols='C21H36MoN7O3', pbc=False)\n",
      "Atoms(symbols='C21H36MoN7O3', pbc=False)\n",
      "Atoms(symbols='C21H36MoN7O3', pbc=False)\n",
      "Atoms(symbols='C21H36MoN7O3', pbc=False)\n",
      "Atoms(symbols='C21H36MoN7O3', pbc=False)\n",
      "Atoms(symbols='C21H36MoN7O3', pbc=False)\n",
      "Atoms(symbols='C21H36MoN7O3', pbc=False)\n",
      "Atoms(symbols='C21H36MoN7O3', pbc=False)\n",
      "Atoms(symbols='C21H36MoN7O3', pbc=False)\n",
      "Atoms(symbols='C21H36MoN7O3', pbc=False)\n",
      "Atoms(symbols='C21H36MoN7O3', pbc=False)\n",
      "Atoms(symbols='C21H36MoN7O3', pbc=False)\n",
      "Atoms(symbols='C21H36MoN7O3', pbc=False)\n",
      "Atoms(symbols='C21H36MoN7O3', pbc=False)\n",
      "Atoms(symbols='C21H36MoN7O3', pbc=False)\n",
      "Atoms(symbols='C21H36MoN7O3', pbc=False)\n",
      "Atoms(symbols='C21H36MoN7O3', pbc=False)\n",
      "Atoms(symbols='C21H36MoN7O3', pbc=False)\n",
      "Atoms(symbols='C21H36MoN7O3', pbc=False)\n",
      "Atoms(symbols='C21H36MoN7O3', pbc=False)\n",
      "Atoms(symbols='C21H36MoN7O3', pbc=False)\n",
      "Atoms(symbols='C21H36MoN7O3', pbc=False)\n",
      "Atoms(symbols='C21H36MoN7O3', pbc=False)\n",
      "Atoms(symbols='C21H36MoN7O3', pbc=False)\n",
      "Atoms(symbols='C21H36MoN7O3', pbc=False)\n",
      "Atoms(symbols='C21H36MoN7O3', pbc=False)\n",
      "Atoms(symbols='C21H36MoN7O3', pbc=False)\n",
      "Atoms(symbols='C21H36MoN7O3', pbc=False)\n",
      "Atoms(symbols='C21H36MoN7O3', pbc=False)\n",
      "Atoms(symbols='C21H36MoN7O3', pbc=False)\n",
      "Atoms(symbols='C21H36MoN7O3', pbc=False)\n",
      "Atoms(symbols='C21H36MoN7O3', pbc=False)\n",
      "Atoms(symbols='C21H36MoN7O3', pbc=False)\n",
      "Atoms(symbols='C21H36MoN7O3', pbc=False)\n",
      "Atoms(symbols='C21H36MoN7O3', pbc=False)\n",
      "Atoms(symbols='C21H36MoN7O3', pbc=False)\n",
      "Atoms(symbols='C21H36MoN7O3', pbc=False)\n",
      "Atoms(symbols='C21H36MoN7O3', pbc=False)\n",
      "Atoms(symbols='C21H36MoN7O3', pbc=False)\n",
      "Atoms(symbols='C21H36MoN7O3', pbc=False)\n",
      "Atoms(symbols='C21H36MoN7O3', pbc=False)\n",
      "Atoms(symbols='C21H36MoN7O3', pbc=False)\n",
      "Atoms(symbols='C21H36MoN7O3', pbc=False)\n",
      "Atoms(symbols='C21H36MoN7O3', pbc=False)\n",
      "Atoms(symbols='C21H36MoN7O3', pbc=False)\n",
      "Atoms(symbols='C21H36MoN7O3', pbc=False)\n",
      "Atoms(symbols='C21H36MoN7O3', pbc=False)\n",
      "Atoms(symbols='C21H36MoN7O3', pbc=False)\n"
     ]
    }
   ],
   "source": [
    "trajfile=trajs[0]\n",
    "structs = read(trajfile, index=\":\")\n",
    "with connect('/home/magstr/generation_data/databases/test2.db') as write_db:\n",
    "    for elem in structs:\n",
    "        print(str(elem))\n",
    "        id = write_db.reserve(name=str(elem))\n",
    "        if id is None:\n",
    "            continue\n",
    "        write_db.write(elem, id=id, name=str(trajfile))"
   ]
  },
  {
   "cell_type": "code",
   "execution_count": 108,
   "id": "688bf52f-2725-4fd1-ba47-9fb90503ae36",
   "metadata": {},
   "outputs": [
    {
     "data": {
      "text/plain": [
       "651"
      ]
     },
     "execution_count": 108,
     "metadata": {},
     "output_type": "execute_result"
    }
   ],
   "source": [
    "len(write_db)"
   ]
  },
  {
   "cell_type": "code",
   "execution_count": 101,
   "id": "08c1e305-3562-48e6-b5b3-9ae706b59ae1",
   "metadata": {},
   "outputs": [
    {
     "name": "stdout",
     "output_type": "stream",
     "text": [
      "/home/magstr/generation_data/sweet3/000_000_Mo_N2_NH3/conf002/traj.xyz\n",
      "/home/magstr/generation_data/sweet3/000_000_Mo_N2_NH3/conf002/traj.xyz\n",
      "/home/magstr/generation_data/sweet3/000_000_Mo_N2_NH3/conf002/traj.xyz\n",
      "/home/magstr/generation_data/sweet3/000_000_Mo_N2_NH3/conf002/traj.xyz\n",
      "/home/magstr/generation_data/sweet3/000_000_Mo_N2_NH3/conf002/traj.xyz\n",
      "/home/magstr/generation_data/sweet3/000_000_Mo_N2_NH3/conf002/traj.xyz\n",
      "/home/magstr/generation_data/sweet3/000_000_Mo_N2_NH3/conf002/traj.xyz\n",
      "/home/magstr/generation_data/sweet3/000_000_Mo_N2_NH3/conf002/traj.xyz\n",
      "/home/magstr/generation_data/sweet3/000_000_Mo_N2_NH3/conf002/traj.xyz\n",
      "/home/magstr/generation_data/sweet3/000_000_Mo_N2_NH3/conf002/traj.xyz\n",
      "/home/magstr/generation_data/sweet3/000_000_Mo_N2_NH3/conf002/traj.xyz\n",
      "/home/magstr/generation_data/sweet3/000_000_Mo_N2_NH3/conf002/traj.xyz\n",
      "/home/magstr/generation_data/sweet3/000_000_Mo_N2_NH3/conf002/traj.xyz\n",
      "/home/magstr/generation_data/sweet3/000_000_Mo_N2_NH3/conf002/traj.xyz\n",
      "/home/magstr/generation_data/sweet3/000_000_Mo_N2_NH3/conf002/traj.xyz\n",
      "/home/magstr/generation_data/sweet3/000_000_Mo_N2_NH3/conf002/traj.xyz\n",
      "/home/magstr/generation_data/sweet3/000_000_Mo_N2_NH3/conf002/traj.xyz\n",
      "/home/magstr/generation_data/sweet3/000_000_Mo_N2_NH3/conf002/traj.xyz\n",
      "/home/magstr/generation_data/sweet3/000_000_Mo_N2_NH3/conf002/traj.xyz\n",
      "/home/magstr/generation_data/sweet3/000_000_Mo_N2_NH3/conf002/traj.xyz\n",
      "/home/magstr/generation_data/sweet3/000_000_Mo_N2_NH3/conf002/traj.xyz\n",
      "/home/magstr/generation_data/sweet3/000_000_Mo_N2_NH3/conf002/traj.xyz\n",
      "/home/magstr/generation_data/sweet3/000_000_Mo_N2_NH3/conf002/traj.xyz\n",
      "/home/magstr/generation_data/sweet3/000_000_Mo_N2_NH3/conf002/traj.xyz\n",
      "/home/magstr/generation_data/sweet3/000_000_Mo_N2_NH3/conf002/traj.xyz\n",
      "/home/magstr/generation_data/sweet3/000_000_Mo_N2_NH3/conf002/traj.xyz\n",
      "/home/magstr/generation_data/sweet3/000_000_Mo_N2_NH3/conf002/traj.xyz\n",
      "/home/magstr/generation_data/sweet3/000_000_Mo_N2_NH3/conf002/traj.xyz\n",
      "/home/magstr/generation_data/sweet3/000_000_Mo_N2_NH3/conf002/traj.xyz\n",
      "/home/magstr/generation_data/sweet3/000_000_Mo_N2_NH3/conf002/traj.xyz\n",
      "/home/magstr/generation_data/sweet3/000_000_Mo_N2_NH3/conf002/traj.xyz\n",
      "/home/magstr/generation_data/sweet3/000_000_Mo_N2_NH3/conf002/traj.xyz\n",
      "/home/magstr/generation_data/sweet3/000_000_Mo_N2_NH3/conf002/traj.xyz\n",
      "/home/magstr/generation_data/sweet3/000_000_Mo_N2_NH3/conf002/traj.xyz\n",
      "/home/magstr/generation_data/sweet3/000_000_Mo_N2_NH3/conf002/traj.xyz\n",
      "/home/magstr/generation_data/sweet3/000_000_Mo_N2_NH3/conf002/traj.xyz\n",
      "/home/magstr/generation_data/sweet3/000_000_Mo_N2_NH3/conf002/traj.xyz\n",
      "/home/magstr/generation_data/sweet3/000_000_Mo_N2_NH3/conf002/traj.xyz\n",
      "/home/magstr/generation_data/sweet3/000_000_Mo_N2_NH3/conf002/traj.xyz\n",
      "/home/magstr/generation_data/sweet3/000_000_Mo_N2_NH3/conf002/traj.xyz\n",
      "/home/magstr/generation_data/sweet3/000_000_Mo_N2_NH3/conf002/traj.xyz\n",
      "/home/magstr/generation_data/sweet3/000_000_Mo_N2_NH3/conf002/traj.xyz\n",
      "/home/magstr/generation_data/sweet3/000_000_Mo_N2_NH3/conf002/traj.xyz\n",
      "/home/magstr/generation_data/sweet3/000_000_Mo_N2_NH3/conf002/traj.xyz\n",
      "/home/magstr/generation_data/sweet3/000_000_Mo_N2_NH3/conf002/traj.xyz\n",
      "/home/magstr/generation_data/sweet3/000_000_Mo_N2_NH3/conf002/traj.xyz\n",
      "/home/magstr/generation_data/sweet3/000_000_Mo_N2_NH3/conf002/traj.xyz\n",
      "/home/magstr/generation_data/sweet3/000_000_Mo_N2_NH3/conf002/traj.xyz\n",
      "/home/magstr/generation_data/sweet3/000_000_Mo_N2_NH3/conf002/traj.xyz\n",
      "/home/magstr/generation_data/sweet3/000_000_Mo_N2_NH3/conf002/traj.xyz\n",
      "/home/magstr/generation_data/sweet3/000_000_Mo_N2_NH3/conf002/traj.xyz\n",
      "/home/magstr/generation_data/sweet3/000_000_Mo_N2_NH3/conf002/traj.xyz\n",
      "/home/magstr/generation_data/sweet3/000_000_Mo_N2_NH3/conf002/traj.xyz\n",
      "/home/magstr/generation_data/sweet3/000_000_Mo_N2_NH3/conf002/traj.xyz\n",
      "/home/magstr/generation_data/sweet3/000_000_Mo_N2_NH3/conf002/traj.xyz\n",
      "/home/magstr/generation_data/sweet3/000_000_Mo_N2_NH3/conf002/traj.xyz\n",
      "/home/magstr/generation_data/sweet3/000_000_Mo_N2_NH3/conf002/traj.xyz\n",
      "/home/magstr/generation_data/sweet3/000_000_Mo_N2_NH3/conf002/traj.xyz\n",
      "/home/magstr/generation_data/sweet3/000_000_Mo_N2_NH3/conf002/traj.xyz\n",
      "/home/magstr/generation_data/sweet3/000_000_Mo_N2_NH3/conf002/traj.xyz\n",
      "/home/magstr/generation_data/sweet3/000_000_Mo_N2_NH3/conf002/traj.xyz\n",
      "/home/magstr/generation_data/sweet3/000_000_Mo_N2_NH3/conf002/traj.xyz\n",
      "/home/magstr/generation_data/sweet3/000_000_Mo_N2_NH3/conf002/traj.xyz\n",
      "/home/magstr/generation_data/sweet3/000_000_Mo_N2_NH3/conf002/traj.xyz\n",
      "/home/magstr/generation_data/sweet3/000_000_Mo_N2_NH3/conf002/traj.xyz\n",
      "/home/magstr/generation_data/sweet3/000_000_Mo_N2_NH3/conf002/traj.xyz\n",
      "/home/magstr/generation_data/sweet3/000_000_Mo_N2_NH3/conf002/traj.xyz\n",
      "/home/magstr/generation_data/sweet3/000_000_Mo_N2_NH3/conf002/traj.xyz\n",
      "/home/magstr/generation_data/sweet3/000_000_Mo_N2_NH3/conf002/traj.xyz\n",
      "/home/magstr/generation_data/sweet3/000_000_Mo_N2_NH3/conf002/traj.xyz\n",
      "/home/magstr/generation_data/sweet3/000_000_Mo_N2_NH3/conf002/traj.xyz\n",
      "/home/magstr/generation_data/sweet3/000_000_Mo_N2_NH3/conf002/traj.xyz\n",
      "/home/magstr/generation_data/sweet3/000_000_Mo_N2_NH3/conf002/traj.xyz\n",
      "/home/magstr/generation_data/sweet3/000_000_Mo_N2_NH3/conf002/traj.xyz\n",
      "/home/magstr/generation_data/sweet3/000_000_Mo_N2_NH3/conf002/traj.xyz\n",
      "/home/magstr/generation_data/sweet3/000_000_Mo_N2_NH3/conf002/traj.xyz\n",
      "/home/magstr/generation_data/sweet3/000_000_Mo_N2_NH3/conf002/traj.xyz\n",
      "/home/magstr/generation_data/sweet3/000_000_Mo_N2_NH3/conf002/traj.xyz\n",
      "/home/magstr/generation_data/sweet3/000_000_Mo_N2_NH3/conf002/traj.xyz\n",
      "/home/magstr/generation_data/sweet3/000_000_Mo_N2_NH3/conf002/traj.xyz\n",
      "/home/magstr/generation_data/sweet3/000_000_Mo_N2_NH3/conf002/traj.xyz\n",
      "/home/magstr/generation_data/sweet3/000_000_Mo_N2_NH3/conf002/traj.xyz\n",
      "/home/magstr/generation_data/sweet3/000_000_Mo_N2_NH3/conf002/traj.xyz\n",
      "/home/magstr/generation_data/sweet3/000_000_Mo_N2_NH3/conf002/traj.xyz\n",
      "/home/magstr/generation_data/sweet3/000_000_Mo_N2_NH3/conf002/traj.xyz\n",
      "/home/magstr/generation_data/sweet3/000_000_Mo_N2_NH3/conf002/traj.xyz\n",
      "/home/magstr/generation_data/sweet3/000_000_Mo_N2_NH3/conf002/traj.xyz\n",
      "/home/magstr/generation_data/sweet3/000_000_Mo_N2_NH3/conf002/traj.xyz\n",
      "/home/magstr/generation_data/sweet3/000_000_Mo_N2_NH3/conf002/traj.xyz\n",
      "/home/magstr/generation_data/sweet3/000_000_Mo_N2_NH3/conf002/traj.xyz\n",
      "/home/magstr/generation_data/sweet3/000_000_Mo_N2_NH3/conf002/traj.xyz\n",
      "/home/magstr/generation_data/sweet3/000_000_Mo_N2_NH3/conf002/traj.xyz\n",
      "/home/magstr/generation_data/sweet3/000_000_Mo_N2_NH3/conf002/traj.xyz\n",
      "/home/magstr/generation_data/sweet3/000_000_Mo_N2_NH3/conf002/traj.xyz\n",
      "/home/magstr/generation_data/sweet3/000_000_Mo_N2_NH3/conf002/traj.xyz\n",
      "/home/magstr/generation_data/sweet3/000_000_Mo_N2_NH3/conf002/traj.xyz\n",
      "/home/magstr/generation_data/sweet3/000_000_Mo_N2_NH3/conf002/traj.xyz\n",
      "/home/magstr/generation_data/sweet3/000_000_Mo_N2_NH3/conf002/traj.xyz\n",
      "/home/magstr/generation_data/sweet3/000_000_Mo_N2_NH3/conf002/traj.xyz\n",
      "/home/magstr/generation_data/sweet3/000_000_Mo_N2_NH3/conf002/traj.xyz\n",
      "/home/magstr/generation_data/sweet3/000_000_Mo_N2_NH3/conf002/traj.xyz\n",
      "/home/magstr/generation_data/sweet3/000_000_Mo_N2_NH3/conf002/traj.xyz\n",
      "/home/magstr/generation_data/sweet3/000_000_Mo_N2_NH3/conf002/traj.xyz\n",
      "/home/magstr/generation_data/sweet3/000_000_Mo_N2_NH3/conf002/traj.xyz\n",
      "/home/magstr/generation_data/sweet3/000_000_Mo_N2_NH3/conf002/traj.xyz\n",
      "/home/magstr/generation_data/sweet3/000_000_Mo_N2_NH3/conf002/traj.xyz\n",
      "/home/magstr/generation_data/sweet3/000_000_Mo_N2_NH3/conf002/traj.xyz\n",
      "/home/magstr/generation_data/sweet3/000_000_Mo_N2_NH3/conf002/traj.xyz\n",
      "/home/magstr/generation_data/sweet3/000_000_Mo_N2_NH3/conf002/traj.xyz\n",
      "/home/magstr/generation_data/sweet3/000_000_Mo_N2_NH3/conf002/traj.xyz\n",
      "/home/magstr/generation_data/sweet3/000_000_Mo_N2_NH3/conf002/traj.xyz\n",
      "/home/magstr/generation_data/sweet3/000_000_Mo_N2_NH3/conf002/traj.xyz\n",
      "/home/magstr/generation_data/sweet3/000_000_Mo_N2_NH3/conf002/traj.xyz\n",
      "/home/magstr/generation_data/sweet3/000_000_Mo_N2_NH3/conf002/traj.xyz\n",
      "/home/magstr/generation_data/sweet3/000_000_Mo_N2_NH3/conf002/traj.xyz\n",
      "/home/magstr/generation_data/sweet3/000_000_Mo_N2_NH3/conf002/traj.xyz\n",
      "/home/magstr/generation_data/sweet3/000_000_Mo_N2_NH3/conf002/traj.xyz\n",
      "/home/magstr/generation_data/sweet3/000_000_Mo_N2_NH3/conf002/traj.xyz\n",
      "/home/magstr/generation_data/sweet3/000_000_Mo_N2_NH3/conf002/traj.xyz\n",
      "/home/magstr/generation_data/sweet3/000_000_Mo_N2_NH3/conf002/traj.xyz\n",
      "/home/magstr/generation_data/sweet3/000_000_Mo_N2_NH3/conf002/traj.xyz\n",
      "/home/magstr/generation_data/sweet3/000_000_Mo_N2_NH3/conf002/traj.xyz\n",
      "/home/magstr/generation_data/sweet3/000_000_Mo_N2_NH3/conf002/traj.xyz\n",
      "/home/magstr/generation_data/sweet3/000_000_Mo_N2_NH3/conf002/traj.xyz\n",
      "/home/magstr/generation_data/sweet3/000_000_Mo_N2_NH3/conf002/traj.xyz\n",
      "/home/magstr/generation_data/sweet3/000_000_Mo_N2_NH3/conf002/traj.xyz\n",
      "/home/magstr/generation_data/sweet3/000_000_Mo_N2_NH3/conf002/traj.xyz\n",
      "/home/magstr/generation_data/sweet3/000_000_Mo_N2_NH3/conf002/traj.xyz\n",
      "/home/magstr/generation_data/sweet3/000_000_Mo_N2_NH3/conf002/traj.xyz\n",
      "/home/magstr/generation_data/sweet3/000_000_Mo_N2_NH3/conf002/traj.xyz\n",
      "/home/magstr/generation_data/sweet3/000_000_Mo_N2_NH3/conf002/traj.xyz\n"
     ]
    }
   ],
   "source": [
    "for elem in write_db.select():\n",
    "    print(elem.name)"
   ]
  },
  {
   "cell_type": "code",
   "execution_count": null,
   "id": "ac074c83-1968-48ee-b6be-4f18c2a7301f",
   "metadata": {},
   "outputs": [],
   "source": []
  }
 ],
 "metadata": {
  "kernelspec": {
   "display_name": "Python 3 (ipykernel)",
   "language": "python",
   "name": "python3"
  },
  "language_info": {
   "codemirror_mode": {
    "name": "ipython",
    "version": 3
   },
   "file_extension": ".py",
   "mimetype": "text/x-python",
   "name": "python",
   "nbconvert_exporter": "python",
   "pygments_lexer": "ipython3",
   "version": "3.7.12"
  }
 },
 "nbformat": 4,
 "nbformat_minor": 5
}
