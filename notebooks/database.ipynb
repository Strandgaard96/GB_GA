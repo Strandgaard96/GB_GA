{
 "cells": [
  {
   "cell_type": "code",
   "execution_count": 125,
   "id": "90e4d67e-50ac-4e49-994f-c7535599b964",
   "metadata": {},
   "outputs": [],
   "source": [
    "# improts\n",
    "import sys\n",
    "import os\n",
    "import numpy as np\n",
    "import matplotlib.pyplot as plt\n",
    "import re\n",
    "from pathlib import Path\n",
    "from glob import glob\n",
    "import pickle\n",
    "import shutil\n",
    "from rdkit import Chem\n",
    "from rdkit.Chem import AllChem\n",
    "from rdkit.Chem import Draw\n",
    "from rdkit.Chem.Draw import IPythonConsole, MolsToGridImage\n",
    "\n",
    "from ase.db import connect\n",
    "from ase.io import read\n",
    "from ase.visualize import view\n",
    "\n",
    "from ase.calculators.singlepoint import SinglePointCalculator\n",
    "\n",
    "# Ensure we can import from the module level\n",
    "module_path = os.path.abspath(os.path.join('..'))\n",
    "if module_path not in sys.path:\n",
    "    sys.path.append(module_path)\n",
    "\n",
    "from my_utils.analysis import conf_viewer\n"
   ]
  },
  {
   "cell_type": "code",
   "execution_count": 246,
   "id": "7e958d99-01e9-4bc0-a5b2-faa3433d387e",
   "metadata": {},
   "outputs": [],
   "source": [
    "db = connect('/home/magstr/Documents/GB_GA/ase_database.db')"
   ]
  },
  {
   "cell_type": "code",
   "execution_count": 247,
   "id": "fcfb7fc3-282e-42b7-880a-77f2caa159bc",
   "metadata": {},
   "outputs": [
    {
     "data": {
      "text/plain": [
       "410"
      ]
     },
     "execution_count": 247,
     "metadata": {},
     "output_type": "execute_result"
    }
   ],
   "source": [
    "len(db)"
   ]
  },
  {
   "cell_type": "code",
   "execution_count": 248,
   "id": "743971e5-5872-47bf-b4c9-e653d7a2bfdf",
   "metadata": {},
   "outputs": [
    {
     "name": "stdout",
     "output_type": "stream",
     "text": [
      "generation_debug/000_003_Mo_NH3/conf000/traj.xyz\n"
     ]
    }
   ],
   "source": [
    "structs = []\n",
    "for elem in db.select():\n",
    "    structs.append(elem.toatoms())\n",
    "print(elem['name'])"
   ]
  },
  {
   "cell_type": "code",
   "execution_count": 249,
   "id": "9c63ee61-abdd-44ea-a1eb-93b862489592",
   "metadata": {},
   "outputs": [
    {
     "data": {
      "text/plain": [
       "-54.049627570927"
      ]
     },
     "execution_count": 249,
     "metadata": {},
     "output_type": "execute_result"
    }
   ],
   "source": [
    "structs[0].get_total_energy()"
   ]
  },
  {
   "cell_type": "code",
   "execution_count": 252,
   "id": "811dba4e-3a20-4d0c-8bfd-2fffc6150f72",
   "metadata": {},
   "outputs": [
    {
     "data": {
      "application/vnd.jupyter.widget-view+json": {
       "model_id": "f4eda0f3494b43c690392a977b9df98e",
       "version_major": 2,
       "version_minor": 0
      },
      "text/plain": [
       "HBox(children=(NGLWidget(), VBox(children=(Dropdown(description='Show', options=('All', 'N', 'Mo', 'H', 'C'), …"
      ]
     },
     "metadata": {},
     "output_type": "display_data"
    }
   ],
   "source": [
    "view(structs[20], viewer ='ngl')"
   ]
  },
  {
   "cell_type": "code",
   "execution_count": 253,
   "id": "6f472e49-4ecd-4cd5-b638-50239109c8cf",
   "metadata": {},
   "outputs": [],
   "source": [
    "# This has to be after the cell.......\n",
    "v=_\n",
    "v.view.add_ball_and_stick(\"ligand\")"
   ]
  },
  {
   "cell_type": "code",
   "execution_count": 190,
   "id": "d5236d64-8bca-402b-9e7e-df6ba27ddd15",
   "metadata": {},
   "outputs": [],
   "source": [
    "gen_no = f'{3}'.zfill(3)"
   ]
  },
  {
   "cell_type": "code",
   "execution_count": 223,
   "id": "8c9b8ac4-8a9d-49be-8be6-601d1d0b0fea",
   "metadata": {},
   "outputs": [],
   "source": [
    "p = Path('/home/magstr/generation_data/sweet3/')"
   ]
  },
  {
   "cell_type": "code",
   "execution_count": 214,
   "id": "fc7a0370-a663-4789-a9f9-b33354dcffab",
   "metadata": {},
   "outputs": [
    {
     "data": {
      "text/plain": [
       "'*traj*'"
      ]
     },
     "execution_count": 214,
     "metadata": {},
     "output_type": "execute_result"
    }
   ],
   "source": [
    "f'*traj*'"
   ]
  },
  {
   "cell_type": "code",
   "execution_count": 239,
   "id": "52bd56aa-65cf-47ce-89c3-aac42d4ea6a3",
   "metadata": {},
   "outputs": [],
   "source": [
    "trajs =sorted(p.rglob(f'{gen_no}*/*/*traj*'))"
   ]
  },
  {
   "cell_type": "code",
   "execution_count": 245,
   "id": "16de1539-3974-452e-8337-3bf509b810f2",
   "metadata": {},
   "outputs": [
    {
     "data": {
      "text/plain": [
       "PosixPath('/home/magstr/generation_data/sweet3/003_000_Mo_N2_NH3/conf001/xtbopt.log')"
      ]
     },
     "execution_count": 245,
     "metadata": {},
     "output_type": "execute_result"
    }
   ],
   "source": [
    "trajs[0].parent/'xtbopt.log'"
   ]
  },
  {
   "cell_type": "code",
   "execution_count": 240,
   "id": "fe5704df-c98e-47c0-9633-186fea24c3f5",
   "metadata": {},
   "outputs": [
    {
     "data": {
      "text/plain": [
       "[PosixPath('/home/magstr/generation_data/sweet3/003_000_Mo_N2_NH3/conf001/traj.xyz'),\n",
       " PosixPath('/home/magstr/generation_data/sweet3/003_000_Mo_NH3/conf000/traj.xyz'),\n",
       " PosixPath('/home/magstr/generation_data/sweet3/003_001_Mo_N2_NH3/conf001/traj.xyz'),\n",
       " PosixPath('/home/magstr/generation_data/sweet3/003_004_Mo_N2_NH3/conf000/traj.xyz'),\n",
       " PosixPath('/home/magstr/generation_data/sweet3/003_005_Mo_N2_NH3/conf000/traj.xyz'),\n",
       " PosixPath('/home/magstr/generation_data/sweet3/003_005_Mo_NH3/conf000/traj.xyz'),\n",
       " PosixPath('/home/magstr/generation_data/sweet3/003_006_Mo_N2_NH3/conf001/traj.xyz'),\n",
       " PosixPath('/home/magstr/generation_data/sweet3/003_006_Mo_NH3/conf000/traj.xyz'),\n",
       " PosixPath('/home/magstr/generation_data/sweet3/003_007_Mo_N2_NH3/conf000/traj.xyz'),\n",
       " PosixPath('/home/magstr/generation_data/sweet3/003_008_Mo_N2_NH3/conf000/traj.xyz'),\n",
       " PosixPath('/home/magstr/generation_data/sweet3/003_008_Mo_NH3/conf000/traj.xyz'),\n",
       " PosixPath('/home/magstr/generation_data/sweet3/003_009_Mo_N2_NH3/conf000/traj.xyz'),\n",
       " PosixPath('/home/magstr/generation_data/sweet3/003_009_Mo_NH3/conf000/traj.xyz'),\n",
       " PosixPath('/home/magstr/generation_data/sweet3/003_010_Mo_N2_NH3/conf001/traj.xyz'),\n",
       " PosixPath('/home/magstr/generation_data/sweet3/003_010_Mo_NH3/conf000/traj.xyz'),\n",
       " PosixPath('/home/magstr/generation_data/sweet3/003_011_Mo_N2_NH3/conf001/traj.xyz'),\n",
       " PosixPath('/home/magstr/generation_data/sweet3/003_012_Mo_N2_NH3/conf000/traj.xyz'),\n",
       " PosixPath('/home/magstr/generation_data/sweet3/003_012_Mo_NH3/conf000/traj.xyz'),\n",
       " PosixPath('/home/magstr/generation_data/sweet3/003_013_Mo_N2_NH3/conf000/traj.xyz'),\n",
       " PosixPath('/home/magstr/generation_data/sweet3/003_013_Mo_NH3/conf000/traj.xyz'),\n",
       " PosixPath('/home/magstr/generation_data/sweet3/003_015_Mo_N2_NH3/conf002/traj.xyz'),\n",
       " PosixPath('/home/magstr/generation_data/sweet3/003_015_Mo_NH3/conf000/traj.xyz'),\n",
       " PosixPath('/home/magstr/generation_data/sweet3/003_016_Mo_N2_NH3/conf001/traj.xyz'),\n",
       " PosixPath('/home/magstr/generation_data/sweet3/003_016_Mo_NH3/conf000/traj.xyz'),\n",
       " PosixPath('/home/magstr/generation_data/sweet3/003_017_Mo_N2_NH3/conf002/traj.xyz'),\n",
       " PosixPath('/home/magstr/generation_data/sweet3/003_017_Mo_NH3/conf000/traj.xyz'),\n",
       " PosixPath('/home/magstr/generation_data/sweet3/003_018_Mo_N2_NH3/conf000/traj.xyz'),\n",
       " PosixPath('/home/magstr/generation_data/sweet3/003_018_Mo_NH3/conf000/traj.xyz'),\n",
       " PosixPath('/home/magstr/generation_data/sweet3/003_019_Mo_N2_NH3/conf000/traj.xyz'),\n",
       " PosixPath('/home/magstr/generation_data/sweet3/003_019_Mo_NH3/conf000/traj.xyz'),\n",
       " PosixPath('/home/magstr/generation_data/sweet3/003_020_Mo_N2_NH3/conf000/traj.xyz'),\n",
       " PosixPath('/home/magstr/generation_data/sweet3/003_020_Mo_NH3/conf000/traj.xyz'),\n",
       " PosixPath('/home/magstr/generation_data/sweet3/003_021_Mo_N2_NH3/conf002/traj.xyz'),\n",
       " PosixPath('/home/magstr/generation_data/sweet3/003_021_Mo_NH3/conf000/traj.xyz'),\n",
       " PosixPath('/home/magstr/generation_data/sweet3/003_024_Mo_N2_NH3/conf002/traj.xyz'),\n",
       " PosixPath('/home/magstr/generation_data/sweet3/003_024_Mo_NH3/conf000/traj.xyz'),\n",
       " PosixPath('/home/magstr/generation_data/sweet3/003_025_Mo_N2_NH3/conf000/traj.xyz'),\n",
       " PosixPath('/home/magstr/generation_data/sweet3/003_025_Mo_NH3/conf000/traj.xyz'),\n",
       " PosixPath('/home/magstr/generation_data/sweet3/003_026_Mo_N2_NH3/conf000/traj.xyz'),\n",
       " PosixPath('/home/magstr/generation_data/sweet3/003_026_Mo_NH3/conf000/traj.xyz'),\n",
       " PosixPath('/home/magstr/generation_data/sweet3/003_027_Mo_N2_NH3/conf001/traj.xyz'),\n",
       " PosixPath('/home/magstr/generation_data/sweet3/003_028_Mo_N2_NH3/conf000/traj.xyz'),\n",
       " PosixPath('/home/magstr/generation_data/sweet3/003_028_Mo_NH3/conf000/traj.xyz'),\n",
       " PosixPath('/home/magstr/generation_data/sweet3/003_030_Mo_N2_NH3/conf001/traj.xyz'),\n",
       " PosixPath('/home/magstr/generation_data/sweet3/003_030_Mo_NH3/conf000/traj.xyz'),\n",
       " PosixPath('/home/magstr/generation_data/sweet3/003_031_Mo_N2_NH3/conf002/traj.xyz'),\n",
       " PosixPath('/home/magstr/generation_data/sweet3/003_031_Mo_NH3/conf000/traj.xyz'),\n",
       " PosixPath('/home/magstr/generation_data/sweet3/003_032_Mo_N2_NH3/conf001/traj.xyz'),\n",
       " PosixPath('/home/magstr/generation_data/sweet3/003_032_Mo_NH3/conf000/traj.xyz'),\n",
       " PosixPath('/home/magstr/generation_data/sweet3/003_034_Mo_N2_NH3/conf000/traj.xyz'),\n",
       " PosixPath('/home/magstr/generation_data/sweet3/003_034_Mo_NH3/conf000/traj.xyz'),\n",
       " PosixPath('/home/magstr/generation_data/sweet3/003_035_Mo_N2_NH3/conf002/traj.xyz'),\n",
       " PosixPath('/home/magstr/generation_data/sweet3/003_036_Mo_N2_NH3/conf001/traj.xyz'),\n",
       " PosixPath('/home/magstr/generation_data/sweet3/003_038_Mo_N2_NH3/conf000/traj.xyz'),\n",
       " PosixPath('/home/magstr/generation_data/sweet3/003_038_Mo_NH3/conf000/traj.xyz'),\n",
       " PosixPath('/home/magstr/generation_data/sweet3/003_042_Mo_N2_NH3/conf000/traj.xyz'),\n",
       " PosixPath('/home/magstr/generation_data/sweet3/003_044_Mo_N2_NH3/conf000/traj.xyz'),\n",
       " PosixPath('/home/magstr/generation_data/sweet3/003_044_Mo_NH3/conf000/traj.xyz'),\n",
       " PosixPath('/home/magstr/generation_data/sweet3/003_046_Mo_N2_NH3/conf002/traj.xyz'),\n",
       " PosixPath('/home/magstr/generation_data/sweet3/003_046_Mo_NH3/conf000/traj.xyz'),\n",
       " PosixPath('/home/magstr/generation_data/sweet3/003_047_Mo_N2_NH3/conf000/traj.xyz'),\n",
       " PosixPath('/home/magstr/generation_data/sweet3/003_047_Mo_NH3/conf000/traj.xyz'),\n",
       " PosixPath('/home/magstr/generation_data/sweet3/003_048_Mo_N2_NH3/conf001/traj.xyz'),\n",
       " PosixPath('/home/magstr/generation_data/sweet3/003_048_Mo_NH3/conf000/traj.xyz'),\n",
       " PosixPath('/home/magstr/generation_data/sweet3/003_049_Mo_N2_NH3/conf000/traj.xyz'),\n",
       " PosixPath('/home/magstr/generation_data/sweet3/003_049_Mo_NH3/conf000/traj.xyz')]"
      ]
     },
     "execution_count": 240,
     "metadata": {},
     "output_type": "execute_result"
    }
   ],
   "source": [
    "trajs"
   ]
  },
  {
   "cell_type": "code",
   "execution_count": 210,
   "id": "3be016b2-ad27-4cc5-92e7-161c9d05f631",
   "metadata": {},
   "outputs": [],
   "source": [
    "sum = 0\n",
    "for i in trajs:\n",
    "    structs = read(i,index=':')\n",
    "    sum+=len(structs)"
   ]
  },
  {
   "cell_type": "code",
   "execution_count": null,
   "id": "673c6b1a-f166-4923-8cd9-36b56eb1b384",
   "metadata": {},
   "outputs": [],
   "source": [
    "sum"
   ]
  },
  {
   "cell_type": "code",
   "execution_count": 186,
   "id": "2738602e-08b0-4706-bb84-a7020410b314",
   "metadata": {},
   "outputs": [],
   "source": [
    "trajfile=trajs[0]\n",
    "structs = read(trajfile, index=\":\")\n",
    "with connect('/home/magstr/generation_data/databases/test4.db') as write_db:\n",
    "    for i,(elem,elem2) in enumerate(zip(structs,structs)):\n",
    "        id = write_db.reserve(name=str(trajfile)+str(i))\n",
    "        if id is None:\n",
    "            continue\n",
    "        write_db.write(elem, id=id, name=str(trajfile))"
   ]
  },
  {
   "cell_type": "code",
   "execution_count": 187,
   "id": "688bf52f-2725-4fd1-ba47-9fb90503ae36",
   "metadata": {},
   "outputs": [
    {
     "data": {
      "text/plain": [
       "130"
      ]
     },
     "execution_count": 187,
     "metadata": {},
     "output_type": "execute_result"
    }
   ],
   "source": [
    "db = connect('/home/magstr/generation_data/databases/test3.db')\n",
    "len(write_db)"
   ]
  },
  {
   "cell_type": "code",
   "execution_count": 188,
   "id": "08c1e305-3562-48e6-b5b3-9ae706b59ae1",
   "metadata": {},
   "outputs": [
    {
     "name": "stdout",
     "output_type": "stream",
     "text": [
      "/home/magstr/generation_data/sweet3/000_000_Mo_N2_NH3/conf002/traj.xyz\n",
      "/home/magstr/generation_data/sweet3/000_000_Mo_N2_NH3/conf002/traj.xyz\n",
      "/home/magstr/generation_data/sweet3/000_000_Mo_N2_NH3/conf002/traj.xyz\n",
      "/home/magstr/generation_data/sweet3/000_000_Mo_N2_NH3/conf002/traj.xyz\n",
      "/home/magstr/generation_data/sweet3/000_000_Mo_N2_NH3/conf002/traj.xyz\n",
      "/home/magstr/generation_data/sweet3/000_000_Mo_N2_NH3/conf002/traj.xyz\n",
      "/home/magstr/generation_data/sweet3/000_000_Mo_N2_NH3/conf002/traj.xyz\n",
      "/home/magstr/generation_data/sweet3/000_000_Mo_N2_NH3/conf002/traj.xyz\n",
      "/home/magstr/generation_data/sweet3/000_000_Mo_N2_NH3/conf002/traj.xyz\n",
      "/home/magstr/generation_data/sweet3/000_000_Mo_N2_NH3/conf002/traj.xyz\n",
      "/home/magstr/generation_data/sweet3/000_000_Mo_N2_NH3/conf002/traj.xyz\n",
      "/home/magstr/generation_data/sweet3/000_000_Mo_N2_NH3/conf002/traj.xyz\n",
      "/home/magstr/generation_data/sweet3/000_000_Mo_N2_NH3/conf002/traj.xyz\n",
      "/home/magstr/generation_data/sweet3/000_000_Mo_N2_NH3/conf002/traj.xyz\n",
      "/home/magstr/generation_data/sweet3/000_000_Mo_N2_NH3/conf002/traj.xyz\n",
      "/home/magstr/generation_data/sweet3/000_000_Mo_N2_NH3/conf002/traj.xyz\n",
      "/home/magstr/generation_data/sweet3/000_000_Mo_N2_NH3/conf002/traj.xyz\n",
      "/home/magstr/generation_data/sweet3/000_000_Mo_N2_NH3/conf002/traj.xyz\n",
      "/home/magstr/generation_data/sweet3/000_000_Mo_N2_NH3/conf002/traj.xyz\n",
      "/home/magstr/generation_data/sweet3/000_000_Mo_N2_NH3/conf002/traj.xyz\n",
      "/home/magstr/generation_data/sweet3/000_000_Mo_N2_NH3/conf002/traj.xyz\n",
      "/home/magstr/generation_data/sweet3/000_000_Mo_N2_NH3/conf002/traj.xyz\n",
      "/home/magstr/generation_data/sweet3/000_000_Mo_N2_NH3/conf002/traj.xyz\n",
      "/home/magstr/generation_data/sweet3/000_000_Mo_N2_NH3/conf002/traj.xyz\n",
      "/home/magstr/generation_data/sweet3/000_000_Mo_N2_NH3/conf002/traj.xyz\n",
      "/home/magstr/generation_data/sweet3/000_000_Mo_N2_NH3/conf002/traj.xyz\n",
      "/home/magstr/generation_data/sweet3/000_000_Mo_N2_NH3/conf002/traj.xyz\n",
      "/home/magstr/generation_data/sweet3/000_000_Mo_N2_NH3/conf002/traj.xyz\n",
      "/home/magstr/generation_data/sweet3/000_000_Mo_N2_NH3/conf002/traj.xyz\n",
      "/home/magstr/generation_data/sweet3/000_000_Mo_N2_NH3/conf002/traj.xyz\n",
      "/home/magstr/generation_data/sweet3/000_000_Mo_N2_NH3/conf002/traj.xyz\n",
      "/home/magstr/generation_data/sweet3/000_000_Mo_N2_NH3/conf002/traj.xyz\n",
      "/home/magstr/generation_data/sweet3/000_000_Mo_N2_NH3/conf002/traj.xyz\n",
      "/home/magstr/generation_data/sweet3/000_000_Mo_N2_NH3/conf002/traj.xyz\n",
      "/home/magstr/generation_data/sweet3/000_000_Mo_N2_NH3/conf002/traj.xyz\n",
      "/home/magstr/generation_data/sweet3/000_000_Mo_N2_NH3/conf002/traj.xyz\n",
      "/home/magstr/generation_data/sweet3/000_000_Mo_N2_NH3/conf002/traj.xyz\n",
      "/home/magstr/generation_data/sweet3/000_000_Mo_N2_NH3/conf002/traj.xyz\n",
      "/home/magstr/generation_data/sweet3/000_000_Mo_N2_NH3/conf002/traj.xyz\n",
      "/home/magstr/generation_data/sweet3/000_000_Mo_N2_NH3/conf002/traj.xyz\n",
      "/home/magstr/generation_data/sweet3/000_000_Mo_N2_NH3/conf002/traj.xyz\n",
      "/home/magstr/generation_data/sweet3/000_000_Mo_N2_NH3/conf002/traj.xyz\n",
      "/home/magstr/generation_data/sweet3/000_000_Mo_N2_NH3/conf002/traj.xyz\n",
      "/home/magstr/generation_data/sweet3/000_000_Mo_N2_NH3/conf002/traj.xyz\n",
      "/home/magstr/generation_data/sweet3/000_000_Mo_N2_NH3/conf002/traj.xyz\n",
      "/home/magstr/generation_data/sweet3/000_000_Mo_N2_NH3/conf002/traj.xyz\n",
      "/home/magstr/generation_data/sweet3/000_000_Mo_N2_NH3/conf002/traj.xyz\n",
      "/home/magstr/generation_data/sweet3/000_000_Mo_N2_NH3/conf002/traj.xyz\n",
      "/home/magstr/generation_data/sweet3/000_000_Mo_N2_NH3/conf002/traj.xyz\n",
      "/home/magstr/generation_data/sweet3/000_000_Mo_N2_NH3/conf002/traj.xyz\n",
      "/home/magstr/generation_data/sweet3/000_000_Mo_N2_NH3/conf002/traj.xyz\n",
      "/home/magstr/generation_data/sweet3/000_000_Mo_N2_NH3/conf002/traj.xyz\n",
      "/home/magstr/generation_data/sweet3/000_000_Mo_N2_NH3/conf002/traj.xyz\n",
      "/home/magstr/generation_data/sweet3/000_000_Mo_N2_NH3/conf002/traj.xyz\n",
      "/home/magstr/generation_data/sweet3/000_000_Mo_N2_NH3/conf002/traj.xyz\n",
      "/home/magstr/generation_data/sweet3/000_000_Mo_N2_NH3/conf002/traj.xyz\n",
      "/home/magstr/generation_data/sweet3/000_000_Mo_N2_NH3/conf002/traj.xyz\n",
      "/home/magstr/generation_data/sweet3/000_000_Mo_N2_NH3/conf002/traj.xyz\n",
      "/home/magstr/generation_data/sweet3/000_000_Mo_N2_NH3/conf002/traj.xyz\n",
      "/home/magstr/generation_data/sweet3/000_000_Mo_N2_NH3/conf002/traj.xyz\n",
      "/home/magstr/generation_data/sweet3/000_000_Mo_N2_NH3/conf002/traj.xyz\n",
      "/home/magstr/generation_data/sweet3/000_000_Mo_N2_NH3/conf002/traj.xyz\n",
      "/home/magstr/generation_data/sweet3/000_000_Mo_N2_NH3/conf002/traj.xyz\n",
      "/home/magstr/generation_data/sweet3/000_000_Mo_N2_NH3/conf002/traj.xyz\n",
      "/home/magstr/generation_data/sweet3/000_000_Mo_N2_NH3/conf002/traj.xyz\n",
      "/home/magstr/generation_data/sweet3/000_000_Mo_N2_NH3/conf002/traj.xyz\n",
      "/home/magstr/generation_data/sweet3/000_000_Mo_N2_NH3/conf002/traj.xyz\n",
      "/home/magstr/generation_data/sweet3/000_000_Mo_N2_NH3/conf002/traj.xyz\n",
      "/home/magstr/generation_data/sweet3/000_000_Mo_N2_NH3/conf002/traj.xyz\n",
      "/home/magstr/generation_data/sweet3/000_000_Mo_N2_NH3/conf002/traj.xyz\n",
      "/home/magstr/generation_data/sweet3/000_000_Mo_N2_NH3/conf002/traj.xyz\n",
      "/home/magstr/generation_data/sweet3/000_000_Mo_N2_NH3/conf002/traj.xyz\n",
      "/home/magstr/generation_data/sweet3/000_000_Mo_N2_NH3/conf002/traj.xyz\n",
      "/home/magstr/generation_data/sweet3/000_000_Mo_N2_NH3/conf002/traj.xyz\n",
      "/home/magstr/generation_data/sweet3/000_000_Mo_N2_NH3/conf002/traj.xyz\n",
      "/home/magstr/generation_data/sweet3/000_000_Mo_N2_NH3/conf002/traj.xyz\n",
      "/home/magstr/generation_data/sweet3/000_000_Mo_N2_NH3/conf002/traj.xyz\n",
      "/home/magstr/generation_data/sweet3/000_000_Mo_N2_NH3/conf002/traj.xyz\n",
      "/home/magstr/generation_data/sweet3/000_000_Mo_N2_NH3/conf002/traj.xyz\n",
      "/home/magstr/generation_data/sweet3/000_000_Mo_N2_NH3/conf002/traj.xyz\n",
      "/home/magstr/generation_data/sweet3/000_000_Mo_N2_NH3/conf002/traj.xyz\n",
      "/home/magstr/generation_data/sweet3/000_000_Mo_N2_NH3/conf002/traj.xyz\n",
      "/home/magstr/generation_data/sweet3/000_000_Mo_N2_NH3/conf002/traj.xyz\n",
      "/home/magstr/generation_data/sweet3/000_000_Mo_N2_NH3/conf002/traj.xyz\n",
      "/home/magstr/generation_data/sweet3/000_000_Mo_N2_NH3/conf002/traj.xyz\n",
      "/home/magstr/generation_data/sweet3/000_000_Mo_N2_NH3/conf002/traj.xyz\n",
      "/home/magstr/generation_data/sweet3/000_000_Mo_N2_NH3/conf002/traj.xyz\n",
      "/home/magstr/generation_data/sweet3/000_000_Mo_N2_NH3/conf002/traj.xyz\n",
      "/home/magstr/generation_data/sweet3/000_000_Mo_N2_NH3/conf002/traj.xyz\n",
      "/home/magstr/generation_data/sweet3/000_000_Mo_N2_NH3/conf002/traj.xyz\n",
      "/home/magstr/generation_data/sweet3/000_000_Mo_N2_NH3/conf002/traj.xyz\n",
      "/home/magstr/generation_data/sweet3/000_000_Mo_N2_NH3/conf002/traj.xyz\n",
      "/home/magstr/generation_data/sweet3/000_000_Mo_N2_NH3/conf002/traj.xyz\n",
      "/home/magstr/generation_data/sweet3/000_000_Mo_N2_NH3/conf002/traj.xyz\n",
      "/home/magstr/generation_data/sweet3/000_000_Mo_N2_NH3/conf002/traj.xyz\n",
      "/home/magstr/generation_data/sweet3/000_000_Mo_N2_NH3/conf002/traj.xyz\n",
      "/home/magstr/generation_data/sweet3/000_000_Mo_N2_NH3/conf002/traj.xyz\n",
      "/home/magstr/generation_data/sweet3/000_000_Mo_N2_NH3/conf002/traj.xyz\n",
      "/home/magstr/generation_data/sweet3/000_000_Mo_N2_NH3/conf002/traj.xyz\n",
      "/home/magstr/generation_data/sweet3/000_000_Mo_N2_NH3/conf002/traj.xyz\n",
      "/home/magstr/generation_data/sweet3/000_000_Mo_N2_NH3/conf002/traj.xyz\n",
      "/home/magstr/generation_data/sweet3/000_000_Mo_N2_NH3/conf002/traj.xyz\n",
      "/home/magstr/generation_data/sweet3/000_000_Mo_N2_NH3/conf002/traj.xyz\n",
      "/home/magstr/generation_data/sweet3/000_000_Mo_N2_NH3/conf002/traj.xyz\n",
      "/home/magstr/generation_data/sweet3/000_000_Mo_N2_NH3/conf002/traj.xyz\n",
      "/home/magstr/generation_data/sweet3/000_000_Mo_N2_NH3/conf002/traj.xyz\n",
      "/home/magstr/generation_data/sweet3/000_000_Mo_N2_NH3/conf002/traj.xyz\n",
      "/home/magstr/generation_data/sweet3/000_000_Mo_N2_NH3/conf002/traj.xyz\n",
      "/home/magstr/generation_data/sweet3/000_000_Mo_N2_NH3/conf002/traj.xyz\n",
      "/home/magstr/generation_data/sweet3/000_000_Mo_N2_NH3/conf002/traj.xyz\n",
      "/home/magstr/generation_data/sweet3/000_000_Mo_N2_NH3/conf002/traj.xyz\n",
      "/home/magstr/generation_data/sweet3/000_000_Mo_N2_NH3/conf002/traj.xyz\n",
      "/home/magstr/generation_data/sweet3/000_000_Mo_N2_NH3/conf002/traj.xyz\n",
      "/home/magstr/generation_data/sweet3/000_000_Mo_N2_NH3/conf002/traj.xyz\n",
      "/home/magstr/generation_data/sweet3/000_000_Mo_N2_NH3/conf002/traj.xyz\n",
      "/home/magstr/generation_data/sweet3/000_000_Mo_N2_NH3/conf002/traj.xyz\n",
      "/home/magstr/generation_data/sweet3/000_000_Mo_N2_NH3/conf002/traj.xyz\n",
      "/home/magstr/generation_data/sweet3/000_000_Mo_N2_NH3/conf002/traj.xyz\n",
      "/home/magstr/generation_data/sweet3/000_000_Mo_N2_NH3/conf002/traj.xyz\n",
      "/home/magstr/generation_data/sweet3/000_000_Mo_N2_NH3/conf002/traj.xyz\n",
      "/home/magstr/generation_data/sweet3/000_000_Mo_N2_NH3/conf002/traj.xyz\n",
      "/home/magstr/generation_data/sweet3/000_000_Mo_N2_NH3/conf002/traj.xyz\n",
      "/home/magstr/generation_data/sweet3/000_000_Mo_N2_NH3/conf002/traj.xyz\n",
      "/home/magstr/generation_data/sweet3/000_000_Mo_N2_NH3/conf002/traj.xyz\n",
      "/home/magstr/generation_data/sweet3/000_000_Mo_N2_NH3/conf002/traj.xyz\n",
      "/home/magstr/generation_data/sweet3/000_000_Mo_N2_NH3/conf002/traj.xyz\n",
      "/home/magstr/generation_data/sweet3/000_000_Mo_N2_NH3/conf002/traj.xyz\n",
      "/home/magstr/generation_data/sweet3/000_000_Mo_N2_NH3/conf002/traj.xyz\n",
      "/home/magstr/generation_data/sweet3/000_000_Mo_N2_NH3/conf002/traj.xyz\n",
      "/home/magstr/generation_data/sweet3/000_000_Mo_N2_NH3/conf002/traj.xyz\n"
     ]
    }
   ],
   "source": [
    "for elem in write_db.select():\n",
    "    print(elem.name)"
   ]
  },
  {
   "cell_type": "code",
   "execution_count": null,
   "id": "ac074c83-1968-48ee-b6be-4f18c2a7301f",
   "metadata": {},
   "outputs": [],
   "source": []
  }
 ],
 "metadata": {
  "kernelspec": {
   "display_name": "Python 3 (ipykernel)",
   "language": "python",
   "name": "python3"
  },
  "language_info": {
   "codemirror_mode": {
    "name": "ipython",
    "version": 3
   },
   "file_extension": ".py",
   "mimetype": "text/x-python",
   "name": "python",
   "nbconvert_exporter": "python",
   "pygments_lexer": "ipython3",
   "version": "3.7.12"
  }
 },
 "nbformat": 4,
 "nbformat_minor": 5
}
