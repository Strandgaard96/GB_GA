{
 "cells": [
  {
   "cell_type": "code",
   "execution_count": 15,
   "id": "90e4d67e-50ac-4e49-994f-c7535599b964",
   "metadata": {},
   "outputs": [],
   "source": [
    "# improts\n",
    "import sys\n",
    "import os\n",
    "import numpy as np\n",
    "import matplotlib.pyplot as plt\n",
    "import re\n",
    "from pathlib import Path\n",
    "from glob import glob\n",
    "import pickle\n",
    "import shutil\n",
    "from rdkit import Chem\n",
    "from rdkit.Chem import AllChem\n",
    "from rdkit.Chem import Draw\n",
    "from rdkit.Chem.Draw import IPythonConsole, MolsToGridImage\n",
    "\n",
    "from ase.db import connect\n",
    "from ase.io import read\n",
    "from ase.visualize import view\n",
    "\n",
    "from ase.calculators.singlepoint import SinglePointCalculator\n",
    "\n",
    "# Ensure we can import from the module level\n",
    "module_path = os.path.abspath(os.path.join('..'))\n",
    "if module_path not in sys.path:\n",
    "    sys.path.append(module_path)\n",
    "\n",
    "from my_utils.analysis import conf_viewer\n"
   ]
  },
  {
   "cell_type": "code",
   "execution_count": 16,
   "id": "7e958d99-01e9-4bc0-a5b2-faa3433d387e",
   "metadata": {},
   "outputs": [],
   "source": [
    "db = connect('/home/magstr/generation_data/databases/ase_database.db')"
   ]
  },
  {
   "cell_type": "code",
   "execution_count": 17,
   "id": "fcfb7fc3-282e-42b7-880a-77f2caa159bc",
   "metadata": {},
   "outputs": [
    {
     "data": {
      "text/plain": [
       "359588"
      ]
     },
     "execution_count": 17,
     "metadata": {},
     "output_type": "execute_result"
    }
   ],
   "source": [
    "len(db)"
   ]
  },
  {
   "cell_type": "code",
   "execution_count": 9,
   "id": "743971e5-5872-47bf-b4c9-e653d7a2bfdf",
   "metadata": {},
   "outputs": [
    {
     "name": "stdout",
     "output_type": "stream",
     "text": [
      "newdb2/000_019_Mo_NH3/conf000/traj.xyz\n"
     ]
    }
   ],
   "source": [
    "structs = []\n",
    "for i,elem in enumerate(db.select()):\n",
    "    structs.append(elem.toatoms())\n",
    "    if i == 10000:\n",
    "        break\n",
    "print(elem['name'])"
   ]
  },
  {
   "cell_type": "code",
   "execution_count": 10,
   "id": "9c63ee61-abdd-44ea-a1eb-93b862489592",
   "metadata": {},
   "outputs": [
    {
     "data": {
      "text/plain": [
       "-117.503862161775"
      ]
     },
     "execution_count": 10,
     "metadata": {},
     "output_type": "execute_result"
    }
   ],
   "source": [
    "structs[0].get_total_energy()"
   ]
  },
  {
   "cell_type": "code",
   "execution_count": 22,
   "id": "811dba4e-3a20-4d0c-8bfd-2fffc6150f72",
   "metadata": {},
   "outputs": [
    {
     "data": {
      "application/vnd.jupyter.widget-view+json": {
       "model_id": "e232b8d7d1804c9aa20284029d7a8472",
       "version_major": 2,
       "version_minor": 0
      },
      "text/plain": [
       "HBox(children=(NGLWidget(), VBox(children=(Dropdown(description='Show', options=('All', 'C', 'Mo', 'H', 'N', '…"
      ]
     },
     "metadata": {},
     "output_type": "display_data"
    }
   ],
   "source": [
    "view(structs[1000], viewer ='ngl')"
   ]
  },
  {
   "cell_type": "code",
   "execution_count": 23,
   "id": "6f472e49-4ecd-4cd5-b638-50239109c8cf",
   "metadata": {},
   "outputs": [],
   "source": [
    "# This has to be after the cell.......\n",
    "v=_\n",
    "v.view.add_ball_and_stick(\"ligand\")"
   ]
  },
  {
   "cell_type": "code",
   "execution_count": null,
   "id": "d5236d64-8bca-402b-9e7e-df6ba27ddd15",
   "metadata": {},
   "outputs": [],
   "source": [
    "gen_no = f'{3}'.zfill(3)"
   ]
  },
  {
   "cell_type": "code",
   "execution_count": null,
   "id": "8c9b8ac4-8a9d-49be-8be6-601d1d0b0fea",
   "metadata": {},
   "outputs": [],
   "source": [
    "p = Path('/home/magstr/generation_data/sweet3/')"
   ]
  },
  {
   "cell_type": "code",
   "execution_count": null,
   "id": "fc7a0370-a663-4789-a9f9-b33354dcffab",
   "metadata": {},
   "outputs": [],
   "source": [
    "f'*traj*'"
   ]
  },
  {
   "cell_type": "code",
   "execution_count": null,
   "id": "52bd56aa-65cf-47ce-89c3-aac42d4ea6a3",
   "metadata": {},
   "outputs": [],
   "source": [
    "trajs =sorted(p.rglob('*traj*'))"
   ]
  },
  {
   "cell_type": "code",
   "execution_count": null,
   "id": "16de1539-3974-452e-8337-3bf509b810f2",
   "metadata": {},
   "outputs": [],
   "source": [
    "len(trajs)"
   ]
  },
  {
   "cell_type": "code",
   "execution_count": null,
   "id": "3be016b2-ad27-4cc5-92e7-161c9d05f631",
   "metadata": {},
   "outputs": [],
   "source": [
    "sum = 0\n",
    "for i in trajs:\n",
    "    structs = read(i,index=':')\n",
    "    sum+=len(structs)"
   ]
  },
  {
   "cell_type": "code",
   "execution_count": 186,
   "id": "2738602e-08b0-4706-bb84-a7020410b314",
   "metadata": {},
   "outputs": [],
   "source": [
    "trajfile=trajs[0]\n",
    "structs = read(trajfile, index=\":\")\n",
    "with connect('/home/magstr/generation_data/databases/test4.db') as write_db:\n",
    "    for i,(elem,elem2) in enumerate(zip(structs,structs)):\n",
    "        id = write_db.reserve(name=str(trajfile)+str(i))\n",
    "        if id is None:\n",
    "            continue\n",
    "        write_db.write(elem, id=id, name=str(trajfile))"
   ]
  },
  {
   "cell_type": "code",
   "execution_count": 187,
   "id": "688bf52f-2725-4fd1-ba47-9fb90503ae36",
   "metadata": {},
   "outputs": [
    {
     "data": {
      "text/plain": [
       "130"
      ]
     },
     "execution_count": 187,
     "metadata": {},
     "output_type": "execute_result"
    }
   ],
   "source": [
    "db = connect('/home/magstr/generation_data/databases/test3.db')\n",
    "len(write_db)"
   ]
  },
  {
   "cell_type": "code",
   "execution_count": 188,
   "id": "08c1e305-3562-48e6-b5b3-9ae706b59ae1",
   "metadata": {},
   "outputs": [
    {
     "name": "stdout",
     "output_type": "stream",
     "text": [
      "/home/magstr/generation_data/sweet3/000_000_Mo_N2_NH3/conf002/traj.xyz\n",
      "/home/magstr/generation_data/sweet3/000_000_Mo_N2_NH3/conf002/traj.xyz\n",
      "/home/magstr/generation_data/sweet3/000_000_Mo_N2_NH3/conf002/traj.xyz\n",
      "/home/magstr/generation_data/sweet3/000_000_Mo_N2_NH3/conf002/traj.xyz\n",
      "/home/magstr/generation_data/sweet3/000_000_Mo_N2_NH3/conf002/traj.xyz\n",
      "/home/magstr/generation_data/sweet3/000_000_Mo_N2_NH3/conf002/traj.xyz\n",
      "/home/magstr/generation_data/sweet3/000_000_Mo_N2_NH3/conf002/traj.xyz\n",
      "/home/magstr/generation_data/sweet3/000_000_Mo_N2_NH3/conf002/traj.xyz\n",
      "/home/magstr/generation_data/sweet3/000_000_Mo_N2_NH3/conf002/traj.xyz\n",
      "/home/magstr/generation_data/sweet3/000_000_Mo_N2_NH3/conf002/traj.xyz\n",
      "/home/magstr/generation_data/sweet3/000_000_Mo_N2_NH3/conf002/traj.xyz\n",
      "/home/magstr/generation_data/sweet3/000_000_Mo_N2_NH3/conf002/traj.xyz\n",
      "/home/magstr/generation_data/sweet3/000_000_Mo_N2_NH3/conf002/traj.xyz\n",
      "/home/magstr/generation_data/sweet3/000_000_Mo_N2_NH3/conf002/traj.xyz\n",
      "/home/magstr/generation_data/sweet3/000_000_Mo_N2_NH3/conf002/traj.xyz\n",
      "/home/magstr/generation_data/sweet3/000_000_Mo_N2_NH3/conf002/traj.xyz\n",
      "/home/magstr/generation_data/sweet3/000_000_Mo_N2_NH3/conf002/traj.xyz\n",
      "/home/magstr/generation_data/sweet3/000_000_Mo_N2_NH3/conf002/traj.xyz\n",
      "/home/magstr/generation_data/sweet3/000_000_Mo_N2_NH3/conf002/traj.xyz\n",
      "/home/magstr/generation_data/sweet3/000_000_Mo_N2_NH3/conf002/traj.xyz\n",
      "/home/magstr/generation_data/sweet3/000_000_Mo_N2_NH3/conf002/traj.xyz\n",
      "/home/magstr/generation_data/sweet3/000_000_Mo_N2_NH3/conf002/traj.xyz\n",
      "/home/magstr/generation_data/sweet3/000_000_Mo_N2_NH3/conf002/traj.xyz\n",
      "/home/magstr/generation_data/sweet3/000_000_Mo_N2_NH3/conf002/traj.xyz\n",
      "/home/magstr/generation_data/sweet3/000_000_Mo_N2_NH3/conf002/traj.xyz\n",
      "/home/magstr/generation_data/sweet3/000_000_Mo_N2_NH3/conf002/traj.xyz\n",
      "/home/magstr/generation_data/sweet3/000_000_Mo_N2_NH3/conf002/traj.xyz\n",
      "/home/magstr/generation_data/sweet3/000_000_Mo_N2_NH3/conf002/traj.xyz\n",
      "/home/magstr/generation_data/sweet3/000_000_Mo_N2_NH3/conf002/traj.xyz\n",
      "/home/magstr/generation_data/sweet3/000_000_Mo_N2_NH3/conf002/traj.xyz\n",
      "/home/magstr/generation_data/sweet3/000_000_Mo_N2_NH3/conf002/traj.xyz\n",
      "/home/magstr/generation_data/sweet3/000_000_Mo_N2_NH3/conf002/traj.xyz\n",
      "/home/magstr/generation_data/sweet3/000_000_Mo_N2_NH3/conf002/traj.xyz\n",
      "/home/magstr/generation_data/sweet3/000_000_Mo_N2_NH3/conf002/traj.xyz\n",
      "/home/magstr/generation_data/sweet3/000_000_Mo_N2_NH3/conf002/traj.xyz\n",
      "/home/magstr/generation_data/sweet3/000_000_Mo_N2_NH3/conf002/traj.xyz\n",
      "/home/magstr/generation_data/sweet3/000_000_Mo_N2_NH3/conf002/traj.xyz\n",
      "/home/magstr/generation_data/sweet3/000_000_Mo_N2_NH3/conf002/traj.xyz\n",
      "/home/magstr/generation_data/sweet3/000_000_Mo_N2_NH3/conf002/traj.xyz\n",
      "/home/magstr/generation_data/sweet3/000_000_Mo_N2_NH3/conf002/traj.xyz\n",
      "/home/magstr/generation_data/sweet3/000_000_Mo_N2_NH3/conf002/traj.xyz\n",
      "/home/magstr/generation_data/sweet3/000_000_Mo_N2_NH3/conf002/traj.xyz\n",
      "/home/magstr/generation_data/sweet3/000_000_Mo_N2_NH3/conf002/traj.xyz\n",
      "/home/magstr/generation_data/sweet3/000_000_Mo_N2_NH3/conf002/traj.xyz\n",
      "/home/magstr/generation_data/sweet3/000_000_Mo_N2_NH3/conf002/traj.xyz\n",
      "/home/magstr/generation_data/sweet3/000_000_Mo_N2_NH3/conf002/traj.xyz\n",
      "/home/magstr/generation_data/sweet3/000_000_Mo_N2_NH3/conf002/traj.xyz\n",
      "/home/magstr/generation_data/sweet3/000_000_Mo_N2_NH3/conf002/traj.xyz\n",
      "/home/magstr/generation_data/sweet3/000_000_Mo_N2_NH3/conf002/traj.xyz\n",
      "/home/magstr/generation_data/sweet3/000_000_Mo_N2_NH3/conf002/traj.xyz\n",
      "/home/magstr/generation_data/sweet3/000_000_Mo_N2_NH3/conf002/traj.xyz\n",
      "/home/magstr/generation_data/sweet3/000_000_Mo_N2_NH3/conf002/traj.xyz\n",
      "/home/magstr/generation_data/sweet3/000_000_Mo_N2_NH3/conf002/traj.xyz\n",
      "/home/magstr/generation_data/sweet3/000_000_Mo_N2_NH3/conf002/traj.xyz\n",
      "/home/magstr/generation_data/sweet3/000_000_Mo_N2_NH3/conf002/traj.xyz\n",
      "/home/magstr/generation_data/sweet3/000_000_Mo_N2_NH3/conf002/traj.xyz\n",
      "/home/magstr/generation_data/sweet3/000_000_Mo_N2_NH3/conf002/traj.xyz\n",
      "/home/magstr/generation_data/sweet3/000_000_Mo_N2_NH3/conf002/traj.xyz\n",
      "/home/magstr/generation_data/sweet3/000_000_Mo_N2_NH3/conf002/traj.xyz\n",
      "/home/magstr/generation_data/sweet3/000_000_Mo_N2_NH3/conf002/traj.xyz\n",
      "/home/magstr/generation_data/sweet3/000_000_Mo_N2_NH3/conf002/traj.xyz\n",
      "/home/magstr/generation_data/sweet3/000_000_Mo_N2_NH3/conf002/traj.xyz\n",
      "/home/magstr/generation_data/sweet3/000_000_Mo_N2_NH3/conf002/traj.xyz\n",
      "/home/magstr/generation_data/sweet3/000_000_Mo_N2_NH3/conf002/traj.xyz\n",
      "/home/magstr/generation_data/sweet3/000_000_Mo_N2_NH3/conf002/traj.xyz\n",
      "/home/magstr/generation_data/sweet3/000_000_Mo_N2_NH3/conf002/traj.xyz\n",
      "/home/magstr/generation_data/sweet3/000_000_Mo_N2_NH3/conf002/traj.xyz\n",
      "/home/magstr/generation_data/sweet3/000_000_Mo_N2_NH3/conf002/traj.xyz\n",
      "/home/magstr/generation_data/sweet3/000_000_Mo_N2_NH3/conf002/traj.xyz\n",
      "/home/magstr/generation_data/sweet3/000_000_Mo_N2_NH3/conf002/traj.xyz\n",
      "/home/magstr/generation_data/sweet3/000_000_Mo_N2_NH3/conf002/traj.xyz\n",
      "/home/magstr/generation_data/sweet3/000_000_Mo_N2_NH3/conf002/traj.xyz\n",
      "/home/magstr/generation_data/sweet3/000_000_Mo_N2_NH3/conf002/traj.xyz\n",
      "/home/magstr/generation_data/sweet3/000_000_Mo_N2_NH3/conf002/traj.xyz\n",
      "/home/magstr/generation_data/sweet3/000_000_Mo_N2_NH3/conf002/traj.xyz\n",
      "/home/magstr/generation_data/sweet3/000_000_Mo_N2_NH3/conf002/traj.xyz\n",
      "/home/magstr/generation_data/sweet3/000_000_Mo_N2_NH3/conf002/traj.xyz\n",
      "/home/magstr/generation_data/sweet3/000_000_Mo_N2_NH3/conf002/traj.xyz\n",
      "/home/magstr/generation_data/sweet3/000_000_Mo_N2_NH3/conf002/traj.xyz\n",
      "/home/magstr/generation_data/sweet3/000_000_Mo_N2_NH3/conf002/traj.xyz\n",
      "/home/magstr/generation_data/sweet3/000_000_Mo_N2_NH3/conf002/traj.xyz\n",
      "/home/magstr/generation_data/sweet3/000_000_Mo_N2_NH3/conf002/traj.xyz\n",
      "/home/magstr/generation_data/sweet3/000_000_Mo_N2_NH3/conf002/traj.xyz\n",
      "/home/magstr/generation_data/sweet3/000_000_Mo_N2_NH3/conf002/traj.xyz\n",
      "/home/magstr/generation_data/sweet3/000_000_Mo_N2_NH3/conf002/traj.xyz\n",
      "/home/magstr/generation_data/sweet3/000_000_Mo_N2_NH3/conf002/traj.xyz\n",
      "/home/magstr/generation_data/sweet3/000_000_Mo_N2_NH3/conf002/traj.xyz\n",
      "/home/magstr/generation_data/sweet3/000_000_Mo_N2_NH3/conf002/traj.xyz\n",
      "/home/magstr/generation_data/sweet3/000_000_Mo_N2_NH3/conf002/traj.xyz\n",
      "/home/magstr/generation_data/sweet3/000_000_Mo_N2_NH3/conf002/traj.xyz\n",
      "/home/magstr/generation_data/sweet3/000_000_Mo_N2_NH3/conf002/traj.xyz\n",
      "/home/magstr/generation_data/sweet3/000_000_Mo_N2_NH3/conf002/traj.xyz\n",
      "/home/magstr/generation_data/sweet3/000_000_Mo_N2_NH3/conf002/traj.xyz\n",
      "/home/magstr/generation_data/sweet3/000_000_Mo_N2_NH3/conf002/traj.xyz\n",
      "/home/magstr/generation_data/sweet3/000_000_Mo_N2_NH3/conf002/traj.xyz\n",
      "/home/magstr/generation_data/sweet3/000_000_Mo_N2_NH3/conf002/traj.xyz\n",
      "/home/magstr/generation_data/sweet3/000_000_Mo_N2_NH3/conf002/traj.xyz\n",
      "/home/magstr/generation_data/sweet3/000_000_Mo_N2_NH3/conf002/traj.xyz\n",
      "/home/magstr/generation_data/sweet3/000_000_Mo_N2_NH3/conf002/traj.xyz\n",
      "/home/magstr/generation_data/sweet3/000_000_Mo_N2_NH3/conf002/traj.xyz\n",
      "/home/magstr/generation_data/sweet3/000_000_Mo_N2_NH3/conf002/traj.xyz\n",
      "/home/magstr/generation_data/sweet3/000_000_Mo_N2_NH3/conf002/traj.xyz\n",
      "/home/magstr/generation_data/sweet3/000_000_Mo_N2_NH3/conf002/traj.xyz\n",
      "/home/magstr/generation_data/sweet3/000_000_Mo_N2_NH3/conf002/traj.xyz\n",
      "/home/magstr/generation_data/sweet3/000_000_Mo_N2_NH3/conf002/traj.xyz\n",
      "/home/magstr/generation_data/sweet3/000_000_Mo_N2_NH3/conf002/traj.xyz\n",
      "/home/magstr/generation_data/sweet3/000_000_Mo_N2_NH3/conf002/traj.xyz\n",
      "/home/magstr/generation_data/sweet3/000_000_Mo_N2_NH3/conf002/traj.xyz\n",
      "/home/magstr/generation_data/sweet3/000_000_Mo_N2_NH3/conf002/traj.xyz\n",
      "/home/magstr/generation_data/sweet3/000_000_Mo_N2_NH3/conf002/traj.xyz\n",
      "/home/magstr/generation_data/sweet3/000_000_Mo_N2_NH3/conf002/traj.xyz\n",
      "/home/magstr/generation_data/sweet3/000_000_Mo_N2_NH3/conf002/traj.xyz\n",
      "/home/magstr/generation_data/sweet3/000_000_Mo_N2_NH3/conf002/traj.xyz\n",
      "/home/magstr/generation_data/sweet3/000_000_Mo_N2_NH3/conf002/traj.xyz\n",
      "/home/magstr/generation_data/sweet3/000_000_Mo_N2_NH3/conf002/traj.xyz\n",
      "/home/magstr/generation_data/sweet3/000_000_Mo_N2_NH3/conf002/traj.xyz\n",
      "/home/magstr/generation_data/sweet3/000_000_Mo_N2_NH3/conf002/traj.xyz\n",
      "/home/magstr/generation_data/sweet3/000_000_Mo_N2_NH3/conf002/traj.xyz\n",
      "/home/magstr/generation_data/sweet3/000_000_Mo_N2_NH3/conf002/traj.xyz\n",
      "/home/magstr/generation_data/sweet3/000_000_Mo_N2_NH3/conf002/traj.xyz\n",
      "/home/magstr/generation_data/sweet3/000_000_Mo_N2_NH3/conf002/traj.xyz\n",
      "/home/magstr/generation_data/sweet3/000_000_Mo_N2_NH3/conf002/traj.xyz\n",
      "/home/magstr/generation_data/sweet3/000_000_Mo_N2_NH3/conf002/traj.xyz\n",
      "/home/magstr/generation_data/sweet3/000_000_Mo_N2_NH3/conf002/traj.xyz\n",
      "/home/magstr/generation_data/sweet3/000_000_Mo_N2_NH3/conf002/traj.xyz\n",
      "/home/magstr/generation_data/sweet3/000_000_Mo_N2_NH3/conf002/traj.xyz\n",
      "/home/magstr/generation_data/sweet3/000_000_Mo_N2_NH3/conf002/traj.xyz\n",
      "/home/magstr/generation_data/sweet3/000_000_Mo_N2_NH3/conf002/traj.xyz\n",
      "/home/magstr/generation_data/sweet3/000_000_Mo_N2_NH3/conf002/traj.xyz\n",
      "/home/magstr/generation_data/sweet3/000_000_Mo_N2_NH3/conf002/traj.xyz\n"
     ]
    }
   ],
   "source": [
    "for elem in write_db.select():\n",
    "    print(elem.name)"
   ]
  },
  {
   "cell_type": "code",
   "execution_count": null,
   "id": "ac074c83-1968-48ee-b6be-4f18c2a7301f",
   "metadata": {},
   "outputs": [],
   "source": []
  }
 ],
 "metadata": {
  "kernelspec": {
   "display_name": "Python 3 (ipykernel)",
   "language": "python",
   "name": "python3"
  },
  "language_info": {
   "codemirror_mode": {
    "name": "ipython",
    "version": 3
   },
   "file_extension": ".py",
   "mimetype": "text/x-python",
   "name": "python",
   "nbconvert_exporter": "python",
   "pygments_lexer": "ipython3",
   "version": "3.7.12"
  }
 },
 "nbformat": 4,
 "nbformat_minor": 5
}
