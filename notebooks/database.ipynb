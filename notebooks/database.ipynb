{
 "cells": [
  {
   "cell_type": "code",
   "execution_count": 19,
   "id": "90e4d67e-50ac-4e49-994f-c7535599b964",
   "metadata": {},
   "outputs": [],
   "source": [
    "# improts\n",
    "import sys\n",
    "import os\n",
    "import numpy as np\n",
    "import matplotlib.pyplot as plt\n",
    "import re\n",
    "from pathlib import Path\n",
    "from glob import glob\n",
    "import pickle\n",
    "import shutil\n",
    "from rdkit import Chem\n",
    "from rdkit.Chem import AllChem\n",
    "from rdkit.Chem import Draw\n",
    "from rdkit.Chem.Draw import IPythonConsole, MolsToGridImage\n",
    "\n",
    "from ase.db import connect\n",
    "from ase.io import read\n",
    "from ase.visualize import view\n",
    "\n",
    "from ase.calculators.singlepoint import SinglePointCalculator\n",
    "\n",
    "# Ensure we can import from the module level\n",
    "module_path = os.path.abspath(os.path.join('..'))\n",
    "if module_path not in sys.path:\n",
    "    sys.path.append(module_path)\n",
    "\n",
    "from my_utils.analysis import conf_viewer\n"
   ]
  },
  {
   "cell_type": "code",
   "execution_count": 20,
   "id": "7e958d99-01e9-4bc0-a5b2-faa3433d387e",
   "metadata": {},
   "outputs": [],
   "source": [
    "db = connect('/home/magstr/generation_data/databases/ase_database.db')"
   ]
  },
  {
   "cell_type": "code",
   "execution_count": 14,
   "id": "fcfb7fc3-282e-42b7-880a-77f2caa159bc",
   "metadata": {},
   "outputs": [
    {
     "data": {
      "text/plain": [
       "586"
      ]
     },
     "execution_count": 14,
     "metadata": {},
     "output_type": "execute_result"
    }
   ],
   "source": [
    "len(db)"
   ]
  },
  {
   "cell_type": "code",
   "execution_count": 15,
   "id": "743971e5-5872-47bf-b4c9-e653d7a2bfdf",
   "metadata": {},
   "outputs": [],
   "source": [
    "structs = []\n",
    "for elem in db.select():\n",
    "    structs.append(elem.toatoms())"
   ]
  },
  {
   "cell_type": "code",
   "execution_count": 17,
   "id": "811dba4e-3a20-4d0c-8bfd-2fffc6150f72",
   "metadata": {},
   "outputs": [
    {
     "data": {
      "application/vnd.jupyter.widget-view+json": {
       "model_id": "42d4a79e936747b5831084a1a4da4dbf",
       "version_major": 2,
       "version_minor": 0
      },
      "text/plain": [
       "HBox(children=(NGLWidget(), VBox(children=(Dropdown(description='Show', options=('All', 'H', 'C', 'Mo', 'O', '…"
      ]
     },
     "metadata": {},
     "output_type": "display_data"
    }
   ],
   "source": [
    "view(structs[400], viewer ='ngl')"
   ]
  },
  {
   "cell_type": "code",
   "execution_count": 18,
   "id": "6f472e49-4ecd-4cd5-b638-50239109c8cf",
   "metadata": {},
   "outputs": [],
   "source": [
    "# This has to be after the cell.......\n",
    "v=_\n",
    "v.view.add_ball_and_stick(\"ligand\")"
   ]
  },
  {
   "cell_type": "code",
   "execution_count": null,
   "id": "d5236d64-8bca-402b-9e7e-df6ba27ddd15",
   "metadata": {},
   "outputs": [],
   "source": []
  }
 ],
 "metadata": {
  "kernelspec": {
   "display_name": "Python 3 (ipykernel)",
   "language": "python",
   "name": "python3"
  },
  "language_info": {
   "codemirror_mode": {
    "name": "ipython",
    "version": 3
   },
   "file_extension": ".py",
   "mimetype": "text/x-python",
   "name": "python",
   "nbconvert_exporter": "python",
   "pygments_lexer": "ipython3",
   "version": "3.7.12"
  }
 },
 "nbformat": 4,
 "nbformat_minor": 5
}
