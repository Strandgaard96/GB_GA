{
 "cells": [
  {
   "cell_type": "code",
   "execution_count": 1,
   "id": "ac5047be-e8f9-416e-89e6-b19b5474c41c",
   "metadata": {},
   "outputs": [],
   "source": [
    "# improts\n",
    "import sys\n",
    "import os\n",
    "import numpy as np\n",
    "import matplotlib.pyplot as plt\n",
    "import re\n",
    "from pathlib import Path\n",
    "from glob import glob\n",
    "import pickle\n",
    "import shutil\n",
    "import json\n",
    "import io\n",
    "import pandas as pd\n",
    "from pathlib import Path\n",
    "from rdkit import Chem\n",
    "from rdkit.Chem import AllChem\n",
    "from rdkit.Chem import Draw\n",
    "from rdkit.Chem.Draw import IPythonConsole, MolsToGridImage\n",
    "from rdkit.Chem.rdMolDescriptors import CalcNumRotatableBonds\n",
    "import py3Dmol\n",
    "import copy\n",
    "\n",
    "from rdkit.Geometry import Point3D\n",
    "\n",
    "module_path = os.path.abspath(os.path.join('..'))\n",
    "sys.path.append(module_path)\n",
    "\n",
    "import pickle\n",
    "from support_mvp.backup_plot_diagram.data_handler import renamed_load\n",
    "\n",
    "# For highlight colors\n",
    "from matplotlib.colors import ColorConverter\n",
    "import matplotlib.ticker as mticker\n",
    "\n",
    "# Stuff for changing rdkit drawing view: \n",
    "#IPythonConsole.drawOptions.addAtomIndices = True\n",
    "#IPythonConsole.molSize = 500,500\n",
    "#IPythonConsole.drawOptions.addAtomIndices = True\n",
    "\n",
    "font = {'weight' : 'bold',\n",
    "        'size'   : 12}\n",
    "plt.rc('font', **font)\n",
    "\n",
    "HARTREE2EV = 27.2114\n",
    "HARTREE2KCAL = 627.51\n",
    "kcal = 627.51\n",
    "ev = 27.2114\n",
    "\n",
    "\n",
    "# Alternate way \n",
    "#with open('benzene.svg','w') as f:\n",
    "#    f.write(img.data)\n",
    "#img = Chem.Draw.MolsToGridImage([m], useSVG=True)\n",
    "    "
   ]
  },
  {
   "cell_type": "code",
   "execution_count": 2,
   "id": "e5a35652-15e8-4155-9d37-fa1b68c5749c",
   "metadata": {},
   "outputs": [],
   "source": [
    "dft_base = Path('/home/magstr/dft_data')\n",
    "img_dir = Path('imgs')"
   ]
  },
  {
   "cell_type": "markdown",
   "id": "4b3b59bc-4e96-4a44-a8f4-1477d16dcf8f",
   "metadata": {},
   "source": [
    "### Functions"
   ]
  },
  {
   "cell_type": "code",
   "execution_count": 3,
   "id": "73453348-c970-4632-946b-37a0a56d0bd6",
   "metadata": {},
   "outputs": [],
   "source": [
    "def draw_mol(\n",
    "    mol,\n",
    "    width=900,\n",
    "    height=900,\n",
    "    Hs=False,\n",
    "    confId=-1,\n",
    "    multipleConfs=False,\n",
    "    atomlabel=False,\n",
    "    hit_ats=None,\n",
    "    gen_struct=None,\n",
    "    trajectory=False,\n",
    "):\n",
    "    p = py3Dmol.view(width=width, height=height)\n",
    "    \n",
    "    if isinstance(mol, str):\n",
    "        xyz_f = open(mol)\n",
    "        line = xyz_f.read()\n",
    "        xyz_f.close()\n",
    "        p.addModel(line, \"xyz\")\n",
    "    else:\n",
    "        if multipleConfs:\n",
    "            for conf in mol.GetConformers():\n",
    "                mb = Chem.MolToMolBlock(mol, confId=conf.GetId())\n",
    "                p.addModel(mb, \"sdf\")\n",
    "        else:\n",
    "            mb = Chem.MolToMolBlock(mol)\n",
    "            p.addModel(mb, \"sdf\")\n",
    "        \n",
    "    p.setStyle({\"stick\": {\"radius\": 0.2}, \"sphere\":\n",
    "                {\"radius\": 0.3}})\n",
    "    if atomlabel:\n",
    "        p.addPropertyLabels(\"index\")  # ,{'elem':'H'}\n",
    "    p.zoomTo()\n",
    "    p.update()"
   ]
  },
  {
   "cell_type": "code",
   "execution_count": 4,
   "id": "9f3cb084-e8f1-403f-856f-4f29398b271d",
   "metadata": {},
   "outputs": [],
   "source": [
    "def single_atom_remover(mol, idx):\n",
    "    \"\"\"Function that removes an atom at specified idx.\n",
    "\n",
    "    Args:\n",
    "        mol (Chem.rdchem.Mol): The mol to remove substruct on\n",
    "        pattern (Chem.rdchem.Mol): mol object to remove from the input mol\n",
    "\n",
    "    Returns:\n",
    "        Chem.rdchem.Mol: The ouput mol with the atom removed\n",
    "    \"\"\"\n",
    "    res = Chem.RWMol(mol)\n",
    "    res.BeginBatchEdit()\n",
    "    res.RemoveAtom(idx)\n",
    "    res.CommitBatchEdit()\n",
    "    Chem.SanitizeMol(res)\n",
    "    return res.GetMol()"
   ]
  },
  {
   "cell_type": "code",
   "execution_count": 5,
   "id": "1dad8dfa-8fe6-4b8c-bae4-0bd417f589b3",
   "metadata": {},
   "outputs": [],
   "source": [
    "def remove_NH3(mol):\n",
    "    \"\"\"Remove NH3 group on mol.\"\"\"\n",
    "\n",
    "    # Substructure match the NH3\n",
    "    NH3_match = Chem.MolFromSmarts(\"[NH3]\")\n",
    "    NH3_match = Chem.AddHs(NH3_match)\n",
    "    removed_mol = Chem.DeleteSubstructs(mol, NH3_match)\n",
    "\n",
    "    return removed_mol"
   ]
  },
  {
   "cell_type": "markdown",
   "id": "8eeee907-b83f-4a54-bdd5-5968cd5e5c2f",
   "metadata": {
    "tags": []
   },
   "source": [
    "CC(C)(N)CCC1CCCCC1## Core images"
   ]
  },
  {
   "cell_type": "code",
   "execution_count": 6,
   "id": "9c66250a-2f90-4960-826b-fafd10803bcc",
   "metadata": {},
   "outputs": [
    {
     "name": "stdout",
     "output_type": "stream",
     "text": [
      "my_utils.classes\n",
      "rdkit.Chem.rdchem\n",
      "numpy.core.multiarray\n",
      "numpy\n",
      "numpy.core.multiarray\n",
      "numpy\n",
      "pathlib\n"
     ]
    }
   ],
   "source": [
    "converged_file = Path('../data/converged_reaction_profiles.pkl')\n",
    "\n",
    "with open(converged_file, \"rb\") as f:\n",
    "    conf = renamed_load(f)"
   ]
  },
  {
   "cell_type": "code",
   "execution_count": 8,
   "id": "b5578efe-0ff1-47b9-a824-0c5fb30ce737",
   "metadata": {},
   "outputs": [
    {
     "name": "stdout",
     "output_type": "stream",
     "text": [
      "CCCN1CCCC(N)(C2CCCC2)C1\n",
      "CCCOC(=O)NCC1(N)CCCCC1\n",
      "C=C(C)CC(C)(C)N\n",
      "CC(=O)c1cc(O)c(C(=O)CN)cc1O\n",
      "CC(=O)c1ccc(F)c(C(=O)CN)c1\n",
      "CC(=O)c1ccc(F)c(C(=O)N=CN)c1\n",
      "N#Cc1ccnc(C#N)c1N\n",
      "N#Cc1ccnc(C(=O)Cl)c1N\n",
      "N#Cc1cnc(C#N)c(N)c1\n",
      "N#Cc1ncc(C(=O)CO)cc1N\n",
      "N#Cc1ncc(CC(=O)O)cc1N\n",
      "NC1(CCCCCl)CCCCC1\n",
      "NC=NC(=O)c1cccc(Br)c1\n",
      "NCC=Cc1ncnc2ccccc12\n",
      "NCCc1ncnc2ccccc12\n",
      "Nc1ccccc1N=CC(=O)Cl\n",
      "NCCCOc1ccnc2cccnc12\n",
      "NCCCOc1ncnc2cccnc12\n",
      "NCCCc1ncnc2ccccc12\n",
      "NCCOC(=O)c1ncnc2ccccc12\n",
      "CC(=O)Nc1ccc(F)c(C(=O)Cc2ccnc(N)c2)c1\n",
      "CC(C)(N)CCC1CCCCC1\n",
      "CC(N)Cc1ccc(CCl)cc1\n",
      "CC(N)Cc1ccc(Cc2ccccc2)cc1\n"
     ]
    }
   ],
   "source": [
    "for i in conf:\n",
    "    print(i.smiles)"
   ]
  },
  {
   "cell_type": "code",
   "execution_count": 9,
   "id": "3dd29bec-b9f4-4b74-b529-3b3ca38acfc0",
   "metadata": {},
   "outputs": [],
   "source": [
    "# My candidate molecules so far\n",
    "# C1 2\n",
    "# C2 -5 \n",
    "# C3 9 \n",
    "# C4 -7\n",
    "# C5 -1 \n",
    "# C6 -3\n",
    "# C7 -2\n",
    "# C8 8 \n",
    "# C9 6\n",
    "# C10 7 \n",
    "# C11 1\n",
    "# C12 -4"
   ]
  },
  {
   "cell_type": "code",
   "execution_count": 10,
   "id": "7815f307-a9ea-48ac-9f02-ef33b360f4fb",
   "metadata": {},
   "outputs": [],
   "source": [
    "idx = -8"
   ]
  },
  {
   "cell_type": "code",
   "execution_count": 11,
   "id": "e7c220fe-cd13-4890-bb4f-5e5f729256d8",
   "metadata": {
    "tags": []
   },
   "outputs": [],
   "source": [
    "# Replace tricky primary amines in the frag:\n",
    "prim_match = Chem.MolFromSmarts(\"[NX3;H2]\")\n",
    "rm = Chem.ReplaceSubstructs(\n",
    "                            conf[idx].rdkit_mol,\n",
    "                            prim_match,\n",
    "                            Chem.MolFromSmiles(\"[1*]\"),\n",
    "                            replaceAll=True,\n",
    "                        )[0]\n",
    "rm\n",
    "Chem.Draw.MolToFile(rm, img_dir/'tmp.svg')"
   ]
  },
  {
   "cell_type": "code",
   "execution_count": 12,
   "id": "09d3cdb3-7cb5-47a0-8532-ae103441e5ce",
   "metadata": {},
   "outputs": [],
   "source": [
    "with open('coordinates.xyz', \"w+\") as f:\n",
    "    f.write(Chem.MolToXYZBlock(conf[idx].optimized_mol2))"
   ]
  },
  {
   "cell_type": "code",
   "execution_count": 13,
   "id": "3bb347fa-03fb-40e3-99f9-1cc16eda748d",
   "metadata": {},
   "outputs": [],
   "source": [
    "scoring_to_keys = {'rdkit_embed_scoring':('Mo_N2_NH3', 'Mo_NH3'),'rdkit_embed_scoring_NH3toN2':('Mo_NH3', 'Mo_N2'),'rdkit_embed_scoring_NH3plustoNH3':('Mo_NH3+', 'Mo_NH3')}"
   ]
  },
  {
   "cell_type": "code",
   "execution_count": 14,
   "id": "b3c79ac4-1189-46e2-be5e-7253f20fd691",
   "metadata": {},
   "outputs": [],
   "source": [
    "def correct_lines(xyz_coordinates, key):\n",
    "    \n",
    "    if key =='Mo_N2_NH3':\n",
    "        \n",
    "        xyz_coordinates.insert(23,xyz_coordinates.pop(-6))\n",
    "        xyz_coordinates.insert(24,xyz_coordinates.pop(-5))\n",
    "        xyz_coordinates.insert(25,xyz_coordinates.pop(-4))\n",
    "        xyz_coordinates.insert(26,xyz_coordinates.pop(-3))\n",
    "        xyz_coordinates.insert(27,xyz_coordinates.pop(-2))\n",
    "        xyz_coordinates.insert(28,xyz_coordinates.pop(-1))\n",
    "    elif key =='Mo_N2':\n",
    "        pass\n",
    "    elif (key == 'Mo_NH3') | (key == 'Mo_NH3+'):\n",
    "        xyz_coordinates.insert(23,xyz_coordinates.pop(-4))\n",
    "        xyz_coordinates.insert(24,xyz_coordinates.pop(-3))\n",
    "        xyz_coordinates.insert(25,xyz_coordinates.pop(-2))\n",
    "        xyz_coordinates.insert(26,xyz_coordinates.pop(-1))\n",
    "    return xyz_coordinates"
   ]
  },
  {
   "cell_type": "code",
   "execution_count": 15,
   "id": "b1668fea-f9bd-4a14-a001-d06bfe6926d6",
   "metadata": {},
   "outputs": [],
   "source": [
    "def lines_to_xyz(file):\n",
    "    \n",
    "    atomic_symbols = []\n",
    "    xyz_coordinates = []\n",
    "    for line_number, line in enumerate(file):\n",
    "        if line_number == 0:\n",
    "            num_atoms = int(line)\n",
    "        elif line_number == 1:\n",
    "            comment = line  # might have useful information\n",
    "        else:\n",
    "            atomic_symbol, x, y, z = line.split()\n",
    "            atomic_symbols.append(atomic_symbol)\n",
    "            xyz_coordinates.append([float(x), float(y), float(z)])\n",
    "    \n",
    "    return xyz_coordinates"
   ]
  },
  {
   "cell_type": "code",
   "execution_count": 16,
   "id": "0c466933-ca6f-4ab6-8ad1-4fe05a4ae1d2",
   "metadata": {},
   "outputs": [],
   "source": [
    "def fix_xyz_lines(mol, keys):\n",
    "\n",
    "\n",
    "    file = conf[idx].reaction_profile_final_structs[keys[0]]\n",
    "\n",
    "    xyz_coordinates = lines_to_xyz(file)\n",
    "\n",
    "    mol = copy.deepcopy(conf[idx].optimized_mol1)\n",
    "    mol.RemoveAllConformers()\n",
    "\n",
    "    xyz_coordinates = correct_lines(xyz_coordinates, keys[0])\n",
    "\n",
    "    # from https://github.com/rdkit/rdkit/issues/2413\n",
    "    conformer = Chem.Conformer()\n",
    "    # in principal, you should check that the atoms match\n",
    "    for i in range(mol.GetNumAtoms()):\n",
    "        x, y, z = xyz_coordinates[i]\n",
    "        conformer.SetAtomPosition(i, Point3D(x, y, z))\n",
    "    mol.AddConformer(conformer, assignId=True)\n",
    "    conf[idx].optimized_pbe_mol1 = mol \n",
    "    \n",
    "    \n",
    "    file = conf[idx].reaction_profile_final_structs[keys[1]]\n",
    "    xyz_coordinates = lines_to_xyz(file)\n",
    "    mol = copy.deepcopy(conf[idx].optimized_mol2)\n",
    "    mol.RemoveAllConformers()\n",
    "\n",
    "    correct_lines(xyz_coordinates, keys[1])\n",
    "\n",
    "    # from https://github.com/rdkit/rdkit/issues/2413\n",
    "    conformer = Chem.Conformer()\n",
    "    # in principal, you should check that the atoms match\n",
    "    for i in range(mol.GetNumAtoms()):\n",
    "        x, y, z = xyz_coordinates[i]\n",
    "        conformer.SetAtomPosition(i, Point3D(x, y, z))\n",
    "    mol.AddConformer(conformer, assignId=True)\n",
    "    conf[idx].optimized_pbe_mol2 = mol \n",
    "    \n",
    "\n",
    "    return mol"
   ]
  },
  {
   "cell_type": "code",
   "execution_count": 17,
   "id": "00def72d-48df-46d2-8730-1f2e7f70098e",
   "metadata": {},
   "outputs": [
    {
     "data": {
      "image/png": "[encoded data removed]",
      "text/plain": [
       "<rdkit.Chem.rdchem.Mol at 0x7fc870b3cbc0>"
      ]
     },
     "execution_count": 17,
     "metadata": {},
     "output_type": "execute_result"
    }
   ],
   "source": [
    "\n",
    "fix_xyz_lines(conf[idx], scoring_to_keys[conf[idx].scoring_function])"
   ]
  },
  {
   "cell_type": "code",
   "execution_count": 19,
   "id": "96cfc424-065b-4681-98e2-ec561d9c1365",
   "metadata": {},
   "outputs": [
    {
     "data": {
      "application/3dmoljs_load.v0": "<div id=\"3dmolviewer_16794076657841094\"  style=\"position: relative; width: 900px; height: 900px\">\n        <p id=\"3dmolwarning_16794076657841094\" style=\"background-color:#ffcccc;color:black\">You appear to be running in JupyterLab (or JavaScript failed to load for some other reason).  You need to install the 3dmol extension: <br>\n        <tt>jupyter labextension install jupyterlab_3dmol</tt></p>\n        </div>\n<script>\n\nvar loadScriptAsync = function(uri){\n  return new Promise((resolve, reject) => {\n    //this is to ignore the existence of requirejs amd\n    var savedexports, savedmodule;\n    if (typeof exports !== 'undefined') savedexports = exports;\n    else exports = {}\n    if (typeof module !== 'undefined') savedmodule = module;\n    else module = {}\n\n    var tag = document.createElement('script');\n    tag.src = uri;\n    tag.async = true;\n    tag.onload = () => {\n        exports = savedexports;\n        module = savedmodule;\n        resolve();\n    };\n  var firstScriptTag = document.getElementsByTagName('script')[0];\n  firstScriptTag.parentNode.insertBefore(tag, firstScriptTag);\n});\n};\n\nif(typeof $3Dmolpromise === 'undefined') {\n$3Dmolpromise = null;\n  $3Dmolpromise = loadScriptAsync('https://cdnjs.cloudflare.com/ajax/libs/3Dmol/2.0.1/3Dmol-min.js');\n}\n\nvar viewer_16794076657841094 = null;\nvar warn = document.getElementById(\"3dmolwarning_16794076657841094\");\nif(warn) {\n    warn.parentNode.removeChild(warn);\n}\n$3Dmolpromise.then(function() {\nviewer_16794076657841094 = $3Dmol.createViewer(document.getElementById(\"3dmolviewer_16794076657841094\"),{backgroundColor:\"white\"});\nviewer_16794076657841094.zoomTo();\n\tviewer_16794076657841094.addModel(\"\\n     RDKit          3D\\n\\n104111  0  0  0  0  0  0  0  0999 V2000\\n   -3.0504    0.3548    4.7712 N   0  0  0  0  0  0  0  0  0  0  0  0\\n   -3.4844    2.3291    5.0302 Mo  0  0  0  0  0  5  0  0  0  0  0  0\\n   -4.8830    2.1704    6.4798 N   0  0  0  0  0  0  0  0  0  0  0  0\\n   -4.3879    2.1210    7.8482 C   0  0  0  0  0  0  0  0  0  0  0  0\\n   -3.0592    1.3787    7.8564 C   0  0  0  0  0  0  0  0  0  0  0  0\\n   -2.1825    1.9395    6.7897 N   0  0  0  0  0  0  0  0  0  0  0  0\\n   -1.2005    0.9461    6.2904 C   0  0  0  0  0  0  0  0  0  0  0  0\\n   -1.9124   -0.1649    5.5095 C   0  0  0  0  0  0  0  0  0  0  0  0\\n   -1.5412    3.2089    7.2426 C   0  0  0  0  0  0  0  0  0  0  0  0\\n   -1.5322    4.2217    6.0957 C   0  0  0  0  0  0  0  0  0  0  0  0\\n   -2.8465    4.2598    5.4684 N   0  0  0  0  0  0  0  0  0  0  0  0\\n   -1.1543   -0.6547    4.8630 H   0  0  0  0  0  0  0  0  0  0  0  0\\n   -2.2555   -0.9613    6.2085 H   0  0  0  0  0  0  0  0  0  0  0  0\\n   -0.5063    1.4889    5.6366 H   0  0  0  0  0  0  0  0  0  0  0  0\\n   -0.6160    0.5155    7.1267 H   0  0  0  0  0  0  0  0  0  0  0  0\\n   -1.2401    5.2089    6.4998 H   0  0  0  0  0  0  0  0  0  0  0  0\\n   -0.7486    3.9413    5.3658 H   0  0  0  0  0  0  0  0  0  0  0  0\\n   -2.1544    3.6091    8.0617 H   0  0  0  0  0  0  0  0  0  0  0  0\\n   -0.5316    3.0025    7.6411 H   0  0  0  0  0  0  0  0  0  0  0  0\\n   -5.0947    1.5892    8.5155 H   0  0  0  0  0  0  0  0  0  0  0  0\\n   -4.2582    3.1363    8.2838 H   0  0  0  0  0  0  0  0  0  0  0  0\\n   -3.2439    0.3244    7.6138 H   0  0  0  0  0  0  0  0  0  0  0  0\\n   -2.5534    1.4307    8.8378 H   0  0  0  0  0  0  0  0  0  0  0  0\\n   -4.9202    2.4341    3.2786 N   0  0  0  0  0  4  0  0  0  0  0  0\\n   -5.0577    3.3824    2.9091 H   0  0  0  0  0  0  0  0  0  0  0  0\\n   -5.8759    2.0511    3.3677 H   0  0  0  0  0  0  0  0  0  0  0  0\\n   -4.4775    1.9469    2.4833 H   0  0  0  0  0  0  0  0  0  0  0  0\\n   -1.9212    2.5469    3.6879 N   0  0  0  0  0  4  0  0  0  0  0  0\\n   -1.0091    2.6681    3.0202 N   0  0  0  0  0  0  0  0  0  0  0  0\\n   -3.9226   -0.6819    4.2577 C   0  0  0  0  0  0  0  0  0  0  0  0\\n   -3.3329   -1.5273    3.1124 C   0  0  0  0  0  0  0  0  0  0  0  0\\n   -3.1846   -0.7702    1.8104 C   0  0  0  0  0  0  0  0  0  0  0  0\\n   -4.5291   -0.6140    1.2478 O   0  0  0  0  0  0  0  0  0  0  0  0\\n   -4.6613   -0.0435    0.0228 C   0  0  0  0  0  0  0  0  0  0  0  0\\n   -5.4442   -0.6922   -0.9204 C   0  0  0  0  0  0  0  0  0  0  0  0\\n   -5.6459   -0.1050   -2.1845 C   0  0  0  0  0  0  0  0  0  0  0  0\\n   -5.1245    1.0518   -2.5721 N   0  0  0  0  0  0  0  0  0  0  0  0\\n   -4.3671    1.7171   -1.6517 C   0  0  0  0  0  0  0  0  0  0  0  0\\n   -3.8131    2.9760   -1.9949 C   0  0  0  0  0  0  0  0  0  0  0  0\\n   -3.0999    3.6817   -1.0515 C   0  0  0  0  0  0  0  0  0  0  0  0\\n   -2.9556    3.1391    0.2444 C   0  0  0  0  0  0  0  0  0  0  0  0\\n   -3.4400    1.9607    0.6053 N   0  0  0  0  0  0  0  0  0  0  0  0\\n   -4.1184    1.2347   -0.3237 C   0  0  0  0  0  0  0  0  0  0  0  0\\n   -3.5423    5.5218    5.6126 C   0  0  0  0  0  0  0  0  0  0  0  0\\n   -4.6435    5.7171    4.5725 C   0  0  0  0  0  0  0  0  0  0  0  0\\n   -4.0973    5.9515    3.1688 C   0  0  0  0  0  0  0  0  0  0  0  0\\n   -4.9413    5.3707    2.1390 O   0  0  0  0  0  0  0  0  0  0  0  0\\n   -6.1649    5.8903    1.9208 C   0  0  0  0  0  0  0  0  0  0  0  0\\n   -6.6620    7.0583    2.4800 C   0  0  0  0  0  0  0  0  0  0  0  0\\n   -7.9732    7.4704    2.1611 C   0  0  0  0  0  0  0  0  0  0  0  0\\n   -8.8007    6.8337    1.3481 N   0  0  0  0  0  0  0  0  0  0  0  0\\n   -8.3198    5.6909    0.7714 C   0  0  0  0  0  0  0  0  0  0  0  0\\n   -9.1441    4.9760   -0.1309 C   0  0  0  0  0  0  0  0  0  0  0  0\\n   -8.6617    3.8288   -0.7204 C   0  0  0  0  0  0  0  0  0  0  0  0\\n   -7.3594    3.3877   -0.3954 C   0  0  0  0  0  0  0  0  0  0  0  0\\n   -6.5527    4.0179    0.4447 N   0  0  0  0  0  0  0  0  0  0  0  0\\n   -7.0130    5.1607    1.0192 C   0  0  0  0  0  0  0  0  0  0  0  0\\n   -6.3268    2.2317    6.3749 C   0  0  0  0  0  0  0  0  0  0  0  0\\n   -6.9246    3.6454    6.5840 C   0  0  0  0  0  0  0  0  0  0  0  0\\n   -8.2212    3.8735    5.8234 C   0  0  0  0  0  0  0  0  0  0  0  0\\n   -7.9859    3.4548    4.4564 O   0  0  0  0  0  0  0  0  0  0  0  0\\n   -9.0454    3.2759    3.6461 C   0  0  0  0  0  0  0  0  0  0  0  0\\n  -10.2212    4.0076    3.6913 C   0  0  0  0  0  0  0  0  0  0  0  0\\n  -11.2338    3.7319    2.7482 C   0  0  0  0  0  0  0  0  0  0  0  0\\n  -11.1756    2.7911    1.8169 N   0  0  0  0  0  0  0  0  0  0  0  0\\n  -10.0375    2.0368    1.7843 C   0  0  0  0  0  0  0  0  0  0  0  0\\n   -9.9265    0.9882    0.8385 C   0  0  0  0  0  0  0  0  0  0  0  0\\n   -8.7892    0.2099    0.8225 C   0  0  0  0  0  0  0  0  0  0  0  0\\n   -7.7619    0.4771    1.7546 C   0  0  0  0  0  0  0  0  0  0  0  0\\n   -7.8169    1.4524    2.6514 N   0  0  0  0  0  0  0  0  0  0  0  0\\n   -8.9309    2.2337    2.6693 C   0  0  0  0  0  0  0  0  0  0  0  0\\n   -4.2003   -1.3745    5.0837 H   0  0  0  0  0  0  0  0  0  0  0  0\\n   -4.8615   -0.2215    3.9133 H   0  0  0  0  0  0  0  0  0  0  0  0\\n   -2.3373   -1.8999    3.4023 H   0  0  0  0  0  0  0  0  0  0  0  0\\n   -3.9633   -2.4162    2.9435 H   0  0  0  0  0  0  0  0  0  0  0  0\\n   -2.5879   -1.3385    1.0788 H   0  0  0  0  0  0  0  0  0  0  0  0\\n   -2.7322    0.2176    1.9629 H   0  0  0  0  0  0  0  0  0  0  0  0\\n   -5.8855   -1.6600   -0.6783 H   0  0  0  0  0  0  0  0  0  0  0  0\\n   -6.2613   -0.6303   -2.9223 H   0  0  0  0  0  0  0  0  0  0  0  0\\n   -3.9859    3.3570   -3.0026 H   0  0  0  0  0  0  0  0  0  0  0  0\\n   -2.6661    4.6557   -1.2810 H   0  0  0  0  0  0  0  0  0  0  0  0\\n   -2.4221    3.6961    1.0191 H   0  0  0  0  0  0  0  0  0  0  0  0\\n   -2.8280    6.3702    5.5433 H   0  0  0  0  0  0  0  0  0  0  0  0\\n   -4.0162    5.6166    6.6164 H   0  0  0  0  0  0  0  0  0  0  0  0\\n   -5.3023    6.5373    4.8915 H   0  0  0  0  0  0  0  0  0  0  0  0\\n   -5.2596    4.8065    4.5480 H   0  0  0  0  0  0  0  0  0  0  0  0\\n   -3.1487    5.4126    3.0483 H   0  0  0  0  0  0  0  0  0  0  0  0\\n   -3.9339    7.0186    2.9486 H   0  0  0  0  0  0  0  0  0  0  0  0\\n   -6.0669    7.6629    3.1615 H   0  0  0  0  0  0  0  0  0  0  0  0\\n   -8.3553    8.3902    2.6170 H   0  0  0  0  0  0  0  0  0  0  0  0\\n  -10.1463    5.3579   -0.3304 H   0  0  0  0  0  0  0  0  0  0  0  0\\n   -9.2702    3.2521   -1.4177 H   0  0  0  0  0  0  0  0  0  0  0  0\\n   -6.9713    2.4701   -0.8464 H   0  0  0  0  0  0  0  0  0  0  0  0\\n   -6.7970    1.5325    7.0970 H   0  0  0  0  0  0  0  0  0  0  0  0\\n   -6.6148    1.8869    5.3740 H   0  0  0  0  0  0  0  0  0  0  0  0\\n   -6.1805    4.3795    6.2486 H   0  0  0  0  0  0  0  0  0  0  0  0\\n   -7.1120    3.8517    7.6497 H   0  0  0  0  0  0  0  0  0  0  0  0\\n   -8.5153    4.9355    5.8488 H   0  0  0  0  0  0  0  0  0  0  0  0\\n   -9.0519    3.2684    6.2245 H   0  0  0  0  0  0  0  0  0  0  0  0\\n  -10.3633    4.8061    4.4187 H   0  0  0  0  0  0  0  0  0  0  0  0\\n  -12.1472    4.3351    2.7690 H   0  0  0  0  0  0  0  0  0  0  0  0\\n  -10.7551    0.8268    0.1469 H   0  0  0  0  0  0  0  0  0  0  0  0\\n   -8.6693   -0.6052    0.1077 H   0  0  0  0  0  0  0  0  0  0  0  0\\n   -6.8562   -0.1351    1.7648 H   0  0  0  0  0  0  0  0  0  0  0  0\\n  9 10  1  0\\n  4  5  1  0\\n  7  8  1  0\\n  5 23  1  0\\n 24 27  1  0\\n 24 26  1  0\\n  9 19  1  0\\n  7 15  1  0\\n 24 25  1  0\\n  4 20  1  0\\n  8 12  1  0\\n  5 22  1  0\\n  9 18  1  0\\n 10 16  1  0\\n  7 14  1  0\\n  4 21  1  0\\n 10 17  1  0\\n  8 13  1  0\\n  1  8  1  0\\n 10 11  1  0\\n  3  4  1  0\\n  6  7  1  0\\n  5  6  1  0\\n  6  9  1  0\\n 28 29  3  0\\n  2 24  1  0\\n  2  3  1  0\\n  2 28  1  0\\n  2  1  1  0\\n  2 11  1  0\\n 30 31  1  0\\n 31 32  1  0\\n 32 33  1  0\\n 33 34  1  0\\n 34 35  2  0\\n 35 36  1  0\\n 36 37  2  0\\n 37 38  1  0\\n 38 39  2  0\\n 39 40  1  0\\n 40 41  2  0\\n 41 42  1  0\\n 42 43  2  0\\n 43 34  1  0\\n 43 38  1  0\\n 30  1  1  0\\n 44 45  1  0\\n 45 46  1  0\\n 46 47  1  0\\n 47 48  1  0\\n 48 49  2  0\\n 49 50  1  0\\n 50 51  2  0\\n 51 52  1  0\\n 52 53  2  0\\n 53 54  1  0\\n 54 55  2  0\\n 55 56  1  0\\n 56 57  2  0\\n 57 48  1  0\\n 57 52  1  0\\n 44 11  1  0\\n 58 59  1  0\\n 59 60  1  0\\n 60 61  1  0\\n 61 62  1  0\\n 62 63  2  0\\n 63 64  1  0\\n 64 65  2  0\\n 65 66  1  0\\n 66 67  2  0\\n 67 68  1  0\\n 68 69  2  0\\n 69 70  1  0\\n 70 71  2  0\\n 71 62  1  0\\n 71 66  1  0\\n 58  3  1  0\\n 30 72  1  0\\n 30 73  1  0\\n 31 74  1  0\\n 31 75  1  0\\n 32 76  1  0\\n 32 77  1  0\\n 35 78  1  0\\n 36 79  1  0\\n 39 80  1  0\\n 40 81  1  0\\n 41 82  1  0\\n 44 83  1  0\\n 44 84  1  0\\n 45 85  1  0\\n 45 86  1  0\\n 46 87  1  0\\n 46 88  1  0\\n 49 89  1  0\\n 50 90  1  0\\n 53 91  1  0\\n 54 92  1  0\\n 55 93  1  0\\n 58 94  1  0\\n 58 95  1  0\\n 59 96  1  0\\n 59 97  1  0\\n 60 98  1  0\\n 60 99  1  0\\n 63100  1  0\\n 64101  1  0\\n 67102  1  0\\n 68103  1  0\\n 69104  1  0\\nM  CHG  2  24   1  28   1\\nM  END\\n\",\"sdf\");\n\tviewer_16794076657841094.setStyle({\"stick\": {\"radius\": 0.2}, \"sphere\": {\"radius\": 0.3}});\n\tviewer_16794076657841094.zoomTo();\nviewer_16794076657841094.render();\n});\n</script><script>\n            $3Dmolpromise.then(function() { //wrap in promise for non-interactive functionality\n                \n                viewer_16794076657841094.render();\n            });\n            </script>",
      "text/html": [
       "<div id=\"3dmolviewer_16794076657841094\"  style=\"position: relative; width: 900px; height: 900px\">\n",
       "        <p id=\"3dmolwarning_16794076657841094\" style=\"background-color:#ffcccc;color:black\">You appear to be running in JupyterLab (or JavaScript failed to load for some other reason).  You need to install the 3dmol extension: <br>\n",
       "        <tt>jupyter labextension install jupyterlab_3dmol</tt></p>\n",
       "        </div>\n",
       "<script>\n",
       "\n",
       "var loadScriptAsync = function(uri){\n",
       "  return new Promise((resolve, reject) => {\n",
       "    //this is to ignore the existence of requirejs amd\n",
       "    var savedexports, savedmodule;\n",
       "    if (typeof exports !== 'undefined') savedexports = exports;\n",
       "    else exports = {}\n",
       "    if (typeof module !== 'undefined') savedmodule = module;\n",
       "    else module = {}\n",
       "\n",
       "    var tag = document.createElement('script');\n",
       "    tag.src = uri;\n",
       "    tag.async = true;\n",
       "    tag.onload = () => {\n",
       "        exports = savedexports;\n",
       "        module = savedmodule;\n",
       "        resolve();\n",
       "    };\n",
       "  var firstScriptTag = document.getElementsByTagName('script')[0];\n",
       "  firstScriptTag.parentNode.insertBefore(tag, firstScriptTag);\n",
       "});\n",
       "};\n",
       "\n",
       "if(typeof $3Dmolpromise === 'undefined') {\n",
       "$3Dmolpromise = null;\n",
       "  $3Dmolpromise = loadScriptAsync('https://cdnjs.cloudflare.com/ajax/libs/3Dmol/2.0.1/3Dmol-min.js');\n",
       "}\n",
       "\n",
       "var viewer_16794076657841094 = null;\n",
       "var warn = document.getElementById(\"3dmolwarning_16794076657841094\");\n",
       "if(warn) {\n",
       "    warn.parentNode.removeChild(warn);\n",
       "}\n",
       "$3Dmolpromise.then(function() {\n",
       "viewer_16794076657841094 = $3Dmol.createViewer(document.getElementById(\"3dmolviewer_16794076657841094\"),{backgroundColor:\"white\"});\n",
       "viewer_16794076657841094.zoomTo();\n",
       "\tviewer_16794076657841094.addModel(\"\\n     RDKit          3D\\n\\n104111  0  0  0  0  0  0  0  0999 V2000\\n   -3.0504    0.3548    4.7712 N   0  0  0  0  0  0  0  0  0  0  0  0\\n   -3.4844    2.3291    5.0302 Mo  0  0  0  0  0  5  0  0  0  0  0  0\\n   -4.8830    2.1704    6.4798 N   0  0  0  0  0  0  0  0  0  0  0  0\\n   -4.3879    2.1210    7.8482 C   0  0  0  0  0  0  0  0  0  0  0  0\\n   -3.0592    1.3787    7.8564 C   0  0  0  0  0  0  0  0  0  0  0  0\\n   -2.1825    1.9395    6.7897 N   0  0  0  0  0  0  0  0  0  0  0  0\\n   -1.2005    0.9461    6.2904 C   0  0  0  0  0  0  0  0  0  0  0  0\\n   -1.9124   -0.1649    5.5095 C   0  0  0  0  0  0  0  0  0  0  0  0\\n   -1.5412    3.2089    7.2426 C   0  0  0  0  0  0  0  0  0  0  0  0\\n   -1.5322    4.2217    6.0957 C   0  0  0  0  0  0  0  0  0  0  0  0\\n   -2.8465    4.2598    5.4684 N   0  0  0  0  0  0  0  0  0  0  0  0\\n   -1.1543   -0.6547    4.8630 H   0  0  0  0  0  0  0  0  0  0  0  0\\n   -2.2555   -0.9613    6.2085 H   0  0  0  0  0  0  0  0  0  0  0  0\\n   -0.5063    1.4889    5.6366 H   0  0  0  0  0  0  0  0  0  0  0  0\\n   -0.6160    0.5155    7.1267 H   0  0  0  0  0  0  0  0  0  0  0  0\\n   -1.2401    5.2089    6.4998 H   0  0  0  0  0  0  0  0  0  0  0  0\\n   -0.7486    3.9413    5.3658 H   0  0  0  0  0  0  0  0  0  0  0  0\\n   -2.1544    3.6091    8.0617 H   0  0  0  0  0  0  0  0  0  0  0  0\\n   -0.5316    3.0025    7.6411 H   0  0  0  0  0  0  0  0  0  0  0  0\\n   -5.0947    1.5892    8.5155 H   0  0  0  0  0  0  0  0  0  0  0  0\\n   -4.2582    3.1363    8.2838 H   0  0  0  0  0  0  0  0  0  0  0  0\\n   -3.2439    0.3244    7.6138 H   0  0  0  0  0  0  0  0  0  0  0  0\\n   -2.5534    1.4307    8.8378 H   0  0  0  0  0  0  0  0  0  0  0  0\\n   -4.9202    2.4341    3.2786 N   0  0  0  0  0  4  0  0  0  0  0  0\\n   -5.0577    3.3824    2.9091 H   0  0  0  0  0  0  0  0  0  0  0  0\\n   -5.8759    2.0511    3.3677 H   0  0  0  0  0  0  0  0  0  0  0  0\\n   -4.4775    1.9469    2.4833 H   0  0  0  0  0  0  0  0  0  0  0  0\\n   -1.9212    2.5469    3.6879 N   0  0  0  0  0  4  0  0  0  0  0  0\\n   -1.0091    2.6681    3.0202 N   0  0  0  0  0  0  0  0  0  0  0  0\\n   -3.9226   -0.6819    4.2577 C   0  0  0  0  0  0  0  0  0  0  0  0\\n   -3.3329   -1.5273    3.1124 C   0  0  0  0  0  0  0  0  0  0  0  0\\n   -3.1846   -0.7702    1.8104 C   0  0  0  0  0  0  0  0  0  0  0  0\\n   -4.5291   -0.6140    1.2478 O   0  0  0  0  0  0  0  0  0  0  0  0\\n   -4.6613   -0.0435    0.0228 C   0  0  0  0  0  0  0  0  0  0  0  0\\n   -5.4442   -0.6922   -0.9204 C   0  0  0  0  0  0  0  0  0  0  0  0\\n   -5.6459   -0.1050   -2.1845 C   0  0  0  0  0  0  0  0  0  0  0  0\\n   -5.1245    1.0518   -2.5721 N   0  0  0  0  0  0  0  0  0  0  0  0\\n   -4.3671    1.7171   -1.6517 C   0  0  0  0  0  0  0  0  0  0  0  0\\n   -3.8131    2.9760   -1.9949 C   0  0  0  0  0  0  0  0  0  0  0  0\\n   -3.0999    3.6817   -1.0515 C   0  0  0  0  0  0  0  0  0  0  0  0\\n   -2.9556    3.1391    0.2444 C   0  0  0  0  0  0  0  0  0  0  0  0\\n   -3.4400    1.9607    0.6053 N   0  0  0  0  0  0  0  0  0  0  0  0\\n   -4.1184    1.2347   -0.3237 C   0  0  0  0  0  0  0  0  0  0  0  0\\n   -3.5423    5.5218    5.6126 C   0  0  0  0  0  0  0  0  0  0  0  0\\n   -4.6435    5.7171    4.5725 C   0  0  0  0  0  0  0  0  0  0  0  0\\n   -4.0973    5.9515    3.1688 C   0  0  0  0  0  0  0  0  0  0  0  0\\n   -4.9413    5.3707    2.1390 O   0  0  0  0  0  0  0  0  0  0  0  0\\n   -6.1649    5.8903    1.9208 C   0  0  0  0  0  0  0  0  0  0  0  0\\n   -6.6620    7.0583    2.4800 C   0  0  0  0  0  0  0  0  0  0  0  0\\n   -7.9732    7.4704    2.1611 C   0  0  0  0  0  0  0  0  0  0  0  0\\n   -8.8007    6.8337    1.3481 N   0  0  0  0  0  0  0  0  0  0  0  0\\n   -8.3198    5.6909    0.7714 C   0  0  0  0  0  0  0  0  0  0  0  0\\n   -9.1441    4.9760   -0.1309 C   0  0  0  0  0  0  0  0  0  0  0  0\\n   -8.6617    3.8288   -0.7204 C   0  0  0  0  0  0  0  0  0  0  0  0\\n   -7.3594    3.3877   -0.3954 C   0  0  0  0  0  0  0  0  0  0  0  0\\n   -6.5527    4.0179    0.4447 N   0  0  0  0  0  0  0  0  0  0  0  0\\n   -7.0130    5.1607    1.0192 C   0  0  0  0  0  0  0  0  0  0  0  0\\n   -6.3268    2.2317    6.3749 C   0  0  0  0  0  0  0  0  0  0  0  0\\n   -6.9246    3.6454    6.5840 C   0  0  0  0  0  0  0  0  0  0  0  0\\n   -8.2212    3.8735    5.8234 C   0  0  0  0  0  0  0  0  0  0  0  0\\n   -7.9859    3.4548    4.4564 O   0  0  0  0  0  0  0  0  0  0  0  0\\n   -9.0454    3.2759    3.6461 C   0  0  0  0  0  0  0  0  0  0  0  0\\n  -10.2212    4.0076    3.6913 C   0  0  0  0  0  0  0  0  0  0  0  0\\n  -11.2338    3.7319    2.7482 C   0  0  0  0  0  0  0  0  0  0  0  0\\n  -11.1756    2.7911    1.8169 N   0  0  0  0  0  0  0  0  0  0  0  0\\n  -10.0375    2.0368    1.7843 C   0  0  0  0  0  0  0  0  0  0  0  0\\n   -9.9265    0.9882    0.8385 C   0  0  0  0  0  0  0  0  0  0  0  0\\n   -8.7892    0.2099    0.8225 C   0  0  0  0  0  0  0  0  0  0  0  0\\n   -7.7619    0.4771    1.7546 C   0  0  0  0  0  0  0  0  0  0  0  0\\n   -7.8169    1.4524    2.6514 N   0  0  0  0  0  0  0  0  0  0  0  0\\n   -8.9309    2.2337    2.6693 C   0  0  0  0  0  0  0  0  0  0  0  0\\n   -4.2003   -1.3745    5.0837 H   0  0  0  0  0  0  0  0  0  0  0  0\\n   -4.8615   -0.2215    3.9133 H   0  0  0  0  0  0  0  0  0  0  0  0\\n   -2.3373   -1.8999    3.4023 H   0  0  0  0  0  0  0  0  0  0  0  0\\n   -3.9633   -2.4162    2.9435 H   0  0  0  0  0  0  0  0  0  0  0  0\\n   -2.5879   -1.3385    1.0788 H   0  0  0  0  0  0  0  0  0  0  0  0\\n   -2.7322    0.2176    1.9629 H   0  0  0  0  0  0  0  0  0  0  0  0\\n   -5.8855   -1.6600   -0.6783 H   0  0  0  0  0  0  0  0  0  0  0  0\\n   -6.2613   -0.6303   -2.9223 H   0  0  0  0  0  0  0  0  0  0  0  0\\n   -3.9859    3.3570   -3.0026 H   0  0  0  0  0  0  0  0  0  0  0  0\\n   -2.6661    4.6557   -1.2810 H   0  0  0  0  0  0  0  0  0  0  0  0\\n   -2.4221    3.6961    1.0191 H   0  0  0  0  0  0  0  0  0  0  0  0\\n   -2.8280    6.3702    5.5433 H   0  0  0  0  0  0  0  0  0  0  0  0\\n   -4.0162    5.6166    6.6164 H   0  0  0  0  0  0  0  0  0  0  0  0\\n   -5.3023    6.5373    4.8915 H   0  0  0  0  0  0  0  0  0  0  0  0\\n   -5.2596    4.8065    4.5480 H   0  0  0  0  0  0  0  0  0  0  0  0\\n   -3.1487    5.4126    3.0483 H   0  0  0  0  0  0  0  0  0  0  0  0\\n   -3.9339    7.0186    2.9486 H   0  0  0  0  0  0  0  0  0  0  0  0\\n   -6.0669    7.6629    3.1615 H   0  0  0  0  0  0  0  0  0  0  0  0\\n   -8.3553    8.3902    2.6170 H   0  0  0  0  0  0  0  0  0  0  0  0\\n  -10.1463    5.3579   -0.3304 H   0  0  0  0  0  0  0  0  0  0  0  0\\n   -9.2702    3.2521   -1.4177 H   0  0  0  0  0  0  0  0  0  0  0  0\\n   -6.9713    2.4701   -0.8464 H   0  0  0  0  0  0  0  0  0  0  0  0\\n   -6.7970    1.5325    7.0970 H   0  0  0  0  0  0  0  0  0  0  0  0\\n   -6.6148    1.8869    5.3740 H   0  0  0  0  0  0  0  0  0  0  0  0\\n   -6.1805    4.3795    6.2486 H   0  0  0  0  0  0  0  0  0  0  0  0\\n   -7.1120    3.8517    7.6497 H   0  0  0  0  0  0  0  0  0  0  0  0\\n   -8.5153    4.9355    5.8488 H   0  0  0  0  0  0  0  0  0  0  0  0\\n   -9.0519    3.2684    6.2245 H   0  0  0  0  0  0  0  0  0  0  0  0\\n  -10.3633    4.8061    4.4187 H   0  0  0  0  0  0  0  0  0  0  0  0\\n  -12.1472    4.3351    2.7690 H   0  0  0  0  0  0  0  0  0  0  0  0\\n  -10.7551    0.8268    0.1469 H   0  0  0  0  0  0  0  0  0  0  0  0\\n   -8.6693   -0.6052    0.1077 H   0  0  0  0  0  0  0  0  0  0  0  0\\n   -6.8562   -0.1351    1.7648 H   0  0  0  0  0  0  0  0  0  0  0  0\\n  9 10  1  0\\n  4  5  1  0\\n  7  8  1  0\\n  5 23  1  0\\n 24 27  1  0\\n 24 26  1  0\\n  9 19  1  0\\n  7 15  1  0\\n 24 25  1  0\\n  4 20  1  0\\n  8 12  1  0\\n  5 22  1  0\\n  9 18  1  0\\n 10 16  1  0\\n  7 14  1  0\\n  4 21  1  0\\n 10 17  1  0\\n  8 13  1  0\\n  1  8  1  0\\n 10 11  1  0\\n  3  4  1  0\\n  6  7  1  0\\n  5  6  1  0\\n  6  9  1  0\\n 28 29  3  0\\n  2 24  1  0\\n  2  3  1  0\\n  2 28  1  0\\n  2  1  1  0\\n  2 11  1  0\\n 30 31  1  0\\n 31 32  1  0\\n 32 33  1  0\\n 33 34  1  0\\n 34 35  2  0\\n 35 36  1  0\\n 36 37  2  0\\n 37 38  1  0\\n 38 39  2  0\\n 39 40  1  0\\n 40 41  2  0\\n 41 42  1  0\\n 42 43  2  0\\n 43 34  1  0\\n 43 38  1  0\\n 30  1  1  0\\n 44 45  1  0\\n 45 46  1  0\\n 46 47  1  0\\n 47 48  1  0\\n 48 49  2  0\\n 49 50  1  0\\n 50 51  2  0\\n 51 52  1  0\\n 52 53  2  0\\n 53 54  1  0\\n 54 55  2  0\\n 55 56  1  0\\n 56 57  2  0\\n 57 48  1  0\\n 57 52  1  0\\n 44 11  1  0\\n 58 59  1  0\\n 59 60  1  0\\n 60 61  1  0\\n 61 62  1  0\\n 62 63  2  0\\n 63 64  1  0\\n 64 65  2  0\\n 65 66  1  0\\n 66 67  2  0\\n 67 68  1  0\\n 68 69  2  0\\n 69 70  1  0\\n 70 71  2  0\\n 71 62  1  0\\n 71 66  1  0\\n 58  3  1  0\\n 30 72  1  0\\n 30 73  1  0\\n 31 74  1  0\\n 31 75  1  0\\n 32 76  1  0\\n 32 77  1  0\\n 35 78  1  0\\n 36 79  1  0\\n 39 80  1  0\\n 40 81  1  0\\n 41 82  1  0\\n 44 83  1  0\\n 44 84  1  0\\n 45 85  1  0\\n 45 86  1  0\\n 46 87  1  0\\n 46 88  1  0\\n 49 89  1  0\\n 50 90  1  0\\n 53 91  1  0\\n 54 92  1  0\\n 55 93  1  0\\n 58 94  1  0\\n 58 95  1  0\\n 59 96  1  0\\n 59 97  1  0\\n 60 98  1  0\\n 60 99  1  0\\n 63100  1  0\\n 64101  1  0\\n 67102  1  0\\n 68103  1  0\\n 69104  1  0\\nM  CHG  2  24   1  28   1\\nM  END\\n\",\"sdf\");\n",
       "\tviewer_16794076657841094.setStyle({\"stick\": {\"radius\": 0.2}, \"sphere\": {\"radius\": 0.3}});\n",
       "\tviewer_16794076657841094.zoomTo();\n",
       "viewer_16794076657841094.render();\n",
       "});\n",
       "</script><script>\n",
       "            $3Dmolpromise.then(function() { //wrap in promise for non-interactive functionality\n",
       "                \n",
       "                viewer_16794076657841094.render();\n",
       "            });\n",
       "            </script>"
      ]
     },
     "metadata": {},
     "output_type": "display_data"
    },
    {
     "data": {
      "application/3dmoljs_load.v0": "<div id=\"3dmolviewer_16794076657859464\"  style=\"position: relative; width: 900px; height: 900px\">\n        <p id=\"3dmolwarning_16794076657859464\" style=\"background-color:#ffcccc;color:black\">You appear to be running in JupyterLab (or JavaScript failed to load for some other reason).  You need to install the 3dmol extension: <br>\n        <tt>jupyter labextension install jupyterlab_3dmol</tt></p>\n        </div>\n<script>\n\nvar loadScriptAsync = function(uri){\n  return new Promise((resolve, reject) => {\n    //this is to ignore the existence of requirejs amd\n    var savedexports, savedmodule;\n    if (typeof exports !== 'undefined') savedexports = exports;\n    else exports = {}\n    if (typeof module !== 'undefined') savedmodule = module;\n    else module = {}\n\n    var tag = document.createElement('script');\n    tag.src = uri;\n    tag.async = true;\n    tag.onload = () => {\n        exports = savedexports;\n        module = savedmodule;\n        resolve();\n    };\n  var firstScriptTag = document.getElementsByTagName('script')[0];\n  firstScriptTag.parentNode.insertBefore(tag, firstScriptTag);\n});\n};\n\nif(typeof $3Dmolpromise === 'undefined') {\n$3Dmolpromise = null;\n  $3Dmolpromise = loadScriptAsync('https://cdnjs.cloudflare.com/ajax/libs/3Dmol/2.0.1/3Dmol-min.js');\n}\n\nvar viewer_16794076657859464 = null;\nvar warn = document.getElementById(\"3dmolwarning_16794076657859464\");\nif(warn) {\n    warn.parentNode.removeChild(warn);\n}\n$3Dmolpromise.then(function() {\nviewer_16794076657859464 = $3Dmol.createViewer(document.getElementById(\"3dmolviewer_16794076657859464\"),{backgroundColor:\"white\"});\nviewer_16794076657859464.zoomTo();\n\tviewer_16794076657859464.addModel(\"\\n     RDKit          3D\\n\\n102109  0  0  0  0  0  0  0  0999 V2000\\n   -3.3119    0.3302    4.7238 N   0  0  0  0  0  0  0  0  0  0  0  0\\n   -3.7900    2.2406    5.0880 Mo  0  0  0  0  0  4  0  0  0  0  0  0\\n   -4.9716    2.4443    6.6276 N   0  0  0  0  0  0  0  0  0  0  0  0\\n   -4.3646    2.5416    7.9611 C   0  0  0  0  0  0  0  0  0  0  0  0\\n   -3.1060    1.6827    7.9802 C   0  0  0  0  0  0  0  0  0  0  0  0\\n   -2.3257    1.9179    6.7339 N   0  0  0  0  0  0  0  0  0  0  0  0\\n   -1.5254    0.7260    6.3410 C   0  0  0  0  0  0  0  0  0  0  0  0\\n   -2.4154   -0.3129    5.6830 C   0  0  0  0  0  0  0  0  0  0  0  0\\n   -1.4681    3.1310    6.8139 C   0  0  0  0  0  0  0  0  0  0  0  0\\n   -1.2976    3.6784    5.3951 C   0  0  0  0  0  0  0  0  0  0  0  0\\n   -2.6078    3.9032    4.7786 N   0  0  0  0  0  0  0  0  0  0  0  0\\n   -1.7624   -1.0665    5.2024 H   0  0  0  0  0  0  0  0  0  0  0  0\\n   -3.0027   -0.8680    6.4478 H   0  0  0  0  0  0  0  0  0  0  0  0\\n   -0.7759    1.0698    5.6158 H   0  0  0  0  0  0  0  0  0  0  0  0\\n   -0.9916    0.3084    7.2143 H   0  0  0  0  0  0  0  0  0  0  0  0\\n   -0.7010    4.6095    5.4302 H   0  0  0  0  0  0  0  0  0  0  0  0\\n   -0.7188    2.9624    4.7878 H   0  0  0  0  0  0  0  0  0  0  0  0\\n   -1.9938    3.8736    7.4313 H   0  0  0  0  0  0  0  0  0  0  0  0\\n   -0.5075    2.8937    7.3078 H   0  0  0  0  0  0  0  0  0  0  0  0\\n   -5.0577    2.1766    8.7412 H   0  0  0  0  0  0  0  0  0  0  0  0\\n   -4.1249    3.5912    8.2218 H   0  0  0  0  0  0  0  0  0  0  0  0\\n   -3.4030    0.6247    7.9797 H   0  0  0  0  0  0  0  0  0  0  0  0\\n   -2.4831    1.8699    8.8731 H   0  0  0  0  0  0  0  0  0  0  0  0\\n   -5.0642    2.4251    3.2665 N   0  0  0  0  0  4  0  0  0  0  0  0\\n   -5.2019    3.3835    2.9264 H   0  0  0  0  0  0  0  0  0  0  0  0\\n   -6.0171    2.0049    3.2497 H   0  0  0  0  0  0  0  0  0  0  0  0\\n   -4.5190    1.9930    2.4962 H   0  0  0  0  0  0  0  0  0  0  0  0\\n   -4.2211   -0.6368    4.1105 C   0  0  0  0  0  0  0  0  0  0  0  0\\n   -3.5836   -1.5411    3.0411 C   0  0  0  0  0  0  0  0  0  0  0  0\\n   -3.2479   -0.8142    1.7571 C   0  0  0  0  0  0  0  0  0  0  0  0\\n   -4.5101   -0.4294    1.1381 O   0  0  0  0  0  0  0  0  0  0  0  0\\n   -4.4621    0.3077   -0.0107 C   0  0  0  0  0  0  0  0  0  0  0  0\\n   -5.2133   -0.1213   -1.0989 C   0  0  0  0  0  0  0  0  0  0  0  0\\n   -5.2255    0.6478   -2.2747 C   0  0  0  0  0  0  0  0  0  0  0  0\\n   -4.5547    1.7852   -2.4427 N   0  0  0  0  0  0  0  0  0  0  0  0\\n   -3.8377    2.2381   -1.3731 C   0  0  0  0  0  0  0  0  0  0  0  0\\n   -3.1346    3.4635   -1.4763 C   0  0  0  0  0  0  0  0  0  0  0  0\\n   -2.4544    3.9529   -0.3728 C   0  0  0  0  0  0  0  0  0  0  0  0\\n   -2.4929    3.2283    0.8302 C   0  0  0  0  0  0  0  0  0  0  0  0\\n   -3.1303    2.0663    0.9754 N   0  0  0  0  0  0  0  0  0  0  0  0\\n   -3.7726    1.5514   -0.1125 C   0  0  0  0  0  0  0  0  0  0  0  0\\n   -3.0811    5.2563    5.0696 C   0  0  0  0  0  0  0  0  0  0  0  0\\n   -4.3382    5.6712    4.3090 C   0  0  0  0  0  0  0  0  0  0  0  0\\n   -4.0807    5.9243    2.8212 C   0  0  0  0  0  0  0  0  0  0  0  0\\n   -5.0261    5.2594    1.9534 O   0  0  0  0  0  0  0  0  0  0  0  0\\n   -6.2962    5.7096    1.8996 C   0  0  0  0  0  0  0  0  0  0  0  0\\n   -6.8001    6.8096    2.5777 C   0  0  0  0  0  0  0  0  0  0  0  0\\n   -8.1614    7.1470    2.4156 C   0  0  0  0  0  0  0  0  0  0  0  0\\n   -9.0271    6.4992    1.6524 N   0  0  0  0  0  0  0  0  0  0  0  0\\n   -8.5416    5.4183    0.9681 C   0  0  0  0  0  0  0  0  0  0  0  0\\n   -9.4072    4.6899    0.1172 C   0  0  0  0  0  0  0  0  0  0  0  0\\n   -8.9167    3.6028   -0.5731 C   0  0  0  0  0  0  0  0  0  0  0  0\\n   -7.5625    3.2361   -0.4033 C   0  0  0  0  0  0  0  0  0  0  0  0\\n   -6.7152    3.8846    0.3814 N   0  0  0  0  0  0  0  0  0  0  0  0\\n   -7.1869    4.9659    1.0554 C   0  0  0  0  0  0  0  0  0  0  0  0\\n   -6.4297    2.5105    6.5840 C   0  0  0  0  0  0  0  0  0  0  0  0\\n   -6.9956    3.9445    6.5130 C   0  0  0  0  0  0  0  0  0  0  0  0\\n   -8.3060    4.0246    5.7462 C   0  0  0  0  0  0  0  0  0  0  0  0\\n   -8.0818    3.3960    4.4669 O   0  0  0  0  0  0  0  0  0  0  0  0\\n   -9.1588    3.1018    3.7028 C   0  0  0  0  0  0  0  0  0  0  0  0\\n  -10.3846    3.7515    3.7768 C   0  0  0  0  0  0  0  0  0  0  0  0\\n  -11.4119    3.3670    2.8963 C   0  0  0  0  0  0  0  0  0  0  0  0\\n  -11.3188    2.4004    1.9901 N   0  0  0  0  0  0  0  0  0  0  0  0\\n  -10.1279    1.7347    1.9258 C   0  0  0  0  0  0  0  0  0  0  0  0\\n   -9.9765    0.6763    0.9972 C   0  0  0  0  0  0  0  0  0  0  0  0\\n   -8.7765   -0.0113    0.9421 C   0  0  0  0  0  0  0  0  0  0  0  0\\n   -7.7357    0.3575    1.8129 C   0  0  0  0  0  0  0  0  0  0  0  0\\n   -7.8267    1.3489    2.6999 N   0  0  0  0  0  0  0  0  0  0  0  0\\n   -9.0013    2.0406    2.7580 C   0  0  0  0  0  0  0  0  0  0  0  0\\n   -4.6562   -1.2857    4.8989 H   0  0  0  0  0  0  0  0  0  0  0  0\\n   -5.0659   -0.1029    3.6539 H   0  0  0  0  0  0  0  0  0  0  0  0\\n   -2.6573   -1.9942    3.4294 H   0  0  0  0  0  0  0  0  0  0  0  0\\n   -4.2725   -2.3732    2.8192 H   0  0  0  0  0  0  0  0  0  0  0  0\\n   -2.7138   -1.4725    1.0515 H   0  0  0  0  0  0  0  0  0  0  0  0\\n   -2.6464    0.0843    1.9485 H   0  0  0  0  0  0  0  0  0  0  0  0\\n   -5.7710   -1.0564   -1.0345 H   0  0  0  0  0  0  0  0  0  0  0  0\\n   -5.8107    0.3008   -3.1327 H   0  0  0  0  0  0  0  0  0  0  0  0\\n   -3.1662    3.9984   -2.4264 H   0  0  0  0  0  0  0  0  0  0  0  0\\n   -1.9075    4.8959   -0.4201 H   0  0  0  0  0  0  0  0  0  0  0  0\\n   -1.9964    3.6107    1.7280 H   0  0  0  0  0  0  0  0  0  0  0  0\\n   -2.2749    5.9815    4.8285 H   0  0  0  0  0  0  0  0  0  0  0  0\\n   -3.2855    5.3972    6.1541 H   0  0  0  0  0  0  0  0  0  0  0  0\\n   -4.7563    6.5667    4.7924 H   0  0  0  0  0  0  0  0  0  0  0  0\\n   -5.1008    4.8853    4.4130 H   0  0  0  0  0  0  0  0  0  0  0  0\\n   -3.1220    5.4789    2.5296 H   0  0  0  0  0  0  0  0  0  0  0  0\\n   -4.0620    6.9984    2.5771 H   0  0  0  0  0  0  0  0  0  0  0  0\\n   -6.1762    7.4137    3.2339 H   0  0  0  0  0  0  0  0  0  0  0  0\\n   -8.5512    8.0142    2.9598 H   0  0  0  0  0  0  0  0  0  0  0  0\\n  -10.4475    5.0083    0.0391 H   0  0  0  0  0  0  0  0  0  0  0  0\\n   -9.5583    3.0154   -1.2306 H   0  0  0  0  0  0  0  0  0  0  0  0\\n   -7.1609    2.3673   -0.9331 H   0  0  0  0  0  0  0  0  0  0  0  0\\n   -6.8607    1.9775    7.4535 H   0  0  0  0  0  0  0  0  0  0  0  0\\n   -6.7560    1.9745    5.6834 H   0  0  0  0  0  0  0  0  0  0  0  0\\n   -6.2549    4.5793    6.0074 H   0  0  0  0  0  0  0  0  0  0  0  0\\n   -7.1507    4.3730    7.5157 H   0  0  0  0  0  0  0  0  0  0  0  0\\n   -8.6140    5.0741    5.6047 H   0  0  0  0  0  0  0  0  0  0  0  0\\n   -9.1209    3.4880    6.2621 H   0  0  0  0  0  0  0  0  0  0  0  0\\n  -10.5521    4.5689    4.4764 H   0  0  0  0  0  0  0  0  0  0  0  0\\n  -12.3684    3.8979    2.9401 H   0  0  0  0  0  0  0  0  0  0  0  0\\n  -10.8207    0.4321    0.3505 H   0  0  0  0  0  0  0  0  0  0  0  0\\n   -8.6247   -0.8320    0.2394 H   0  0  0  0  0  0  0  0  0  0  0  0\\n   -6.7809   -0.1741    1.7815 H   0  0  0  0  0  0  0  0  0  0  0  0\\n  9 10  1  0\\n  4  5  1  0\\n  7  8  1  0\\n  5 23  1  0\\n 24 27  1  0\\n 24 26  1  0\\n  9 19  1  0\\n  7 15  1  0\\n 24 25  1  0\\n  4 20  1  0\\n  8 12  1  0\\n  5 22  1  0\\n  9 18  1  0\\n 10 16  1  0\\n  7 14  1  0\\n  4 21  1  0\\n 10 17  1  0\\n  8 13  1  0\\n  1  8  1  0\\n 10 11  1  0\\n  3  4  1  0\\n  6  7  1  0\\n  5  6  1  0\\n  6  9  1  0\\n  2 24  1  0\\n  2  3  1  0\\n  2  1  1  0\\n  2 11  1  0\\n 28 29  1  0\\n 29 30  1  0\\n 30 31  1  0\\n 31 32  1  0\\n 32 33  2  0\\n 33 34  1  0\\n 34 35  2  0\\n 35 36  1  0\\n 36 37  2  0\\n 37 38  1  0\\n 38 39  2  0\\n 39 40  1  0\\n 40 41  2  0\\n 41 32  1  0\\n 41 36  1  0\\n 28  1  1  0\\n 42 43  1  0\\n 43 44  1  0\\n 44 45  1  0\\n 45 46  1  0\\n 46 47  2  0\\n 47 48  1  0\\n 48 49  2  0\\n 49 50  1  0\\n 50 51  2  0\\n 51 52  1  0\\n 52 53  2  0\\n 53 54  1  0\\n 54 55  2  0\\n 55 46  1  0\\n 55 50  1  0\\n 42 11  1  0\\n 56 57  1  0\\n 57 58  1  0\\n 58 59  1  0\\n 59 60  1  0\\n 60 61  2  0\\n 61 62  1  0\\n 62 63  2  0\\n 63 64  1  0\\n 64 65  2  0\\n 65 66  1  0\\n 66 67  2  0\\n 67 68  1  0\\n 68 69  2  0\\n 69 60  1  0\\n 69 64  1  0\\n 56  3  1  0\\n 28 70  1  0\\n 28 71  1  0\\n 29 72  1  0\\n 29 73  1  0\\n 30 74  1  0\\n 30 75  1  0\\n 33 76  1  0\\n 34 77  1  0\\n 37 78  1  0\\n 38 79  1  0\\n 39 80  1  0\\n 42 81  1  0\\n 42 82  1  0\\n 43 83  1  0\\n 43 84  1  0\\n 44 85  1  0\\n 44 86  1  0\\n 47 87  1  0\\n 48 88  1  0\\n 51 89  1  0\\n 52 90  1  0\\n 53 91  1  0\\n 56 92  1  0\\n 56 93  1  0\\n 57 94  1  0\\n 57 95  1  0\\n 58 96  1  0\\n 58 97  1  0\\n 61 98  1  0\\n 62 99  1  0\\n 65100  1  0\\n 66101  1  0\\n 67102  1  0\\nM  CHG  1  24   1\\nM  END\\n\",\"sdf\");\n\tviewer_16794076657859464.setStyle({\"stick\": {\"radius\": 0.2}, \"sphere\": {\"radius\": 0.3}});\n\tviewer_16794076657859464.zoomTo();\nviewer_16794076657859464.render();\n});\n</script><script>\n            $3Dmolpromise.then(function() { //wrap in promise for non-interactive functionality\n                \n                viewer_16794076657859464.render();\n            });\n            </script>",
      "text/html": [
       "<div id=\"3dmolviewer_16794076657859464\"  style=\"position: relative; width: 900px; height: 900px\">\n",
       "        <p id=\"3dmolwarning_16794076657859464\" style=\"background-color:#ffcccc;color:black\">You appear to be running in JupyterLab (or JavaScript failed to load for some other reason).  You need to install the 3dmol extension: <br>\n",
       "        <tt>jupyter labextension install jupyterlab_3dmol</tt></p>\n",
       "        </div>\n",
       "<script>\n",
       "\n",
       "var loadScriptAsync = function(uri){\n",
       "  return new Promise((resolve, reject) => {\n",
       "    //this is to ignore the existence of requirejs amd\n",
       "    var savedexports, savedmodule;\n",
       "    if (typeof exports !== 'undefined') savedexports = exports;\n",
       "    else exports = {}\n",
       "    if (typeof module !== 'undefined') savedmodule = module;\n",
       "    else module = {}\n",
       "\n",
       "    var tag = document.createElement('script');\n",
       "    tag.src = uri;\n",
       "    tag.async = true;\n",
       "    tag.onload = () => {\n",
       "        exports = savedexports;\n",
       "        module = savedmodule;\n",
       "        resolve();\n",
       "    };\n",
       "  var firstScriptTag = document.getElementsByTagName('script')[0];\n",
       "  firstScriptTag.parentNode.insertBefore(tag, firstScriptTag);\n",
       "});\n",
       "};\n",
       "\n",
       "if(typeof $3Dmolpromise === 'undefined') {\n",
       "$3Dmolpromise = null;\n",
       "  $3Dmolpromise = loadScriptAsync('https://cdnjs.cloudflare.com/ajax/libs/3Dmol/2.0.1/3Dmol-min.js');\n",
       "}\n",
       "\n",
       "var viewer_16794076657859464 = null;\n",
       "var warn = document.getElementById(\"3dmolwarning_16794076657859464\");\n",
       "if(warn) {\n",
       "    warn.parentNode.removeChild(warn);\n",
       "}\n",
       "$3Dmolpromise.then(function() {\n",
       "viewer_16794076657859464 = $3Dmol.createViewer(document.getElementById(\"3dmolviewer_16794076657859464\"),{backgroundColor:\"white\"});\n",
       "viewer_16794076657859464.zoomTo();\n",
       "\tviewer_16794076657859464.addModel(\"\\n     RDKit          3D\\n\\n102109  0  0  0  0  0  0  0  0999 V2000\\n   -3.3119    0.3302    4.7238 N   0  0  0  0  0  0  0  0  0  0  0  0\\n   -3.7900    2.2406    5.0880 Mo  0  0  0  0  0  4  0  0  0  0  0  0\\n   -4.9716    2.4443    6.6276 N   0  0  0  0  0  0  0  0  0  0  0  0\\n   -4.3646    2.5416    7.9611 C   0  0  0  0  0  0  0  0  0  0  0  0\\n   -3.1060    1.6827    7.9802 C   0  0  0  0  0  0  0  0  0  0  0  0\\n   -2.3257    1.9179    6.7339 N   0  0  0  0  0  0  0  0  0  0  0  0\\n   -1.5254    0.7260    6.3410 C   0  0  0  0  0  0  0  0  0  0  0  0\\n   -2.4154   -0.3129    5.6830 C   0  0  0  0  0  0  0  0  0  0  0  0\\n   -1.4681    3.1310    6.8139 C   0  0  0  0  0  0  0  0  0  0  0  0\\n   -1.2976    3.6784    5.3951 C   0  0  0  0  0  0  0  0  0  0  0  0\\n   -2.6078    3.9032    4.7786 N   0  0  0  0  0  0  0  0  0  0  0  0\\n   -1.7624   -1.0665    5.2024 H   0  0  0  0  0  0  0  0  0  0  0  0\\n   -3.0027   -0.8680    6.4478 H   0  0  0  0  0  0  0  0  0  0  0  0\\n   -0.7759    1.0698    5.6158 H   0  0  0  0  0  0  0  0  0  0  0  0\\n   -0.9916    0.3084    7.2143 H   0  0  0  0  0  0  0  0  0  0  0  0\\n   -0.7010    4.6095    5.4302 H   0  0  0  0  0  0  0  0  0  0  0  0\\n   -0.7188    2.9624    4.7878 H   0  0  0  0  0  0  0  0  0  0  0  0\\n   -1.9938    3.8736    7.4313 H   0  0  0  0  0  0  0  0  0  0  0  0\\n   -0.5075    2.8937    7.3078 H   0  0  0  0  0  0  0  0  0  0  0  0\\n   -5.0577    2.1766    8.7412 H   0  0  0  0  0  0  0  0  0  0  0  0\\n   -4.1249    3.5912    8.2218 H   0  0  0  0  0  0  0  0  0  0  0  0\\n   -3.4030    0.6247    7.9797 H   0  0  0  0  0  0  0  0  0  0  0  0\\n   -2.4831    1.8699    8.8731 H   0  0  0  0  0  0  0  0  0  0  0  0\\n   -5.0642    2.4251    3.2665 N   0  0  0  0  0  4  0  0  0  0  0  0\\n   -5.2019    3.3835    2.9264 H   0  0  0  0  0  0  0  0  0  0  0  0\\n   -6.0171    2.0049    3.2497 H   0  0  0  0  0  0  0  0  0  0  0  0\\n   -4.5190    1.9930    2.4962 H   0  0  0  0  0  0  0  0  0  0  0  0\\n   -4.2211   -0.6368    4.1105 C   0  0  0  0  0  0  0  0  0  0  0  0\\n   -3.5836   -1.5411    3.0411 C   0  0  0  0  0  0  0  0  0  0  0  0\\n   -3.2479   -0.8142    1.7571 C   0  0  0  0  0  0  0  0  0  0  0  0\\n   -4.5101   -0.4294    1.1381 O   0  0  0  0  0  0  0  0  0  0  0  0\\n   -4.4621    0.3077   -0.0107 C   0  0  0  0  0  0  0  0  0  0  0  0\\n   -5.2133   -0.1213   -1.0989 C   0  0  0  0  0  0  0  0  0  0  0  0\\n   -5.2255    0.6478   -2.2747 C   0  0  0  0  0  0  0  0  0  0  0  0\\n   -4.5547    1.7852   -2.4427 N   0  0  0  0  0  0  0  0  0  0  0  0\\n   -3.8377    2.2381   -1.3731 C   0  0  0  0  0  0  0  0  0  0  0  0\\n   -3.1346    3.4635   -1.4763 C   0  0  0  0  0  0  0  0  0  0  0  0\\n   -2.4544    3.9529   -0.3728 C   0  0  0  0  0  0  0  0  0  0  0  0\\n   -2.4929    3.2283    0.8302 C   0  0  0  0  0  0  0  0  0  0  0  0\\n   -3.1303    2.0663    0.9754 N   0  0  0  0  0  0  0  0  0  0  0  0\\n   -3.7726    1.5514   -0.1125 C   0  0  0  0  0  0  0  0  0  0  0  0\\n   -3.0811    5.2563    5.0696 C   0  0  0  0  0  0  0  0  0  0  0  0\\n   -4.3382    5.6712    4.3090 C   0  0  0  0  0  0  0  0  0  0  0  0\\n   -4.0807    5.9243    2.8212 C   0  0  0  0  0  0  0  0  0  0  0  0\\n   -5.0261    5.2594    1.9534 O   0  0  0  0  0  0  0  0  0  0  0  0\\n   -6.2962    5.7096    1.8996 C   0  0  0  0  0  0  0  0  0  0  0  0\\n   -6.8001    6.8096    2.5777 C   0  0  0  0  0  0  0  0  0  0  0  0\\n   -8.1614    7.1470    2.4156 C   0  0  0  0  0  0  0  0  0  0  0  0\\n   -9.0271    6.4992    1.6524 N   0  0  0  0  0  0  0  0  0  0  0  0\\n   -8.5416    5.4183    0.9681 C   0  0  0  0  0  0  0  0  0  0  0  0\\n   -9.4072    4.6899    0.1172 C   0  0  0  0  0  0  0  0  0  0  0  0\\n   -8.9167    3.6028   -0.5731 C   0  0  0  0  0  0  0  0  0  0  0  0\\n   -7.5625    3.2361   -0.4033 C   0  0  0  0  0  0  0  0  0  0  0  0\\n   -6.7152    3.8846    0.3814 N   0  0  0  0  0  0  0  0  0  0  0  0\\n   -7.1869    4.9659    1.0554 C   0  0  0  0  0  0  0  0  0  0  0  0\\n   -6.4297    2.5105    6.5840 C   0  0  0  0  0  0  0  0  0  0  0  0\\n   -6.9956    3.9445    6.5130 C   0  0  0  0  0  0  0  0  0  0  0  0\\n   -8.3060    4.0246    5.7462 C   0  0  0  0  0  0  0  0  0  0  0  0\\n   -8.0818    3.3960    4.4669 O   0  0  0  0  0  0  0  0  0  0  0  0\\n   -9.1588    3.1018    3.7028 C   0  0  0  0  0  0  0  0  0  0  0  0\\n  -10.3846    3.7515    3.7768 C   0  0  0  0  0  0  0  0  0  0  0  0\\n  -11.4119    3.3670    2.8963 C   0  0  0  0  0  0  0  0  0  0  0  0\\n  -11.3188    2.4004    1.9901 N   0  0  0  0  0  0  0  0  0  0  0  0\\n  -10.1279    1.7347    1.9258 C   0  0  0  0  0  0  0  0  0  0  0  0\\n   -9.9765    0.6763    0.9972 C   0  0  0  0  0  0  0  0  0  0  0  0\\n   -8.7765   -0.0113    0.9421 C   0  0  0  0  0  0  0  0  0  0  0  0\\n   -7.7357    0.3575    1.8129 C   0  0  0  0  0  0  0  0  0  0  0  0\\n   -7.8267    1.3489    2.6999 N   0  0  0  0  0  0  0  0  0  0  0  0\\n   -9.0013    2.0406    2.7580 C   0  0  0  0  0  0  0  0  0  0  0  0\\n   -4.6562   -1.2857    4.8989 H   0  0  0  0  0  0  0  0  0  0  0  0\\n   -5.0659   -0.1029    3.6539 H   0  0  0  0  0  0  0  0  0  0  0  0\\n   -2.6573   -1.9942    3.4294 H   0  0  0  0  0  0  0  0  0  0  0  0\\n   -4.2725   -2.3732    2.8192 H   0  0  0  0  0  0  0  0  0  0  0  0\\n   -2.7138   -1.4725    1.0515 H   0  0  0  0  0  0  0  0  0  0  0  0\\n   -2.6464    0.0843    1.9485 H   0  0  0  0  0  0  0  0  0  0  0  0\\n   -5.7710   -1.0564   -1.0345 H   0  0  0  0  0  0  0  0  0  0  0  0\\n   -5.8107    0.3008   -3.1327 H   0  0  0  0  0  0  0  0  0  0  0  0\\n   -3.1662    3.9984   -2.4264 H   0  0  0  0  0  0  0  0  0  0  0  0\\n   -1.9075    4.8959   -0.4201 H   0  0  0  0  0  0  0  0  0  0  0  0\\n   -1.9964    3.6107    1.7280 H   0  0  0  0  0  0  0  0  0  0  0  0\\n   -2.2749    5.9815    4.8285 H   0  0  0  0  0  0  0  0  0  0  0  0\\n   -3.2855    5.3972    6.1541 H   0  0  0  0  0  0  0  0  0  0  0  0\\n   -4.7563    6.5667    4.7924 H   0  0  0  0  0  0  0  0  0  0  0  0\\n   -5.1008    4.8853    4.4130 H   0  0  0  0  0  0  0  0  0  0  0  0\\n   -3.1220    5.4789    2.5296 H   0  0  0  0  0  0  0  0  0  0  0  0\\n   -4.0620    6.9984    2.5771 H   0  0  0  0  0  0  0  0  0  0  0  0\\n   -6.1762    7.4137    3.2339 H   0  0  0  0  0  0  0  0  0  0  0  0\\n   -8.5512    8.0142    2.9598 H   0  0  0  0  0  0  0  0  0  0  0  0\\n  -10.4475    5.0083    0.0391 H   0  0  0  0  0  0  0  0  0  0  0  0\\n   -9.5583    3.0154   -1.2306 H   0  0  0  0  0  0  0  0  0  0  0  0\\n   -7.1609    2.3673   -0.9331 H   0  0  0  0  0  0  0  0  0  0  0  0\\n   -6.8607    1.9775    7.4535 H   0  0  0  0  0  0  0  0  0  0  0  0\\n   -6.7560    1.9745    5.6834 H   0  0  0  0  0  0  0  0  0  0  0  0\\n   -6.2549    4.5793    6.0074 H   0  0  0  0  0  0  0  0  0  0  0  0\\n   -7.1507    4.3730    7.5157 H   0  0  0  0  0  0  0  0  0  0  0  0\\n   -8.6140    5.0741    5.6047 H   0  0  0  0  0  0  0  0  0  0  0  0\\n   -9.1209    3.4880    6.2621 H   0  0  0  0  0  0  0  0  0  0  0  0\\n  -10.5521    4.5689    4.4764 H   0  0  0  0  0  0  0  0  0  0  0  0\\n  -12.3684    3.8979    2.9401 H   0  0  0  0  0  0  0  0  0  0  0  0\\n  -10.8207    0.4321    0.3505 H   0  0  0  0  0  0  0  0  0  0  0  0\\n   -8.6247   -0.8320    0.2394 H   0  0  0  0  0  0  0  0  0  0  0  0\\n   -6.7809   -0.1741    1.7815 H   0  0  0  0  0  0  0  0  0  0  0  0\\n  9 10  1  0\\n  4  5  1  0\\n  7  8  1  0\\n  5 23  1  0\\n 24 27  1  0\\n 24 26  1  0\\n  9 19  1  0\\n  7 15  1  0\\n 24 25  1  0\\n  4 20  1  0\\n  8 12  1  0\\n  5 22  1  0\\n  9 18  1  0\\n 10 16  1  0\\n  7 14  1  0\\n  4 21  1  0\\n 10 17  1  0\\n  8 13  1  0\\n  1  8  1  0\\n 10 11  1  0\\n  3  4  1  0\\n  6  7  1  0\\n  5  6  1  0\\n  6  9  1  0\\n  2 24  1  0\\n  2  3  1  0\\n  2  1  1  0\\n  2 11  1  0\\n 28 29  1  0\\n 29 30  1  0\\n 30 31  1  0\\n 31 32  1  0\\n 32 33  2  0\\n 33 34  1  0\\n 34 35  2  0\\n 35 36  1  0\\n 36 37  2  0\\n 37 38  1  0\\n 38 39  2  0\\n 39 40  1  0\\n 40 41  2  0\\n 41 32  1  0\\n 41 36  1  0\\n 28  1  1  0\\n 42 43  1  0\\n 43 44  1  0\\n 44 45  1  0\\n 45 46  1  0\\n 46 47  2  0\\n 47 48  1  0\\n 48 49  2  0\\n 49 50  1  0\\n 50 51  2  0\\n 51 52  1  0\\n 52 53  2  0\\n 53 54  1  0\\n 54 55  2  0\\n 55 46  1  0\\n 55 50  1  0\\n 42 11  1  0\\n 56 57  1  0\\n 57 58  1  0\\n 58 59  1  0\\n 59 60  1  0\\n 60 61  2  0\\n 61 62  1  0\\n 62 63  2  0\\n 63 64  1  0\\n 64 65  2  0\\n 65 66  1  0\\n 66 67  2  0\\n 67 68  1  0\\n 68 69  2  0\\n 69 60  1  0\\n 69 64  1  0\\n 56  3  1  0\\n 28 70  1  0\\n 28 71  1  0\\n 29 72  1  0\\n 29 73  1  0\\n 30 74  1  0\\n 30 75  1  0\\n 33 76  1  0\\n 34 77  1  0\\n 37 78  1  0\\n 38 79  1  0\\n 39 80  1  0\\n 42 81  1  0\\n 42 82  1  0\\n 43 83  1  0\\n 43 84  1  0\\n 44 85  1  0\\n 44 86  1  0\\n 47 87  1  0\\n 48 88  1  0\\n 51 89  1  0\\n 52 90  1  0\\n 53 91  1  0\\n 56 92  1  0\\n 56 93  1  0\\n 57 94  1  0\\n 57 95  1  0\\n 58 96  1  0\\n 58 97  1  0\\n 61 98  1  0\\n 62 99  1  0\\n 65100  1  0\\n 66101  1  0\\n 67102  1  0\\nM  CHG  1  24   1\\nM  END\\n\",\"sdf\");\n",
       "\tviewer_16794076657859464.setStyle({\"stick\": {\"radius\": 0.2}, \"sphere\": {\"radius\": 0.3}});\n",
       "\tviewer_16794076657859464.zoomTo();\n",
       "viewer_16794076657859464.render();\n",
       "});\n",
       "</script><script>\n",
       "            $3Dmolpromise.then(function() { //wrap in promise for non-interactive functionality\n",
       "                \n",
       "                viewer_16794076657859464.render();\n",
       "            });\n",
       "            </script>"
      ]
     },
     "metadata": {},
     "output_type": "display_data"
    }
   ],
   "source": [
    "draw_mol(conf[idx].optimized_pbe_mol1)\n",
    "draw_mol(conf[idx].optimized_pbe_mol2)"
   ]
  },
  {
   "cell_type": "code",
   "execution_count": null,
   "id": "726abad7-b990-4cc3-9ce9-559334210096",
   "metadata": {},
   "outputs": [],
   "source": []
  },
  {
   "cell_type": "code",
   "execution_count": null,
   "id": "07513a59-598d-49fe-a6e0-a6e02b23cb6c",
   "metadata": {},
   "outputs": [],
   "source": []
  }
 ],
 "metadata": {
  "kernelspec": {
   "display_name": "Python 3 (ipykernel)",
   "language": "python",
   "name": "python3"
  },
  "language_info": {
   "codemirror_mode": {
    "name": "ipython",
    "version": 3
   },
   "file_extension": ".py",
   "mimetype": "text/x-python",
   "name": "python",
   "nbconvert_exporter": "python",
   "pygments_lexer": "ipython3",
   "version": "3.7.12"
  }
 },
 "nbformat": 4,
 "nbformat_minor": 5
}
