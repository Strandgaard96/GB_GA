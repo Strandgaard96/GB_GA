{
 "cells": [
  {
   "cell_type": "code",
   "execution_count": 7,
   "id": "ac5047be-e8f9-416e-89e6-b19b5474c41c",
   "metadata": {},
   "outputs": [],
   "source": [
    "# improts\n",
    "import sys\n",
    "import os\n",
    "import numpy as np\n",
    "import matplotlib.pyplot as plt\n",
    "import re\n",
    "from pathlib import Path\n",
    "from glob import glob\n",
    "import pickle\n",
    "import shutil\n",
    "import json\n",
    "import io\n",
    "import pandas as pd\n",
    "from pathlib import Path\n",
    "from rdkit import Chem\n",
    "from rdkit.Chem import AllChem\n",
    "from rdkit.Chem import Draw\n",
    "from rdkit.Chem.Draw import IPythonConsole, MolsToGridImage\n",
    "from rdkit.Chem.rdMolDescriptors import CalcNumRotatableBonds\n",
    "import py3Dmol\n",
    "import copy\n",
    "\n",
    "from rdkit.Geometry import Point3D\n",
    "\n",
    "module_path = os.path.abspath(os.path.join('..'))\n",
    "sys.path.append(module_path)\n",
    "\n",
    "import pickle\n",
    "from support_mvp.backup_plot_diagram.data_handler import renamed_load\n",
    "\n",
    "# For highlight colors\n",
    "from matplotlib.colors import ColorConverter\n",
    "import matplotlib.ticker as mticker\n",
    "\n",
    "# Stuff for changing rdkit drawing view: \n",
    "#IPythonConsole.drawOptions.addAtomIndices = True\n",
    "#IPythonConsole.molSize = 500,500\n",
    "#IPythonConsole.drawOptions.addAtomIndices = True\n",
    "\n",
    "font = {'weight' : 'bold',\n",
    "        'size'   : 12}\n",
    "plt.rc('font', **font)\n",
    "\n",
    "HARTREE2EV = 27.2114\n",
    "HARTREE2KCAL = 627.51\n",
    "kcal = 627.51\n",
    "ev = 27.2114\n",
    "\n",
    "\n",
    "# Alternate way \n",
    "#with open('benzene.svg','w') as f:\n",
    "#    f.write(img.data)\n",
    "#img = Chem.Draw.MolsToGridImage([m], useSVG=True)\n",
    "    "
   ]
  },
  {
   "cell_type": "code",
   "execution_count": 8,
   "id": "e5a35652-15e8-4155-9d37-fa1b68c5749c",
   "metadata": {},
   "outputs": [],
   "source": [
    "dft_base = Path('/home/magstr/dft_data')\n",
    "img_dir = Path('imgs')"
   ]
  },
  {
   "cell_type": "markdown",
   "id": "4b3b59bc-4e96-4a44-a8f4-1477d16dcf8f",
   "metadata": {},
   "source": [
    "### Functions"
   ]
  },
  {
   "cell_type": "code",
   "execution_count": 9,
   "id": "73453348-c970-4632-946b-37a0a56d0bd6",
   "metadata": {},
   "outputs": [],
   "source": [
    "def draw_mol(\n",
    "    mol,\n",
    "    width=900,\n",
    "    height=900,\n",
    "    Hs=False,\n",
    "    confId=-1,\n",
    "    multipleConfs=False,\n",
    "    atomlabel=False,\n",
    "    hit_ats=None,\n",
    "    gen_struct=None,\n",
    "    trajectory=False,\n",
    "):\n",
    "    p = py3Dmol.view(width=width, height=height)\n",
    "    \n",
    "    if isinstance(mol, str):\n",
    "        xyz_f = open(mol)\n",
    "        line = xyz_f.read()\n",
    "        xyz_f.close()\n",
    "        p.addModel(line, \"xyz\")\n",
    "    else:\n",
    "        if multipleConfs:\n",
    "            for conf in mol.GetConformers():\n",
    "                mb = Chem.MolToMolBlock(mol, confId=conf.GetId())\n",
    "                p.addModel(mb, \"sdf\")\n",
    "        else:\n",
    "            mb = Chem.MolToMolBlock(mol)\n",
    "            p.addModel(mb, \"sdf\")\n",
    "        \n",
    "    p.setStyle({\"stick\": {\"radius\": 0.2}, \"sphere\":\n",
    "                {\"radius\": 0.3}})\n",
    "    if atomlabel:\n",
    "        p.addPropertyLabels(\"index\")  # ,{'elem':'H'}\n",
    "    p.zoomTo()\n",
    "    p.update()"
   ]
  },
  {
   "cell_type": "code",
   "execution_count": 10,
   "id": "9f3cb084-e8f1-403f-856f-4f29398b271d",
   "metadata": {},
   "outputs": [],
   "source": [
    "def single_atom_remover(mol, idx):\n",
    "    \"\"\"Function that removes an atom at specified idx.\n",
    "\n",
    "    Args:\n",
    "        mol (Chem.rdchem.Mol): The mol to remove substruct on\n",
    "        pattern (Chem.rdchem.Mol): mol object to remove from the input mol\n",
    "\n",
    "    Returns:\n",
    "        Chem.rdchem.Mol: The ouput mol with the atom removed\n",
    "    \"\"\"\n",
    "    res = Chem.RWMol(mol)\n",
    "    res.BeginBatchEdit()\n",
    "    res.RemoveAtom(idx)\n",
    "    res.CommitBatchEdit()\n",
    "    Chem.SanitizeMol(res)\n",
    "    return res.GetMol()"
   ]
  },
  {
   "cell_type": "code",
   "execution_count": 11,
   "id": "1dad8dfa-8fe6-4b8c-bae4-0bd417f589b3",
   "metadata": {},
   "outputs": [],
   "source": [
    "def remove_NH3(mol):\n",
    "    \"\"\"Remove NH3 group on mol.\"\"\"\n",
    "\n",
    "    # Substructure match the NH3\n",
    "    NH3_match = Chem.MolFromSmarts(\"[NH3]\")\n",
    "    NH3_match = Chem.AddHs(NH3_match)\n",
    "    removed_mol = Chem.DeleteSubstructs(mol, NH3_match)\n",
    "\n",
    "    return removed_mol"
   ]
  },
  {
   "cell_type": "markdown",
   "id": "8eeee907-b83f-4a54-bdd5-5968cd5e5c2f",
   "metadata": {
    "tags": []
   },
   "source": [
    "CC(C)(N)CCC1CCCCC1## Core images"
   ]
  },
  {
   "cell_type": "code",
   "execution_count": 13,
   "id": "9c66250a-2f90-4960-826b-fafd10803bcc",
   "metadata": {},
   "outputs": [],
   "source": [
    "converged_file = Path('../data/converged_reaction_profiles.pkl')\n",
    "\n",
    "with open(converged_file, \"rb\") as f:\n",
    "    conf = renamed_load(f)"
   ]
  },
  {
   "cell_type": "code",
   "execution_count": 14,
   "id": "b5578efe-0ff1-47b9-a824-0c5fb30ce737",
   "metadata": {},
   "outputs": [
    {
     "name": "stdout",
     "output_type": "stream",
     "text": [
      "CCCN1CCCC(N)(C2CCCC2)C1\n",
      "CCCOC(=O)NCC1(N)CCCCC1\n",
      "C=C(C)CC(C)(C)N\n",
      "CC(=O)c1cc(O)c(C(=O)CN)cc1O\n",
      "CC(=O)c1ccc(F)c(C(=O)CN)c1\n",
      "CC(=O)c1ccc(F)c(C(=O)N=CN)c1\n",
      "N#Cc1ccnc(C#N)c1N\n",
      "N#Cc1ccnc(C(=O)Cl)c1N\n",
      "N#Cc1cnc(C#N)c(N)c1\n",
      "N#Cc1ncc(C(=O)CO)cc1N\n",
      "N#Cc1ncc(CC(=O)O)cc1N\n",
      "NC1(CCCCCl)CCCCC1\n",
      "NC=NC(=O)c1cccc(Br)c1\n",
      "NCC=Cc1ncnc2ccccc12\n",
      "NCCc1ncnc2ccccc12\n",
      "Nc1ccccc1N=CC(=O)Cl\n",
      "NCCCOc1ccnc2cccnc12\n",
      "NCCCOc1ncnc2cccnc12\n",
      "NCCCc1ncnc2ccccc12\n",
      "NCCOC(=O)c1ncnc2ccccc12\n",
      "CC(=O)Nc1ccc(F)c(C(=O)Cc2ccnc(N)c2)c1\n",
      "CC(C)(N)CCC1CCCCC1\n",
      "CC(N)Cc1ccc(CCl)cc1\n",
      "CC(N)Cc1ccc(Cc2ccccc2)cc1\n"
     ]
    }
   ],
   "source": [
    "for i in conf:\n",
    "    print(i.smiles)"
   ]
  },
  {
   "cell_type": "code",
   "execution_count": 16,
   "id": "3dd29bec-b9f4-4b74-b529-3b3ca38acfc0",
   "metadata": {},
   "outputs": [],
   "source": [
    "# My candidate molecules so far\n",
    "# C1 2\n",
    "# C2 -5 \n",
    "# C3 9 \n",
    "# C4 -7\n",
    "# C5 -1 \n",
    "# C6 -3\n",
    "# C7 -2\n",
    "# C8 8 \n",
    "# C9 6\n",
    "# C10 7 \n",
    "# C11 1\n",
    "# C12 -4"
   ]
  },
  {
   "cell_type": "code",
   "execution_count": 44,
   "id": "7815f307-a9ea-48ac-9f02-ef33b360f4fb",
   "metadata": {},
   "outputs": [],
   "source": [
    "idx = 7"
   ]
  },
  {
   "cell_type": "code",
   "execution_count": 45,
   "id": "e7c220fe-cd13-4890-bb4f-5e5f729256d8",
   "metadata": {
    "tags": []
   },
   "outputs": [],
   "source": [
    "# Replace tricky primary amines in the frag:\n",
    "prim_match = Chem.MolFromSmarts(\"[NX3;H2]\")\n",
    "rm = Chem.ReplaceSubstructs(\n",
    "                            conf[idx].rdkit_mol,\n",
    "                            prim_match,\n",
    "                            Chem.MolFromSmiles(\"[1*]\"),\n",
    "                            replaceAll=True,\n",
    "                        )[0]\n",
    "rm\n",
    "Chem.Draw.MolToFile(rm, img_dir/'tmp.svg')"
   ]
  },
  {
   "cell_type": "code",
   "execution_count": 46,
   "id": "09d3cdb3-7cb5-47a0-8532-ae103441e5ce",
   "metadata": {},
   "outputs": [],
   "source": [
    "with open('coordinates.xyz', \"w+\") as f:\n",
    "    f.write(Chem.MolToXYZBlock(conf[idx].optimized_mol2))"
   ]
  },
  {
   "cell_type": "code",
   "execution_count": 47,
   "id": "3bb347fa-03fb-40e3-99f9-1cc16eda748d",
   "metadata": {},
   "outputs": [],
   "source": [
    "scoring_to_keys = {'rdkit_embed_scoring':('Mo_N2_NH3', 'Mo_NH3'),'rdkit_embed_scoring_NH3toN2':('Mo_NH3', 'Mo_N2'),'rdkit_embed_scoring_NH3plustoNH3':('Mo_NH3+', 'Mo_NH3')}"
   ]
  },
  {
   "cell_type": "code",
   "execution_count": 48,
   "id": "b3c79ac4-1189-46e2-be5e-7253f20fd691",
   "metadata": {},
   "outputs": [],
   "source": [
    "def correct_lines(xyz_coordinates, key):\n",
    "    \n",
    "    if key =='Mo_N2_NH3':\n",
    "        \n",
    "        xyz_coordinates.insert(23,xyz_coordinates.pop(-6))\n",
    "        xyz_coordinates.insert(24,xyz_coordinates.pop(-5))\n",
    "        xyz_coordinates.insert(25,xyz_coordinates.pop(-4))\n",
    "        xyz_coordinates.insert(26,xyz_coordinates.pop(-3))\n",
    "        xyz_coordinates.insert(27,xyz_coordinates.pop(-2))\n",
    "        xyz_coordinates.insert(28,xyz_coordinates.pop(-1))\n",
    "    elif key =='Mo_N2':\n",
    "        pass\n",
    "    elif (key == 'Mo_NH3') | (key == 'Mo_NH3+'):\n",
    "        xyz_coordinates.insert(23,xyz_coordinates.pop(-4))\n",
    "        xyz_coordinates.insert(24,xyz_coordinates.pop(-3))\n",
    "        xyz_coordinates.insert(25,xyz_coordinates.pop(-2))\n",
    "        xyz_coordinates.insert(26,xyz_coordinates.pop(-1))\n",
    "    return xyz_coordinates"
   ]
  },
  {
   "cell_type": "code",
   "execution_count": 49,
   "id": "b1668fea-f9bd-4a14-a001-d06bfe6926d6",
   "metadata": {},
   "outputs": [],
   "source": [
    "def lines_to_xyz(file):\n",
    "    \n",
    "    atomic_symbols = []\n",
    "    xyz_coordinates = []\n",
    "    for line_number, line in enumerate(file):\n",
    "        if line_number == 0:\n",
    "            num_atoms = int(line)\n",
    "        elif line_number == 1:\n",
    "            comment = line  # might have useful information\n",
    "        else:\n",
    "            atomic_symbol, x, y, z = line.split()\n",
    "            atomic_symbols.append(atomic_symbol)\n",
    "            xyz_coordinates.append([float(x), float(y), float(z)])\n",
    "    \n",
    "    return xyz_coordinates"
   ]
  },
  {
   "cell_type": "code",
   "execution_count": 50,
   "id": "0c466933-ca6f-4ab6-8ad1-4fe05a4ae1d2",
   "metadata": {},
   "outputs": [],
   "source": [
    "def fix_xyz_lines(mol, keys):\n",
    "\n",
    "\n",
    "    file = conf[idx].reaction_profile_final_structs[keys[0]]\n",
    "\n",
    "    xyz_coordinates = lines_to_xyz(file)\n",
    "\n",
    "    mol = copy.deepcopy(conf[idx].optimized_mol1)\n",
    "    mol.RemoveAllConformers()\n",
    "\n",
    "    xyz_coordinates = correct_lines(xyz_coordinates, keys[0])\n",
    "\n",
    "    # from https://github.com/rdkit/rdkit/issues/2413\n",
    "    conformer = Chem.Conformer()\n",
    "    # in principal, you should check that the atoms match\n",
    "    for i in range(mol.GetNumAtoms()):\n",
    "        x, y, z = xyz_coordinates[i]\n",
    "        conformer.SetAtomPosition(i, Point3D(x, y, z))\n",
    "    mol.AddConformer(conformer, assignId=True)\n",
    "    conf[idx].optimized_pbe_mol1 = mol \n",
    "    \n",
    "    \n",
    "    file = conf[idx].reaction_profile_final_structs[keys[1]]\n",
    "    xyz_coordinates = lines_to_xyz(file)\n",
    "    mol = copy.deepcopy(conf[idx].optimized_mol2)\n",
    "    mol.RemoveAllConformers()\n",
    "\n",
    "    correct_lines(xyz_coordinates, keys[1])\n",
    "\n",
    "    # from https://github.com/rdkit/rdkit/issues/2413\n",
    "    conformer = Chem.Conformer()\n",
    "    # in principal, you should check that the atoms match\n",
    "    for i in range(mol.GetNumAtoms()):\n",
    "        x, y, z = xyz_coordinates[i]\n",
    "        conformer.SetAtomPosition(i, Point3D(x, y, z))\n",
    "    mol.AddConformer(conformer, assignId=True)\n",
    "    conf[idx].optimized_pbe_mol2 = mol \n",
    "    \n",
    "\n",
    "    return mol"
   ]
  },
  {
   "cell_type": "code",
   "execution_count": 51,
   "id": "00def72d-48df-46d2-8730-1f2e7f70098e",
   "metadata": {},
   "outputs": [
    {
     "data": {
      "image/png": "[encoded data removed]",
      "text/plain": [
       "<rdkit.Chem.rdchem.Mol at 0x7f4b52c0a3a0>"
      ]
     },
     "execution_count": 51,
     "metadata": {},
     "output_type": "execute_result"
    }
   ],
   "source": [
    "\n",
    "fix_xyz_lines(conf[idx], scoring_to_keys[conf[idx].scoring_function])"
   ]
  },
  {
   "cell_type": "code",
   "execution_count": 57,
   "id": "fba4ceb9-ba1e-41de-bdb7-8965527aa86b",
   "metadata": {},
   "outputs": [],
   "source": [
    "Chem.MolToMolFile(conf[idx].optimized_pbe_mol2, 'nh3.mol')"
   ]
  },
  {
   "cell_type": "code",
   "execution_count": 52,
   "id": "96cfc424-065b-4681-98e2-ec561d9c1365",
   "metadata": {},
   "outputs": [
    {
     "data": {
      "application/3dmoljs_load.v0": "<div id=\"3dmolviewer_168300990308865\"  style=\"position: relative; width: 900px; height: 900px\">\n        <p id=\"3dmolwarning_168300990308865\" style=\"background-color:#ffcccc;color:black\">You appear to be running in JupyterLab (or JavaScript failed to load for some other reason).  You need to install the 3dmol extension: <br>\n        <tt>jupyter labextension install jupyterlab_3dmol</tt></p>\n        </div>\n<script>\n\nvar loadScriptAsync = function(uri){\n  return new Promise((resolve, reject) => {\n    //this is to ignore the existence of requirejs amd\n    var savedexports, savedmodule;\n    if (typeof exports !== 'undefined') savedexports = exports;\n    else exports = {}\n    if (typeof module !== 'undefined') savedmodule = module;\n    else module = {}\n\n    var tag = document.createElement('script');\n    tag.src = uri;\n    tag.async = true;\n    tag.onload = () => {\n        exports = savedexports;\n        module = savedmodule;\n        resolve();\n    };\n  var firstScriptTag = document.getElementsByTagName('script')[0];\n  firstScriptTag.parentNode.insertBefore(tag, firstScriptTag);\n});\n};\n\nif(typeof $3Dmolpromise === 'undefined') {\n$3Dmolpromise = null;\n  $3Dmolpromise = loadScriptAsync('https://cdnjs.cloudflare.com/ajax/libs/3Dmol/2.0.1/3Dmol-min.js');\n}\n\nvar viewer_168300990308865 = null;\nvar warn = document.getElementById(\"3dmolwarning_168300990308865\");\nif(warn) {\n    warn.parentNode.removeChild(warn);\n}\n$3Dmolpromise.then(function() {\nviewer_168300990308865 = $3Dmol.createViewer(document.getElementById(\"3dmolviewer_168300990308865\"),{backgroundColor:\"white\"});\nviewer_168300990308865.zoomTo();\n\tviewer_168300990308865.addModel(\"\\n     RDKit          3D\\n\\n 66 70  0  0  0  0  0  0  0  0999 V2000\\n   -2.9451   -3.5964    2.3966 N   0  0  0  0  0  0  0  0  0  0  0  0\\n   -2.5909   -4.4564    1.2402 C   0  0  0  0  0  0  0  0  0  0  0  0\\n   -2.4116   -5.8814    1.7249 C   0  0  0  0  0  0  0  0  0  0  0  0\\n   -3.5295   -6.2349    2.6476 N   0  0  0  0  0  0  0  0  0  0  0  0\\n   -4.7559   -6.6171    1.8885 C   0  0  0  0  0  0  0  0  0  0  0  0\\n   -5.9796   -6.3554    2.7441 C   0  0  0  0  0  0  0  0  0  0  0  0\\n   -5.8413   -5.0245    3.3848 N   0  0  0  0  0  0  0  0  0  0  0  0\\n   -4.0113   -4.4186    3.8528 Mo  0  0  1  0  0  4  0  0  0  0  0  0\\n   -3.0126   -5.4757    5.2017 N   0  0  0  0  0  0  0  0  0  0  0  0\\n   -2.3246   -6.7047    4.7340 C   0  0  0  0  0  0  0  0  0  0  0  0\\n   -3.1234   -7.3114    3.5971 C   0  0  0  0  0  0  0  0  0  0  0  0\\n   -2.2416   -7.4365    5.5516 H   0  0  0  0  0  0  0  0  0  0  0  0\\n   -1.2973   -6.4456    4.4265 H   0  0  0  0  0  0  0  0  0  0  0  0\\n   -4.0388   -7.7629    3.9997 H   0  0  0  0  0  0  0  0  0  0  0  0\\n   -2.5525   -8.0880    3.0633 H   0  0  0  0  0  0  0  0  0  0  0  0\\n   -6.8803   -6.3910    2.1127 H   0  0  0  0  0  0  0  0  0  0  0  0\\n   -6.1071   -7.1194    3.5301 H   0  0  0  0  0  0  0  0  0  0  0  0\\n   -4.8016   -5.9866    0.9919 H   0  0  0  0  0  0  0  0  0  0  0  0\\n   -4.6912   -7.6714    1.5755 H   0  0  0  0  0  0  0  0  0  0  0  0\\n   -1.6569   -4.1104    0.7724 H   0  0  0  0  0  0  0  0  0  0  0  0\\n   -3.3843   -4.3759    0.4778 H   0  0  0  0  0  0  0  0  0  0  0  0\\n   -1.4755   -5.9540    2.2924 H   0  0  0  0  0  0  0  0  0  0  0  0\\n   -2.3721   -6.5971    0.8880 H   0  0  0  0  0  0  0  0  0  0  0  0\\n   -4.4472   -2.6054    5.0620 N   0  0  0  0  0  4  0  0  0  0  0  0\\n   -5.0346   -2.8412    5.8693 H   0  0  0  0  0  0  0  0  0  0  0  0\\n   -4.9421   -1.9082    4.4947 H   0  0  0  0  0  0  0  0  0  0  0  0\\n   -3.5744   -2.1884    5.4059 H   0  0  0  0  0  0  0  0  0  0  0  0\\n    0.3581   -4.3946    3.2667 N   0  0  0  0  0  0  0  0  0  0  0  0\\n   -0.2104   -3.4137    2.9993 C   0  0  0  0  0  0  0  0  0  0  0  0\\n   -0.9378   -2.2281    2.6795 C   0  0  0  0  0  0  0  0  0  0  0  0\\n   -0.3055   -0.9839    2.6645 C   0  0  0  0  0  0  0  0  0  0  0  0\\n   -1.0721    0.1424    2.3591 C   0  0  0  0  0  0  0  0  0  0  0  0\\n   -2.3722    0.0757    2.0672 N   0  0  0  0  0  0  0  0  0  0  0  0\\n   -2.9844   -1.1161    2.1073 C   0  0  0  0  0  0  0  0  0  0  0  0\\n   -4.4485   -1.0964    1.8008 C   0  0  0  0  0  0  0  0  0  0  0  0\\n   -5.2991   -1.6695    2.4354 O   0  0  0  0  0  0  0  0  0  0  0  0\\n   -4.8661   -0.1355    0.3811 Cl  0  0  0  0  0  0  0  0  0  0  0  0\\n   -2.3306   -2.3331    2.4122 C   0  0  0  0  0  0  0  0  0  0  0  0\\n   -6.1958   -4.0281    0.0430 N   0  0  0  0  0  0  0  0  0  0  0  0\\n   -6.8147   -3.8760    1.0182 C   0  0  0  0  0  0  0  0  0  0  0  0\\n   -7.5415   -3.6970    2.2333 C   0  0  0  0  0  0  0  0  0  0  0  0\\n   -8.7227   -2.9543    2.2562 C   0  0  0  0  0  0  0  0  0  0  0  0\\n   -9.3775   -2.7939    3.4790 C   0  0  0  0  0  0  0  0  0  0  0  0\\n   -8.9312   -3.3323    4.6148 N   0  0  0  0  0  0  0  0  0  0  0  0\\n   -7.7834   -4.0249    4.5975 C   0  0  0  0  0  0  0  0  0  0  0  0\\n   -7.3416   -4.5697    5.9181 C   0  0  0  0  0  0  0  0  0  0  0  0\\n   -6.2160   -4.5234    6.3488 O   0  0  0  0  0  0  0  0  0  0  0  0\\n   -8.6385   -5.3252    6.8473 Cl  0  0  0  0  0  0  0  0  0  0  0  0\\n   -7.0145   -4.2534    3.4316 C   0  0  0  0  0  0  0  0  0  0  0  0\\n   -5.3823   -7.8581    6.2159 N   0  0  0  0  0  0  0  0  0  0  0  0\\n   -4.6993   -7.0884    6.7617 C   0  0  0  0  0  0  0  0  0  0  0  0\\n   -3.8580   -6.1297    7.4021 C   0  0  0  0  0  0  0  0  0  0  0  0\\n   -3.8665   -5.9860    8.7906 C   0  0  0  0  0  0  0  0  0  0  0  0\\n   -3.0289   -5.0248    9.3593 C   0  0  0  0  0  0  0  0  0  0  0  0\\n   -2.2110   -4.2575    8.6362 N   0  0  0  0  0  0  0  0  0  0  0  0\\n   -2.2227   -4.3788    7.3013 C   0  0  0  0  0  0  0  0  0  0  0  0\\n   -1.2944   -3.4620    6.5671 C   0  0  0  0  0  0  0  0  0  0  0  0\\n   -1.5901   -2.7895    5.6112 O   0  0  0  0  0  0  0  0  0  0  0  0\\n    0.3415   -3.4340    7.2281 Cl  0  0  0  0  0  0  0  0  0  0  0  0\\n   -3.0331   -5.2983    6.5961 C   0  0  0  0  0  0  0  0  0  0  0  0\\n    0.7582   -0.8989    2.8861 H   0  0  0  0  0  0  0  0  0  0  0  0\\n   -0.6171    1.1350    2.3353 H   0  0  0  0  0  0  0  0  0  0  0  0\\n   -9.1181   -2.5116    1.3421 H   0  0  0  0  0  0  0  0  0  0  0  0\\n  -10.3048   -2.2204    3.5425 H   0  0  0  0  0  0  0  0  0  0  0  0\\n   -4.5108   -6.6102    9.4093 H   0  0  0  0  0  0  0  0  0  0  0  0\\n   -3.0045   -4.8786   10.4414 H   0  0  0  0  0  0  0  0  0  0  0  0\\n 10 11  1  0\\n  2  3  1  0\\n  5  6  1  0\\n 24 27  1  0\\n 24 26  1  0\\n 24 25  1  0\\n 11 15  1  0\\n  5 19  1  0\\n  3 23  1  0\\n  2 20  1  0\\n  5 18  1  0\\n  3 22  1  0\\n 11 14  1  0\\n 10 12  1  0\\n  6 16  1  0\\n  6 17  1  0\\n  2 21  1  0\\n 10 13  1  0\\n  6  7  1  0\\n  1  2  1  0\\n  9 10  1  0\\n  4  5  1  0\\n  3  4  1  0\\n  4 11  1  0\\n  8  7  1  0\\n  8 24  1  1\\n  8  1  1  0\\n  8  9  1  0\\n 28 29  3  0\\n 29 30  1  0\\n 30 31  2  0\\n 31 32  1  0\\n 32 33  2  0\\n 33 34  1  0\\n 34 35  1  0\\n 35 36  2  0\\n 35 37  1  0\\n 34 38  2  0\\n 38 30  1  0\\n 38  1  1  0\\n 39 40  3  0\\n 40 41  1  0\\n 41 42  2  0\\n 42 43  1  0\\n 43 44  2  0\\n 44 45  1  0\\n 45 46  1  0\\n 46 47  2  0\\n 46 48  1  0\\n 45 49  2  0\\n 49 41  1  0\\n 49  7  1  0\\n 50 51  3  0\\n 51 52  1  0\\n 52 53  2  0\\n 53 54  1  0\\n 54 55  2  0\\n 55 56  1  0\\n 56 57  1  0\\n 57 58  2  0\\n 57 59  1  0\\n 56 60  2  0\\n 60 52  1  0\\n 60  9  1  0\\n 31 61  1  0\\n 32 62  1  0\\n 42 63  1  0\\n 43 64  1  0\\n 53 65  1  0\\n 54 66  1  0\\nM  CHG  1  24   1\\nM  END\\n\",\"sdf\");\n\tviewer_168300990308865.setStyle({\"stick\": {\"radius\": 0.2}, \"sphere\": {\"radius\": 0.3}});\n\tviewer_168300990308865.zoomTo();\nviewer_168300990308865.render();\n});\n</script><script>\n            $3Dmolpromise.then(function() { //wrap in promise for non-interactive functionality\n                \n                viewer_168300990308865.render();\n            });\n            </script>",
      "text/html": [
       "<div id=\"3dmolviewer_168300990308865\"  style=\"position: relative; width: 900px; height: 900px\">\n",
       "        <p id=\"3dmolwarning_168300990308865\" style=\"background-color:#ffcccc;color:black\">You appear to be running in JupyterLab (or JavaScript failed to load for some other reason).  You need to install the 3dmol extension: <br>\n",
       "        <tt>jupyter labextension install jupyterlab_3dmol</tt></p>\n",
       "        </div>\n",
       "<script>\n",
       "\n",
       "var loadScriptAsync = function(uri){\n",
       "  return new Promise((resolve, reject) => {\n",
       "    //this is to ignore the existence of requirejs amd\n",
       "    var savedexports, savedmodule;\n",
       "    if (typeof exports !== 'undefined') savedexports = exports;\n",
       "    else exports = {}\n",
       "    if (typeof module !== 'undefined') savedmodule = module;\n",
       "    else module = {}\n",
       "\n",
       "    var tag = document.createElement('script');\n",
       "    tag.src = uri;\n",
       "    tag.async = true;\n",
       "    tag.onload = () => {\n",
       "        exports = savedexports;\n",
       "        module = savedmodule;\n",
       "        resolve();\n",
       "    };\n",
       "  var firstScriptTag = document.getElementsByTagName('script')[0];\n",
       "  firstScriptTag.parentNode.insertBefore(tag, firstScriptTag);\n",
       "});\n",
       "};\n",
       "\n",
       "if(typeof $3Dmolpromise === 'undefined') {\n",
       "$3Dmolpromise = null;\n",
       "  $3Dmolpromise = loadScriptAsync('https://cdnjs.cloudflare.com/ajax/libs/3Dmol/2.0.1/3Dmol-min.js');\n",
       "}\n",
       "\n",
       "var viewer_168300990308865 = null;\n",
       "var warn = document.getElementById(\"3dmolwarning_168300990308865\");\n",
       "if(warn) {\n",
       "    warn.parentNode.removeChild(warn);\n",
       "}\n",
       "$3Dmolpromise.then(function() {\n",
       "viewer_168300990308865 = $3Dmol.createViewer(document.getElementById(\"3dmolviewer_168300990308865\"),{backgroundColor:\"white\"});\n",
       "viewer_168300990308865.zoomTo();\n",
       "\tviewer_168300990308865.addModel(\"\\n     RDKit          3D\\n\\n 66 70  0  0  0  0  0  0  0  0999 V2000\\n   -2.9451   -3.5964    2.3966 N   0  0  0  0  0  0  0  0  0  0  0  0\\n   -2.5909   -4.4564    1.2402 C   0  0  0  0  0  0  0  0  0  0  0  0\\n   -2.4116   -5.8814    1.7249 C   0  0  0  0  0  0  0  0  0  0  0  0\\n   -3.5295   -6.2349    2.6476 N   0  0  0  0  0  0  0  0  0  0  0  0\\n   -4.7559   -6.6171    1.8885 C   0  0  0  0  0  0  0  0  0  0  0  0\\n   -5.9796   -6.3554    2.7441 C   0  0  0  0  0  0  0  0  0  0  0  0\\n   -5.8413   -5.0245    3.3848 N   0  0  0  0  0  0  0  0  0  0  0  0\\n   -4.0113   -4.4186    3.8528 Mo  0  0  1  0  0  4  0  0  0  0  0  0\\n   -3.0126   -5.4757    5.2017 N   0  0  0  0  0  0  0  0  0  0  0  0\\n   -2.3246   -6.7047    4.7340 C   0  0  0  0  0  0  0  0  0  0  0  0\\n   -3.1234   -7.3114    3.5971 C   0  0  0  0  0  0  0  0  0  0  0  0\\n   -2.2416   -7.4365    5.5516 H   0  0  0  0  0  0  0  0  0  0  0  0\\n   -1.2973   -6.4456    4.4265 H   0  0  0  0  0  0  0  0  0  0  0  0\\n   -4.0388   -7.7629    3.9997 H   0  0  0  0  0  0  0  0  0  0  0  0\\n   -2.5525   -8.0880    3.0633 H   0  0  0  0  0  0  0  0  0  0  0  0\\n   -6.8803   -6.3910    2.1127 H   0  0  0  0  0  0  0  0  0  0  0  0\\n   -6.1071   -7.1194    3.5301 H   0  0  0  0  0  0  0  0  0  0  0  0\\n   -4.8016   -5.9866    0.9919 H   0  0  0  0  0  0  0  0  0  0  0  0\\n   -4.6912   -7.6714    1.5755 H   0  0  0  0  0  0  0  0  0  0  0  0\\n   -1.6569   -4.1104    0.7724 H   0  0  0  0  0  0  0  0  0  0  0  0\\n   -3.3843   -4.3759    0.4778 H   0  0  0  0  0  0  0  0  0  0  0  0\\n   -1.4755   -5.9540    2.2924 H   0  0  0  0  0  0  0  0  0  0  0  0\\n   -2.3721   -6.5971    0.8880 H   0  0  0  0  0  0  0  0  0  0  0  0\\n   -4.4472   -2.6054    5.0620 N   0  0  0  0  0  4  0  0  0  0  0  0\\n   -5.0346   -2.8412    5.8693 H   0  0  0  0  0  0  0  0  0  0  0  0\\n   -4.9421   -1.9082    4.4947 H   0  0  0  0  0  0  0  0  0  0  0  0\\n   -3.5744   -2.1884    5.4059 H   0  0  0  0  0  0  0  0  0  0  0  0\\n    0.3581   -4.3946    3.2667 N   0  0  0  0  0  0  0  0  0  0  0  0\\n   -0.2104   -3.4137    2.9993 C   0  0  0  0  0  0  0  0  0  0  0  0\\n   -0.9378   -2.2281    2.6795 C   0  0  0  0  0  0  0  0  0  0  0  0\\n   -0.3055   -0.9839    2.6645 C   0  0  0  0  0  0  0  0  0  0  0  0\\n   -1.0721    0.1424    2.3591 C   0  0  0  0  0  0  0  0  0  0  0  0\\n   -2.3722    0.0757    2.0672 N   0  0  0  0  0  0  0  0  0  0  0  0\\n   -2.9844   -1.1161    2.1073 C   0  0  0  0  0  0  0  0  0  0  0  0\\n   -4.4485   -1.0964    1.8008 C   0  0  0  0  0  0  0  0  0  0  0  0\\n   -5.2991   -1.6695    2.4354 O   0  0  0  0  0  0  0  0  0  0  0  0\\n   -4.8661   -0.1355    0.3811 Cl  0  0  0  0  0  0  0  0  0  0  0  0\\n   -2.3306   -2.3331    2.4122 C   0  0  0  0  0  0  0  0  0  0  0  0\\n   -6.1958   -4.0281    0.0430 N   0  0  0  0  0  0  0  0  0  0  0  0\\n   -6.8147   -3.8760    1.0182 C   0  0  0  0  0  0  0  0  0  0  0  0\\n   -7.5415   -3.6970    2.2333 C   0  0  0  0  0  0  0  0  0  0  0  0\\n   -8.7227   -2.9543    2.2562 C   0  0  0  0  0  0  0  0  0  0  0  0\\n   -9.3775   -2.7939    3.4790 C   0  0  0  0  0  0  0  0  0  0  0  0\\n   -8.9312   -3.3323    4.6148 N   0  0  0  0  0  0  0  0  0  0  0  0\\n   -7.7834   -4.0249    4.5975 C   0  0  0  0  0  0  0  0  0  0  0  0\\n   -7.3416   -4.5697    5.9181 C   0  0  0  0  0  0  0  0  0  0  0  0\\n   -6.2160   -4.5234    6.3488 O   0  0  0  0  0  0  0  0  0  0  0  0\\n   -8.6385   -5.3252    6.8473 Cl  0  0  0  0  0  0  0  0  0  0  0  0\\n   -7.0145   -4.2534    3.4316 C   0  0  0  0  0  0  0  0  0  0  0  0\\n   -5.3823   -7.8581    6.2159 N   0  0  0  0  0  0  0  0  0  0  0  0\\n   -4.6993   -7.0884    6.7617 C   0  0  0  0  0  0  0  0  0  0  0  0\\n   -3.8580   -6.1297    7.4021 C   0  0  0  0  0  0  0  0  0  0  0  0\\n   -3.8665   -5.9860    8.7906 C   0  0  0  0  0  0  0  0  0  0  0  0\\n   -3.0289   -5.0248    9.3593 C   0  0  0  0  0  0  0  0  0  0  0  0\\n   -2.2110   -4.2575    8.6362 N   0  0  0  0  0  0  0  0  0  0  0  0\\n   -2.2227   -4.3788    7.3013 C   0  0  0  0  0  0  0  0  0  0  0  0\\n   -1.2944   -3.4620    6.5671 C   0  0  0  0  0  0  0  0  0  0  0  0\\n   -1.5901   -2.7895    5.6112 O   0  0  0  0  0  0  0  0  0  0  0  0\\n    0.3415   -3.4340    7.2281 Cl  0  0  0  0  0  0  0  0  0  0  0  0\\n   -3.0331   -5.2983    6.5961 C   0  0  0  0  0  0  0  0  0  0  0  0\\n    0.7582   -0.8989    2.8861 H   0  0  0  0  0  0  0  0  0  0  0  0\\n   -0.6171    1.1350    2.3353 H   0  0  0  0  0  0  0  0  0  0  0  0\\n   -9.1181   -2.5116    1.3421 H   0  0  0  0  0  0  0  0  0  0  0  0\\n  -10.3048   -2.2204    3.5425 H   0  0  0  0  0  0  0  0  0  0  0  0\\n   -4.5108   -6.6102    9.4093 H   0  0  0  0  0  0  0  0  0  0  0  0\\n   -3.0045   -4.8786   10.4414 H   0  0  0  0  0  0  0  0  0  0  0  0\\n 10 11  1  0\\n  2  3  1  0\\n  5  6  1  0\\n 24 27  1  0\\n 24 26  1  0\\n 24 25  1  0\\n 11 15  1  0\\n  5 19  1  0\\n  3 23  1  0\\n  2 20  1  0\\n  5 18  1  0\\n  3 22  1  0\\n 11 14  1  0\\n 10 12  1  0\\n  6 16  1  0\\n  6 17  1  0\\n  2 21  1  0\\n 10 13  1  0\\n  6  7  1  0\\n  1  2  1  0\\n  9 10  1  0\\n  4  5  1  0\\n  3  4  1  0\\n  4 11  1  0\\n  8  7  1  0\\n  8 24  1  1\\n  8  1  1  0\\n  8  9  1  0\\n 28 29  3  0\\n 29 30  1  0\\n 30 31  2  0\\n 31 32  1  0\\n 32 33  2  0\\n 33 34  1  0\\n 34 35  1  0\\n 35 36  2  0\\n 35 37  1  0\\n 34 38  2  0\\n 38 30  1  0\\n 38  1  1  0\\n 39 40  3  0\\n 40 41  1  0\\n 41 42  2  0\\n 42 43  1  0\\n 43 44  2  0\\n 44 45  1  0\\n 45 46  1  0\\n 46 47  2  0\\n 46 48  1  0\\n 45 49  2  0\\n 49 41  1  0\\n 49  7  1  0\\n 50 51  3  0\\n 51 52  1  0\\n 52 53  2  0\\n 53 54  1  0\\n 54 55  2  0\\n 55 56  1  0\\n 56 57  1  0\\n 57 58  2  0\\n 57 59  1  0\\n 56 60  2  0\\n 60 52  1  0\\n 60  9  1  0\\n 31 61  1  0\\n 32 62  1  0\\n 42 63  1  0\\n 43 64  1  0\\n 53 65  1  0\\n 54 66  1  0\\nM  CHG  1  24   1\\nM  END\\n\",\"sdf\");\n",
       "\tviewer_168300990308865.setStyle({\"stick\": {\"radius\": 0.2}, \"sphere\": {\"radius\": 0.3}});\n",
       "\tviewer_168300990308865.zoomTo();\n",
       "viewer_168300990308865.render();\n",
       "});\n",
       "</script><script>\n",
       "            $3Dmolpromise.then(function() { //wrap in promise for non-interactive functionality\n",
       "                \n",
       "                viewer_168300990308865.render();\n",
       "            });\n",
       "            </script>"
      ]
     },
     "metadata": {},
     "output_type": "display_data"
    },
    {
     "data": {
      "application/3dmoljs_load.v0": "<div id=\"3dmolviewer_16830099030929134\"  style=\"position: relative; width: 900px; height: 900px\">\n        <p id=\"3dmolwarning_16830099030929134\" style=\"background-color:#ffcccc;color:black\">You appear to be running in JupyterLab (or JavaScript failed to load for some other reason).  You need to install the 3dmol extension: <br>\n        <tt>jupyter labextension install jupyterlab_3dmol</tt></p>\n        </div>\n<script>\n\nvar loadScriptAsync = function(uri){\n  return new Promise((resolve, reject) => {\n    //this is to ignore the existence of requirejs amd\n    var savedexports, savedmodule;\n    if (typeof exports !== 'undefined') savedexports = exports;\n    else exports = {}\n    if (typeof module !== 'undefined') savedmodule = module;\n    else module = {}\n\n    var tag = document.createElement('script');\n    tag.src = uri;\n    tag.async = true;\n    tag.onload = () => {\n        exports = savedexports;\n        module = savedmodule;\n        resolve();\n    };\n  var firstScriptTag = document.getElementsByTagName('script')[0];\n  firstScriptTag.parentNode.insertBefore(tag, firstScriptTag);\n});\n};\n\nif(typeof $3Dmolpromise === 'undefined') {\n$3Dmolpromise = null;\n  $3Dmolpromise = loadScriptAsync('https://cdnjs.cloudflare.com/ajax/libs/3Dmol/2.0.1/3Dmol-min.js');\n}\n\nvar viewer_16830099030929134 = null;\nvar warn = document.getElementById(\"3dmolwarning_16830099030929134\");\nif(warn) {\n    warn.parentNode.removeChild(warn);\n}\n$3Dmolpromise.then(function() {\nviewer_16830099030929134 = $3Dmol.createViewer(document.getElementById(\"3dmolviewer_16830099030929134\"),{backgroundColor:\"white\"});\nviewer_16830099030929134.zoomTo();\n\tviewer_16830099030929134.addModel(\"\\n     RDKit          3D\\n\\n 66 70  0  0  0  0  0  0  0  0999 V2000\\n   -2.9158   -3.6706    2.3192 N   0  0  0  0  0  0  0  0  0  0  0  0\\n   -2.5629   -4.5408    1.1816 C   0  0  0  0  0  0  0  0  0  0  0  0\\n   -2.4069   -5.9618    1.6789 C   0  0  0  0  0  0  0  0  0  0  0  0\\n   -3.5317   -6.2863    2.5997 N   0  0  0  0  0  0  0  0  0  0  0  0\\n   -4.7469   -6.6814    1.8317 C   0  0  0  0  0  0  0  0  0  0  0  0\\n   -5.9777   -6.4198    2.6737 C   0  0  0  0  0  0  0  0  0  0  0  0\\n   -5.8334   -5.1027    3.3191 N   0  0  0  0  0  0  0  0  0  0  0  0\\n   -4.0186   -4.4496    3.7991 Mo  0  0  1  0  0  4  0  0  0  0  0  0\\n   -3.0250   -5.5346    5.1598 N   0  0  0  0  0  0  0  0  0  0  0  0\\n   -2.3292   -6.7424    4.6810 C   0  0  0  0  0  0  0  0  0  0  0  0\\n   -3.1311   -7.3583    3.5535 C   0  0  0  0  0  0  0  0  0  0  0  0\\n   -2.2003   -7.4795    5.4881 H   0  0  0  0  0  0  0  0  0  0  0  0\\n   -1.3155   -6.4577    4.3474 H   0  0  0  0  0  0  0  0  0  0  0  0\\n   -4.0448   -7.8063    3.9634 H   0  0  0  0  0  0  0  0  0  0  0  0\\n   -2.5629   -8.1408    3.0228 H   0  0  0  0  0  0  0  0  0  0  0  0\\n   -6.8761   -6.4585    2.0388 H   0  0  0  0  0  0  0  0  0  0  0  0\\n   -6.1068   -7.1884    3.4568 H   0  0  0  0  0  0  0  0  0  0  0  0\\n   -4.7903   -6.0553    0.9315 H   0  0  0  0  0  0  0  0  0  0  0  0\\n   -4.6712   -7.7377    1.5239 H   0  0  0  0  0  0  0  0  0  0  0  0\\n   -1.6317   -4.2101    0.6983 H   0  0  0  0  0  0  0  0  0  0  0  0\\n   -3.3618   -4.4624    0.4237 H   0  0  0  0  0  0  0  0  0  0  0  0\\n   -1.4727   -6.0410    2.2477 H   0  0  0  0  0  0  0  0  0  0  0  0\\n   -2.3752   -6.6875    0.8490 H   0  0  0  0  0  0  0  0  0  0  0  0\\n   -4.5247   -2.6176    5.0191 N   0  0  0  0  0  4  0  0  0  0  0  0\\n   -4.5138   -2.8292    6.0226 H   0  0  0  0  0  0  0  0  0  0  0  0\\n   -5.4674   -2.2647    4.8169 H   0  0  0  0  0  0  0  0  0  0  0  0\\n   -3.8838   -1.8293    4.8803 H   0  0  0  0  0  0  0  0  0  0  0  0\\n    0.5578   -4.5465    2.6130 N   0  0  0  0  0  0  0  0  0  0  0  0\\n   -0.0805   -3.5718    2.5595 C   0  0  0  0  0  0  0  0  0  0  0  0\\n   -0.8519   -2.3750    2.5154 C   0  0  0  0  0  0  0  0  0  0  0  0\\n   -0.2071   -1.1537    2.6745 C   0  0  0  0  0  0  0  0  0  0  0  0\\n   -0.9819    0.0111    2.7370 C   0  0  0  0  0  0  0  0  0  0  0  0\\n   -2.3030   -0.0033    2.6078 N   0  0  0  0  0  0  0  0  0  0  0  0\\n   -2.9472   -1.1722    2.4488 C   0  0  0  0  0  0  0  0  0  0  0  0\\n   -4.4019   -1.0945    2.2026 C   0  0  0  0  0  0  0  0  0  0  0  0\\n   -5.2006   -1.9940    2.3026 O   0  0  0  0  0  0  0  0  0  0  0  0\\n   -4.9746    0.5214    1.6499 Cl  0  0  0  0  0  0  0  0  0  0  0  0\\n   -2.2845   -2.4464    2.4308 C   0  0  0  0  0  0  0  0  0  0  0  0\\n   -6.4967   -4.4000   -0.0909 N   0  0  0  0  0  0  0  0  0  0  0  0\\n   -6.9865   -4.1457    0.9363 C   0  0  0  0  0  0  0  0  0  0  0  0\\n   -7.5709   -3.8174    2.1947 C   0  0  0  0  0  0  0  0  0  0  0  0\\n   -8.6870   -2.9898    2.2337 C   0  0  0  0  0  0  0  0  0  0  0  0\\n   -9.1846   -2.6063    3.4889 C   0  0  0  0  0  0  0  0  0  0  0  0\\n   -8.6390   -3.0032    4.6283 N   0  0  0  0  0  0  0  0  0  0  0  0\\n   -7.5606   -3.8147    4.6161 C   0  0  0  0  0  0  0  0  0  0  0  0\\n   -7.0296   -4.2407    5.9142 C   0  0  0  0  0  0  0  0  0  0  0  0\\n   -5.9791   -4.8184    6.1074 O   0  0  0  0  0  0  0  0  0  0  0  0\\n   -8.0581   -3.8175    7.3387 Cl  0  0  0  0  0  0  0  0  0  0  0  0\\n   -6.9449   -4.2789    3.3981 C   0  0  0  0  0  0  0  0  0  0  0  0\\n   -4.9110   -8.3466    6.3099 N   0  0  0  0  0  0  0  0  0  0  0  0\\n   -4.3663   -7.4298    6.7819 C   0  0  0  0  0  0  0  0  0  0  0  0\\n   -3.7217   -6.3030    7.3695 C   0  0  0  0  0  0  0  0  0  0  0  0\\n   -3.7998   -6.1161    8.7518 C   0  0  0  0  0  0  0  0  0  0  0  0\\n   -3.2692   -4.9418    9.2908 C   0  0  0  0  0  0  0  0  0  0  0  0\\n   -2.6821   -4.0091    8.5492 N   0  0  0  0  0  0  0  0  0  0  0  0\\n   -2.5693   -4.1879    7.2181 C   0  0  0  0  0  0  0  0  0  0  0  0\\n   -1.8416   -3.1480    6.4627 C   0  0  0  0  0  0  0  0  0  0  0  0\\n   -1.6093   -3.1456    5.2765 O   0  0  0  0  0  0  0  0  0  0  0  0\\n   -1.3142   -1.7255    7.4545 Cl  0  0  0  0  0  0  0  0  0  0  0  0\\n   -3.0852   -5.3372    6.5349 C   0  0  0  0  0  0  0  0  0  0  0  0\\n    0.8776   -1.1137    2.7763 H   0  0  0  0  0  0  0  0  0  0  0  0\\n   -0.5106    0.9860    2.8816 H   0  0  0  0  0  0  0  0  0  0  0  0\\n   -9.1449   -2.6328    1.3113 H   0  0  0  0  0  0  0  0  0  0  0  0\\n  -10.0567   -1.9516    3.5619 H   0  0  0  0  0  0  0  0  0  0  0  0\\n   -4.2916   -6.8566    9.3825 H   0  0  0  0  0  0  0  0  0  0  0  0\\n   -3.3245   -4.7509   10.3655 H   0  0  0  0  0  0  0  0  0  0  0  0\\n 10 11  1  0\\n  2  3  1  0\\n  5  6  1  0\\n 24 27  1  0\\n 24 26  1  0\\n 24 25  1  0\\n 11 15  1  0\\n  5 19  1  0\\n  3 23  1  0\\n  2 20  1  0\\n  5 18  1  0\\n  3 22  1  0\\n 11 14  1  0\\n 10 12  1  0\\n  6 16  1  0\\n  6 17  1  0\\n  2 21  1  0\\n 10 13  1  0\\n  6  7  1  0\\n  1  2  1  0\\n  9 10  1  0\\n  4  5  1  0\\n  3  4  1  0\\n  4 11  1  0\\n  8  7  1  0\\n  8 24  1  1\\n  8  1  1  0\\n  8  9  1  0\\n 28 29  3  0\\n 29 30  1  0\\n 30 31  2  0\\n 31 32  1  0\\n 32 33  2  0\\n 33 34  1  0\\n 34 35  1  0\\n 35 36  2  0\\n 35 37  1  0\\n 34 38  2  0\\n 38 30  1  0\\n 38  1  1  0\\n 39 40  3  0\\n 40 41  1  0\\n 41 42  2  0\\n 42 43  1  0\\n 43 44  2  0\\n 44 45  1  0\\n 45 46  1  0\\n 46 47  2  0\\n 46 48  1  0\\n 45 49  2  0\\n 49 41  1  0\\n 49  7  1  0\\n 50 51  3  0\\n 51 52  1  0\\n 52 53  2  0\\n 53 54  1  0\\n 54 55  2  0\\n 55 56  1  0\\n 56 57  1  0\\n 57 58  2  0\\n 57 59  1  0\\n 56 60  2  0\\n 60 52  1  0\\n 60  9  1  0\\n 31 61  1  0\\n 32 62  1  0\\n 42 63  1  0\\n 43 64  1  0\\n 53 65  1  0\\n 54 66  1  0\\nM  CHG  1  24   1\\nM  END\\n\",\"sdf\");\n\tviewer_16830099030929134.setStyle({\"stick\": {\"radius\": 0.2}, \"sphere\": {\"radius\": 0.3}});\n\tviewer_16830099030929134.zoomTo();\nviewer_16830099030929134.render();\n});\n</script><script>\n            $3Dmolpromise.then(function() { //wrap in promise for non-interactive functionality\n                \n                viewer_16830099030929134.render();\n            });\n            </script>",
      "text/html": [
       "<div id=\"3dmolviewer_16830099030929134\"  style=\"position: relative; width: 900px; height: 900px\">\n",
       "        <p id=\"3dmolwarning_16830099030929134\" style=\"background-color:#ffcccc;color:black\">You appear to be running in JupyterLab (or JavaScript failed to load for some other reason).  You need to install the 3dmol extension: <br>\n",
       "        <tt>jupyter labextension install jupyterlab_3dmol</tt></p>\n",
       "        </div>\n",
       "<script>\n",
       "\n",
       "var loadScriptAsync = function(uri){\n",
       "  return new Promise((resolve, reject) => {\n",
       "    //this is to ignore the existence of requirejs amd\n",
       "    var savedexports, savedmodule;\n",
       "    if (typeof exports !== 'undefined') savedexports = exports;\n",
       "    else exports = {}\n",
       "    if (typeof module !== 'undefined') savedmodule = module;\n",
       "    else module = {}\n",
       "\n",
       "    var tag = document.createElement('script');\n",
       "    tag.src = uri;\n",
       "    tag.async = true;\n",
       "    tag.onload = () => {\n",
       "        exports = savedexports;\n",
       "        module = savedmodule;\n",
       "        resolve();\n",
       "    };\n",
       "  var firstScriptTag = document.getElementsByTagName('script')[0];\n",
       "  firstScriptTag.parentNode.insertBefore(tag, firstScriptTag);\n",
       "});\n",
       "};\n",
       "\n",
       "if(typeof $3Dmolpromise === 'undefined') {\n",
       "$3Dmolpromise = null;\n",
       "  $3Dmolpromise = loadScriptAsync('https://cdnjs.cloudflare.com/ajax/libs/3Dmol/2.0.1/3Dmol-min.js');\n",
       "}\n",
       "\n",
       "var viewer_16830099030929134 = null;\n",
       "var warn = document.getElementById(\"3dmolwarning_16830099030929134\");\n",
       "if(warn) {\n",
       "    warn.parentNode.removeChild(warn);\n",
       "}\n",
       "$3Dmolpromise.then(function() {\n",
       "viewer_16830099030929134 = $3Dmol.createViewer(document.getElementById(\"3dmolviewer_16830099030929134\"),{backgroundColor:\"white\"});\n",
       "viewer_16830099030929134.zoomTo();\n",
       "\tviewer_16830099030929134.addModel(\"\\n     RDKit          3D\\n\\n 66 70  0  0  0  0  0  0  0  0999 V2000\\n   -2.9158   -3.6706    2.3192 N   0  0  0  0  0  0  0  0  0  0  0  0\\n   -2.5629   -4.5408    1.1816 C   0  0  0  0  0  0  0  0  0  0  0  0\\n   -2.4069   -5.9618    1.6789 C   0  0  0  0  0  0  0  0  0  0  0  0\\n   -3.5317   -6.2863    2.5997 N   0  0  0  0  0  0  0  0  0  0  0  0\\n   -4.7469   -6.6814    1.8317 C   0  0  0  0  0  0  0  0  0  0  0  0\\n   -5.9777   -6.4198    2.6737 C   0  0  0  0  0  0  0  0  0  0  0  0\\n   -5.8334   -5.1027    3.3191 N   0  0  0  0  0  0  0  0  0  0  0  0\\n   -4.0186   -4.4496    3.7991 Mo  0  0  1  0  0  4  0  0  0  0  0  0\\n   -3.0250   -5.5346    5.1598 N   0  0  0  0  0  0  0  0  0  0  0  0\\n   -2.3292   -6.7424    4.6810 C   0  0  0  0  0  0  0  0  0  0  0  0\\n   -3.1311   -7.3583    3.5535 C   0  0  0  0  0  0  0  0  0  0  0  0\\n   -2.2003   -7.4795    5.4881 H   0  0  0  0  0  0  0  0  0  0  0  0\\n   -1.3155   -6.4577    4.3474 H   0  0  0  0  0  0  0  0  0  0  0  0\\n   -4.0448   -7.8063    3.9634 H   0  0  0  0  0  0  0  0  0  0  0  0\\n   -2.5629   -8.1408    3.0228 H   0  0  0  0  0  0  0  0  0  0  0  0\\n   -6.8761   -6.4585    2.0388 H   0  0  0  0  0  0  0  0  0  0  0  0\\n   -6.1068   -7.1884    3.4568 H   0  0  0  0  0  0  0  0  0  0  0  0\\n   -4.7903   -6.0553    0.9315 H   0  0  0  0  0  0  0  0  0  0  0  0\\n   -4.6712   -7.7377    1.5239 H   0  0  0  0  0  0  0  0  0  0  0  0\\n   -1.6317   -4.2101    0.6983 H   0  0  0  0  0  0  0  0  0  0  0  0\\n   -3.3618   -4.4624    0.4237 H   0  0  0  0  0  0  0  0  0  0  0  0\\n   -1.4727   -6.0410    2.2477 H   0  0  0  0  0  0  0  0  0  0  0  0\\n   -2.3752   -6.6875    0.8490 H   0  0  0  0  0  0  0  0  0  0  0  0\\n   -4.5247   -2.6176    5.0191 N   0  0  0  0  0  4  0  0  0  0  0  0\\n   -4.5138   -2.8292    6.0226 H   0  0  0  0  0  0  0  0  0  0  0  0\\n   -5.4674   -2.2647    4.8169 H   0  0  0  0  0  0  0  0  0  0  0  0\\n   -3.8838   -1.8293    4.8803 H   0  0  0  0  0  0  0  0  0  0  0  0\\n    0.5578   -4.5465    2.6130 N   0  0  0  0  0  0  0  0  0  0  0  0\\n   -0.0805   -3.5718    2.5595 C   0  0  0  0  0  0  0  0  0  0  0  0\\n   -0.8519   -2.3750    2.5154 C   0  0  0  0  0  0  0  0  0  0  0  0\\n   -0.2071   -1.1537    2.6745 C   0  0  0  0  0  0  0  0  0  0  0  0\\n   -0.9819    0.0111    2.7370 C   0  0  0  0  0  0  0  0  0  0  0  0\\n   -2.3030   -0.0033    2.6078 N   0  0  0  0  0  0  0  0  0  0  0  0\\n   -2.9472   -1.1722    2.4488 C   0  0  0  0  0  0  0  0  0  0  0  0\\n   -4.4019   -1.0945    2.2026 C   0  0  0  0  0  0  0  0  0  0  0  0\\n   -5.2006   -1.9940    2.3026 O   0  0  0  0  0  0  0  0  0  0  0  0\\n   -4.9746    0.5214    1.6499 Cl  0  0  0  0  0  0  0  0  0  0  0  0\\n   -2.2845   -2.4464    2.4308 C   0  0  0  0  0  0  0  0  0  0  0  0\\n   -6.4967   -4.4000   -0.0909 N   0  0  0  0  0  0  0  0  0  0  0  0\\n   -6.9865   -4.1457    0.9363 C   0  0  0  0  0  0  0  0  0  0  0  0\\n   -7.5709   -3.8174    2.1947 C   0  0  0  0  0  0  0  0  0  0  0  0\\n   -8.6870   -2.9898    2.2337 C   0  0  0  0  0  0  0  0  0  0  0  0\\n   -9.1846   -2.6063    3.4889 C   0  0  0  0  0  0  0  0  0  0  0  0\\n   -8.6390   -3.0032    4.6283 N   0  0  0  0  0  0  0  0  0  0  0  0\\n   -7.5606   -3.8147    4.6161 C   0  0  0  0  0  0  0  0  0  0  0  0\\n   -7.0296   -4.2407    5.9142 C   0  0  0  0  0  0  0  0  0  0  0  0\\n   -5.9791   -4.8184    6.1074 O   0  0  0  0  0  0  0  0  0  0  0  0\\n   -8.0581   -3.8175    7.3387 Cl  0  0  0  0  0  0  0  0  0  0  0  0\\n   -6.9449   -4.2789    3.3981 C   0  0  0  0  0  0  0  0  0  0  0  0\\n   -4.9110   -8.3466    6.3099 N   0  0  0  0  0  0  0  0  0  0  0  0\\n   -4.3663   -7.4298    6.7819 C   0  0  0  0  0  0  0  0  0  0  0  0\\n   -3.7217   -6.3030    7.3695 C   0  0  0  0  0  0  0  0  0  0  0  0\\n   -3.7998   -6.1161    8.7518 C   0  0  0  0  0  0  0  0  0  0  0  0\\n   -3.2692   -4.9418    9.2908 C   0  0  0  0  0  0  0  0  0  0  0  0\\n   -2.6821   -4.0091    8.5492 N   0  0  0  0  0  0  0  0  0  0  0  0\\n   -2.5693   -4.1879    7.2181 C   0  0  0  0  0  0  0  0  0  0  0  0\\n   -1.8416   -3.1480    6.4627 C   0  0  0  0  0  0  0  0  0  0  0  0\\n   -1.6093   -3.1456    5.2765 O   0  0  0  0  0  0  0  0  0  0  0  0\\n   -1.3142   -1.7255    7.4545 Cl  0  0  0  0  0  0  0  0  0  0  0  0\\n   -3.0852   -5.3372    6.5349 C   0  0  0  0  0  0  0  0  0  0  0  0\\n    0.8776   -1.1137    2.7763 H   0  0  0  0  0  0  0  0  0  0  0  0\\n   -0.5106    0.9860    2.8816 H   0  0  0  0  0  0  0  0  0  0  0  0\\n   -9.1449   -2.6328    1.3113 H   0  0  0  0  0  0  0  0  0  0  0  0\\n  -10.0567   -1.9516    3.5619 H   0  0  0  0  0  0  0  0  0  0  0  0\\n   -4.2916   -6.8566    9.3825 H   0  0  0  0  0  0  0  0  0  0  0  0\\n   -3.3245   -4.7509   10.3655 H   0  0  0  0  0  0  0  0  0  0  0  0\\n 10 11  1  0\\n  2  3  1  0\\n  5  6  1  0\\n 24 27  1  0\\n 24 26  1  0\\n 24 25  1  0\\n 11 15  1  0\\n  5 19  1  0\\n  3 23  1  0\\n  2 20  1  0\\n  5 18  1  0\\n  3 22  1  0\\n 11 14  1  0\\n 10 12  1  0\\n  6 16  1  0\\n  6 17  1  0\\n  2 21  1  0\\n 10 13  1  0\\n  6  7  1  0\\n  1  2  1  0\\n  9 10  1  0\\n  4  5  1  0\\n  3  4  1  0\\n  4 11  1  0\\n  8  7  1  0\\n  8 24  1  1\\n  8  1  1  0\\n  8  9  1  0\\n 28 29  3  0\\n 29 30  1  0\\n 30 31  2  0\\n 31 32  1  0\\n 32 33  2  0\\n 33 34  1  0\\n 34 35  1  0\\n 35 36  2  0\\n 35 37  1  0\\n 34 38  2  0\\n 38 30  1  0\\n 38  1  1  0\\n 39 40  3  0\\n 40 41  1  0\\n 41 42  2  0\\n 42 43  1  0\\n 43 44  2  0\\n 44 45  1  0\\n 45 46  1  0\\n 46 47  2  0\\n 46 48  1  0\\n 45 49  2  0\\n 49 41  1  0\\n 49  7  1  0\\n 50 51  3  0\\n 51 52  1  0\\n 52 53  2  0\\n 53 54  1  0\\n 54 55  2  0\\n 55 56  1  0\\n 56 57  1  0\\n 57 58  2  0\\n 57 59  1  0\\n 56 60  2  0\\n 60 52  1  0\\n 60  9  1  0\\n 31 61  1  0\\n 32 62  1  0\\n 42 63  1  0\\n 43 64  1  0\\n 53 65  1  0\\n 54 66  1  0\\nM  CHG  1  24   1\\nM  END\\n\",\"sdf\");\n",
       "\tviewer_16830099030929134.setStyle({\"stick\": {\"radius\": 0.2}, \"sphere\": {\"radius\": 0.3}});\n",
       "\tviewer_16830099030929134.zoomTo();\n",
       "viewer_16830099030929134.render();\n",
       "});\n",
       "</script><script>\n",
       "            $3Dmolpromise.then(function() { //wrap in promise for non-interactive functionality\n",
       "                \n",
       "                viewer_16830099030929134.render();\n",
       "            });\n",
       "            </script>"
      ]
     },
     "metadata": {},
     "output_type": "display_data"
    }
   ],
   "source": [
    "draw_mol(conf[idx].optimized_pbe_mol1)\n",
    "draw_mol(conf[idx].optimized_pbe_mol2)"
   ]
  },
  {
   "cell_type": "markdown",
   "id": "fec1a3a9-6ddb-4f07-8798-0e149ef99c9d",
   "metadata": {},
   "source": [
    "CC(C)(N)CCC1CCCCC1interaction# Debug lines"
   ]
  },
  {
   "cell_type": "code",
   "execution_count": null,
   "id": "726abad7-b990-4cc3-9ce9-559334210096",
   "metadata": {},
   "outputs": [],
   "source": []
  },
  {
   "cell_type": "code",
   "execution_count": null,
   "id": "07513a59-598d-49fe-a6e0-a6e02b23cb6c",
   "metadata": {},
   "outputs": [],
   "source": []
  }
 ],
 "metadata": {
  "kernelspec": {
   "display_name": "Python 3 (ipykernel)",
   "language": "python",
   "name": "python3"
  },
  "language_info": {
   "codemirror_mode": {
    "name": "ipython",
    "version": 3
   },
   "file_extension": ".py",
   "mimetype": "text/x-python",
   "name": "python",
   "nbconvert_exporter": "python",
   "pygments_lexer": "ipython3",
   "version": "3.11.4"
  }
 },
 "nbformat": 4,
 "nbformat_minor": 5
}
