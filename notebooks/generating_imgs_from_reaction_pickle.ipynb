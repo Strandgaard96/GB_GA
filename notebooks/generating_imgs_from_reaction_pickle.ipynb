{
 "cells": [
  {
   "cell_type": "code",
   "execution_count": 574,
   "id": "ac5047be-e8f9-416e-89e6-b19b5474c41c",
   "metadata": {},
   "outputs": [],
   "source": [
    "# improts\n",
    "import sys\n",
    "import os\n",
    "import numpy as np\n",
    "import matplotlib.pyplot as plt\n",
    "import re\n",
    "from pathlib import Path\n",
    "from glob import glob\n",
    "import pickle\n",
    "import shutil\n",
    "import json\n",
    "import io\n",
    "import pandas as pd\n",
    "from pathlib import Path\n",
    "from rdkit import Chem\n",
    "from rdkit.Chem import AllChem\n",
    "from rdkit.Chem import Draw\n",
    "from rdkit.Chem.Draw import IPythonConsole, MolsToGridImage\n",
    "from rdkit.Chem.rdMolDescriptors import CalcNumRotatableBonds\n",
    "import py3Dmol\n",
    "import copy\n",
    "\n",
    "from rdkit.Geometry import Point3D\n",
    "\n",
    "module_path = os.path.abspath(os.path.join('..'))\n",
    "sys.path.append(module_path)\n",
    "\n",
    "import pickle\n",
    "from support_mvp.backup_plot_diagram.data_handler import renamed_load\n",
    "\n",
    "# For highlight colors\n",
    "from matplotlib.colors import ColorConverter\n",
    "import matplotlib.ticker as mticker\n",
    "\n",
    "# Stuff for changing rdkit drawing view: \n",
    "#IPythonConsole.drawOptions.addAtomIndices = True\n",
    "#IPythonConsole.molSize = 500,500\n",
    "#IPythonConsole.drawOptions.addAtomIndices = True\n",
    "\n",
    "font = {'weight' : 'bold',\n",
    "        'size'   : 12}\n",
    "plt.rc('font', **font)\n",
    "\n",
    "HARTREE2EV = 27.2114\n",
    "HARTREE2KCAL = 627.51\n",
    "kcal = 627.51\n",
    "ev = 27.2114\n",
    "\n",
    "\n",
    "# Alternate way \n",
    "#with open('benzene.svg','w') as f:\n",
    "#    f.write(img.data)\n",
    "#img = Chem.Draw.MolsToGridImage([m], useSVG=True)\n",
    "    "
   ]
  },
  {
   "cell_type": "code",
   "execution_count": 575,
   "id": "e5a35652-15e8-4155-9d37-fa1b68c5749c",
   "metadata": {},
   "outputs": [],
   "source": [
    "dft_base = Path('/home/magstr/dft_data')\n",
    "img_dir = Path('imgs')"
   ]
  },
  {
   "cell_type": "markdown",
   "id": "4b3b59bc-4e96-4a44-a8f4-1477d16dcf8f",
   "metadata": {},
   "source": [
    "### Functions"
   ]
  },
  {
   "cell_type": "code",
   "execution_count": 576,
   "id": "73453348-c970-4632-946b-37a0a56d0bd6",
   "metadata": {},
   "outputs": [],
   "source": [
    "def draw_mol(\n",
    "    mol,\n",
    "    width=900,\n",
    "    height=900,\n",
    "    Hs=False,\n",
    "    confId=-1,\n",
    "    multipleConfs=False,\n",
    "    atomlabel=False,\n",
    "    hit_ats=None,\n",
    "    gen_struct=None,\n",
    "    trajectory=False,\n",
    "):\n",
    "    p = py3Dmol.view(width=width, height=height)\n",
    "    \n",
    "    if isinstance(mol, str):\n",
    "        xyz_f = open(mol)\n",
    "        line = xyz_f.read()\n",
    "        xyz_f.close()\n",
    "        p.addModel(line, \"xyz\")\n",
    "    else:\n",
    "        if multipleConfs:\n",
    "            for conf in mol.GetConformers():\n",
    "                mb = Chem.MolToMolBlock(mol, confId=conf.GetId())\n",
    "                p.addModel(mb, \"sdf\")\n",
    "        else:\n",
    "            mb = Chem.MolToMolBlock(mol)\n",
    "            p.addModel(mb, \"sdf\")\n",
    "        \n",
    "    p.setStyle({\"stick\": {\"radius\": 0.2}, \"sphere\":\n",
    "                {\"radius\": 0.3}})\n",
    "    if atomlabel:\n",
    "        p.addPropertyLabels(\"index\")  # ,{'elem':'H'}\n",
    "    p.zoomTo()\n",
    "    p.update()"
   ]
  },
  {
   "cell_type": "code",
   "execution_count": 577,
   "id": "9f3cb084-e8f1-403f-856f-4f29398b271d",
   "metadata": {},
   "outputs": [],
   "source": [
    "def single_atom_remover(mol, idx):\n",
    "    \"\"\"Function that removes an atom at specified idx.\n",
    "\n",
    "    Args:\n",
    "        mol (Chem.rdchem.Mol): The mol to remove substruct on\n",
    "        pattern (Chem.rdchem.Mol): mol object to remove from the input mol\n",
    "\n",
    "    Returns:\n",
    "        Chem.rdchem.Mol: The ouput mol with the atom removed\n",
    "    \"\"\"\n",
    "    res = Chem.RWMol(mol)\n",
    "    res.BeginBatchEdit()\n",
    "    res.RemoveAtom(idx)\n",
    "    res.CommitBatchEdit()\n",
    "    Chem.SanitizeMol(res)\n",
    "    return res.GetMol()"
   ]
  },
  {
   "cell_type": "code",
   "execution_count": 578,
   "id": "1dad8dfa-8fe6-4b8c-bae4-0bd417f589b3",
   "metadata": {},
   "outputs": [],
   "source": [
    "def remove_NH3(mol):\n",
    "    \"\"\"Remove NH3 group on mol.\"\"\"\n",
    "\n",
    "    # Substructure match the NH3\n",
    "    NH3_match = Chem.MolFromSmarts(\"[NH3]\")\n",
    "    NH3_match = Chem.AddHs(NH3_match)\n",
    "    removed_mol = Chem.DeleteSubstructs(mol, NH3_match)\n",
    "\n",
    "    return removed_mol"
   ]
  },
  {
   "cell_type": "markdown",
   "id": "8eeee907-b83f-4a54-bdd5-5968cd5e5c2f",
   "metadata": {
    "tags": []
   },
   "source": [
    "## Core images"
   ]
  },
  {
   "cell_type": "code",
   "execution_count": 579,
   "id": "9c66250a-2f90-4960-826b-fafd10803bcc",
   "metadata": {},
   "outputs": [],
   "source": [
    "converged_file = Path('../data/converged_reaction_profiles.pkl')\n",
    "\n",
    "with open(converged_file, \"rb\") as f:\n",
    "    conf = pickle.load(f)"
   ]
  },
  {
   "cell_type": "code",
   "execution_count": 580,
   "id": "b5578efe-0ff1-47b9-a824-0c5fb30ce737",
   "metadata": {},
   "outputs": [
    {
     "name": "stdout",
     "output_type": "stream",
     "text": [
      "CCCN1CCCC(N)(C2CCCC2)C1\n",
      "CCCOC(=O)NCC1(N)CCCCC1\n",
      "C=C(C)CC(C)(C)N\n",
      "CC(=O)c1cc(O)c(C(=O)CN)cc1O\n",
      "CC(=O)c1ccc(F)c(C(=O)CN)c1\n",
      "CC(=O)c1ccc(F)c(C(=O)N=CN)c1\n",
      "N#Cc1ccnc(C#N)c1N\n",
      "N#Cc1ccnc(C(=O)Cl)c1N\n",
      "N#Cc1cnc(C#N)c(N)c1\n",
      "N#Cc1ncc(C(=O)CO)cc1N\n",
      "N#Cc1ncc(CC(=O)O)cc1N\n",
      "NC1(CCCCCl)CCCCC1\n",
      "NC=NC(=O)c1cccc(Br)c1\n",
      "NCC=Cc1ncnc2ccccc12\n",
      "NCCc1ncnc2ccccc12\n",
      "Nc1ccccc1N=CC(=O)Cl\n",
      "NCCCOc1ccnc2cccnc12\n",
      "NCCCOc1ncnc2cccnc12\n",
      "NCCCc1ncnc2ccccc12\n",
      "NCCOC(=O)c1ncnc2ccccc12\n",
      "CC(=O)Nc1ccc(F)c(C(=O)Cc2ccnc(N)c2)c1\n",
      "CC(C)(N)CCC1CCCCC1\n",
      "CC(N)Cc1ccc(CCl)cc1\n",
      "CC(N)Cc1ccc(Cc2ccccc2)cc1\n"
     ]
    }
   ],
   "source": [
    "for i in conf:\n",
    "    print(i.smiles)"
   ]
  },
  {
   "cell_type": "code",
   "execution_count": 581,
   "id": "3dd29bec-b9f4-4b74-b529-3b3ca38acfc0",
   "metadata": {},
   "outputs": [],
   "source": [
    "# My candidate molecules so far\n",
    "# C1 2\n",
    "# C2 -5 \n",
    "# C3 9 \n",
    "# C4 -7\n",
    "# C5 -1 \n",
    "# C6 -3\n",
    "# C7 -2\n",
    "# C8 8 \n",
    "# C9 6\n",
    "# C10 7 \n",
    "# C11 1\n",
    "# C12 -4"
   ]
  },
  {
   "cell_type": "code",
   "execution_count": 557,
   "id": "e7c220fe-cd13-4890-bb4f-5e5f729256d8",
   "metadata": {
    "tags": []
   },
   "outputs": [],
   "source": [
    "# Replace tricky primary amines in the frag:\n",
    "prim_match = Chem.MolFromSmarts(\"[NX3;H2]\")\n",
    "rm = Chem.ReplaceSubstructs(\n",
    "                            conf[idx].rdkit_mol,\n",
    "                            prim_match,\n",
    "                            Chem.MolFromSmiles(\"[1*]\"),\n",
    "                            replaceAll=True,\n",
    "                        )[0]\n",
    "rm\n",
    "Chem.Draw.MolToFile(rm, img_dir/'tmp.svg')"
   ]
  },
  {
   "cell_type": "code",
   "execution_count": 558,
   "id": "09d3cdb3-7cb5-47a0-8532-ae103441e5ce",
   "metadata": {},
   "outputs": [],
   "source": [
    "with open('coordinates.xyz', \"w+\") as f:\n",
    "    f.write(Chem.MolToXYZBlock(conf[idx].optimized_mol2))"
   ]
  },
  {
   "cell_type": "code",
   "execution_count": 559,
   "id": "3bb347fa-03fb-40e3-99f9-1cc16eda748d",
   "metadata": {},
   "outputs": [],
   "source": [
    "scoring_to_keys = {'rdkit_embed_scoring':('Mo_N2_NH3', 'Mo_NH3'),'rdkit_embed_scoring_NH3toN2':('Mo_NH3', 'Mo_N2'),'rdkit_embed_scoring_NH3plustoNH3':('Mo_NH3+', 'Mo_NH3')}"
   ]
  },
  {
   "cell_type": "code",
   "execution_count": 560,
   "id": "b3c79ac4-1189-46e2-be5e-7253f20fd691",
   "metadata": {},
   "outputs": [],
   "source": [
    "def correct_lines(xyz_coordinates, key):\n",
    "    \n",
    "    if key =='Mo_N2_NH3':\n",
    "        \n",
    "        xyz_coordinates.insert(23,xyz_coordinates.pop(-6))\n",
    "        xyz_coordinates.insert(24,xyz_coordinates.pop(-5))\n",
    "        xyz_coordinates.insert(25,xyz_coordinates.pop(-4))\n",
    "        xyz_coordinates.insert(26,xyz_coordinates.pop(-3))\n",
    "        xyz_coordinates.insert(27,xyz_coordinates.pop(-2))\n",
    "        xyz_coordinates.insert(28,xyz_coordinates.pop(-1))\n",
    "    elif key =='Mo_N2':\n",
    "        pass\n",
    "    elif (key == 'Mo_NH3') | (key == 'Mo_NH3+'):\n",
    "        xyz_coordinates.insert(23,xyz_coordinates.pop(-4))\n",
    "        xyz_coordinates.insert(24,xyz_coordinates.pop(-3))\n",
    "        xyz_coordinates.insert(25,xyz_coordinates.pop(-2))\n",
    "        xyz_coordinates.insert(26,xyz_coordinates.pop(-1))\n",
    "    return xyz_coordinates"
   ]
  },
  {
   "cell_type": "code",
   "execution_count": 561,
   "id": "b1668fea-f9bd-4a14-a001-d06bfe6926d6",
   "metadata": {},
   "outputs": [],
   "source": [
    "def lines_to_xyz(file):\n",
    "    \n",
    "    atomic_symbols = []\n",
    "    xyz_coordinates = []\n",
    "    for line_number, line in enumerate(file):\n",
    "        if line_number == 0:\n",
    "            num_atoms = int(line)\n",
    "        elif line_number == 1:\n",
    "            comment = line  # might have useful information\n",
    "        else:\n",
    "            atomic_symbol, x, y, z = line.split()\n",
    "            atomic_symbols.append(atomic_symbol)\n",
    "            xyz_coordinates.append([float(x), float(y), float(z)])\n",
    "    \n",
    "    return xyz_coordinates"
   ]
  },
  {
   "cell_type": "code",
   "execution_count": 562,
   "id": "0c466933-ca6f-4ab6-8ad1-4fe05a4ae1d2",
   "metadata": {},
   "outputs": [],
   "source": [
    "def fix_xyz_lines(mol, keys):\n",
    "\n",
    "\n",
    "    file = conf[idx].reaction_profile_final_structs[keys[0]]\n",
    "\n",
    "    xyz_coordinates = lines_to_xyz(file)\n",
    "\n",
    "    mol = copy.deepcopy(conf[idx].optimized_mol1)\n",
    "    mol.RemoveAllConformers()\n",
    "\n",
    "    xyz_coordinates = correct_lines(xyz_coordinates, keys[0])\n",
    "\n",
    "    # from https://github.com/rdkit/rdkit/issues/2413\n",
    "    conformer = Chem.Conformer()\n",
    "    # in principal, you should check that the atoms match\n",
    "    for i in range(mol.GetNumAtoms()):\n",
    "        x, y, z = xyz_coordinates[i]\n",
    "        conformer.SetAtomPosition(i, Point3D(x, y, z))\n",
    "    mol.AddConformer(conformer, assignId=True)\n",
    "    conf[idx].optimized_pbe_mol1 = mol \n",
    "    \n",
    "    \n",
    "    file = conf[idx].reaction_profile_final_structs[keys[1]]\n",
    "    xyz_coordinates = lines_to_xyz(file)\n",
    "    mol = copy.deepcopy(conf[idx].optimized_mol2)\n",
    "    mol.RemoveAllConformers()\n",
    "\n",
    "    correct_lines(xyz_coordinates, keys[1])\n",
    "\n",
    "    # from https://github.com/rdkit/rdkit/issues/2413\n",
    "    conformer = Chem.Conformer()\n",
    "    # in principal, you should check that the atoms match\n",
    "    for i in range(mol.GetNumAtoms()):\n",
    "        x, y, z = xyz_coordinates[i]\n",
    "        conformer.SetAtomPosition(i, Point3D(x, y, z))\n",
    "    mol.AddConformer(conformer, assignId=True)\n",
    "    conf[idx].optimized_pbe_mol2 = mol \n",
    "    \n",
    "\n",
    "    return mol"
   ]
  },
  {
   "cell_type": "code",
   "execution_count": 582,
   "id": "00def72d-48df-46d2-8730-1f2e7f70098e",
   "metadata": {},
   "outputs": [
    {
     "data": {
      "image/png": "[encoded data removed]",
      "text/plain": [
       "<rdkit.Chem.rdchem.Mol at 0x7f3f366cba80>"
      ]
     },
     "execution_count": 582,
     "metadata": {},
     "output_type": "execute_result"
    }
   ],
   "source": [
    "idx = -5\n",
    "fix_xyz_lines(conf[idx], scoring_to_keys[conf[idx].scoring_function])"
   ]
  },
  {
   "cell_type": "code",
   "execution_count": 583,
   "id": "96cfc424-065b-4681-98e2-ec561d9c1365",
   "metadata": {},
   "outputs": [
    {
     "data": {
      "application/3dmoljs_load.v0": "<div id=\"3dmolviewer_1678283030712996\"  style=\"position: relative; width: 900px; height: 900px\">\n        <p id=\"3dmolwarning_1678283030712996\" style=\"background-color:#ffcccc;color:black\">You appear to be running in JupyterLab (or JavaScript failed to load for some other reason).  You need to install the 3dmol extension: <br>\n        <tt>jupyter labextension install jupyterlab_3dmol</tt></p>\n        </div>\n<script>\n\nvar loadScriptAsync = function(uri){\n  return new Promise((resolve, reject) => {\n    //this is to ignore the existence of requirejs amd\n    var savedexports, savedmodule;\n    if (typeof exports !== 'undefined') savedexports = exports;\n    else exports = {}\n    if (typeof module !== 'undefined') savedmodule = module;\n    else module = {}\n\n    var tag = document.createElement('script');\n    tag.src = uri;\n    tag.async = true;\n    tag.onload = () => {\n        exports = savedexports;\n        module = savedmodule;\n        resolve();\n    };\n  var firstScriptTag = document.getElementsByTagName('script')[0];\n  firstScriptTag.parentNode.insertBefore(tag, firstScriptTag);\n});\n};\n\nif(typeof $3Dmolpromise === 'undefined') {\n$3Dmolpromise = null;\n  $3Dmolpromise = loadScriptAsync('https://cdnjs.cloudflare.com/ajax/libs/3Dmol/2.0.1/3Dmol-min.js');\n}\n\nvar viewer_1678283030712996 = null;\nvar warn = document.getElementById(\"3dmolwarning_1678283030712996\");\nif(warn) {\n    warn.parentNode.removeChild(warn);\n}\n$3Dmolpromise.then(function() {\nviewer_1678283030712996 = $3Dmol.createViewer(document.getElementById(\"3dmolviewer_1678283030712996\"),{backgroundColor:\"white\"});\nviewer_1678283030712996.zoomTo();\n\tviewer_1678283030712996.addModel(\"\\n     RDKit          3D\\n\\n101108  0  0  0  0  0  0  0  0999 V2000\\n   -2.3146    3.5082    6.3543 N   0  0  0  0  0  0  0  0  0  0  0  0\\n   -2.5246    1.6828    5.5157 Mo  0  0  0  0  0  5  0  0  0  0  0  0\\n   -2.8285    0.5426    7.0979 N   0  0  0  0  0  0  0  0  0  0  0  0\\n   -1.6904    0.2548    7.9717 C   0  0  0  0  0  0  0  0  0  0  0  0\\n   -0.6265    1.3330    7.8155 C   0  0  0  0  0  0  0  0  0  0  0  0\\n   -0.4329    1.6486    6.3738 N   0  0  0  0  0  0  0  0  0  0  0  0\\n    0.0801    3.0185    6.1521 C   0  0  0  0  0  0  0  0  0  0  0  0\\n   -0.9808    4.0409    6.5723 C   0  0  0  0  0  0  0  0  0  0  0  0\\n    0.3881    0.6157    5.6877 C   0  0  0  0  0  0  0  0  0  0  0  0\\n   -0.1641    0.4161    4.2727 C   0  0  0  0  0  0  0  0  0  0  0  0\\n   -1.6060    0.2777    4.3543 N   0  0  0  0  0  0  0  0  0  0  0  0\\n   -0.8026    4.9828    6.0165 H   0  0  0  0  0  0  0  0  0  0  0  0\\n   -0.8555    4.2983    7.6457 H   0  0  0  0  0  0  0  0  0  0  0  0\\n    0.2945    3.1043    5.0781 H   0  0  0  0  0  0  0  0  0  0  0  0\\n    1.0274    3.1890    6.6978 H   0  0  0  0  0  0  0  0  0  0  0  0\\n    0.3124   -0.4648    3.8064 H   0  0  0  0  0  0  0  0  0  0  0  0\\n    0.1151    1.2811    3.6437 H   0  0  0  0  0  0  0  0  0  0  0  0\\n    0.2715   -0.3243    6.2444 H   0  0  0  0  0  0  0  0  0  0  0  0\\n    1.4573    0.8935    5.7032 H   0  0  0  0  0  0  0  0  0  0  0  0\\n   -1.9928    0.2219    9.0356 H   0  0  0  0  0  0  0  0  0  0  0  0\\n   -1.2742   -0.7494    7.7446 H   0  0  0  0  0  0  0  0  0  0  0  0\\n   -0.9747    2.2494    8.3076 H   0  0  0  0  0  0  0  0  0  0  0  0\\n    0.3288    1.0311    8.2808 H   0  0  0  0  0  0  0  0  0  0  0  0\\n   -2.0646    2.9784    3.5440 N   0  0  0  0  0  4  0  0  0  0  0  0\\n   -1.3219    2.6230    2.9373 H   0  0  0  0  0  0  0  0  0  0  0  0\\n   -1.8670    3.9618    3.7536 H   0  0  0  0  0  0  0  0  0  0  0  0\\n   -2.9192    2.9732    2.9803 H   0  0  0  0  0  0  0  0  0  0  0  0\\n   -4.3481    1.5767    4.8632 N   0  0  0  0  0  4  0  0  0  0  0  0\\n   -5.4264    1.4556    4.4797 N   0  0  0  0  0  0  0  0  0  0  0  0\\n   -3.3339    4.1580    7.1475 C   0  0  0  0  0  0  0  0  0  0  0  0\\n   -3.6608    5.5948    6.7345 C   0  0  0  0  0  0  0  0  0  0  0  0\\n   -4.4734    5.6113    5.5324 O   0  0  0  0  0  0  0  0  0  0  0  0\\n   -3.8649    5.7867    4.3561 C   0  0  0  0  0  0  0  0  0  0  0  0\\n   -2.6691    6.0028    4.1947 O   0  0  0  0  0  0  0  0  0  0  0  0\\n   -4.8674    5.6995    3.2306 C   0  0  0  0  0  0  0  0  0  0  0  0\\n   -5.8119    4.7796    3.3639 N   0  0  0  0  0  0  0  0  0  0  0  0\\n   -6.7395    4.6998    2.3765 C   0  0  0  0  0  0  0  0  0  0  0  0\\n   -6.8388    5.4768    1.3141 N   0  0  0  0  0  0  0  0  0  0  0  0\\n   -5.8635    6.4165    1.1534 C   0  0  0  0  0  0  0  0  0  0  0  0\\n   -5.9065    7.2597    0.0152 C   0  0  0  0  0  0  0  0  0  0  0  0\\n   -4.9232    8.2056   -0.1814 C   0  0  0  0  0  0  0  0  0  0  0  0\\n   -3.8675    8.3511    0.7508 C   0  0  0  0  0  0  0  0  0  0  0  0\\n   -3.7992    7.5503    1.8719 C   0  0  0  0  0  0  0  0  0  0  0  0\\n   -4.7934    6.5636    2.0981 C   0  0  0  0  0  0  0  0  0  0  0  0\\n   -2.1111   -1.0832    4.3470 C   0  0  0  0  0  0  0  0  0  0  0  0\\n   -2.3976   -1.6379    2.9491 C   0  0  0  0  0  0  0  0  0  0  0  0\\n   -3.3912   -0.8553    2.2452 O   0  0  0  0  0  0  0  0  0  0  0  0\\n   -4.6849   -1.0524    2.6082 C   0  0  0  0  0  0  0  0  0  0  0  0\\n   -5.0352   -1.8676    3.4385 O   0  0  0  0  0  0  0  0  0  0  0  0\\n   -5.6403   -0.1811    1.8237 C   0  0  0  0  0  0  0  0  0  0  0  0\\n   -6.8904   -0.6363    1.8519 N   0  0  0  0  0  0  0  0  0  0  0  0\\n   -7.8209    0.0500    1.1545 C   0  0  0  0  0  0  0  0  0  0  0  0\\n   -7.6426    1.1331    0.4190 N   0  0  0  0  0  0  0  0  0  0  0  0\\n   -6.3683    1.6234    0.3753 C   0  0  0  0  0  0  0  0  0  0  0  0\\n   -6.1282    2.7865   -0.3970 C   0  0  0  0  0  0  0  0  0  0  0  0\\n   -4.8673    3.3392   -0.4534 C   0  0  0  0  0  0  0  0  0  0  0  0\\n   -3.8051    2.7467    0.2633 C   0  0  0  0  0  0  0  0  0  0  0  0\\n   -4.0039    1.6033    1.0138 C   0  0  0  0  0  0  0  0  0  0  0  0\\n   -5.2863    0.9994    1.0873 C   0  0  0  0  0  0  0  0  0  0  0  0\\n   -4.0291   -0.1885    7.4813 C   0  0  0  0  0  0  0  0  0  0  0  0\\n   -4.9316    0.5691    8.4532 C   0  0  0  0  0  0  0  0  0  0  0  0\\n   -5.5751    1.6906    7.7997 O   0  0  0  0  0  0  0  0  0  0  0  0\\n   -6.7621    1.4245    7.2057 C   0  0  0  0  0  0  0  0  0  0  0  0\\n   -7.3098    0.3340    7.2301 O   0  0  0  0  0  0  0  0  0  0  0  0\\n   -7.3488    2.6580    6.5691 C   0  0  0  0  0  0  0  0  0  0  0  0\\n   -6.9496    3.8254    7.0637 N   0  0  0  0  0  0  0  0  0  0  0  0\\n   -7.5346    4.9400    6.5629 C   0  0  0  0  0  0  0  0  0  0  0  0\\n   -8.4748    5.0104    5.6410 N   0  0  0  0  0  0  0  0  0  0  0  0\\n   -8.8799    3.8219    5.1015 C   0  0  0  0  0  0  0  0  0  0  0  0\\n   -9.8532    3.8420    4.0721 C   0  0  0  0  0  0  0  0  0  0  0  0\\n  -10.2542    2.6645    3.4778 C   0  0  0  0  0  0  0  0  0  0  0  0\\n   -9.6990    1.4303    3.8898 C   0  0  0  0  0  0  0  0  0  0  0  0\\n   -8.7564    1.3760    4.8955 C   0  0  0  0  0  0  0  0  0  0  0  0\\n   -8.3310    2.5689    5.5336 C   0  0  0  0  0  0  0  0  0  0  0  0\\n   -3.0166    4.2106    8.2140 H   0  0  0  0  0  0  0  0  0  0  0  0\\n   -4.2655    3.5777    7.1229 H   0  0  0  0  0  0  0  0  0  0  0  0\\n   -2.7600    6.2014    6.5705 H   0  0  0  0  0  0  0  0  0  0  0  0\\n   -4.2950    6.0621    7.4991 H   0  0  0  0  0  0  0  0  0  0  0  0\\n   -7.4869    3.9105    2.4908 H   0  0  0  0  0  0  0  0  0  0  0  0\\n   -6.7315    7.1282   -0.6862 H   0  0  0  0  0  0  0  0  0  0  0  0\\n   -4.9563    8.8513   -1.0606 H   0  0  0  0  0  0  0  0  0  0  0  0\\n   -3.1010    9.1086    0.5793 H   0  0  0  0  0  0  0  0  0  0  0  0\\n   -2.9835    7.6594    2.5848 H   0  0  0  0  0  0  0  0  0  0  0  0\\n   -3.0448   -1.1363    4.9220 H   0  0  0  0  0  0  0  0  0  0  0  0\\n   -1.4038   -1.7879    4.8320 H   0  0  0  0  0  0  0  0  0  0  0  0\\n   -2.7443   -2.6792    3.0255 H   0  0  0  0  0  0  0  0  0  0  0  0\\n   -1.5102   -1.5861    2.3044 H   0  0  0  0  0  0  0  0  0  0  0  0\\n   -8.8379   -0.3520    1.2021 H   0  0  0  0  0  0  0  0  0  0  0  0\\n   -6.9770    3.2341   -0.9141 H   0  0  0  0  0  0  0  0  0  0  0  0\\n   -4.6914    4.2452   -1.0358 H   0  0  0  0  0  0  0  0  0  0  0  0\\n   -2.8116    3.1980    0.2233 H   0  0  0  0  0  0  0  0  0  0  0  0\\n   -3.1745    1.1501    1.5494 H   0  0  0  0  0  0  0  0  0  0  0  0\\n   -4.6201   -0.4428    6.5895 H   0  0  0  0  0  0  0  0  0  0  0  0\\n   -3.7571   -1.1474    7.9630 H   0  0  0  0  0  0  0  0  0  0  0  0\\n   -5.7026   -0.0974    8.8635 H   0  0  0  0  0  0  0  0  0  0  0  0\\n   -4.3485    1.0187    9.2685 H   0  0  0  0  0  0  0  0  0  0  0  0\\n   -7.1841    5.8868    6.9852 H   0  0  0  0  0  0  0  0  0  0  0  0\\n  -10.2480    4.8105    3.7626 H   0  0  0  0  0  0  0  0  0  0  0  0\\n  -10.9924    2.6821    2.6742 H   0  0  0  0  0  0  0  0  0  0  0  0\\n  -10.0137    0.5084    3.3990 H   0  0  0  0  0  0  0  0  0  0  0  0\\n   -8.3217    0.4262    5.1962 H   0  0  0  0  0  0  0  0  0  0  0  0\\n  9 10  1  0\\n  4  5  1  0\\n  7  8  1  0\\n  5 23  1  0\\n 24 27  1  0\\n 24 26  1  0\\n  9 19  1  0\\n  7 15  1  0\\n 24 25  1  0\\n  4 20  1  0\\n  8 12  1  0\\n  5 22  1  0\\n  9 18  1  0\\n 10 16  1  0\\n  7 14  1  0\\n  4 21  1  0\\n 10 17  1  0\\n  8 13  1  0\\n  1  8  1  0\\n 10 11  1  0\\n  3  4  1  0\\n  6  7  1  0\\n  5  6  1  0\\n  6  9  1  0\\n 28 29  3  0\\n  2 24  1  0\\n  2  3  1  0\\n  2 28  1  0\\n  2  1  1  0\\n  2 11  1  0\\n 30 31  1  0\\n 31 32  1  0\\n 32 33  1  0\\n 33 34  2  0\\n 33 35  1  0\\n 35 36  2  0\\n 36 37  1  0\\n 37 38  2  0\\n 38 39  1  0\\n 39 40  2  0\\n 40 41  1  0\\n 41 42  2  0\\n 42 43  1  0\\n 43 44  2  0\\n 44 35  1  0\\n 44 39  1  0\\n 30  1  1  0\\n 45 46  1  0\\n 46 47  1  0\\n 47 48  1  0\\n 48 49  2  0\\n 48 50  1  0\\n 50 51  2  0\\n 51 52  1  0\\n 52 53  2  0\\n 53 54  1  0\\n 54 55  2  0\\n 55 56  1  0\\n 56 57  2  0\\n 57 58  1  0\\n 58 59  2  0\\n 59 50  1  0\\n 59 54  1  0\\n 45 11  1  0\\n 60 61  1  0\\n 61 62  1  0\\n 62 63  1  0\\n 63 64  2  0\\n 63 65  1  0\\n 65 66  2  0\\n 66 67  1  0\\n 67 68  2  0\\n 68 69  1  0\\n 69 70  2  0\\n 70 71  1  0\\n 71 72  2  0\\n 72 73  1  0\\n 73 74  2  0\\n 74 65  1  0\\n 74 69  1  0\\n 60  3  1  0\\n 30 75  1  0\\n 30 76  1  0\\n 31 77  1  0\\n 31 78  1  0\\n 37 79  1  0\\n 40 80  1  0\\n 41 81  1  0\\n 42 82  1  0\\n 43 83  1  0\\n 45 84  1  0\\n 45 85  1  0\\n 46 86  1  0\\n 46 87  1  0\\n 52 88  1  0\\n 55 89  1  0\\n 56 90  1  0\\n 57 91  1  0\\n 58 92  1  0\\n 60 93  1  0\\n 60 94  1  0\\n 61 95  1  0\\n 61 96  1  0\\n 67 97  1  0\\n 70 98  1  0\\n 71 99  1  0\\n 72100  1  0\\n 73101  1  0\\nM  CHG  2  24   1  28   1\\nM  END\\n\",\"sdf\");\n\tviewer_1678283030712996.setStyle({\"stick\": {\"radius\": 0.2}, \"sphere\": {\"radius\": 0.3}});\n\tviewer_1678283030712996.zoomTo();\nviewer_1678283030712996.render();\n});\n</script><script>\n            $3Dmolpromise.then(function() { //wrap in promise for non-interactive functionality\n                \n                viewer_1678283030712996.render();\n            });\n            </script>",
      "text/html": [
       "<div id=\"3dmolviewer_1678283030712996\"  style=\"position: relative; width: 900px; height: 900px\">\n",
       "        <p id=\"3dmolwarning_1678283030712996\" style=\"background-color:#ffcccc;color:black\">You appear to be running in JupyterLab (or JavaScript failed to load for some other reason).  You need to install the 3dmol extension: <br>\n",
       "        <tt>jupyter labextension install jupyterlab_3dmol</tt></p>\n",
       "        </div>\n",
       "<script>\n",
       "\n",
       "var loadScriptAsync = function(uri){\n",
       "  return new Promise((resolve, reject) => {\n",
       "    //this is to ignore the existence of requirejs amd\n",
       "    var savedexports, savedmodule;\n",
       "    if (typeof exports !== 'undefined') savedexports = exports;\n",
       "    else exports = {}\n",
       "    if (typeof module !== 'undefined') savedmodule = module;\n",
       "    else module = {}\n",
       "\n",
       "    var tag = document.createElement('script');\n",
       "    tag.src = uri;\n",
       "    tag.async = true;\n",
       "    tag.onload = () => {\n",
       "        exports = savedexports;\n",
       "        module = savedmodule;\n",
       "        resolve();\n",
       "    };\n",
       "  var firstScriptTag = document.getElementsByTagName('script')[0];\n",
       "  firstScriptTag.parentNode.insertBefore(tag, firstScriptTag);\n",
       "});\n",
       "};\n",
       "\n",
       "if(typeof $3Dmolpromise === 'undefined') {\n",
       "$3Dmolpromise = null;\n",
       "  $3Dmolpromise = loadScriptAsync('https://cdnjs.cloudflare.com/ajax/libs/3Dmol/2.0.1/3Dmol-min.js');\n",
       "}\n",
       "\n",
       "var viewer_1678283030712996 = null;\n",
       "var warn = document.getElementById(\"3dmolwarning_1678283030712996\");\n",
       "if(warn) {\n",
       "    warn.parentNode.removeChild(warn);\n",
       "}\n",
       "$3Dmolpromise.then(function() {\n",
       "viewer_1678283030712996 = $3Dmol.createViewer(document.getElementById(\"3dmolviewer_1678283030712996\"),{backgroundColor:\"white\"});\n",
       "viewer_1678283030712996.zoomTo();\n",
       "\tviewer_1678283030712996.addModel(\"\\n     RDKit          3D\\n\\n101108  0  0  0  0  0  0  0  0999 V2000\\n   -2.3146    3.5082    6.3543 N   0  0  0  0  0  0  0  0  0  0  0  0\\n   -2.5246    1.6828    5.5157 Mo  0  0  0  0  0  5  0  0  0  0  0  0\\n   -2.8285    0.5426    7.0979 N   0  0  0  0  0  0  0  0  0  0  0  0\\n   -1.6904    0.2548    7.9717 C   0  0  0  0  0  0  0  0  0  0  0  0\\n   -0.6265    1.3330    7.8155 C   0  0  0  0  0  0  0  0  0  0  0  0\\n   -0.4329    1.6486    6.3738 N   0  0  0  0  0  0  0  0  0  0  0  0\\n    0.0801    3.0185    6.1521 C   0  0  0  0  0  0  0  0  0  0  0  0\\n   -0.9808    4.0409    6.5723 C   0  0  0  0  0  0  0  0  0  0  0  0\\n    0.3881    0.6157    5.6877 C   0  0  0  0  0  0  0  0  0  0  0  0\\n   -0.1641    0.4161    4.2727 C   0  0  0  0  0  0  0  0  0  0  0  0\\n   -1.6060    0.2777    4.3543 N   0  0  0  0  0  0  0  0  0  0  0  0\\n   -0.8026    4.9828    6.0165 H   0  0  0  0  0  0  0  0  0  0  0  0\\n   -0.8555    4.2983    7.6457 H   0  0  0  0  0  0  0  0  0  0  0  0\\n    0.2945    3.1043    5.0781 H   0  0  0  0  0  0  0  0  0  0  0  0\\n    1.0274    3.1890    6.6978 H   0  0  0  0  0  0  0  0  0  0  0  0\\n    0.3124   -0.4648    3.8064 H   0  0  0  0  0  0  0  0  0  0  0  0\\n    0.1151    1.2811    3.6437 H   0  0  0  0  0  0  0  0  0  0  0  0\\n    0.2715   -0.3243    6.2444 H   0  0  0  0  0  0  0  0  0  0  0  0\\n    1.4573    0.8935    5.7032 H   0  0  0  0  0  0  0  0  0  0  0  0\\n   -1.9928    0.2219    9.0356 H   0  0  0  0  0  0  0  0  0  0  0  0\\n   -1.2742   -0.7494    7.7446 H   0  0  0  0  0  0  0  0  0  0  0  0\\n   -0.9747    2.2494    8.3076 H   0  0  0  0  0  0  0  0  0  0  0  0\\n    0.3288    1.0311    8.2808 H   0  0  0  0  0  0  0  0  0  0  0  0\\n   -2.0646    2.9784    3.5440 N   0  0  0  0  0  4  0  0  0  0  0  0\\n   -1.3219    2.6230    2.9373 H   0  0  0  0  0  0  0  0  0  0  0  0\\n   -1.8670    3.9618    3.7536 H   0  0  0  0  0  0  0  0  0  0  0  0\\n   -2.9192    2.9732    2.9803 H   0  0  0  0  0  0  0  0  0  0  0  0\\n   -4.3481    1.5767    4.8632 N   0  0  0  0  0  4  0  0  0  0  0  0\\n   -5.4264    1.4556    4.4797 N   0  0  0  0  0  0  0  0  0  0  0  0\\n   -3.3339    4.1580    7.1475 C   0  0  0  0  0  0  0  0  0  0  0  0\\n   -3.6608    5.5948    6.7345 C   0  0  0  0  0  0  0  0  0  0  0  0\\n   -4.4734    5.6113    5.5324 O   0  0  0  0  0  0  0  0  0  0  0  0\\n   -3.8649    5.7867    4.3561 C   0  0  0  0  0  0  0  0  0  0  0  0\\n   -2.6691    6.0028    4.1947 O   0  0  0  0  0  0  0  0  0  0  0  0\\n   -4.8674    5.6995    3.2306 C   0  0  0  0  0  0  0  0  0  0  0  0\\n   -5.8119    4.7796    3.3639 N   0  0  0  0  0  0  0  0  0  0  0  0\\n   -6.7395    4.6998    2.3765 C   0  0  0  0  0  0  0  0  0  0  0  0\\n   -6.8388    5.4768    1.3141 N   0  0  0  0  0  0  0  0  0  0  0  0\\n   -5.8635    6.4165    1.1534 C   0  0  0  0  0  0  0  0  0  0  0  0\\n   -5.9065    7.2597    0.0152 C   0  0  0  0  0  0  0  0  0  0  0  0\\n   -4.9232    8.2056   -0.1814 C   0  0  0  0  0  0  0  0  0  0  0  0\\n   -3.8675    8.3511    0.7508 C   0  0  0  0  0  0  0  0  0  0  0  0\\n   -3.7992    7.5503    1.8719 C   0  0  0  0  0  0  0  0  0  0  0  0\\n   -4.7934    6.5636    2.0981 C   0  0  0  0  0  0  0  0  0  0  0  0\\n   -2.1111   -1.0832    4.3470 C   0  0  0  0  0  0  0  0  0  0  0  0\\n   -2.3976   -1.6379    2.9491 C   0  0  0  0  0  0  0  0  0  0  0  0\\n   -3.3912   -0.8553    2.2452 O   0  0  0  0  0  0  0  0  0  0  0  0\\n   -4.6849   -1.0524    2.6082 C   0  0  0  0  0  0  0  0  0  0  0  0\\n   -5.0352   -1.8676    3.4385 O   0  0  0  0  0  0  0  0  0  0  0  0\\n   -5.6403   -0.1811    1.8237 C   0  0  0  0  0  0  0  0  0  0  0  0\\n   -6.8904   -0.6363    1.8519 N   0  0  0  0  0  0  0  0  0  0  0  0\\n   -7.8209    0.0500    1.1545 C   0  0  0  0  0  0  0  0  0  0  0  0\\n   -7.6426    1.1331    0.4190 N   0  0  0  0  0  0  0  0  0  0  0  0\\n   -6.3683    1.6234    0.3753 C   0  0  0  0  0  0  0  0  0  0  0  0\\n   -6.1282    2.7865   -0.3970 C   0  0  0  0  0  0  0  0  0  0  0  0\\n   -4.8673    3.3392   -0.4534 C   0  0  0  0  0  0  0  0  0  0  0  0\\n   -3.8051    2.7467    0.2633 C   0  0  0  0  0  0  0  0  0  0  0  0\\n   -4.0039    1.6033    1.0138 C   0  0  0  0  0  0  0  0  0  0  0  0\\n   -5.2863    0.9994    1.0873 C   0  0  0  0  0  0  0  0  0  0  0  0\\n   -4.0291   -0.1885    7.4813 C   0  0  0  0  0  0  0  0  0  0  0  0\\n   -4.9316    0.5691    8.4532 C   0  0  0  0  0  0  0  0  0  0  0  0\\n   -5.5751    1.6906    7.7997 O   0  0  0  0  0  0  0  0  0  0  0  0\\n   -6.7621    1.4245    7.2057 C   0  0  0  0  0  0  0  0  0  0  0  0\\n   -7.3098    0.3340    7.2301 O   0  0  0  0  0  0  0  0  0  0  0  0\\n   -7.3488    2.6580    6.5691 C   0  0  0  0  0  0  0  0  0  0  0  0\\n   -6.9496    3.8254    7.0637 N   0  0  0  0  0  0  0  0  0  0  0  0\\n   -7.5346    4.9400    6.5629 C   0  0  0  0  0  0  0  0  0  0  0  0\\n   -8.4748    5.0104    5.6410 N   0  0  0  0  0  0  0  0  0  0  0  0\\n   -8.8799    3.8219    5.1015 C   0  0  0  0  0  0  0  0  0  0  0  0\\n   -9.8532    3.8420    4.0721 C   0  0  0  0  0  0  0  0  0  0  0  0\\n  -10.2542    2.6645    3.4778 C   0  0  0  0  0  0  0  0  0  0  0  0\\n   -9.6990    1.4303    3.8898 C   0  0  0  0  0  0  0  0  0  0  0  0\\n   -8.7564    1.3760    4.8955 C   0  0  0  0  0  0  0  0  0  0  0  0\\n   -8.3310    2.5689    5.5336 C   0  0  0  0  0  0  0  0  0  0  0  0\\n   -3.0166    4.2106    8.2140 H   0  0  0  0  0  0  0  0  0  0  0  0\\n   -4.2655    3.5777    7.1229 H   0  0  0  0  0  0  0  0  0  0  0  0\\n   -2.7600    6.2014    6.5705 H   0  0  0  0  0  0  0  0  0  0  0  0\\n   -4.2950    6.0621    7.4991 H   0  0  0  0  0  0  0  0  0  0  0  0\\n   -7.4869    3.9105    2.4908 H   0  0  0  0  0  0  0  0  0  0  0  0\\n   -6.7315    7.1282   -0.6862 H   0  0  0  0  0  0  0  0  0  0  0  0\\n   -4.9563    8.8513   -1.0606 H   0  0  0  0  0  0  0  0  0  0  0  0\\n   -3.1010    9.1086    0.5793 H   0  0  0  0  0  0  0  0  0  0  0  0\\n   -2.9835    7.6594    2.5848 H   0  0  0  0  0  0  0  0  0  0  0  0\\n   -3.0448   -1.1363    4.9220 H   0  0  0  0  0  0  0  0  0  0  0  0\\n   -1.4038   -1.7879    4.8320 H   0  0  0  0  0  0  0  0  0  0  0  0\\n   -2.7443   -2.6792    3.0255 H   0  0  0  0  0  0  0  0  0  0  0  0\\n   -1.5102   -1.5861    2.3044 H   0  0  0  0  0  0  0  0  0  0  0  0\\n   -8.8379   -0.3520    1.2021 H   0  0  0  0  0  0  0  0  0  0  0  0\\n   -6.9770    3.2341   -0.9141 H   0  0  0  0  0  0  0  0  0  0  0  0\\n   -4.6914    4.2452   -1.0358 H   0  0  0  0  0  0  0  0  0  0  0  0\\n   -2.8116    3.1980    0.2233 H   0  0  0  0  0  0  0  0  0  0  0  0\\n   -3.1745    1.1501    1.5494 H   0  0  0  0  0  0  0  0  0  0  0  0\\n   -4.6201   -0.4428    6.5895 H   0  0  0  0  0  0  0  0  0  0  0  0\\n   -3.7571   -1.1474    7.9630 H   0  0  0  0  0  0  0  0  0  0  0  0\\n   -5.7026   -0.0974    8.8635 H   0  0  0  0  0  0  0  0  0  0  0  0\\n   -4.3485    1.0187    9.2685 H   0  0  0  0  0  0  0  0  0  0  0  0\\n   -7.1841    5.8868    6.9852 H   0  0  0  0  0  0  0  0  0  0  0  0\\n  -10.2480    4.8105    3.7626 H   0  0  0  0  0  0  0  0  0  0  0  0\\n  -10.9924    2.6821    2.6742 H   0  0  0  0  0  0  0  0  0  0  0  0\\n  -10.0137    0.5084    3.3990 H   0  0  0  0  0  0  0  0  0  0  0  0\\n   -8.3217    0.4262    5.1962 H   0  0  0  0  0  0  0  0  0  0  0  0\\n  9 10  1  0\\n  4  5  1  0\\n  7  8  1  0\\n  5 23  1  0\\n 24 27  1  0\\n 24 26  1  0\\n  9 19  1  0\\n  7 15  1  0\\n 24 25  1  0\\n  4 20  1  0\\n  8 12  1  0\\n  5 22  1  0\\n  9 18  1  0\\n 10 16  1  0\\n  7 14  1  0\\n  4 21  1  0\\n 10 17  1  0\\n  8 13  1  0\\n  1  8  1  0\\n 10 11  1  0\\n  3  4  1  0\\n  6  7  1  0\\n  5  6  1  0\\n  6  9  1  0\\n 28 29  3  0\\n  2 24  1  0\\n  2  3  1  0\\n  2 28  1  0\\n  2  1  1  0\\n  2 11  1  0\\n 30 31  1  0\\n 31 32  1  0\\n 32 33  1  0\\n 33 34  2  0\\n 33 35  1  0\\n 35 36  2  0\\n 36 37  1  0\\n 37 38  2  0\\n 38 39  1  0\\n 39 40  2  0\\n 40 41  1  0\\n 41 42  2  0\\n 42 43  1  0\\n 43 44  2  0\\n 44 35  1  0\\n 44 39  1  0\\n 30  1  1  0\\n 45 46  1  0\\n 46 47  1  0\\n 47 48  1  0\\n 48 49  2  0\\n 48 50  1  0\\n 50 51  2  0\\n 51 52  1  0\\n 52 53  2  0\\n 53 54  1  0\\n 54 55  2  0\\n 55 56  1  0\\n 56 57  2  0\\n 57 58  1  0\\n 58 59  2  0\\n 59 50  1  0\\n 59 54  1  0\\n 45 11  1  0\\n 60 61  1  0\\n 61 62  1  0\\n 62 63  1  0\\n 63 64  2  0\\n 63 65  1  0\\n 65 66  2  0\\n 66 67  1  0\\n 67 68  2  0\\n 68 69  1  0\\n 69 70  2  0\\n 70 71  1  0\\n 71 72  2  0\\n 72 73  1  0\\n 73 74  2  0\\n 74 65  1  0\\n 74 69  1  0\\n 60  3  1  0\\n 30 75  1  0\\n 30 76  1  0\\n 31 77  1  0\\n 31 78  1  0\\n 37 79  1  0\\n 40 80  1  0\\n 41 81  1  0\\n 42 82  1  0\\n 43 83  1  0\\n 45 84  1  0\\n 45 85  1  0\\n 46 86  1  0\\n 46 87  1  0\\n 52 88  1  0\\n 55 89  1  0\\n 56 90  1  0\\n 57 91  1  0\\n 58 92  1  0\\n 60 93  1  0\\n 60 94  1  0\\n 61 95  1  0\\n 61 96  1  0\\n 67 97  1  0\\n 70 98  1  0\\n 71 99  1  0\\n 72100  1  0\\n 73101  1  0\\nM  CHG  2  24   1  28   1\\nM  END\\n\",\"sdf\");\n",
       "\tviewer_1678283030712996.setStyle({\"stick\": {\"radius\": 0.2}, \"sphere\": {\"radius\": 0.3}});\n",
       "\tviewer_1678283030712996.zoomTo();\n",
       "viewer_1678283030712996.render();\n",
       "});\n",
       "</script><script>\n",
       "            $3Dmolpromise.then(function() { //wrap in promise for non-interactive functionality\n",
       "                \n",
       "                viewer_1678283030712996.render();\n",
       "            });\n",
       "            </script>"
      ]
     },
     "metadata": {},
     "output_type": "display_data"
    },
    {
     "data": {
      "application/3dmoljs_load.v0": "<div id=\"3dmolviewer_1678283030720464\"  style=\"position: relative; width: 900px; height: 900px\">\n        <p id=\"3dmolwarning_1678283030720464\" style=\"background-color:#ffcccc;color:black\">You appear to be running in JupyterLab (or JavaScript failed to load for some other reason).  You need to install the 3dmol extension: <br>\n        <tt>jupyter labextension install jupyterlab_3dmol</tt></p>\n        </div>\n<script>\n\nvar loadScriptAsync = function(uri){\n  return new Promise((resolve, reject) => {\n    //this is to ignore the existence of requirejs amd\n    var savedexports, savedmodule;\n    if (typeof exports !== 'undefined') savedexports = exports;\n    else exports = {}\n    if (typeof module !== 'undefined') savedmodule = module;\n    else module = {}\n\n    var tag = document.createElement('script');\n    tag.src = uri;\n    tag.async = true;\n    tag.onload = () => {\n        exports = savedexports;\n        module = savedmodule;\n        resolve();\n    };\n  var firstScriptTag = document.getElementsByTagName('script')[0];\n  firstScriptTag.parentNode.insertBefore(tag, firstScriptTag);\n});\n};\n\nif(typeof $3Dmolpromise === 'undefined') {\n$3Dmolpromise = null;\n  $3Dmolpromise = loadScriptAsync('https://cdnjs.cloudflare.com/ajax/libs/3Dmol/2.0.1/3Dmol-min.js');\n}\n\nvar viewer_1678283030720464 = null;\nvar warn = document.getElementById(\"3dmolwarning_1678283030720464\");\nif(warn) {\n    warn.parentNode.removeChild(warn);\n}\n$3Dmolpromise.then(function() {\nviewer_1678283030720464 = $3Dmol.createViewer(document.getElementById(\"3dmolviewer_1678283030720464\"),{backgroundColor:\"white\"});\nviewer_1678283030720464.zoomTo();\n\tviewer_1678283030720464.addModel(\"\\n     RDKit          3D\\n\\n 99106  0  0  0  0  0  0  0  0999 V2000\\n   -2.2550    3.4079    6.9673 N   0  0  0  0  0  0  0  0  0  0  0  0\\n   -2.1912    1.9285    5.5972 Mo  0  0  0  0  0  4  0  0  0  0  0  0\\n   -2.9852    0.4452    6.6209 N   0  0  0  0  0  0  0  0  0  0  0  0\\n   -2.1641   -0.2162    7.6425 C   0  0  0  0  0  0  0  0  0  0  0  0\\n   -1.1036    0.7436    8.1754 C   0  0  0  0  0  0  0  0  0  0  0  0\\n   -0.4640    1.4666    7.0368 N   0  0  0  0  0  0  0  0  0  0  0  0\\n    0.0767    2.7981    7.4207 C   0  0  0  0  0  0  0  0  0  0  0  0\\n   -1.0765    3.7541    7.7488 C   0  0  0  0  0  0  0  0  0  0  0  0\\n    0.5553    0.6289    6.3411 C   0  0  0  0  0  0  0  0  0  0  0  0\\n    0.5112    0.9217    4.8385 C   0  0  0  0  0  0  0  0  0  0  0  0\\n   -0.8845    0.9461    4.4332 N   0  0  0  0  0  0  0  0  0  0  0  0\\n   -0.7335    4.7939    7.5720 H   0  0  0  0  0  0  0  0  0  0  0  0\\n   -1.3240    3.6979    8.8286 H   0  0  0  0  0  0  0  0  0  0  0  0\\n    0.6408    3.1643    6.5522 H   0  0  0  0  0  0  0  0  0  0  0  0\\n    0.7782    2.7110    8.2697 H   0  0  0  0  0  0  0  0  0  0  0  0\\n    1.0707    0.1392    4.2971 H   0  0  0  0  0  0  0  0  0  0  0  0\\n    1.0246    1.8815    4.6255 H   0  0  0  0  0  0  0  0  0  0  0  0\\n    0.2809   -0.4222    6.5008 H   0  0  0  0  0  0  0  0  0  0  0  0\\n    1.5535    0.8002    6.7788 H   0  0  0  0  0  0  0  0  0  0  0  0\\n   -2.7775   -0.5623    8.4940 H   0  0  0  0  0  0  0  0  0  0  0  0\\n   -1.6918   -1.1245    7.2118 H   0  0  0  0  0  0  0  0  0  0  0  0\\n   -1.5863    1.4983    8.8085 H   0  0  0  0  0  0  0  0  0  0  0  0\\n   -0.3440    0.2148    8.7764 H   0  0  0  0  0  0  0  0  0  0  0  0\\n   -1.0848    3.9588    4.2029 N   0  0  0  0  0  4  0  0  0  0  0  0\\n   -1.3519    3.6728    3.2561 H   0  0  0  0  0  0  0  0  0  0  0  0\\n   -0.0729    4.0898    4.2307 H   0  0  0  0  0  0  0  0  0  0  0  0\\n   -1.5371    4.8583    4.3906 H   0  0  0  0  0  0  0  0  0  0  0  0\\n   -3.4905    4.0163    7.4437 C   0  0  0  0  0  0  0  0  0  0  0  0\\n   -3.9188    5.2556    6.6642 C   0  0  0  0  0  0  0  0  0  0  0  0\\n   -4.6281    4.8411    5.4722 O   0  0  0  0  0  0  0  0  0  0  0  0\\n   -4.2567    5.3518    4.2864 C   0  0  0  0  0  0  0  0  0  0  0  0\\n   -3.2749    6.0693    4.1211 O   0  0  0  0  0  0  0  0  0  0  0  0\\n   -5.2163    4.9557    3.1955 C   0  0  0  0  0  0  0  0  0  0  0  0\\n   -6.4012    4.5058    3.5995 N   0  0  0  0  0  0  0  0  0  0  0  0\\n   -7.3224    4.2405    2.6444 C   0  0  0  0  0  0  0  0  0  0  0  0\\n   -7.2014    4.4158    1.3418 N   0  0  0  0  0  0  0  0  0  0  0  0\\n   -5.9841    4.8527    0.9020 C   0  0  0  0  0  0  0  0  0  0  0  0\\n   -5.7945    5.0257   -0.4895 C   0  0  0  0  0  0  0  0  0  0  0  0\\n   -4.5731    5.4381   -0.9773 C   0  0  0  0  0  0  0  0  0  0  0  0\\n   -3.5008    5.6874   -0.0916 C   0  0  0  0  0  0  0  0  0  0  0  0\\n   -3.6557    5.5389    1.2728 C   0  0  0  0  0  0  0  0  0  0  0  0\\n   -4.9043    5.1316    1.8090 C   0  0  0  0  0  0  0  0  0  0  0  0\\n   -1.2836    0.2542    3.2173 C   0  0  0  0  0  0  0  0  0  0  0  0\\n   -1.5034    1.1521    1.9975 C   0  0  0  0  0  0  0  0  0  0  0  0\\n   -2.4629    2.2162    2.2268 O   0  0  0  0  0  0  0  0  0  0  0  0\\n   -3.6248    1.8725    2.8979 C   0  0  0  0  0  0  0  0  0  0  0  0\\n   -3.5712    1.9151    4.2022 O   0  0  0  0  0  0  0  0  0  0  0  0\\n   -4.8236    1.5177    2.2320 C   0  0  0  0  0  0  0  0  0  0  0  0\\n   -5.8574    1.1523    3.0501 N   0  0  0  0  0  0  0  0  0  0  0  0\\n   -7.0090    0.8008    2.4728 C   0  0  0  0  0  0  0  0  0  0  0  0\\n   -7.3151    0.7426    1.1798 N   0  0  0  0  0  0  0  0  0  0  0  0\\n   -6.3073    1.1091    0.3255 C   0  0  0  0  0  0  0  0  0  0  0  0\\n   -6.5722    1.0772   -1.0650 C   0  0  0  0  0  0  0  0  0  0  0  0\\n   -5.6071    1.4470   -1.9831 C   0  0  0  0  0  0  0  0  0  0  0  0\\n   -4.3443    1.8754   -1.5355 C   0  0  0  0  0  0  0  0  0  0  0  0\\n   -4.0593    1.9208   -0.1792 C   0  0  0  0  0  0  0  0  0  0  0  0\\n   -5.0144    1.5281    0.7859 C   0  0  0  0  0  0  0  0  0  0  0  0\\n   -4.2073   -0.2922    6.3042 C   0  0  0  0  0  0  0  0  0  0  0  0\\n   -5.3270   -0.1150    7.3197 C   0  0  0  0  0  0  0  0  0  0  0  0\\n   -5.8765    1.2253    7.2040 O   0  0  0  0  0  0  0  0  0  0  0  0\\n   -7.1907    1.3141    6.9217 C   0  0  0  0  0  0  0  0  0  0  0  0\\n   -7.9468    0.3661    6.7931 O   0  0  0  0  0  0  0  0  0  0  0  0\\n   -7.6395    2.7517    6.8135 C   0  0  0  0  0  0  0  0  0  0  0  0\\n   -7.0186    3.6254    7.5932 N   0  0  0  0  0  0  0  0  0  0  0  0\\n   -7.4624    4.9076    7.5498 C   0  0  0  0  0  0  0  0  0  0  0  0\\n   -8.4339    5.3973    6.8067 N   0  0  0  0  0  0  0  0  0  0  0  0\\n   -9.0733    4.5129    5.9872 C   0  0  0  0  0  0  0  0  0  0  0  0\\n  -10.1193    4.9858    5.1572 C   0  0  0  0  0  0  0  0  0  0  0  0\\n  -10.7883    4.1133    4.3261 C   0  0  0  0  0  0  0  0  0  0  0  0\\n  -10.4344    2.7433    4.2880 C   0  0  0  0  0  0  0  0  0  0  0  0\\n   -9.4196    2.2526    5.0829 C   0  0  0  0  0  0  0  0  0  0  0  0\\n   -8.7166    3.1236    5.9545 C   0  0  0  0  0  0  0  0  0  0  0  0\\n   -3.3774    4.3053    8.5064 H   0  0  0  0  0  0  0  0  0  0  0  0\\n   -4.3219    3.2928    7.4041 H   0  0  0  0  0  0  0  0  0  0  0  0\\n   -3.0674    5.8916    6.3895 H   0  0  0  0  0  0  0  0  0  0  0  0\\n   -4.6421    5.8413    7.2512 H   0  0  0  0  0  0  0  0  0  0  0  0\\n   -8.2777    3.8512    3.0040 H   0  0  0  0  0  0  0  0  0  0  0  0\\n   -6.6334    4.7972   -1.1474 H   0  0  0  0  0  0  0  0  0  0  0  0\\n   -4.4262    5.5581   -2.0520 H   0  0  0  0  0  0  0  0  0  0  0  0\\n   -2.5350    6.0015   -0.4917 H   0  0  0  0  0  0  0  0  0  0  0  0\\n   -2.8300    5.7476    1.9484 H   0  0  0  0  0  0  0  0  0  0  0  0\\n   -2.2284   -0.2924    3.3940 H   0  0  0  0  0  0  0  0  0  0  0  0\\n   -0.5304   -0.5059    2.9388 H   0  0  0  0  0  0  0  0  0  0  0  0\\n   -1.8400    0.5280    1.1492 H   0  0  0  0  0  0  0  0  0  0  0  0\\n   -0.5797    1.6755    1.7091 H   0  0  0  0  0  0  0  0  0  0  0  0\\n   -7.8087    0.5156    3.1670 H   0  0  0  0  0  0  0  0  0  0  0  0\\n   -7.5670    0.7549   -1.3770 H   0  0  0  0  0  0  0  0  0  0  0  0\\n   -5.8274    1.4162   -3.0522 H   0  0  0  0  0  0  0  0  0  0  0  0\\n   -3.5872    2.1912   -2.2557 H   0  0  0  0  0  0  0  0  0  0  0  0\\n   -3.0931    2.2935    0.1487 H   0  0  0  0  0  0  0  0  0  0  0  0\\n   -4.5825    0.0324    5.3218 H   0  0  0  0  0  0  0  0  0  0  0  0\\n   -3.9869   -1.3765    6.2384 H   0  0  0  0  0  0  0  0  0  0  0  0\\n   -6.1287   -0.8442    7.1452 H   0  0  0  0  0  0  0  0  0  0  0  0\\n   -4.9684   -0.2088    8.3552 H   0  0  0  0  0  0  0  0  0  0  0  0\\n   -6.9488    5.6068    8.2176 H   0  0  0  0  0  0  0  0  0  0  0  0\\n  -10.3639    6.0477    5.1993 H   0  0  0  0  0  0  0  0  0  0  0  0\\n  -11.5901    4.4791    3.6826 H   0  0  0  0  0  0  0  0  0  0  0  0\\n  -10.9627    2.0698    3.6118 H   0  0  0  0  0  0  0  0  0  0  0  0\\n   -9.1542    1.1986    5.0545 H   0  0  0  0  0  0  0  0  0  0  0  0\\n  9 10  1  0\\n  4  5  1  0\\n  7  8  1  0\\n  5 23  1  0\\n 24 27  1  0\\n 24 26  1  0\\n  9 19  1  0\\n  7 15  1  0\\n 24 25  1  0\\n  4 20  1  0\\n  8 12  1  0\\n  5 22  1  0\\n  9 18  1  0\\n 10 16  1  0\\n  7 14  1  0\\n  4 21  1  0\\n 10 17  1  0\\n  8 13  1  0\\n  1  8  1  0\\n 10 11  1  0\\n  3  4  1  0\\n  6  7  1  0\\n  5  6  1  0\\n  6  9  1  0\\n  2 24  1  0\\n  2  3  1  0\\n  2  1  1  0\\n  2 11  1  0\\n 28 29  1  0\\n 29 30  1  0\\n 30 31  1  0\\n 31 32  2  0\\n 31 33  1  0\\n 33 34  2  0\\n 34 35  1  0\\n 35 36  2  0\\n 36 37  1  0\\n 37 38  2  0\\n 38 39  1  0\\n 39 40  2  0\\n 40 41  1  0\\n 41 42  2  0\\n 42 33  1  0\\n 42 37  1  0\\n 28  1  1  0\\n 43 44  1  0\\n 44 45  1  0\\n 45 46  1  0\\n 46 47  2  0\\n 46 48  1  0\\n 48 49  2  0\\n 49 50  1  0\\n 50 51  2  0\\n 51 52  1  0\\n 52 53  2  0\\n 53 54  1  0\\n 54 55  2  0\\n 55 56  1  0\\n 56 57  2  0\\n 57 48  1  0\\n 57 52  1  0\\n 43 11  1  0\\n 58 59  1  0\\n 59 60  1  0\\n 60 61  1  0\\n 61 62  2  0\\n 61 63  1  0\\n 63 64  2  0\\n 64 65  1  0\\n 65 66  2  0\\n 66 67  1  0\\n 67 68  2  0\\n 68 69  1  0\\n 69 70  2  0\\n 70 71  1  0\\n 71 72  2  0\\n 72 63  1  0\\n 72 67  1  0\\n 58  3  1  0\\n 28 73  1  0\\n 28 74  1  0\\n 29 75  1  0\\n 29 76  1  0\\n 35 77  1  0\\n 38 78  1  0\\n 39 79  1  0\\n 40 80  1  0\\n 41 81  1  0\\n 43 82  1  0\\n 43 83  1  0\\n 44 84  1  0\\n 44 85  1  0\\n 50 86  1  0\\n 53 87  1  0\\n 54 88  1  0\\n 55 89  1  0\\n 56 90  1  0\\n 58 91  1  0\\n 58 92  1  0\\n 59 93  1  0\\n 59 94  1  0\\n 65 95  1  0\\n 68 96  1  0\\n 69 97  1  0\\n 70 98  1  0\\n 71 99  1  0\\nM  CHG  1  24   1\\nM  END\\n\",\"sdf\");\n\tviewer_1678283030720464.setStyle({\"stick\": {\"radius\": 0.2}, \"sphere\": {\"radius\": 0.3}});\n\tviewer_1678283030720464.zoomTo();\nviewer_1678283030720464.render();\n});\n</script><script>\n            $3Dmolpromise.then(function() { //wrap in promise for non-interactive functionality\n                \n                viewer_1678283030720464.render();\n            });\n            </script>",
      "text/html": [
       "<div id=\"3dmolviewer_1678283030720464\"  style=\"position: relative; width: 900px; height: 900px\">\n",
       "        <p id=\"3dmolwarning_1678283030720464\" style=\"background-color:#ffcccc;color:black\">You appear to be running in JupyterLab (or JavaScript failed to load for some other reason).  You need to install the 3dmol extension: <br>\n",
       "        <tt>jupyter labextension install jupyterlab_3dmol</tt></p>\n",
       "        </div>\n",
       "<script>\n",
       "\n",
       "var loadScriptAsync = function(uri){\n",
       "  return new Promise((resolve, reject) => {\n",
       "    //this is to ignore the existence of requirejs amd\n",
       "    var savedexports, savedmodule;\n",
       "    if (typeof exports !== 'undefined') savedexports = exports;\n",
       "    else exports = {}\n",
       "    if (typeof module !== 'undefined') savedmodule = module;\n",
       "    else module = {}\n",
       "\n",
       "    var tag = document.createElement('script');\n",
       "    tag.src = uri;\n",
       "    tag.async = true;\n",
       "    tag.onload = () => {\n",
       "        exports = savedexports;\n",
       "        module = savedmodule;\n",
       "        resolve();\n",
       "    };\n",
       "  var firstScriptTag = document.getElementsByTagName('script')[0];\n",
       "  firstScriptTag.parentNode.insertBefore(tag, firstScriptTag);\n",
       "});\n",
       "};\n",
       "\n",
       "if(typeof $3Dmolpromise === 'undefined') {\n",
       "$3Dmolpromise = null;\n",
       "  $3Dmolpromise = loadScriptAsync('https://cdnjs.cloudflare.com/ajax/libs/3Dmol/2.0.1/3Dmol-min.js');\n",
       "}\n",
       "\n",
       "var viewer_1678283030720464 = null;\n",
       "var warn = document.getElementById(\"3dmolwarning_1678283030720464\");\n",
       "if(warn) {\n",
       "    warn.parentNode.removeChild(warn);\n",
       "}\n",
       "$3Dmolpromise.then(function() {\n",
       "viewer_1678283030720464 = $3Dmol.createViewer(document.getElementById(\"3dmolviewer_1678283030720464\"),{backgroundColor:\"white\"});\n",
       "viewer_1678283030720464.zoomTo();\n",
       "\tviewer_1678283030720464.addModel(\"\\n     RDKit          3D\\n\\n 99106  0  0  0  0  0  0  0  0999 V2000\\n   -2.2550    3.4079    6.9673 N   0  0  0  0  0  0  0  0  0  0  0  0\\n   -2.1912    1.9285    5.5972 Mo  0  0  0  0  0  4  0  0  0  0  0  0\\n   -2.9852    0.4452    6.6209 N   0  0  0  0  0  0  0  0  0  0  0  0\\n   -2.1641   -0.2162    7.6425 C   0  0  0  0  0  0  0  0  0  0  0  0\\n   -1.1036    0.7436    8.1754 C   0  0  0  0  0  0  0  0  0  0  0  0\\n   -0.4640    1.4666    7.0368 N   0  0  0  0  0  0  0  0  0  0  0  0\\n    0.0767    2.7981    7.4207 C   0  0  0  0  0  0  0  0  0  0  0  0\\n   -1.0765    3.7541    7.7488 C   0  0  0  0  0  0  0  0  0  0  0  0\\n    0.5553    0.6289    6.3411 C   0  0  0  0  0  0  0  0  0  0  0  0\\n    0.5112    0.9217    4.8385 C   0  0  0  0  0  0  0  0  0  0  0  0\\n   -0.8845    0.9461    4.4332 N   0  0  0  0  0  0  0  0  0  0  0  0\\n   -0.7335    4.7939    7.5720 H   0  0  0  0  0  0  0  0  0  0  0  0\\n   -1.3240    3.6979    8.8286 H   0  0  0  0  0  0  0  0  0  0  0  0\\n    0.6408    3.1643    6.5522 H   0  0  0  0  0  0  0  0  0  0  0  0\\n    0.7782    2.7110    8.2697 H   0  0  0  0  0  0  0  0  0  0  0  0\\n    1.0707    0.1392    4.2971 H   0  0  0  0  0  0  0  0  0  0  0  0\\n    1.0246    1.8815    4.6255 H   0  0  0  0  0  0  0  0  0  0  0  0\\n    0.2809   -0.4222    6.5008 H   0  0  0  0  0  0  0  0  0  0  0  0\\n    1.5535    0.8002    6.7788 H   0  0  0  0  0  0  0  0  0  0  0  0\\n   -2.7775   -0.5623    8.4940 H   0  0  0  0  0  0  0  0  0  0  0  0\\n   -1.6918   -1.1245    7.2118 H   0  0  0  0  0  0  0  0  0  0  0  0\\n   -1.5863    1.4983    8.8085 H   0  0  0  0  0  0  0  0  0  0  0  0\\n   -0.3440    0.2148    8.7764 H   0  0  0  0  0  0  0  0  0  0  0  0\\n   -1.0848    3.9588    4.2029 N   0  0  0  0  0  4  0  0  0  0  0  0\\n   -1.3519    3.6728    3.2561 H   0  0  0  0  0  0  0  0  0  0  0  0\\n   -0.0729    4.0898    4.2307 H   0  0  0  0  0  0  0  0  0  0  0  0\\n   -1.5371    4.8583    4.3906 H   0  0  0  0  0  0  0  0  0  0  0  0\\n   -3.4905    4.0163    7.4437 C   0  0  0  0  0  0  0  0  0  0  0  0\\n   -3.9188    5.2556    6.6642 C   0  0  0  0  0  0  0  0  0  0  0  0\\n   -4.6281    4.8411    5.4722 O   0  0  0  0  0  0  0  0  0  0  0  0\\n   -4.2567    5.3518    4.2864 C   0  0  0  0  0  0  0  0  0  0  0  0\\n   -3.2749    6.0693    4.1211 O   0  0  0  0  0  0  0  0  0  0  0  0\\n   -5.2163    4.9557    3.1955 C   0  0  0  0  0  0  0  0  0  0  0  0\\n   -6.4012    4.5058    3.5995 N   0  0  0  0  0  0  0  0  0  0  0  0\\n   -7.3224    4.2405    2.6444 C   0  0  0  0  0  0  0  0  0  0  0  0\\n   -7.2014    4.4158    1.3418 N   0  0  0  0  0  0  0  0  0  0  0  0\\n   -5.9841    4.8527    0.9020 C   0  0  0  0  0  0  0  0  0  0  0  0\\n   -5.7945    5.0257   -0.4895 C   0  0  0  0  0  0  0  0  0  0  0  0\\n   -4.5731    5.4381   -0.9773 C   0  0  0  0  0  0  0  0  0  0  0  0\\n   -3.5008    5.6874   -0.0916 C   0  0  0  0  0  0  0  0  0  0  0  0\\n   -3.6557    5.5389    1.2728 C   0  0  0  0  0  0  0  0  0  0  0  0\\n   -4.9043    5.1316    1.8090 C   0  0  0  0  0  0  0  0  0  0  0  0\\n   -1.2836    0.2542    3.2173 C   0  0  0  0  0  0  0  0  0  0  0  0\\n   -1.5034    1.1521    1.9975 C   0  0  0  0  0  0  0  0  0  0  0  0\\n   -2.4629    2.2162    2.2268 O   0  0  0  0  0  0  0  0  0  0  0  0\\n   -3.6248    1.8725    2.8979 C   0  0  0  0  0  0  0  0  0  0  0  0\\n   -3.5712    1.9151    4.2022 O   0  0  0  0  0  0  0  0  0  0  0  0\\n   -4.8236    1.5177    2.2320 C   0  0  0  0  0  0  0  0  0  0  0  0\\n   -5.8574    1.1523    3.0501 N   0  0  0  0  0  0  0  0  0  0  0  0\\n   -7.0090    0.8008    2.4728 C   0  0  0  0  0  0  0  0  0  0  0  0\\n   -7.3151    0.7426    1.1798 N   0  0  0  0  0  0  0  0  0  0  0  0\\n   -6.3073    1.1091    0.3255 C   0  0  0  0  0  0  0  0  0  0  0  0\\n   -6.5722    1.0772   -1.0650 C   0  0  0  0  0  0  0  0  0  0  0  0\\n   -5.6071    1.4470   -1.9831 C   0  0  0  0  0  0  0  0  0  0  0  0\\n   -4.3443    1.8754   -1.5355 C   0  0  0  0  0  0  0  0  0  0  0  0\\n   -4.0593    1.9208   -0.1792 C   0  0  0  0  0  0  0  0  0  0  0  0\\n   -5.0144    1.5281    0.7859 C   0  0  0  0  0  0  0  0  0  0  0  0\\n   -4.2073   -0.2922    6.3042 C   0  0  0  0  0  0  0  0  0  0  0  0\\n   -5.3270   -0.1150    7.3197 C   0  0  0  0  0  0  0  0  0  0  0  0\\n   -5.8765    1.2253    7.2040 O   0  0  0  0  0  0  0  0  0  0  0  0\\n   -7.1907    1.3141    6.9217 C   0  0  0  0  0  0  0  0  0  0  0  0\\n   -7.9468    0.3661    6.7931 O   0  0  0  0  0  0  0  0  0  0  0  0\\n   -7.6395    2.7517    6.8135 C   0  0  0  0  0  0  0  0  0  0  0  0\\n   -7.0186    3.6254    7.5932 N   0  0  0  0  0  0  0  0  0  0  0  0\\n   -7.4624    4.9076    7.5498 C   0  0  0  0  0  0  0  0  0  0  0  0\\n   -8.4339    5.3973    6.8067 N   0  0  0  0  0  0  0  0  0  0  0  0\\n   -9.0733    4.5129    5.9872 C   0  0  0  0  0  0  0  0  0  0  0  0\\n  -10.1193    4.9858    5.1572 C   0  0  0  0  0  0  0  0  0  0  0  0\\n  -10.7883    4.1133    4.3261 C   0  0  0  0  0  0  0  0  0  0  0  0\\n  -10.4344    2.7433    4.2880 C   0  0  0  0  0  0  0  0  0  0  0  0\\n   -9.4196    2.2526    5.0829 C   0  0  0  0  0  0  0  0  0  0  0  0\\n   -8.7166    3.1236    5.9545 C   0  0  0  0  0  0  0  0  0  0  0  0\\n   -3.3774    4.3053    8.5064 H   0  0  0  0  0  0  0  0  0  0  0  0\\n   -4.3219    3.2928    7.4041 H   0  0  0  0  0  0  0  0  0  0  0  0\\n   -3.0674    5.8916    6.3895 H   0  0  0  0  0  0  0  0  0  0  0  0\\n   -4.6421    5.8413    7.2512 H   0  0  0  0  0  0  0  0  0  0  0  0\\n   -8.2777    3.8512    3.0040 H   0  0  0  0  0  0  0  0  0  0  0  0\\n   -6.6334    4.7972   -1.1474 H   0  0  0  0  0  0  0  0  0  0  0  0\\n   -4.4262    5.5581   -2.0520 H   0  0  0  0  0  0  0  0  0  0  0  0\\n   -2.5350    6.0015   -0.4917 H   0  0  0  0  0  0  0  0  0  0  0  0\\n   -2.8300    5.7476    1.9484 H   0  0  0  0  0  0  0  0  0  0  0  0\\n   -2.2284   -0.2924    3.3940 H   0  0  0  0  0  0  0  0  0  0  0  0\\n   -0.5304   -0.5059    2.9388 H   0  0  0  0  0  0  0  0  0  0  0  0\\n   -1.8400    0.5280    1.1492 H   0  0  0  0  0  0  0  0  0  0  0  0\\n   -0.5797    1.6755    1.7091 H   0  0  0  0  0  0  0  0  0  0  0  0\\n   -7.8087    0.5156    3.1670 H   0  0  0  0  0  0  0  0  0  0  0  0\\n   -7.5670    0.7549   -1.3770 H   0  0  0  0  0  0  0  0  0  0  0  0\\n   -5.8274    1.4162   -3.0522 H   0  0  0  0  0  0  0  0  0  0  0  0\\n   -3.5872    2.1912   -2.2557 H   0  0  0  0  0  0  0  0  0  0  0  0\\n   -3.0931    2.2935    0.1487 H   0  0  0  0  0  0  0  0  0  0  0  0\\n   -4.5825    0.0324    5.3218 H   0  0  0  0  0  0  0  0  0  0  0  0\\n   -3.9869   -1.3765    6.2384 H   0  0  0  0  0  0  0  0  0  0  0  0\\n   -6.1287   -0.8442    7.1452 H   0  0  0  0  0  0  0  0  0  0  0  0\\n   -4.9684   -0.2088    8.3552 H   0  0  0  0  0  0  0  0  0  0  0  0\\n   -6.9488    5.6068    8.2176 H   0  0  0  0  0  0  0  0  0  0  0  0\\n  -10.3639    6.0477    5.1993 H   0  0  0  0  0  0  0  0  0  0  0  0\\n  -11.5901    4.4791    3.6826 H   0  0  0  0  0  0  0  0  0  0  0  0\\n  -10.9627    2.0698    3.6118 H   0  0  0  0  0  0  0  0  0  0  0  0\\n   -9.1542    1.1986    5.0545 H   0  0  0  0  0  0  0  0  0  0  0  0\\n  9 10  1  0\\n  4  5  1  0\\n  7  8  1  0\\n  5 23  1  0\\n 24 27  1  0\\n 24 26  1  0\\n  9 19  1  0\\n  7 15  1  0\\n 24 25  1  0\\n  4 20  1  0\\n  8 12  1  0\\n  5 22  1  0\\n  9 18  1  0\\n 10 16  1  0\\n  7 14  1  0\\n  4 21  1  0\\n 10 17  1  0\\n  8 13  1  0\\n  1  8  1  0\\n 10 11  1  0\\n  3  4  1  0\\n  6  7  1  0\\n  5  6  1  0\\n  6  9  1  0\\n  2 24  1  0\\n  2  3  1  0\\n  2  1  1  0\\n  2 11  1  0\\n 28 29  1  0\\n 29 30  1  0\\n 30 31  1  0\\n 31 32  2  0\\n 31 33  1  0\\n 33 34  2  0\\n 34 35  1  0\\n 35 36  2  0\\n 36 37  1  0\\n 37 38  2  0\\n 38 39  1  0\\n 39 40  2  0\\n 40 41  1  0\\n 41 42  2  0\\n 42 33  1  0\\n 42 37  1  0\\n 28  1  1  0\\n 43 44  1  0\\n 44 45  1  0\\n 45 46  1  0\\n 46 47  2  0\\n 46 48  1  0\\n 48 49  2  0\\n 49 50  1  0\\n 50 51  2  0\\n 51 52  1  0\\n 52 53  2  0\\n 53 54  1  0\\n 54 55  2  0\\n 55 56  1  0\\n 56 57  2  0\\n 57 48  1  0\\n 57 52  1  0\\n 43 11  1  0\\n 58 59  1  0\\n 59 60  1  0\\n 60 61  1  0\\n 61 62  2  0\\n 61 63  1  0\\n 63 64  2  0\\n 64 65  1  0\\n 65 66  2  0\\n 66 67  1  0\\n 67 68  2  0\\n 68 69  1  0\\n 69 70  2  0\\n 70 71  1  0\\n 71 72  2  0\\n 72 63  1  0\\n 72 67  1  0\\n 58  3  1  0\\n 28 73  1  0\\n 28 74  1  0\\n 29 75  1  0\\n 29 76  1  0\\n 35 77  1  0\\n 38 78  1  0\\n 39 79  1  0\\n 40 80  1  0\\n 41 81  1  0\\n 43 82  1  0\\n 43 83  1  0\\n 44 84  1  0\\n 44 85  1  0\\n 50 86  1  0\\n 53 87  1  0\\n 54 88  1  0\\n 55 89  1  0\\n 56 90  1  0\\n 58 91  1  0\\n 58 92  1  0\\n 59 93  1  0\\n 59 94  1  0\\n 65 95  1  0\\n 68 96  1  0\\n 69 97  1  0\\n 70 98  1  0\\n 71 99  1  0\\nM  CHG  1  24   1\\nM  END\\n\",\"sdf\");\n",
       "\tviewer_1678283030720464.setStyle({\"stick\": {\"radius\": 0.2}, \"sphere\": {\"radius\": 0.3}});\n",
       "\tviewer_1678283030720464.zoomTo();\n",
       "viewer_1678283030720464.render();\n",
       "});\n",
       "</script><script>\n",
       "            $3Dmolpromise.then(function() { //wrap in promise for non-interactive functionality\n",
       "                \n",
       "                viewer_1678283030720464.render();\n",
       "            });\n",
       "            </script>"
      ]
     },
     "metadata": {},
     "output_type": "display_data"
    }
   ],
   "source": [
    "draw_mol(conf[idx].optimized_pbe_mol1)\n",
    "draw_mol(conf[idx].optimized_pbe_mol2)"
   ]
  },
  {
   "cell_type": "markdown",
   "id": "fec1a3a9-6ddb-4f07-8798-0e149ef99c9d",
   "metadata": {},
   "source": [
    "# Debug lines"
   ]
  },
  {
   "cell_type": "code",
   "execution_count": 361,
   "id": "7526e90a-d1ba-4dbf-bd35-12a0a0d2f117",
   "metadata": {},
   "outputs": [],
   "source": [
    "f = \"/home/magstr/Documents/schrock/diagrams_schrock/dft/b3lyp_candidates/test_idx/orca.xyz\"\n",
    "\n",
    "atomic_symbols1 = []\n",
    "xyz_coordinates1 = []\n",
    "\n",
    "with open(f, \"r\") as file:\n",
    "    for line_number, line in enumerate(file):\n",
    "        if line_number == 0:\n",
    "            num_atoms = int(line)\n",
    "        elif line_number == 1:\n",
    "            comment = line  # might have useful information\n",
    "        else:\n",
    "            atomic_symbol, x, y, z = line.split()\n",
    "            atomic_symbols1.append(atomic_symbol)\n",
    "            xyz_coordinates1.append([float(x), float(y), float(z)])"
   ]
  },
  {
   "cell_type": "code",
   "execution_count": 362,
   "id": "42d1bf2d-28d5-47ce-a9eb-8e095baee535",
   "metadata": {},
   "outputs": [],
   "source": [
    "f = \"/home/magstr/Documents/schrock/diagrams_schrock/dft/b3lyp_candidates/test_idx/coordinates.xyz\"\n",
    "\n",
    "atomic_symbols2 = []\n",
    "xyz_coordinates2 = []\n",
    "\n",
    "with open(f, \"r\") as file:\n",
    "    for line_number, line in enumerate(file):\n",
    "        if line_number == 0:\n",
    "            num_atoms = int(line)\n",
    "        elif line_number == 1:\n",
    "            comment = line  # might have useful information\n",
    "        else:\n",
    "            atomic_symbol, x, y, z = line.split()\n",
    "            atomic_symbols2.append(atomic_symbol)\n",
    "            xyz_coordinates2.append([float(x), float(y), float(z)])"
   ]
  },
  {
   "cell_type": "code",
   "execution_count": 367,
   "id": "80f43ee5-13c0-451f-8877-b3077291bef3",
   "metadata": {},
   "outputs": [],
   "source": [
    "atomic_symbols1.insert(23,atomic_symbols1.pop(-6))\n",
    "atomic_symbols1.insert(24,atomic_symbols1.pop(-5))\n",
    "atomic_symbols1.insert(25,atomic_symbols1.pop(-4))\n",
    "atomic_symbols1.insert(26,atomic_symbols1.pop(-3))\n",
    "atomic_symbols1.insert(27,atomic_symbols1.pop(-2))\n",
    "atomic_symbols1.insert(28,atomic_symbols1.pop(-1))"
   ]
  },
  {
   "cell_type": "code",
   "execution_count": 368,
   "id": "f45a06f0-a1d3-4389-98cd-df175b3db247",
   "metadata": {},
   "outputs": [],
   "source": [
    "for a1,a2 in zip(atomic_symbols1, atomic_symbols2):\n",
    "    if a1 != a2:\n",
    "        print(a1, a2)"
   ]
  },
  {
   "cell_type": "code",
   "execution_count": null,
   "id": "726abad7-b990-4cc3-9ce9-559334210096",
   "metadata": {},
   "outputs": [],
   "source": []
  }
 ],
 "metadata": {
  "kernelspec": {
   "display_name": "Python 3 (ipykernel)",
   "language": "python",
   "name": "python3"
  },
  "language_info": {
   "codemirror_mode": {
    "name": "ipython",
    "version": 3
   },
   "file_extension": ".py",
   "mimetype": "text/x-python",
   "name": "python",
   "nbconvert_exporter": "python",
   "pygments_lexer": "ipython3",
   "version": "3.7.12"
  }
 },
 "nbformat": 4,
 "nbformat_minor": 5
}
