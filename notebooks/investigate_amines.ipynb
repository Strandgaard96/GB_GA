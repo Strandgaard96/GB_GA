{
 "cells": [
  {
   "cell_type": "code",
   "execution_count": null,
   "id": "00572ccd-3d16-465d-a733-585b23f00835",
   "metadata": {},
   "outputs": [],
   "source": [
    "# improts\n",
    "import sys\n",
    "import os\n",
    "import numpy as np\n",
    "import matplotlib.pyplot as plt\n",
    "import re\n",
    "from pathlib import Path\n",
    "from glob import glob\n",
    "import pickle\n",
    "import shutil\n",
    "import py3Dmol\n",
    "import random\n",
    "from rdkit import Chem\n",
    "from rdkit.Chem import Draw\n",
    "from rdkit.Chem import AllChem\n",
    "from rdkit.Chem.Draw import IPythonConsole, MolsToGridImage\n",
    "\n",
    "IPythonConsole.drawOptions.addAtomIndices = True\n",
    "IPythonConsole.molSize = 300,300\n",
    "\n",
    "module_path = os.path.abspath(os.path.join('..'))\n",
    "if module_path not in sys.path:\n",
    "    sys.path.append(module_path)"
   ]
  },
  {
   "cell_type": "code",
   "execution_count": null,
   "id": "a8399cb9-06bc-4faa-a23c-896e15dc18af",
   "metadata": {},
   "outputs": [],
   "source": [
    "ligand = Chem.MolFromSmiles('Cc1ccc(C(=O)/C(=N-N)c2ccccc2)cc1')"
   ]
  },
  {
   "cell_type": "code",
   "execution_count": null,
   "id": "cf0e19b6-6e78-4f59-87ba-cc89c6ee2de5",
   "metadata": {},
   "outputs": [],
   "source": [
    "ligand"
   ]
  },
  {
   "cell_type": "code",
   "execution_count": null,
   "id": "bf645e08-751b-47b0-ab7c-2b0c7668d0e7",
   "metadata": {},
   "outputs": [],
   "source": [
    "idx = lig.GetSubstructMatches(Chem.MolFromSmarts(\"[NX3;H2]\"))"
   ]
  },
  {
   "cell_type": "code",
   "execution_count": null,
   "id": "27d355a4-0aaf-4eed-846e-7dcb5826e533",
   "metadata": {},
   "outputs": [],
   "source": [
    "output_ligand = AllChem.ReplaceSubstructs(\n",
    "    lig,\n",
    "    Chem.MolFromSmarts(\"[NX3;H2]\"),\n",
    "    Chem.MolFromSmarts(\"\"),\n",
    "    replacementConnectionPoint=0,\n",
    ")[0]\n",
    "prim_amine_index = output_ligand.GetSubstructMatches(\n",
    "    Chem.MolFromSmarts(\"[NX3;H2]\")\n",
    ")"
   ]
  },
  {
   "cell_type": "code",
   "execution_count": null,
   "id": "625796f9-8a21-455b-8acf-80442b02e399",
   "metadata": {},
   "outputs": [],
   "source": [
    "output_ligand"
   ]
  },
  {
   "cell_type": "code",
   "execution_count": null,
   "id": "1b4c2ded-7bb0-4496-8a95-1116512d2f7f",
   "metadata": {},
   "outputs": [],
   "source": [
    "file_name = '../data/ZINC_250k.smi'\n",
    "mol_list=[]\n",
    "with open(file_name,'r') as file:\n",
    "    for i,smiles in enumerate(file):\n",
    "        mol_list.append(Chem.MolFromSmiles(smiles))\n",
    "        if i == 1000:\n",
    "            break"
   ]
  },
  {
   "cell_type": "code",
   "execution_count": null,
   "id": "4ea4a9bf-7570-4002-909e-7e76456b5f45",
   "metadata": {},
   "outputs": [],
   "source": [
    "file_name = '../data/ZINC_250k.smi'\n",
    "mol_list=[]\n",
    "count=0\n",
    "with open(file_name,'r') as file:\n",
    "    for i,smiles in enumerate(file):\n",
    "        mol = Chem.MolFromSmiles(smiles)\n",
    "        res = mol.HasSubstructMatch(Chem.MolFromSmarts(\"[NX3;H2,H1,H0]\"))\n",
    "        if res:\n",
    "            count+=1"
   ]
  },
  {
   "cell_type": "code",
   "execution_count": null,
   "id": "637b46bc-8dcd-47df-bd1b-723ac85ec583",
   "metadata": {},
   "outputs": [],
   "source": [
    "Draw.MolsToGridImage(random.sample(mol_list,10),molsPerRow=4,maxMols=10,legends=['mol' for x in range(100,120)], subImgSize=(500,500))"
   ]
  },
  {
   "cell_type": "markdown",
   "id": "bee3bc05-596a-4e70-a382-81fd1a3ac948",
   "metadata": {},
   "source": [
    "Doing "
   ]
  },
  {
   "cell_type": "code",
   "execution_count": null,
   "id": "ded15950-c684-4742-b495-152964412d26",
   "metadata": {},
   "outputs": [],
   "source": [
    "Chem.MolFromSmiles('[H]')"
   ]
  },
  {
   "cell_type": "markdown",
   "id": "02a79de0-f424-41f7-99b5-07f61e5d2137",
   "metadata": {
    "tags": []
   },
   "source": [
    "###  Trying out mol simplify for putting ligands on core "
   ]
  },
  {
   "cell_type": "code",
   "execution_count": null,
   "id": "8c451d51-9b3a-4310-b6e2-be9db99eecad",
   "metadata": {},
   "outputs": [],
   "source": [
    "# Exmaple from mol simplify\n",
    "propane_mol = mol3D()          # create a mol3D object\n",
    "propane_mol.read_smiles('CCC') # read SMILES string into the mol3D object\n",
    "print(propane_mol.writexyz('',writestring=True)) #\n",
    "from molSimplify.Informatics.jupyter_vis import view_structures\n",
    "view_structures([propane_mol])"
   ]
  },
  {
   "cell_type": "markdown",
   "id": "ff1a2baa-01dd-45e3-9ef6-a76732f25b6b",
   "metadata": {},
   "source": [
    "### Commandline commands\n",
    "\n",
    "molsimplify -core mo -oxstate 3 -geometry tbp -lig \"CC(C)(C)[N-]C1=CC(C)=CC(C)=C1\", \"N#N\" -ligocc 3, 1 -ligloc True -keepHs True -skipANN True -ff MMFF94 -smicat [5], [1]\n",
    "\n",
    "molsimplify -core mo -oxstate 3 -geometry tbp -lig \"C[N-]CCN(CC[N-]C)CC[N-]C\", \"N#N\" -ligocc 1, 1 -ligloc True -keepHs True -skipANN False -ff MMFF94 -smicat [8, 2, 12, 5], [1]\n",
    "\n",
    "\n",
    "# Keywords explained: \n",
    "- core:\n",
    "    -specify what metal atom to use as core to put   ligands on\n",
    "- lig specifies the ligand to put on. And if more ligs\n",
    "are provided, the order determines which ones are put on first. \n",
    "- ligocc specifies how many times the ligand occurs. \n",
    "- oxstate determines how many bonds the transition metal has. \n",
    "- smicat specifies what smiles atoms coordinate the metal.\n",
    "- liglocc\n",
    "One can have \"-ligloc True\" in the input file to make sure that the order of the input ligands is maintained in the octahedral structure generation, where ligands will be placed at the equatorial plane first then the axial plane.\n",
    "- keep Hs: By default, one hydrogen atom (if present) is stripped from each coordinating atom (keepHs no). This is beneficial in most cases but should be disabled (keepHs yes) in some cases such as ammonia or ethylenediamine.\n",
    "specifying the oxidation and spin state, which activates spin- and oxidation-state-dependent metal-ligand bond lengths that are generally of higher quality than the default sum of covalent radii\n",
    "- ff:\n",
    "optimization (off by default), which activates partial force field optimizations that significantly improve structures containing bulky ligands\n",
    "- skipANN: \n",
    "Defines if ml model is loaded or not"
   ]
  },
  {
   "cell_type": "code",
   "execution_count": null,
   "id": "4ded62fb-00b8-448b-97f9-5081d9bf7e18",
   "metadata": {},
   "outputs": [],
   "source": [
    "from molSimplify.Classes.mol3D import mol3D"
   ]
  },
  {
   "cell_type": "code",
   "execution_count": null,
   "id": "5aabeedf-75a3-4b09-a7a2-d1f8e5a7adb5",
   "metadata": {},
   "outputs": [],
   "source": [
    "schrock_mol = mol3D()\n",
    "mol = Chem.MolFromMolFile(\n",
    "        \"/home/magstr/Documents/nitrogenase/schrock/diagrams_schrock/dft/cycle_restart/Mo_N2/ams.results/traj.mol\", sanitize = False, removeHs=False)\n",
    "smiles = Chem.MolToSmiles(mol)\n"
   ]
  },
  {
   "cell_type": "code",
   "execution_count": null,
   "id": "a6028e5d-670f-4601-910f-0235e8c029da",
   "metadata": {},
   "outputs": [],
   "source": [
    "smiles"
   ]
  },
  {
   "cell_type": "code",
   "execution_count": null,
   "id": "9c6dbd76-b70e-48a6-baf6-b9da68c0438a",
   "metadata": {},
   "outputs": [],
   "source": [
    "def MolTo3DView(mol, size=(300, 300), style=\"stick\", surface=False, opacity=0.5):\n",
    "    \"\"\"Draw molecule in 3D\n",
    "    \n",
    "    Args:\n",
    "    ----\n",
    "        mol: rdMol, molecule to show\n",
    "        size: tuple(int, int), canvas size\n",
    "        style: str, type of drawing molecule\n",
    "               style can be 'line', 'stick', 'sphere', 'carton'\n",
    "        surface, bool, display SAS\n",
    "        opacity, float, opacity of surface, range 0.0-1.0\n",
    "    Return:\n",
    "    ----\n",
    "        viewer: py3Dmol.view, a class for constructing embedded 3Dmol.js views in ipython notebooks.\n",
    "    \"\"\"\n",
    "    assert style in ('line', 'stick', 'sphere', 'carton')\n",
    "    mblock = Chem.MolToMolBlock(mol)\n",
    "    viewer = py3Dmol.view(width=size[0], height=size[1])\n",
    "    viewer.addModel(mblock, 'mol')\n",
    "    viewer.setStyle({style:{}})\n",
    "    if surface:\n",
    "        viewer.addSurface(py3Dmol.SAS, {'opacity': opacity})\n",
    "    viewer.zoomTo()\n",
    "    return viewer"
   ]
  },
  {
   "cell_type": "markdown",
   "id": "cdb11c58-7581-4de4-9348-ac465c913ee2",
   "metadata": {},
   "source": [
    "### Test my own core as core in molsimplify"
   ]
  },
  {
   "cell_type": "markdown",
   "id": "8cdfbe18-1638-453c-8847-e56fbabdc8fd",
   "metadata": {},
   "source": [
    "# Vizualizing smarts with rest api"
   ]
  },
  {
   "cell_type": "code",
   "execution_count": null,
   "id": "5c72c345-a480-41a3-95ee-b0ce6a217c44",
   "metadata": {},
   "outputs": [],
   "source": [
    "import requests\n",
    "import urllib\n",
    "from IPython.display import Image\n",
    "baseurl = \"https://smarts.plus/smartsview/download_rest?\""
   ]
  },
  {
   "cell_type": "code",
   "execution_count": null,
   "id": "7fc8ed47-b64b-4eb4-9044-5a72a427b4bb",
   "metadata": {},
   "outputs": [],
   "source": [
    "def get_img(query):\n",
    "    url = baseurl+query\n",
    "    res = requests.get(url)\n",
    "    return Image(res.content,width=500,height=500)"
   ]
  },
  {
   "cell_type": "code",
   "execution_count": null,
   "id": "d2d469f7-4935-44c5-90e1-43723cb6cbd9",
   "metadata": {},
   "outputs": [],
   "source": [
    "im1 = get_img(\"smarts=[c][N]\")\n",
    "im1"
   ]
  },
  {
   "cell_type": "markdown",
   "id": "fab7c106-8619-4c8d-84f2-767acd076741",
   "metadata": {},
   "source": [
    "## Setting up workflow for schrock core"
   ]
  },
  {
   "cell_type": "markdown",
   "id": "c280b854-68f5-47de-926e-90c7b93fe4f7",
   "metadata": {},
   "source": [
    "### Julius examle"
   ]
  },
  {
   "cell_type": "code",
   "execution_count": null,
   "id": "51bab229-23b4-4e00-b42a-8be7bab08191",
   "metadata": {},
   "outputs": [],
   "source": [
    "ts_file = \"../catalyst/input_files/ts7_dummy.sdf\"\n",
    "ts_dummy = Chem.SDMolSupplier(ts_file, removeHs=False, sanitize=True)[0]"
   ]
  },
  {
   "cell_type": "code",
   "execution_count": null,
   "id": "d5321519-bf11-45f5-8318-8ef244992b5e",
   "metadata": {},
   "outputs": [],
   "source": [
    "mol_list = []\n",
    "with open(\"../data/ZINC_1000_amines.smi\", \"r\") as file:\n",
    "    for smiles in file:\n",
    "        mol_list.append(Chem.MolFromSmiles(smiles))"
   ]
  },
  {
   "cell_type": "code",
   "execution_count": null,
   "id": "67b45f56-8c90-4498-aee9-9fb408451162",
   "metadata": {},
   "outputs": [],
   "source": [
    "def connect_cat_2d(mol_with_dummy, cat):\n",
    "    \"\"\"Replaces Dummy Atom [*] in Mol with Cat via tertiary Amine, return list of all possible regioisomers\"\"\"\n",
    "    dummy = Chem.MolFromSmiles(\"*\")\n",
    "    mols = []\n",
    "    cat = Chem.AddHs(cat)\n",
    "    AllChem.AssignStereochemistry(cat)\n",
    "    tert_amines = cat.GetSubstructMatches(Chem.MolFromSmarts(\"[#7X3;H0;D3;!+1]\"))\n",
    "    if len(tert_amines) == 0:\n",
    "        raise Exception(\n",
    "            f\"{Chem.MolToSmiles(Chem.RemoveHs(cat))} constains no tertiary amine.\"\n",
    "        )\n",
    "    for amine in tert_amines:\n",
    "        mol = AllChem.ReplaceSubstructs(\n",
    "            mol_with_dummy, dummy, cat, replacementConnectionPoint=amine[0]\n",
    "        )[0]\n",
    "        quart_amine = mol.GetSubstructMatch(Chem.MolFromSmarts(\"[#7X4;H0;D4;!+1]\"))[0]\n",
    "        mol.GetAtomWithIdx(quart_amine).SetFormalCharge(1)\n",
    "        Chem.SanitizeMol(mol)\n",
    "        mol.RemoveAllConformers()\n",
    "        mols.append(mol)\n",
    "    return mols\n",
    "ts2ds = connect_cat_2d(ts_dummy, mol_list[0])"
   ]
  },
  {
   "cell_type": "code",
   "execution_count": null,
   "id": "36c968d7-2715-4f86-8bbc-34ddb76740ba",
   "metadata": {},
   "outputs": [],
   "source": [
    "ts_dummy"
   ]
  },
  {
   "cell_type": "code",
   "execution_count": null,
   "id": "c1a75ae1-5eb4-4007-bfa1-5e2ddb622a8d",
   "metadata": {},
   "outputs": [],
   "source": [
    "mol_list[0]"
   ]
  },
  {
   "cell_type": "code",
   "execution_count": null,
   "id": "9913e288-7dde-47ff-a180-a1518f77f258",
   "metadata": {},
   "outputs": [],
   "source": [
    "ts2ds[0]"
   ]
  },
  {
   "cell_type": "code",
   "execution_count": null,
   "id": "1e625d58-28ff-48b7-b36b-32d786e9d359",
   "metadata": {},
   "outputs": [],
   "source": [
    "file = \"../templates/core_dummy.sdf\"\n",
    "core= Chem.SDMolSupplier(file, removeHs=False, sanitize=False)\n",
    "core"
   ]
  },
  {
   "cell_type": "code",
   "execution_count": null,
   "id": "4165e5cc-ea84-4ef0-958b-fe3269dc5c55",
   "metadata": {},
   "outputs": [],
   "source": [
    "core[0]"
   ]
  },
  {
   "cell_type": "code",
   "execution_count": null,
   "id": "f4599e85-938b-4b29-8941-66d40962472b",
   "metadata": {},
   "outputs": [],
   "source": [
    "# Assign core and fragment.\n",
    "benzen_smi = 'C1=CC=CC=C1'\n",
    "benzen_frag = Chem.MolFromSmiles(benzen_smi)\n",
    "benzen_frag"
   ]
  },
  {
   "cell_type": "code",
   "execution_count": null,
   "id": "6b3e6eba-dc0b-46fd-b62d-7a913b6cc02b",
   "metadata": {},
   "outputs": [],
   "source": [
    "def connect_cat_2d_hydro(mol_with_dummy, cat):\n",
    "    \"\"\"Replaces Dummy Atom [*] in Mol with Cat via tertiary Amine, return list of all possible regioisomers\"\"\"\n",
    "    dummy = Chem.MolFromSmiles(\"*\")\n",
    "    mols = []\n",
    "    cat = Chem.AddHs(cat)\n",
    "    AllChem.AssignStereochemistry(cat)\n",
    "    tert_amines = cat.GetSubstructMatches(Chem.MolFromSmarts(\"[#7X3;H0;D3;!+1]\"))\n",
    "    if len(tert_amines) == 0:\n",
    "        raise Exception(\n",
    "            f\"{Chem.MolToSmiles(Chem.RemoveHs(cat))} constains no tertiary amine.\"\n",
    "        )\n",
    "    for amine in tert_amines:\n",
    "        print(amine)\n",
    "        mol = AllChem.ReplaceSubstructs(\n",
    "            mol_with_dummy, dummy, cat, replacementConnectionPoint=amine[0]\n",
    "        )[0]\n",
    "        #quart_amine = mol.GetSubstructMatch(Chem.MolFromSmarts(\"[C]\"))[0]\n",
    "        #print(quart_amine)\n",
    "        #mol.GetAtomWithIdx(quart_amine).SetFormalCharge(1)\n",
    "        #Chem.SanitizeMol(mol)\n",
    "        mol.RemoveAllConformers()\n",
    "        mols.append(mol)\n",
    "    return mols\n",
    "ts2ds = connect_cat_2d_hydro(core[0], mol_list[50])\n",
    "ts2ds[0]0"
   ]
  },
  {
   "cell_type": "code",
   "execution_count": null,
   "id": "6527f4ef-c7b9-4978-b6ac-99fad7a05c54",
   "metadata": {},
   "outputs": [],
   "source": [
    "Chem.Draw.MolToImage(ts2ds[0], size=(800, 800))"
   ]
  },
  {
   "cell_type": "code",
   "execution_count": null,
   "id": "8d83790a-97d9-41e4-bf73-aae306a5b588",
   "metadata": {},
   "outputs": [],
   "source": [
    "def draw3d(\n",
    "    mols,\n",
    "    width=600,\n",
    "    height=600,\n",
    "    Hs=True,\n",
    "    confId=-1,\n",
    "    multipleConfs=False,\n",
    "    atomlabel=False,\n",
    "):\n",
    "    try:\n",
    "        p = py3Dmol.view(width=width, height=height)\n",
    "        if type(mols) is not list:\n",
    "            mols = [mols]\n",
    "        for mol in mols:\n",
    "            if multipleConfs:\n",
    "                for conf in mol.GetConformers():\n",
    "                    mb = Chem.MolToMolBlock(mol, confId=conf.GetId())\n",
    "                    p.addModel(mb, \"sdf\")\n",
    "            else:\n",
    "                if type(mol) is str:\n",
    "                    if os.path.splitext(mol)[-1] == \".xyz\":\n",
    "                        xyz_f = open(mol)\n",
    "                        line = xyz_f.read()\n",
    "                        xyz_f.close()\n",
    "                        p.addModel(line, \"xyz\")\n",
    "                    # elif os.path.splitext(mol)[-1] == '.out':\n",
    "                    #     xyz_file = extract_optimized_structure(mol, return_mol=False)\n",
    "                    #     xyz_f = open(xyz_file)\n",
    "                    #     line = xyz_f.read()\n",
    "                    #     xyz_f.close()\n",
    "                    #     p.addModel(line,'xyz')\n",
    "                else:\n",
    "                    mb = Chem.MolToMolBlock(mol, confId=confId)\n",
    "                    p.addModel(mb, \"sdf\")\n",
    "        p.setStyle({\"sphere\": {\"radius\": 0.4}, \"stick\": {}})\n",
    "        if atomlabel:\n",
    "            p.addPropertyLabels(\"index\")  # ,{'elem':'H'}\n",
    "        p.zoomTo()\n",
    "        p.update()\n",
    "        # p.show()\n",
    "    except:\n",
    "        print(\"py3Dmol, RDKit, and IPython are required for this feature.\")"
   ]
  },
  {
   "cell_type": "code",
   "execution_count": null,
   "id": "bd748a8e-cef7-4b4c-b07b-5b3688315156",
   "metadata": {},
   "outputs": [],
   "source": [
    "draw3d(ts2ds[3])"
   ]
  },
  {
   "cell_type": "code",
   "execution_count": null,
   "id": "53237192-a58a-44ac-89f4-0852173fb4f7",
   "metadata": {},
   "outputs": [],
   "source": [
    "dummy = Chem.MolFromSmiles(\"*\")\n",
    "benzen_frag = Chem.AddHs(benzen_frag)"
   ]
  },
  {
   "cell_type": "code",
   "execution_count": null,
   "id": "870be070-6b6a-4704-8674-418d34d16755",
   "metadata": {},
   "outputs": [],
   "source": [
    "benzen_frag"
   ]
  },
  {
   "cell_type": "code",
   "execution_count": null,
   "id": "28a5546c-0440-40ae-8ed4-61e35816092b",
   "metadata": {},
   "outputs": [],
   "source": [
    "hydro_location = benzen_frag.GetSubstructMatches(Chem.MolFromSmarts(\"[H]\"))"
   ]
  },
  {
   "cell_type": "code",
   "execution_count": null,
   "id": "a3d762cf-4798-4033-9a1b-649814c6df15",
   "metadata": {},
   "outputs": [],
   "source": [
    "hydro_location"
   ]
  },
  {
   "cell_type": "code",
   "execution_count": null,
   "id": "3b3bb673-9717-4e27-b435-a7cf31b8fadb",
   "metadata": {},
   "outputs": [],
   "source": [
    "benzen_frag"
   ]
  },
  {
   "cell_type": "code",
   "execution_count": null,
   "id": "2ff29f3b-cec8-4a44-8741-3caf36094cbe",
   "metadata": {},
   "outputs": [],
   "source": [
    "core[0]"
   ]
  },
  {
   "cell_type": "code",
   "execution_count": null,
   "id": "695bc9de-2256-4610-b54b-504ca959a348",
   "metadata": {},
   "outputs": [],
   "source": [
    "test_frag=Chem.MolFromSmiles(\"[H]\")\n",
    "test_frag"
   ]
  },
  {
   "cell_type": "code",
   "execution_count": null,
   "id": "02beb533-1a92-4f40-b4d8-6581043f415f",
   "metadata": {},
   "outputs": [],
   "source": [
    "#AllChem.AssignStereochemistry(benzen_frag)\n",
    "mol = AllChem.ReplaceSubstructs(\n",
    "    core[0], dummy, benzen_frag, replacementConnectionPoint=hydro_location[0][0]\n",
    ")"
   ]
  },
  {
   "cell_type": "code",
   "execution_count": null,
   "id": "948a586f-0806-4042-9aa8-7fa8c2da5abc",
   "metadata": {},
   "outputs": [],
   "source": [
    "mol[0]"
   ]
  },
  {
   "cell_type": "code",
   "execution_count": null,
   "id": "bc28c33b-9ea1-43b2-b526-31089604a57f",
   "metadata": {},
   "outputs": [],
   "source": [
    "coordMap = {}\n",
    "coreConf = core[0].GetConformer(-1)\n",
    "for i, idxI in enumerate(match):\n",
    "    corePtI = coreConf.GetAtomPosition(i)\n",
    "    coordMap[idxI] = corePtI"
   ]
  },
  {
   "cell_type": "code",
   "execution_count": null,
   "id": "5bebbc51-19d5-4e04-bcb7-e8f6f74cd414",
   "metadata": {},
   "outputs": [],
   "source": [
    "cids = AllChem.EmbedMultipleConfs(\n",
    "        mol=mol[0],\n",
    "        numConfs=1,\n",
    "        coordMap=coordMap,\n",
    "        randomSeed=randomseed,\n",
    "        numThreads=numThreads,\n",
    "        pruneRmsThresh=pruneRmsThresh,\n",
    "        useRandomCoords=True,\n",
    "    )"
   ]
  },
  {
   "cell_type": "code",
   "execution_count": null,
   "id": "587a22d7-6632-4631-9468-f710991f7b57",
   "metadata": {},
   "outputs": [],
   "source": [
    "Chem.Draw.MolToImage(mol, size=(800, 200))"
   ]
  },
  {
   "cell_type": "code",
   "execution_count": null,
   "id": "fd5e34e2-90e6-4496-a1d8-0075392e00e4",
   "metadata": {},
   "outputs": [],
   "source": []
  },
  {
   "cell_type": "code",
   "execution_count": null,
   "id": "66244b53-f99e-4766-9c5e-0d918f762b5e",
   "metadata": {},
   "outputs": [],
   "source": [
    "repl = Chem.MolFromSmiles('C1=CC=CC=C1')\n",
    "\n",
    "#patt = Chem.MolFromSmarts('[#1;$([#1][!#6])]')      # hydrogen not on carbon\n",
    "patt = Chem.MolFromSmarts('[#1;$([#1][#7,#16])]')   # hydrogen on nitrogen or sulfur\n",
    "\n",
    "mol = core[0]\n",
    "rms = Chem.ReplaceSubstructs(mol, patt, repl, replaceAll=True)\n",
    "\n",
    "newMol = Chem.RemoveHs(rms[0])"
   ]
  },
  {
   "cell_type": "code",
   "execution_count": null,
   "id": "3a4b10da-7b9f-4220-b233-ea7a74d091f1",
   "metadata": {},
   "outputs": [],
   "source": [
    "core[0].HasSubstructMatch(patt)"
   ]
  },
  {
   "cell_type": "code",
   "execution_count": null,
   "id": "35a07f96-21cc-4989-814b-885833144f1d",
   "metadata": {},
   "outputs": [],
   "source": [
    "core[0]"
   ]
  },
  {
   "cell_type": "code",
   "execution_count": null,
   "id": "4ac47dc1-d0b2-411e-b6fa-5610b24f201b",
   "metadata": {},
   "outputs": [],
   "source": [
    "rms[0]"
   ]
  },
  {
   "cell_type": "markdown",
   "id": "0a812975-1c4a-48c0-a2a0-dbfe6bd52856",
   "metadata": {},
   "source": [
    "repl = Chem.MolFromSmiles('C')\n",
    "\n",
    "patt = Chem.MolFromSmarts('[#1;$([#1][!#6])]')      # hydrogen not on carbon\n",
    "#patt = Chem.MolFromSmarts('[#1;$([#1][#7,#16])]')   # hydrogen on nitrogen or sulfur\n",
    "\n",
    "mol = Chem.AddHs(Chem.MolFromSmiles('C(CN)SS'))\n",
    "\n",
    "rms = Chem.ReplaceSubstructs(mol, patt, repl, replaceAll=True)\n",
    "\n",
    "newMol = Chem.RemoveHs(rms[0])"
   ]
  },
  {
   "cell_type": "markdown",
   "id": "3ea1fc2f-c7c9-4f60-b4ae-6b37d65f9a59",
   "metadata": {},
   "source": [
    "### Make benzene cycle"
   ]
  },
  {
   "cell_type": "code",
   "execution_count": null,
   "id": "a74a9a48-4bbc-40aa-b7e0-544bd22e71ce",
   "metadata": {},
   "outputs": [],
   "source": [
    "def MolTo3DView(mol, size=(300, 300), style=\"stick\", surface=False, opacity=0.5):\n",
    "    \"\"\"Draw molecule in 3D\n",
    "    [#7X3;H0;D3;!+1]\n",
    "    Args:\n",
    "    ----\n",
    "        mol: rdMol, molecule to show\n",
    "        size: tuple(int, int), canvas size\n",
    "        style: str, type of drawing molecule\n",
    "               style can be 'line', 'stick', 'sphere', 'carton'\n",
    "        surface, bool, display SAS\n",
    "        opacity, float, opacity of surface, range 0.0-1.0\n",
    "    Return:\n",
    "    ----\n",
    "        viewer: py3Dmol.view, a class for constructing embedded 3Dmol.js views in ipython notebooks.\n",
    "    \"\"\"\n",
    "    if surface:\n",
    "        assert style in ('line', 'stick', 'sphere', 'carton')\n",
    "    mblock = Chem.MolToMolBlock(mol)\n",
    "    viewer = py3Dmol.view(width=size[0], height=size[1])\n",
    "    viewer.addModel(mblock, 'mol')\n",
    "    viewer.setStyle({style:{}})\n",
    "    if surface:\n",
    "        viewer.addSurface(py3Dmol.SAS, {'opacity': opacity})\n",
    "    viewer.zoomTo()\n",
    "    return viewer"
   ]
  },
  {
   "cell_type": "code",
   "execution_count": null,
   "id": "cdde9342-6c12-4ff6-b58a-1964ee2b7a29",
   "metadata": {},
   "outputs": [],
   "source": [
    "def mol_from_xyz(xyz_file,charge):\n",
    "    atoms, _, xyz_coordinates = read_xyz_file(xyz_file)\n",
    "    print(atoms,xyz_coordinates,charge)\n",
    "    mol = xyz2mol(atoms, xyz_coordinates, charge)\n",
    "    return mol"
   ]
  },
  {
   "cell_type": "code",
   "execution_count": null,
   "id": "ea1da545-a789-40b0-8583-2d163495fcbf",
   "metadata": {},
   "outputs": [],
   "source": []
  },
  {
   "cell_type": "markdown",
   "id": "a10a44bc-c5d2-445b-96c2-849cf1458db2",
   "metadata": {},
   "source": [
    "### Testing smiles for cycle"
   ]
  },
  {
   "cell_type": "code",
   "execution_count": null,
   "id": "57299b31-063c-45c6-8fe5-981ae20c90ac",
   "metadata": {},
   "outputs": [],
   "source": [
    "mol = Chem.MolFromSmiles(\"N=[N-]\")"
   ]
  },
  {
   "cell_type": "code",
   "execution_count": null,
   "id": "87274f37-806c-43e2-af18-5b5495a7c037",
   "metadata": {},
   "outputs": [],
   "source": [
    "MolTo3DView(mol)"
   ]
  },
  {
   "cell_type": "markdown",
   "id": "e32a82d6-5dab-4f24-9c2b-a095d1675e12",
   "metadata": {},
   "source": [
    "### Try to cut out the tertiary amine and put remaining ligand on"
   ]
  },
  {
   "cell_type": "code",
   "execution_count": null,
   "id": "26f40df6-feec-4e64-97bb-1e3df1187185",
   "metadata": {},
   "outputs": [],
   "source": [
    "def connect_cat_2d_hydro(mol_with_dummy, cat):\n",
    "    \"\"\"Replaces Dummy Atom [*] in Mol with Cat via tertiary Amine, return list of all possible regioisomers\"\"\"\n",
    "    dummy = Chem.MolFromSmiles(\"*\")\n",
    "    mols = []\n",
    "    cat = Chem.AddHs(cat)\n",
    "    AllChem.AssignStereochemistry(cat)\n",
    "    tert_amines = cat.GetSubstructMatches(Chem.MolFromSmarts(\"[#7X3;H0;D3;!+1]\"))\n",
    "    if len(tert_amines) == 0:\n",
    "        raise Exception(\n",
    "            f\"{Chem.MolToSmiles(Chem.RemoveHs(cat))} constains no tertiary amine.\"\n",
    "        )\n",
    "    for amine in tert_amines:\n",
    "        print(amine)\n",
    "        \n",
    "        # Get the neigbouring bonds to the amine\n",
    "        \n",
    "        \n",
    "        mol = AllChem.ReplaceSubstructs(\n",
    "            mol_with_dummy, dummy, cat, replacementConnectionPoint=amine[0]\n",
    "        )[0]\n",
    "        quart_amine = mol.GetSubstructMatch(Chem.MolFromSmarts(\"[C]\"))[0]\n",
    "        #print(quart_amine)\n",
    "        mol.GetAtomWithIdx(quart_amine).SetFormalCharge(1)\n",
    "        #Chem.SanitizeMol(mol)\n",
    "        mol.RemoveAllConformers()\n",
    "        mols.append(mol)\n",
    "    return mols\n",
    "ts2ds = connect_cat_2d_hydro(core[0], mol_list[50])\n",
    "ts2ds[0]"
   ]
  },
  {
   "cell_type": "code",
   "execution_count": null,
   "id": "aeed829c-31eb-4c97-911a-d853c7e93fa6",
   "metadata": {},
   "outputs": [],
   "source": [
    "mol_with_dummy = core[0]\n",
    "cat = mol_list[50]\n",
    "dummy = Chem.MolFromSmiles(\"*\")\n",
    "mols = []\n",
    "#cat = Chem.AddHs(cat)\n",
    "AllChem.AssignStereochemistry(cat)\n",
    "tert_amines = cat.GetSubstructMatches(Chem.MolFromSmarts(\"[#7X3;H0;D3;!+1]\"))\n",
    "if len(tert_amines) == 0:\n",
    "    raise Exception(\n",
    "        f\"{Chem.MolToSmiles(Chem.RemoveHs(cat))} constains no tertiary amine.\"\n",
    "    )\n",
    "#for amine in tert_amines:\n",
    "amine = tert_amines[0]\n",
    "\n",
    "# Get the neigbouring bonds to the amine\n",
    "atom = cat.GetAtomWithIdx(amine[0])\n",
    "indices = [(amine[0],x.GetIdx()) for x in atom.GetNeighbors()]\n",
    "bonds = []\n",
    "for atoms in indices:\n",
    "    bonds.append(cat.GetBondBetweenAtoms(atoms[0], atoms[1]).GetIdx())\n",
    "frag = Chem.FragmentOnBonds(cat, bonds,addDummies=True,dummyLabels=[(1, 1),(1, 1),(1, 1)])\n",
    "frags = Chem.GetMolFrags(frag, asMols=True, sanitizeFrags=False)"
   ]
  },
  {
   "cell_type": "code",
   "execution_count": null,
   "id": "55f1c9f7-f39e-47ea-9b56-9139ac404879",
   "metadata": {},
   "outputs": [],
   "source": [
    "Draw.MolToImage(cat,size=(500,500))"
   ]
  },
  {
   "cell_type": "code",
   "execution_count": null,
   "id": "3dcd394a-0e7f-4ce8-8b8b-b7e43332ed08",
   "metadata": {},
   "outputs": [],
   "source": [
    "Draw.MolsToGridImage(frags,molsPerRow=4,maxMols=10,legends=['1' for x in range(100,120)], subImgSize=(300,300))"
   ]
  },
  {
   "cell_type": "code",
   "execution_count": null,
   "id": "c3b748af-a2b6-4aad-9240-7e3b66cd0f2a",
   "metadata": {},
   "outputs": [],
   "source": [
    "# Substructure match to find the fragment with the Mo-core\n",
    "smart = \"[1*][N]\"\n",
    "\n",
    "# Initialize pattern\n",
    "patt = Chem.MolFromSmarts(smart)\n",
    "\n",
    "# Get list of ligands\n",
    "ligands = [struct for struct in frags if not struct.HasSubstructMatch(patt)]"
   ]
  },
  {
   "cell_type": "code",
   "execution_count": null,
   "id": "b252b543-2b58-4495-b95e-561ad84804c9",
   "metadata": {},
   "outputs": [],
   "source": [
    "Draw.MolsToGridImage(ligands,molsPerRow=4,maxMols=10,legends=['1' for x in range(100,120)], subImgSize=(500,500))"
   ]
  },
  {
   "cell_type": "code",
   "execution_count": null,
   "id": "3e94d272-b955-4db2-a0b7-a2c0ce3f5fe9",
   "metadata": {},
   "outputs": [],
   "source": [
    "for i,ligand in enumerate(ligands):\n",
    "    \n",
    "    # Now we need to get the indice of the atom the dummy is bound to \n",
    "    dummy_idx = ligand.GetSubstructMatch(Chem.MolFromSmiles(\"*\"))\n",
    "    neigh = ligand.GetAtomWithIdx(dummy_idx[0])\n",
    "    bond = [(dummy_idx[0],x.GetIdx()) for x in neigh.GetNeighbors()]\n",
    "    print(bond)\n",
    "    new_bond = ligand.GetBondBetweenAtoms(bond[0][0], bond[0][1]).GetIdx()\n",
    "    frag = Chem.FragmentOnBonds(ligand, [new_bond],addDummies=False)\n",
    "    frags = Chem.GetMolFrags(frag, asMols=True, sanitizeFrags=False)\n",
    "    \n",
    "    mol = AllChem.ReplaceSubstructs(\n",
    "            mol_with_dummy, dummy, frags[0], replacementConnectionPoint=bond[0][1] \n",
    "        )[0]\n",
    "    quart_amine = mol.GetSubstructMatch(Chem.MolFromSmarts(\"[C]\"))[0]\n",
    "    #print(quart_amine)\n",
    "    #mol.GetAtomWithIdx(quart_amine).SetFormalCharge(1)\n",
    "    Chem.SanitizeMol(mol)\n",
    "    mol.RemoveAllConformers()\n",
    "    mols.append(mol)"
   ]
  },
  {
   "cell_type": "code",
   "execution_count": null,
   "id": "6a6f8f0f-fb05-4dc7-8784-0b7344685fe4",
   "metadata": {},
   "outputs": [],
   "source": [
    "Draw.MolsToGridImage(ligands,molsPerRow=4,maxMols=10,legends=['1' for x in range(100,120)], subImgSize=(500,500))"
   ]
  },
  {
   "cell_type": "code",
   "execution_count": null,
   "id": "5dc31663-01ec-4f65-90ca-e0d82d1c8106",
   "metadata": {},
   "outputs": [],
   "source": [
    "Draw.MolsToGridImage(mols,molsPerRow=4,maxMols=10,legends=['1' for x in range(100,120)], subImgSize=(500,500))"
   ]
  },
  {
   "cell_type": "code",
   "execution_count": null,
   "id": "1be29ba2-18da-4aef-af54-f4d9f46b4a7a",
   "metadata": {},
   "outputs": [],
   "source": []
  },
  {
   "cell_type": "code",
   "execution_count": null,
   "id": "c1c979cb-3c4d-40d5-882e-d809f0db82a1",
   "metadata": {},
   "outputs": [],
   "source": []
  }
 ],
 "metadata": {
  "language_info": {
   "name": "python"
  }
 },
 "nbformat": 4,
 "nbformat_minor": 5
}
